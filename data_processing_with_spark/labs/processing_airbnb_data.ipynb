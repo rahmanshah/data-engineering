{
 "cells": [
  {
   "cell_type": "markdown",
   "id": "4e32522d",
   "metadata": {},
   "source": [
    "## Sparksession Initialization"
   ]
  },
  {
   "cell_type": "code",
   "execution_count": 1,
   "id": "c5a2fac0",
   "metadata": {},
   "outputs": [],
   "source": [
    "from pyspark.sql import SparkSession\n",
    "\n",
    "spark = SparkSession.builder \\\n",
    "    .appName(\"Inside Airbnb data processing\") \\\n",
    "    .getOrCreate()\n"
   ]
  },
  {
   "cell_type": "markdown",
   "id": "eaebd506",
   "metadata": {},
   "source": [
    "### Loading data"
   ]
  },
  {
   "cell_type": "code",
   "execution_count": 2,
   "id": "9e85135c",
   "metadata": {},
   "outputs": [],
   "source": [
    "listings = spark.read.csv(\"../data/listings.csv.gz\", \n",
    "    header=True,\n",
    "    inferSchema=True,\n",
    "    sep=\",\",\n",
    "    quote='\"',\n",
    "    escape='\"',\n",
    "    multiLine=True,\n",
    "    mode=\"PERMISSIVE\"\n",
    ")\n"
   ]
  },
  {
   "cell_type": "code",
   "execution_count": 3,
   "id": "83cc5adc",
   "metadata": {},
   "outputs": [
    {
     "name": "stdout",
     "output_type": "stream",
     "text": [
      "+----------------------+\n",
      "|review_scores_location|\n",
      "+----------------------+\n",
      "|                  4.62|\n",
      "|                  4.54|\n",
      "|                  4.36|\n",
      "|                   4.5|\n",
      "|                  4.37|\n",
      "|                   4.5|\n",
      "|                  4.53|\n",
      "|                  4.52|\n",
      "|                  4.49|\n",
      "|                  4.94|\n",
      "|                  4.82|\n",
      "|                  4.92|\n",
      "|                  4.14|\n",
      "|                  4.78|\n",
      "|                  4.43|\n",
      "|                  4.73|\n",
      "|                  null|\n",
      "|                  null|\n",
      "|                  4.48|\n",
      "|                  4.75|\n",
      "+----------------------+\n",
      "only showing top 20 rows\n",
      "\n"
     ]
    }
   ],
   "source": [
    "review_locations = listings.select(listings.review_scores_location)\n",
    "review_locations.show()\n"
   ]
  },
  {
   "cell_type": "code",
   "execution_count": 4,
   "id": "c350942d",
   "metadata": {},
   "outputs": [
    {
     "name": "stdout",
     "output_type": "stream",
     "text": [
      "+----------------------+\n",
      "|review_scores_location|\n",
      "+----------------------+\n",
      "|                  4.62|\n",
      "|                  4.54|\n",
      "|                  4.36|\n",
      "|                   4.5|\n",
      "|                  4.37|\n",
      "|                   4.5|\n",
      "|                  4.53|\n",
      "|                  4.52|\n",
      "|                  4.49|\n",
      "|                  4.94|\n",
      "|                  4.82|\n",
      "|                  4.92|\n",
      "|                  4.14|\n",
      "|                  4.78|\n",
      "|                  4.43|\n",
      "|                  4.73|\n",
      "|                  null|\n",
      "|                  null|\n",
      "|                  4.48|\n",
      "|                  4.75|\n",
      "+----------------------+\n",
      "only showing top 20 rows\n",
      "\n"
     ]
    }
   ],
   "source": [
    "listings \\\n",
    "  .select(listings.review_scores_location) \\\n",
    "  .show()\n"
   ]
  },
  {
   "cell_type": "markdown",
   "id": "fcfcec2d",
   "metadata": {},
   "source": [
    "### Listing location with higher ratings"
   ]
  },
  {
   "cell_type": "code",
   "execution_count": 5,
   "id": "dd986f7f",
   "metadata": {},
   "outputs": [
    {
     "name": "stdout",
     "output_type": "stream",
     "text": [
      "+------+-------+------------------------------------------------+----------------------+\n",
      "|id    |price  |name                                            |review_scores_location|\n",
      "+------+-------+------------------------------------------------+----------------------+\n",
      "|264776|$297.00|Huge Four Bedroom Apartment                     |4.62                  |\n",
      "|264777|$98.00 |One Bedroom Apartment                           |4.54                  |\n",
      "|264782|$120.00|One Bedroom Garden Apartment                    |4.53                  |\n",
      "|264783|$216.00|Four Bedroom Garden Apartment                   |4.52                  |\n",
      "|266037|$62.00 |Central London with Stunning Views!             |4.94                  |\n",
      "|268398|$66.00 |Also five minutes to South Bank                 |4.82                  |\n",
      "|270600|$73.00 |Patio Apartment in London (Twickenham)          |4.92                  |\n",
      "|425143|null   |luxury 1bed in Chelsea Bridge Wharf             |4.78                  |\n",
      "|426354|$200.00|1 bedroom flat with big balcony!                |4.73                  |\n",
      "|427584|$129.00|Hackney Stylish & light 1 bedroom Victorian flat|4.75                  |\n",
      "|427936|$70.00 |Boutique Room w/ Private Bath, Balcony          |4.88                  |\n",
      "|274740|$248.00|Top Floor Sunset View   Chelsea apartment       |4.58                  |\n",
      "|13913 |$72.00 |Holiday London DB Room Let-on going             |4.77                  |\n",
      "|15400 |$120.00|Bright Chelsea  Apartment. Chelsea!             |4.93                  |\n",
      "|17402 |$510.00|Very Central Modern 3-Bed/2 Bath By Oxford St W1|4.89                  |\n",
      "|24328 |$213.00|Battersea live/work artist house                |4.59                  |\n",
      "|34935 |$153.00|Bright 1 Bedroom Apartment w 2 beds Brick Lane  |4.59                  |\n",
      "|36299 |$245.00|Kew Gardens 3BR house in cul-de-sac             |4.9                   |\n",
      "|36660 |$74.00 |You are GUARANTEED to love this                 |4.77                  |\n",
      "|38610 |null   |CHARMING FAMILY HOME                            |4.79                  |\n",
      "+------+-------+------------------------------------------------+----------------------+\n",
      "only showing top 20 rows\n",
      "\n"
     ]
    }
   ],
   "source": [
    "high_score_listings = listings \\\n",
    "  .filter(listings.review_scores_location > 4.5) \\\n",
    "  .select('id', 'price', 'name', 'review_scores_location')\n",
    "\n",
    "high_score_listings.show(20, truncate=False)\n"
   ]
  },
  {
   "cell_type": "markdown",
   "id": "496f0408",
   "metadata": {},
   "source": [
    "#### Showing locations where no columns have any null value"
   ]
  },
  {
   "cell_type": "code",
   "execution_count": 6,
   "id": "47e354e5",
   "metadata": {},
   "outputs": [
    {
     "name": "stdout",
     "output_type": "stream",
     "text": [
      "+------+-------+------------------------------------------------+----------------------+\n",
      "|id    |price  |name                                            |review_scores_location|\n",
      "+------+-------+------------------------------------------------+----------------------+\n",
      "|264776|$297.00|Huge Four Bedroom Apartment                     |4.62                  |\n",
      "|264777|$98.00 |One Bedroom Apartment                           |4.54                  |\n",
      "|264782|$120.00|One Bedroom Garden Apartment                    |4.53                  |\n",
      "|264783|$216.00|Four Bedroom Garden Apartment                   |4.52                  |\n",
      "|266037|$62.00 |Central London with Stunning Views!             |4.94                  |\n",
      "|268398|$66.00 |Also five minutes to South Bank                 |4.82                  |\n",
      "|270600|$73.00 |Patio Apartment in London (Twickenham)          |4.92                  |\n",
      "|426354|$200.00|1 bedroom flat with big balcony!                |4.73                  |\n",
      "|427584|$129.00|Hackney Stylish & light 1 bedroom Victorian flat|4.75                  |\n",
      "|427936|$70.00 |Boutique Room w/ Private Bath, Balcony          |4.88                  |\n",
      "|274740|$248.00|Top Floor Sunset View   Chelsea apartment       |4.58                  |\n",
      "|13913 |$72.00 |Holiday London DB Room Let-on going             |4.77                  |\n",
      "|15400 |$120.00|Bright Chelsea  Apartment. Chelsea!             |4.93                  |\n",
      "|17402 |$510.00|Very Central Modern 3-Bed/2 Bath By Oxford St W1|4.89                  |\n",
      "|24328 |$213.00|Battersea live/work artist house                |4.59                  |\n",
      "|34935 |$153.00|Bright 1 Bedroom Apartment w 2 beds Brick Lane  |4.59                  |\n",
      "|36299 |$245.00|Kew Gardens 3BR house in cul-de-sac             |4.9                   |\n",
      "|36660 |$74.00 |You are GUARANTEED to love this                 |4.77                  |\n",
      "|275140|$111.00|Great location, direct links to London Bridge!  |4.54                  |\n",
      "|432841|$104.00|Large double bedroom in Shoreditch w/garden     |4.79                  |\n",
      "+------+-------+------------------------------------------------+----------------------+\n",
      "only showing top 20 rows\n",
      "\n"
     ]
    }
   ],
   "source": [
    "high_score_listings.dropna().show(20, truncate=False)\n"
   ]
  },
  {
   "cell_type": "code",
   "execution_count": 9,
   "id": "8b113d6a",
   "metadata": {},
   "outputs": [
    {
     "name": "stdout",
     "output_type": "stream",
     "text": [
      "root\n",
      " |-- id: long (nullable = true)\n",
      " |-- price: string (nullable = true)\n",
      " |-- name: string (nullable = true)\n",
      " |-- review_scores_location: double (nullable = true)\n",
      "\n"
     ]
    }
   ],
   "source": [
    "high_score_listings.printSchema()"
   ]
  },
  {
   "cell_type": "code",
   "execution_count": 8,
   "id": "20b102da",
   "metadata": {},
   "outputs": [
    {
     "data": {
      "text/plain": [
       "StructField('price', StringType(), True)"
      ]
     },
     "execution_count": 8,
     "metadata": {},
     "output_type": "execute_result"
    }
   ],
   "source": [
    "high_score_listings.schema['price']\n"
   ]
  },
  {
   "cell_type": "markdown",
   "id": "cb9b147d",
   "metadata": {},
   "source": [
    "#### Removing $ and typecast 'price' column value to float"
   ]
  },
  {
   "cell_type": "code",
   "execution_count": 10,
   "id": "649b85a6",
   "metadata": {},
   "outputs": [
    {
     "data": {
      "text/plain": [
       "StructField('price_num', FloatType(), True)"
      ]
     },
     "execution_count": 10,
     "metadata": {},
     "output_type": "execute_result"
    }
   ],
   "source": [
    "from pyspark.sql.functions import regexp_replace\n",
    "\n",
    "price_num_df = listings \\\n",
    "  .withColumn('price_num', regexp_replace('price', '[$,]', '').cast('float')) \\\n",
    "\n",
    "price_num_df.schema['price_num']\n"
   ]
  },
  {
   "cell_type": "code",
   "execution_count": 11,
   "id": "aefa6aa1",
   "metadata": {},
   "outputs": [
    {
     "name": "stdout",
     "output_type": "stream",
     "text": [
      "+---------+--------------------------------------------------+\n",
      "|price_num|name                                              |\n",
      "+---------+--------------------------------------------------+\n",
      "|297.0    |Huge Four Bedroom Apartment                       |\n",
      "|98.0     |One Bedroom Apartment                             |\n",
      "|148.0    |Two Bedroom Newly Refurbished Apartment           |\n",
      "|144.0    |Refurbished Two Bedroom Apartment                 |\n",
      "|157.0    |Spacious refurbished 2 bedroom apt with balcony   |\n",
      "|148.0    |Two Bedrooms Garden Maisonette                    |\n",
      "|120.0    |One Bedroom Garden Apartment                      |\n",
      "|216.0    |Four Bedroom Garden Apartment                     |\n",
      "|238.0    |Huge Three Bedroom Flat with parking and terrace  |\n",
      "|62.0     |Central London with Stunning Views!               |\n",
      "|66.0     |Also five minutes to South Bank                   |\n",
      "|73.0     |Patio Apartment in London (Twickenham)            |\n",
      "|null     |Heathrow BNB - Home Away From Home!               |\n",
      "|null     |luxury 1bed in Chelsea Bridge Wharf               |\n",
      "|134.0    |2 Bed Edwardian Maisonette with Sunny Garden      |\n",
      "|200.0    |1 bedroom flat with big balcony!                  |\n",
      "|null     |Kitchener House!                                  |\n",
      "|155.0    |Cool shoreditch courtyard flat                    |\n",
      "|135.0    |Lovely 2 bedroom flat near Brixton, zone 2, London|\n",
      "|129.0    |Hackney Stylish & light 1 bedroom Victorian flat  |\n",
      "+---------+--------------------------------------------------+\n",
      "only showing top 20 rows\n",
      "\n"
     ]
    }
   ],
   "source": [
    "price_num_df \\\n",
    "  .select('price_num', 'name') \\\n",
    "  .show(20, truncate=False)"
   ]
  },
  {
   "cell_type": "code",
   "execution_count": 12,
   "id": "bf8f18af",
   "metadata": {},
   "outputs": [
    {
     "name": "stdout",
     "output_type": "stream",
     "text": [
      "root\n",
      " |-- id: long (nullable = true)\n",
      " |-- listing_url: string (nullable = true)\n",
      " |-- scrape_id: long (nullable = true)\n",
      " |-- last_scraped: timestamp (nullable = true)\n",
      " |-- source: string (nullable = true)\n",
      " |-- name: string (nullable = true)\n",
      " |-- description: string (nullable = true)\n",
      " |-- neighborhood_overview: string (nullable = true)\n",
      " |-- picture_url: string (nullable = true)\n",
      " |-- host_id: integer (nullable = true)\n",
      " |-- host_url: string (nullable = true)\n",
      " |-- host_name: string (nullable = true)\n",
      " |-- host_since: timestamp (nullable = true)\n",
      " |-- host_location: string (nullable = true)\n",
      " |-- host_about: string (nullable = true)\n",
      " |-- host_response_time: string (nullable = true)\n",
      " |-- host_response_rate: string (nullable = true)\n",
      " |-- host_acceptance_rate: string (nullable = true)\n",
      " |-- host_is_superhost: string (nullable = true)\n",
      " |-- host_thumbnail_url: string (nullable = true)\n",
      " |-- host_picture_url: string (nullable = true)\n",
      " |-- host_neighbourhood: string (nullable = true)\n",
      " |-- host_listings_count: integer (nullable = true)\n",
      " |-- host_total_listings_count: integer (nullable = true)\n",
      " |-- host_verifications: string (nullable = true)\n",
      " |-- host_has_profile_pic: string (nullable = true)\n",
      " |-- host_identity_verified: string (nullable = true)\n",
      " |-- neighbourhood: string (nullable = true)\n",
      " |-- neighbourhood_cleansed: string (nullable = true)\n",
      " |-- neighbourhood_group_cleansed: string (nullable = true)\n",
      " |-- latitude: double (nullable = true)\n",
      " |-- longitude: double (nullable = true)\n",
      " |-- property_type: string (nullable = true)\n",
      " |-- room_type: string (nullable = true)\n",
      " |-- accommodates: integer (nullable = true)\n",
      " |-- bathrooms: double (nullable = true)\n",
      " |-- bathrooms_text: string (nullable = true)\n",
      " |-- bedrooms: integer (nullable = true)\n",
      " |-- beds: integer (nullable = true)\n",
      " |-- amenities: string (nullable = true)\n",
      " |-- price: string (nullable = true)\n",
      " |-- minimum_nights: integer (nullable = true)\n",
      " |-- maximum_nights: integer (nullable = true)\n",
      " |-- minimum_minimum_nights: integer (nullable = true)\n",
      " |-- maximum_minimum_nights: integer (nullable = true)\n",
      " |-- minimum_maximum_nights: integer (nullable = true)\n",
      " |-- maximum_maximum_nights: integer (nullable = true)\n",
      " |-- minimum_nights_avg_ntm: double (nullable = true)\n",
      " |-- maximum_nights_avg_ntm: double (nullable = true)\n",
      " |-- calendar_updated: string (nullable = true)\n",
      " |-- has_availability: string (nullable = true)\n",
      " |-- availability_30: integer (nullable = true)\n",
      " |-- availability_60: integer (nullable = true)\n",
      " |-- availability_90: integer (nullable = true)\n",
      " |-- availability_365: integer (nullable = true)\n",
      " |-- calendar_last_scraped: timestamp (nullable = true)\n",
      " |-- number_of_reviews: integer (nullable = true)\n",
      " |-- number_of_reviews_ltm: integer (nullable = true)\n",
      " |-- number_of_reviews_l30d: integer (nullable = true)\n",
      " |-- availability_eoy: integer (nullable = true)\n",
      " |-- number_of_reviews_ly: integer (nullable = true)\n",
      " |-- estimated_occupancy_l365d: integer (nullable = true)\n",
      " |-- estimated_revenue_l365d: integer (nullable = true)\n",
      " |-- first_review: timestamp (nullable = true)\n",
      " |-- last_review: timestamp (nullable = true)\n",
      " |-- review_scores_rating: double (nullable = true)\n",
      " |-- review_scores_accuracy: double (nullable = true)\n",
      " |-- review_scores_cleanliness: double (nullable = true)\n",
      " |-- review_scores_checkin: double (nullable = true)\n",
      " |-- review_scores_communication: double (nullable = true)\n",
      " |-- review_scores_location: double (nullable = true)\n",
      " |-- review_scores_value: double (nullable = true)\n",
      " |-- license: string (nullable = true)\n",
      " |-- instant_bookable: string (nullable = true)\n",
      " |-- calculated_host_listings_count: integer (nullable = true)\n",
      " |-- calculated_host_listings_count_entire_homes: integer (nullable = true)\n",
      " |-- calculated_host_listings_count_private_rooms: integer (nullable = true)\n",
      " |-- calculated_host_listings_count_shared_rooms: integer (nullable = true)\n",
      " |-- reviews_per_month: double (nullable = true)\n",
      " |-- price_num: float (nullable = true)\n",
      "\n"
     ]
    }
   ],
   "source": [
    "price_num_df.printSchema()"
   ]
  }
 ],
 "metadata": {
  "kernelspec": {
   "display_name": "Python 3",
   "language": "python",
   "name": "python3"
  },
  "language_info": {
   "codemirror_mode": {
    "name": "ipython",
    "version": 3
   },
   "file_extension": ".py",
   "mimetype": "text/x-python",
   "name": "python",
   "nbconvert_exporter": "python",
   "pygments_lexer": "ipython3",
   "version": "3.12.9"
  }
 },
 "nbformat": 4,
 "nbformat_minor": 5
}
