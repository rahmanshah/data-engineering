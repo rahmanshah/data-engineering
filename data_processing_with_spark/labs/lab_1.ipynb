{
 "cells": [
  {
   "cell_type": "code",
   "execution_count": 1,
   "id": "29a62340",
   "metadata": {},
   "outputs": [],
   "source": [
    "from pyspark.sql import SparkSession\n",
    "from pyspark.sql.types import StructType, StructField, StringType, IntegerType, DoubleType\n",
    "from pyspark.sql.functions import col, sum, avg, count, when, lit\n"
   ]
  },
  {
   "cell_type": "code",
   "execution_count": 2,
   "id": "aa8fe1fb",
   "metadata": {},
   "outputs": [
    {
     "name": "stdout",
     "output_type": "stream",
     "text": [
      "Spark version: 3.3.4\n"
     ]
    }
   ],
   "source": [
    "# Initialize Spark Session\n",
    "spark = SparkSession.builder.appName(\"First App\").getOrCreate()\n",
    "\n",
    "print(\"Spark version:\", spark.version)"
   ]
  },
  {
   "cell_type": "code",
   "execution_count": 3,
   "id": "f8553e1d",
   "metadata": {},
   "outputs": [
    {
     "data": {
      "text/html": [
       "\n",
       "            <div>\n",
       "                <p><b>SparkSession - in-memory</b></p>\n",
       "                \n",
       "        <div>\n",
       "            <p><b>SparkContext</b></p>\n",
       "\n",
       "            <p><a href=\"http://LAPTOP-TSON9B6R:4040\">Spark UI</a></p>\n",
       "\n",
       "            <dl>\n",
       "              <dt>Version</dt>\n",
       "                <dd><code>v3.3.4</code></dd>\n",
       "              <dt>Master</dt>\n",
       "                <dd><code>local[*]</code></dd>\n",
       "              <dt>AppName</dt>\n",
       "                <dd><code>First App</code></dd>\n",
       "            </dl>\n",
       "        </div>\n",
       "        \n",
       "            </div>\n",
       "        "
      ],
      "text/plain": [
       "<pyspark.sql.session.SparkSession at 0x1668f5a20c0>"
      ]
     },
     "execution_count": 3,
     "metadata": {},
     "output_type": "execute_result"
    }
   ],
   "source": [
    "spark\n"
   ]
  },
  {
   "cell_type": "code",
   "execution_count": 5,
   "id": "69953ec7",
   "metadata": {},
   "outputs": [],
   "source": [
    "df = spark.read.csv(\"../data/2019.csv\")"
   ]
  },
  {
   "cell_type": "code",
   "execution_count": 6,
   "id": "d105676e",
   "metadata": {},
   "outputs": [
    {
     "name": "stdout",
     "output_type": "stream",
     "text": [
      "+-------+---+----------+--------------+--------------------+--------------------+---+--------+--------+\n",
      "|    _c0|_c1|       _c2|           _c3|                 _c4|                 _c5|_c6|     _c7|     _c8|\n",
      "+-------+---+----------+--------------+--------------------+--------------------+---+--------+--------+\n",
      "|SO43701|  1|2019-07-01|   Christy Zhu|christy12@adventu...|Mountain-100 Silv...|  1| 3399.99|271.9992|\n",
      "|SO43704|  1|2019-07-01|    Julio Ruiz|julio1@adventure-...|Mountain-100 Blac...|  1| 3374.99|269.9992|\n",
      "|SO43705|  1|2019-07-01|     Curtis Lu|curtis9@adventure...|Mountain-100 Silv...|  1| 3399.99|271.9992|\n",
      "|SO43700|  1|2019-07-01|  Ruben Prasad|ruben10@adventure...|  Road-650 Black, 62|  1|699.0982| 55.9279|\n",
      "|SO43703|  1|2019-07-01|Albert Alvarez|albert7@adventure...|    Road-150 Red, 62|  1| 3578.27|286.2616|\n",
      "+-------+---+----------+--------------+--------------------+--------------------+---+--------+--------+\n",
      "only showing top 5 rows\n",
      "\n"
     ]
    }
   ],
   "source": [
    "df.show(5)"
   ]
  },
  {
   "cell_type": "code",
   "execution_count": 7,
   "id": "868d7284",
   "metadata": {},
   "outputs": [
    {
     "data": {
      "text/plain": [
       "pyspark.sql.dataframe.DataFrame"
      ]
     },
     "execution_count": 7,
     "metadata": {},
     "output_type": "execute_result"
    }
   ],
   "source": [
    "type(df)"
   ]
  },
  {
   "cell_type": "code",
   "execution_count": 8,
   "id": "9f1e0013",
   "metadata": {},
   "outputs": [
    {
     "name": "stdout",
     "output_type": "stream",
     "text": [
      "root\n",
      " |-- _c0: string (nullable = true)\n",
      " |-- _c1: string (nullable = true)\n",
      " |-- _c2: string (nullable = true)\n",
      " |-- _c3: string (nullable = true)\n",
      " |-- _c4: string (nullable = true)\n",
      " |-- _c5: string (nullable = true)\n",
      " |-- _c6: string (nullable = true)\n",
      " |-- _c7: string (nullable = true)\n",
      " |-- _c8: string (nullable = true)\n",
      "\n"
     ]
    }
   ],
   "source": [
    "df.printSchema()"
   ]
  },
  {
   "cell_type": "code",
   "execution_count": 9,
   "id": "645f6ba1",
   "metadata": {},
   "outputs": [
    {
     "name": "stdout",
     "output_type": "stream",
     "text": [
      "+-----------+-----------+--------------------+---------+-------------+-----------------+---+------+---------------+--------------------+\n",
      "|customer_id|       name|               email|  country|customer_type|registration_date|age|gender|total_purchases| ingestion_timestamp|\n",
      "+-----------+-----------+--------------------+---------+-------------+-----------------+---+------+---------------+--------------------+\n",
      "|         12|Customer 12|customer12@exampl...|Australia|          VIP|       2019-06-16| 65| Other|            758|2024-09-26 18:39:...|\n",
      "|         38|Customer 38|customer38@exampl...|    India|          VIP|       2021-10-01| 38| Other|             82|2024-09-26 18:39:...|\n",
      "|         46|Customer 46|customer46@exampl...|   France|          VIP|       2023-03-20| 78| Other|            314|2024-09-26 18:39:...|\n",
      "|         57|Customer 57|customer57@exampl...|    China|          VIP|       2010-12-08| 41| Other|             10|2024-09-26 18:39:...|\n",
      "|         76|Customer 76|customer76@exampl...|Australia|          VIP|       2011-03-11| 78| Other|            739|2024-09-26 18:39:...|\n",
      "+-----------+-----------+--------------------+---------+-------------+-----------------+---+------+---------------+--------------------+\n",
      "only showing top 5 rows\n",
      "\n"
     ]
    }
   ],
   "source": [
    "df_customers = spark.read.csv(\"../data/customer.csv\", header=True)\n",
    "\n",
    "df_customers.show(5)"
   ]
  },
  {
   "cell_type": "code",
   "execution_count": 10,
   "id": "e097e0c1",
   "metadata": {},
   "outputs": [
    {
     "name": "stdout",
     "output_type": "stream",
     "text": [
      "root\n",
      " |-- customer_id: string (nullable = true)\n",
      " |-- name: string (nullable = true)\n",
      " |-- email: string (nullable = true)\n",
      " |-- country: string (nullable = true)\n",
      " |-- customer_type: string (nullable = true)\n",
      " |-- registration_date: string (nullable = true)\n",
      " |-- age: string (nullable = true)\n",
      " |-- gender: string (nullable = true)\n",
      " |-- total_purchases: string (nullable = true)\n",
      " |-- ingestion_timestamp: string (nullable = true)\n",
      "\n"
     ]
    }
   ],
   "source": [
    "df_customers.printSchema()"
   ]
  },
  {
   "cell_type": "code",
   "execution_count": 11,
   "id": "1601ca6c",
   "metadata": {},
   "outputs": [
    {
     "data": {
      "text/plain": [
       "pyspark.sql.dataframe.DataFrame"
      ]
     },
     "execution_count": 11,
     "metadata": {},
     "output_type": "execute_result"
    }
   ],
   "source": [
    "type(df_customers)"
   ]
  },
  {
   "cell_type": "code",
   "execution_count": 12,
   "id": "e053f581",
   "metadata": {},
   "outputs": [
    {
     "name": "stdout",
     "output_type": "stream",
     "text": [
      "+------------+-----------+--------------------+---------+-----------+------+----------+------+--------------+\n",
      "|       brand|   category| ingestion_timestamp|is_active|       name| price|product_id|rating|stock_quantity|\n",
      "+------------+-----------+--------------------+---------+-----------+------+----------+------+--------------+\n",
      "|  BeautyGlow|      Books|2024-09-26T18:41:...|    false| Product 20|515.79|        20|   1.6|           726|\n",
      "|    SportMax|Electronics|2024-09-26T18:41:...|    false| Product 32|408.99|        32|   1.6|           801|\n",
      "|    BookWorm|       Toys|2024-09-26T18:41:...|    false|Product 109|621.25|       109|   1.6|           455|\n",
      "|GardenMaster|       Home|2024-09-26T18:41:...|    false|Product 148|545.57|       148|   1.6|           627|\n",
      "|    FashionX| Automotive|2024-09-26T18:41:...|    false|Product 272|202.73|       272|   1.6|           135|\n",
      "+------------+-----------+--------------------+---------+-----------+------+----------+------+--------------+\n",
      "only showing top 5 rows\n",
      "\n"
     ]
    }
   ],
   "source": [
    "df_product = spark.read.json(\"../data/product.json\")\n",
    "df_product.show(5)"
   ]
  },
  {
   "cell_type": "code",
   "execution_count": 13,
   "id": "c99fabf0",
   "metadata": {},
   "outputs": [
    {
     "name": "stdout",
     "output_type": "stream",
     "text": [
      "root\n",
      " |-- brand: string (nullable = true)\n",
      " |-- category: string (nullable = true)\n",
      " |-- ingestion_timestamp: string (nullable = true)\n",
      " |-- is_active: boolean (nullable = true)\n",
      " |-- name: string (nullable = true)\n",
      " |-- price: double (nullable = true)\n",
      " |-- product_id: long (nullable = true)\n",
      " |-- rating: double (nullable = true)\n",
      " |-- stock_quantity: long (nullable = true)\n",
      "\n"
     ]
    }
   ],
   "source": [
    "df_product.printSchema()"
   ]
  },
  {
   "cell_type": "code",
   "execution_count": 14,
   "id": "197da8ba",
   "metadata": {},
   "outputs": [
    {
     "name": "stdout",
     "output_type": "stream",
     "text": [
      "+--------------+-----------+----------+--------+------------+----------------+--------------+----------+--------------------+\n",
      "|transaction_id|customer_id|product_id|quantity|total_amount|transaction_date|payment_method|store_type| ingestion_timestamp|\n",
      "+--------------+-----------+----------+--------+------------+----------------+--------------+----------+--------------------+\n",
      "|     TRX000063|        234|        67|       2|      550.83|      2021-09-12| Bank Transfer|    Online|2024-09-26 21:41:...|\n",
      "|     TRX000115|         58|       475|       2|      299.56|      2022-07-31| Bank Transfer|    Online|2024-09-26 21:41:...|\n",
      "|     TRX000126|         29|       609|       2|      706.21|      2021-12-02| Bank Transfer|    Online|2024-09-26 21:41:...|\n",
      "|     TRX000144|        122|       202|       2|      446.44|      2022-09-24| Bank Transfer|    Online|2024-09-26 21:41:...|\n",
      "|     TRX000311|        378|       719|       2|      945.18|      2020-02-19| Bank Transfer|    Online|2024-09-26 21:41:...|\n",
      "+--------------+-----------+----------+--------+------------+----------------+--------------+----------+--------------------+\n",
      "only showing top 5 rows\n",
      "\n"
     ]
    }
   ],
   "source": [
    "df_transactions = spark.read.parquet(\"../data/transactions.snappy.parquet\")\n",
    "\n",
    "df_transactions.show(5)"
   ]
  },
  {
   "cell_type": "code",
   "execution_count": 15,
   "id": "b3b61aeb",
   "metadata": {},
   "outputs": [
    {
     "name": "stdout",
     "output_type": "stream",
     "text": [
      "root\n",
      " |-- transaction_id: string (nullable = true)\n",
      " |-- customer_id: integer (nullable = true)\n",
      " |-- product_id: integer (nullable = true)\n",
      " |-- quantity: integer (nullable = true)\n",
      " |-- total_amount: double (nullable = true)\n",
      " |-- transaction_date: string (nullable = true)\n",
      " |-- payment_method: string (nullable = true)\n",
      " |-- store_type: string (nullable = true)\n",
      " |-- ingestion_timestamp: timestamp (nullable = true)\n",
      "\n"
     ]
    }
   ],
   "source": [
    "df_transactions.printSchema()"
   ]
  },
  {
   "cell_type": "code",
   "execution_count": 16,
   "id": "4c5171df",
   "metadata": {},
   "outputs": [
    {
     "data": {
      "text/plain": [
       "pyspark.sql.dataframe.DataFrame"
      ]
     },
     "execution_count": 16,
     "metadata": {},
     "output_type": "execute_result"
    }
   ],
   "source": [
    "type(df_transactions)"
   ]
  }
 ],
 "metadata": {
  "kernelspec": {
   "display_name": "Python 3",
   "language": "python",
   "name": "python3"
  },
  "language_info": {
   "codemirror_mode": {
    "name": "ipython",
    "version": 3
   },
   "file_extension": ".py",
   "mimetype": "text/x-python",
   "name": "python",
   "nbconvert_exporter": "python",
   "pygments_lexer": "ipython3",
   "version": "3.12.9"
  }
 },
 "nbformat": 4,
 "nbformat_minor": 5
}
