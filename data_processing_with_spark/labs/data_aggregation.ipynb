{
 "cells": [
  {
   "cell_type": "markdown",
   "id": "8514c6bc",
   "metadata": {},
   "source": [
    "## Sparksession Initialization"
   ]
  },
  {
   "cell_type": "code",
   "execution_count": 1,
   "id": "24102a7f",
   "metadata": {},
   "outputs": [],
   "source": [
    "from pyspark.sql import SparkSession\n",
    "\n",
    "spark = SparkSession.builder \\\n",
    "    .appName(\"Data Aggregation\") \\\n",
    "    .getOrCreate()\n"
   ]
  },
  {
   "cell_type": "code",
   "execution_count": 3,
   "id": "f456020a",
   "metadata": {},
   "outputs": [],
   "source": [
    "listings = spark.read.csv(\"../data/listings.csv.gz\", \n",
    "    header=True,\n",
    "    inferSchema=True,\n",
    "    sep=\",\",\n",
    "    quote='\"',\n",
    "    escape='\"',\n",
    "    multiLine=True,\n",
    "    mode=\"PERMISSIVE\"\n",
    ")"
   ]
  },
  {
   "cell_type": "code",
   "execution_count": 4,
   "id": "9a8ec682",
   "metadata": {},
   "outputs": [
    {
     "name": "stdout",
     "output_type": "stream",
     "text": [
      "+----------------------------------+-----+\n",
      "|property_type                     |count|\n",
      "+----------------------------------+-----+\n",
      "|Private room in lighthouse        |2    |\n",
      "|Private room in loft              |154  |\n",
      "|Private room in earthen home      |2    |\n",
      "|Entire chalet                     |5    |\n",
      "|Earthen home                      |1    |\n",
      "|Farm stay                         |4    |\n",
      "|Entire rental unit                |40799|\n",
      "|Shared room in hostel             |61   |\n",
      "|Shared room                       |1    |\n",
      "|Private room in condo             |3255 |\n",
      "|Room in boutique hotel            |229  |\n",
      "|Private room in religious building|4    |\n",
      "|Room in bed and breakfast         |18   |\n",
      "|Private room in casa particular   |62   |\n",
      "|Private room in bungalow          |63   |\n",
      "|Entire cabin                      |50   |\n",
      "|Entire guesthouse                 |226  |\n",
      "|Hut                               |4    |\n",
      "|Private room in nature lodge      |4    |\n",
      "|Entire guest suite                |175  |\n",
      "+----------------------------------+-----+\n",
      "only showing top 20 rows\n",
      "\n"
     ]
    }
   ],
   "source": [
    "listings \\\n",
    "  .groupby(listings.property_type) \\\n",
    "  .count() \\\n",
    "  .show(truncate=False)"
   ]
  },
  {
   "cell_type": "code",
   "execution_count": 16,
   "id": "d291a7c6",
   "metadata": {},
   "outputs": [
    {
     "name": "stdout",
     "output_type": "stream",
     "text": [
      "+----------------------------------+-----+\n",
      "|property_type                     |count|\n",
      "+----------------------------------+-----+\n",
      "|Entire rental unit                |40799|\n",
      "|Private room in rental unit       |14573|\n",
      "|Private room in home              |11826|\n",
      "|Entire home                       |8938 |\n",
      "|Entire condo                      |8438 |\n",
      "|Private room in condo             |3255 |\n",
      "|Entire serviced apartment         |1840 |\n",
      "|Private room in townhouse         |1189 |\n",
      "|Entire townhouse                  |1069 |\n",
      "|Room in hotel                     |1042 |\n",
      "|Private room in bed and breakfast |495  |\n",
      "|Private room in guesthouse        |371  |\n",
      "|Entire loft                       |339  |\n",
      "|Room in boutique hotel            |229  |\n",
      "|Entire guesthouse                 |226  |\n",
      "|Entire guest suite                |175  |\n",
      "|Private room in guest suite       |170  |\n",
      "|Private room in loft              |154  |\n",
      "|Private room in serviced apartment|154  |\n",
      "|Private room                      |103  |\n",
      "+----------------------------------+-----+\n",
      "only showing top 20 rows\n",
      "\n"
     ]
    }
   ],
   "source": [
    "import pyspark.sql.functions as F\n",
    "\n",
    "listings \\\n",
    "  .groupby(listings.property_type) \\\n",
    "  .agg(\n",
    "    F.count('property_type').alias('count')\n",
    "  ) \\\n",
    "  .orderBy('count', ascending=[False]) \\\n",
    "  .show(truncate=False)"
   ]
  },
  {
   "cell_type": "code",
   "execution_count": 7,
   "id": "7335f738",
   "metadata": {},
   "outputs": [
    {
     "name": "stdout",
     "output_type": "stream",
     "text": [
      "+----------------------------------+-----+--------------------------+\n",
      "|property_type                     |count|avg_review_scores_location|\n",
      "+----------------------------------+-----+--------------------------+\n",
      "|Entire rental unit                |40799|4.733095834431922         |\n",
      "|Private room in rental unit       |14573|4.723925292814142         |\n",
      "|Private room in home              |11826|4.701917440156306         |\n",
      "|Entire home                       |8938 |4.726180264430801         |\n",
      "|Entire condo                      |8438 |4.778066335437068         |\n",
      "|Private room in condo             |3255 |4.7702538787023885        |\n",
      "|Entire serviced apartment         |1840 |4.718870662460569         |\n",
      "|Private room in townhouse         |1189 |4.762151898734181         |\n",
      "|Entire townhouse                  |1069 |4.817585836909877         |\n",
      "|Room in hotel                     |1042 |4.618212996389897         |\n",
      "|Private room in bed and breakfast |495  |4.741178247734139         |\n",
      "|Private room in guesthouse        |371  |4.583309352517987         |\n",
      "|Entire loft                       |339  |4.80874587458746          |\n",
      "|Room in boutique hotel            |229  |4.698913043478261         |\n",
      "|Entire guesthouse                 |226  |4.693316062176168         |\n",
      "|Entire guest suite                |175  |4.756178343949044         |\n",
      "|Private room in guest suite       |170  |4.803333333333334         |\n",
      "|Private room in loft              |154  |4.766750000000002         |\n",
      "|Private room in serviced apartment|154  |4.486464646464647         |\n",
      "|Private room                      |103  |4.750833333333331         |\n",
      "+----------------------------------+-----+--------------------------+\n",
      "only showing top 20 rows\n",
      "\n"
     ]
    }
   ],
   "source": [
    "listings \\\n",
    "  .groupby(listings.property_type) \\\n",
    "  .agg(\n",
    "    F.count('property_type').alias('count'),\n",
    "    F.avg('review_scores_location').alias('avg_review_scores_location')\n",
    "  ) \\\n",
    "  .orderBy('count', ascending=[False]) \\\n",
    "  .show(truncate=False)"
   ]
  },
  {
   "cell_type": "markdown",
   "id": "88aa018d",
   "metadata": {},
   "source": [
    "### Loading review dataset"
   ]
  },
  {
   "cell_type": "code",
   "execution_count": 8,
   "id": "e4eda300",
   "metadata": {},
   "outputs": [],
   "source": [
    "reviews = spark.read.csv(\"../data/reviews.csv.gz\", \n",
    "    header=True,\n",
    "    inferSchema=True,\n",
    "    sep=\",\",\n",
    "    quote='\"',\n",
    "    escape='\"',\n",
    "    multiLine=True,\n",
    "    mode=\"PERMISSIVE\"\n",
    ")"
   ]
  },
  {
   "cell_type": "code",
   "execution_count": 9,
   "id": "a2dfa6fb",
   "metadata": {},
   "outputs": [
    {
     "name": "stdout",
     "output_type": "stream",
     "text": [
      "StructField('listing_id', LongType(), True)\n",
      "StructField('id', LongType(), True)\n",
      "StructField('date', TimestampType(), True)\n",
      "StructField('reviewer_id', IntegerType(), True)\n",
      "StructField('reviewer_name', StringType(), True)\n",
      "StructField('comments', StringType(), True)\n"
     ]
    }
   ],
   "source": [
    "for field in reviews.schema:\n",
    "    print(field)"
   ]
  },
  {
   "cell_type": "markdown",
   "id": "ad11d767",
   "metadata": {},
   "source": [
    "### Join operations with listings and review dataframes"
   ]
  },
  {
   "cell_type": "code",
   "execution_count": 10,
   "id": "b3ae41d2",
   "metadata": {},
   "outputs": [],
   "source": [
    "listings_reviews = listings.join(\n",
    "    reviews, listings.id == reviews.listing_id, how='inner'\n",
    ")"
   ]
  },
  {
   "cell_type": "code",
   "execution_count": 12,
   "id": "f315fa52",
   "metadata": {},
   "outputs": [
    {
     "name": "stdout",
     "output_type": "stream",
     "text": [
      "root\n",
      " |-- id: long (nullable = true)\n",
      " |-- listing_url: string (nullable = true)\n",
      " |-- scrape_id: long (nullable = true)\n",
      " |-- last_scraped: timestamp (nullable = true)\n",
      " |-- source: string (nullable = true)\n",
      " |-- name: string (nullable = true)\n",
      " |-- description: string (nullable = true)\n",
      " |-- neighborhood_overview: string (nullable = true)\n",
      " |-- picture_url: string (nullable = true)\n",
      " |-- host_id: integer (nullable = true)\n",
      " |-- host_url: string (nullable = true)\n",
      " |-- host_name: string (nullable = true)\n",
      " |-- host_since: timestamp (nullable = true)\n",
      " |-- host_location: string (nullable = true)\n",
      " |-- host_about: string (nullable = true)\n",
      " |-- host_response_time: string (nullable = true)\n",
      " |-- host_response_rate: string (nullable = true)\n",
      " |-- host_acceptance_rate: string (nullable = true)\n",
      " |-- host_is_superhost: string (nullable = true)\n",
      " |-- host_thumbnail_url: string (nullable = true)\n",
      " |-- host_picture_url: string (nullable = true)\n",
      " |-- host_neighbourhood: string (nullable = true)\n",
      " |-- host_listings_count: integer (nullable = true)\n",
      " |-- host_total_listings_count: integer (nullable = true)\n",
      " |-- host_verifications: string (nullable = true)\n",
      " |-- host_has_profile_pic: string (nullable = true)\n",
      " |-- host_identity_verified: string (nullable = true)\n",
      " |-- neighbourhood: string (nullable = true)\n",
      " |-- neighbourhood_cleansed: string (nullable = true)\n",
      " |-- neighbourhood_group_cleansed: string (nullable = true)\n",
      " |-- latitude: double (nullable = true)\n",
      " |-- longitude: double (nullable = true)\n",
      " |-- property_type: string (nullable = true)\n",
      " |-- room_type: string (nullable = true)\n",
      " |-- accommodates: integer (nullable = true)\n",
      " |-- bathrooms: double (nullable = true)\n",
      " |-- bathrooms_text: string (nullable = true)\n",
      " |-- bedrooms: integer (nullable = true)\n",
      " |-- beds: integer (nullable = true)\n",
      " |-- amenities: string (nullable = true)\n",
      " |-- price: string (nullable = true)\n",
      " |-- minimum_nights: integer (nullable = true)\n",
      " |-- maximum_nights: integer (nullable = true)\n",
      " |-- minimum_minimum_nights: integer (nullable = true)\n",
      " |-- maximum_minimum_nights: integer (nullable = true)\n",
      " |-- minimum_maximum_nights: integer (nullable = true)\n",
      " |-- maximum_maximum_nights: integer (nullable = true)\n",
      " |-- minimum_nights_avg_ntm: double (nullable = true)\n",
      " |-- maximum_nights_avg_ntm: double (nullable = true)\n",
      " |-- calendar_updated: string (nullable = true)\n",
      " |-- has_availability: string (nullable = true)\n",
      " |-- availability_30: integer (nullable = true)\n",
      " |-- availability_60: integer (nullable = true)\n",
      " |-- availability_90: integer (nullable = true)\n",
      " |-- availability_365: integer (nullable = true)\n",
      " |-- calendar_last_scraped: timestamp (nullable = true)\n",
      " |-- number_of_reviews: integer (nullable = true)\n",
      " |-- number_of_reviews_ltm: integer (nullable = true)\n",
      " |-- number_of_reviews_l30d: integer (nullable = true)\n",
      " |-- availability_eoy: integer (nullable = true)\n",
      " |-- number_of_reviews_ly: integer (nullable = true)\n",
      " |-- estimated_occupancy_l365d: integer (nullable = true)\n",
      " |-- estimated_revenue_l365d: integer (nullable = true)\n",
      " |-- first_review: timestamp (nullable = true)\n",
      " |-- last_review: timestamp (nullable = true)\n",
      " |-- review_scores_rating: double (nullable = true)\n",
      " |-- review_scores_accuracy: double (nullable = true)\n",
      " |-- review_scores_cleanliness: double (nullable = true)\n",
      " |-- review_scores_checkin: double (nullable = true)\n",
      " |-- review_scores_communication: double (nullable = true)\n",
      " |-- review_scores_location: double (nullable = true)\n",
      " |-- review_scores_value: double (nullable = true)\n",
      " |-- license: string (nullable = true)\n",
      " |-- instant_bookable: string (nullable = true)\n",
      " |-- calculated_host_listings_count: integer (nullable = true)\n",
      " |-- calculated_host_listings_count_entire_homes: integer (nullable = true)\n",
      " |-- calculated_host_listings_count_private_rooms: integer (nullable = true)\n",
      " |-- calculated_host_listings_count_shared_rooms: integer (nullable = true)\n",
      " |-- reviews_per_month: double (nullable = true)\n",
      " |-- listing_id: long (nullable = true)\n",
      " |-- id: long (nullable = true)\n",
      " |-- date: timestamp (nullable = true)\n",
      " |-- reviewer_id: integer (nullable = true)\n",
      " |-- reviewer_name: string (nullable = true)\n",
      " |-- comments: string (nullable = true)\n",
      "\n"
     ]
    }
   ],
   "source": [
    "listings_reviews.printSchema()"
   ]
  },
  {
   "cell_type": "code",
   "execution_count": 23,
   "id": "46a71b7a",
   "metadata": {},
   "outputs": [
    {
     "name": "stdout",
     "output_type": "stream",
     "text": [
      "+---------------------------------+------+--------------------------+\n",
      "|property_type                    |count |avg_review_scores_location|\n",
      "+---------------------------------+------+--------------------------+\n",
      "|Entire rental unit               |668227|4.780720457813537         |\n",
      "|Private room in rental unit      |308685|4.767027015644179         |\n",
      "|Private room in home             |304327|4.74466879822161          |\n",
      "|Entire condo                     |201570|4.795146624729405         |\n",
      "|Private room in condo            |138882|4.794089544286227         |\n",
      "|Entire home                      |90808 |4.76103684859707          |\n",
      "|Private room in townhouse        |75468 |4.781735858058077         |\n",
      "|Entire serviced apartment        |47849 |4.761400238249481         |\n",
      "|Entire townhouse                 |24784 |4.81590340542301          |\n",
      "|Room in hotel                    |19464 |4.779507809288822         |\n",
      "|Private room in bed and breakfast|14843 |4.762267735632631         |\n",
      "|Entire loft                      |13486 |4.830242473676361         |\n",
      "|Private room in guest suite      |12769 |4.809400109640446         |\n",
      "|Room in boutique hotel           |10933 |4.7695691941828855        |\n",
      "|Private room in guesthouse       |10903 |4.751405117857513         |\n",
      "|Entire guest suite               |10061 |4.784371334857436         |\n",
      "|Entire guesthouse                |8116  |4.782661409561286         |\n",
      "|Private room in loft             |7775  |4.793102250803858         |\n",
      "|Room in aparthotel               |7076  |4.820498869417527         |\n",
      "|Shared room in hostel            |4915  |4.766583926754938         |\n",
      "+---------------------------------+------+--------------------------+\n",
      "only showing top 20 rows\n",
      "\n"
     ]
    }
   ],
   "source": [
    "\n",
    "listings_reviews \\\n",
    "  .groupby(listings_reviews.property_type) \\\n",
    "  .agg(\n",
    "    F.count('property_type').alias('count'),\n",
    "    F.avg('review_scores_location').alias('avg_review_scores_location')\n",
    "  ) \\\n",
    "  .orderBy('count', ascending=[False]) \\\n",
    "  .show(truncate=False)"
   ]
  },
  {
   "cell_type": "code",
   "execution_count": 27,
   "id": "079a51c8",
   "metadata": {},
   "outputs": [
    {
     "name": "stdout",
     "output_type": "stream",
     "text": [
      "+----------------------------------+-----------+\n",
      "|property_type                     |num_reviews|\n",
      "+----------------------------------+-----------+\n",
      "|Private room in loft              |7775       |\n",
      "|Entire chalet                     |8          |\n",
      "|Earthen home                      |596        |\n",
      "|Entire rental unit                |668227     |\n",
      "|Shared room in hostel             |4915       |\n",
      "|Shared room                       |27         |\n",
      "|Private room in condo             |138882     |\n",
      "|Room in boutique hotel            |10933      |\n",
      "|Private room in religious building|547        |\n",
      "|Room in bed and breakfast         |571        |\n",
      "|Private room in casa particular   |1386       |\n",
      "|Private room in bungalow          |2056       |\n",
      "|Entire cabin                      |1630       |\n",
      "|Entire guesthouse                 |8116       |\n",
      "|Hut                               |102        |\n",
      "|Private room in nature lodge      |3          |\n",
      "|Entire guest suite                |10061      |\n",
      "|Private room in home              |304327     |\n",
      "|Entire place                      |2311       |\n",
      "|Floor                             |2          |\n",
      "+----------------------------------+-----------+\n",
      "only showing top 20 rows\n",
      "\n"
     ]
    }
   ],
   "source": [
    "listings_reviews \\\n",
    ".groupBy(listings_reviews.property_type) \\\n",
    ".agg(\n",
    "    F.count(listings_reviews.property_type).alias('num_reviews')\n",
    ").show(20, truncate=False)"
   ]
  },
  {
   "cell_type": "code",
   "execution_count": 28,
   "id": "9c5b9a51",
   "metadata": {},
   "outputs": [
    {
     "name": "stdout",
     "output_type": "stream",
     "text": [
      "+--------+--------------------------------------------------+-----------+\n",
      "|id      |name                                              |num_reviews|\n",
      "+--------+--------------------------------------------------+-----------+\n",
      "|47408549|Double Room+ Ensuite                              |1855       |\n",
      "|30760930|Double Garden View room - London House Hotel***   |1682       |\n",
      "|43120947|Private double room with en suite facilities      |1615       |\n",
      "|19670926|Locke Studio Apartment at Leman Locke             |1436       |\n",
      "|45006692|Budget Double Room In Colliers Hotel.             |1433       |\n",
      "|1436172 |Cosy Double in Kings Cross Houseshare nr Eurostar |1195       |\n",
      "|2126708 |London's best transport hub 5 mins walk! Safe too!|1122       |\n",
      "|1436177 |En-suite Double in Kings Cross Houseshare Eurostar|1005       |\n",
      "|47438714|KX Basic- Small Double- shared bathroom           |978        |\n",
      "|3855375 |Double in Kings Cross Houseshare nr Eurostar      |973        |\n",
      "|46233904|Superior Studio, avg size 23.5 msq                |964        |\n",
      "|2659707 |Large Room + Private Bathroom, E3.                |963        |\n",
      "|4748665 |Single bedroom near London Stratford              |917        |\n",
      "|27833488|S - Heathrow Airport Terminal 2 3 4 5 Hatton Cross|914        |\n",
      "|42081759|Micro Studio at Locke at Broken Wharf             |899        |\n",
      "|5266466 |Large London Room, Ensuite Bathroom,TV & Breakfast|885        |\n",
      "|2025844 |Family Friendly Central London Flat               |840        |\n",
      "|4332039 |Single bedroom in old East London                 |830        |\n",
      "|4461052 |Bright room with private bath by London central!  |804        |\n",
      "|107051  |JESSIE the narrowboat in Little Venice            |775        |\n",
      "+--------+--------------------------------------------------+-----------+\n",
      "only showing top 20 rows\n",
      "\n"
     ]
    }
   ],
   "source": [
    "reviews_per_listing = listings_reviews \\\n",
    "  .groupBy(listings.id, listings.name) \\\n",
    "  .agg(\n",
    "    F.count(reviews.id).alias('num_reviews')\n",
    "  ) \\\n",
    "  .orderBy('num_reviews', ascending=False) \\\n",
    "  .show(truncate=False)"
   ]
  }
 ],
 "metadata": {
  "kernelspec": {
   "display_name": "Python 3",
   "language": "python",
   "name": "python3"
  },
  "language_info": {
   "codemirror_mode": {
    "name": "ipython",
    "version": 3
   },
   "file_extension": ".py",
   "mimetype": "text/x-python",
   "name": "python",
   "nbconvert_exporter": "python",
   "pygments_lexer": "ipython3",
   "version": "3.12.9"
  }
 },
 "nbformat": 4,
 "nbformat_minor": 5
}
