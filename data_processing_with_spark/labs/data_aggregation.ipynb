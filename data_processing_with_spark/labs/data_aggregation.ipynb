{
 "cells": [
  {
   "cell_type": "markdown",
   "id": "8514c6bc",
   "metadata": {},
   "source": [
    "## Sparksession Initialization"
   ]
  },
  {
   "cell_type": "code",
   "execution_count": 1,
   "id": "24102a7f",
   "metadata": {},
   "outputs": [],
   "source": [
    "from pyspark.sql import SparkSession\n",
    "\n",
    "spark = SparkSession.builder \\\n",
    "    .appName(\"Data Aggregation\") \\\n",
    "    .getOrCreate()\n"
   ]
  },
  {
   "cell_type": "code",
   "execution_count": 3,
   "id": "f456020a",
   "metadata": {},
   "outputs": [],
   "source": [
    "listings = spark.read.csv(\"../data/listings.csv.gz\", \n",
    "    header=True,\n",
    "    inferSchema=True,\n",
    "    sep=\",\",\n",
    "    quote='\"',\n",
    "    escape='\"',\n",
    "    multiLine=True,\n",
    "    mode=\"PERMISSIVE\"\n",
    ")"
   ]
  },
  {
   "cell_type": "code",
   "execution_count": 4,
   "id": "9a8ec682",
   "metadata": {},
   "outputs": [
    {
     "name": "stdout",
     "output_type": "stream",
     "text": [
      "+----------------------------------+-----+\n",
      "|property_type                     |count|\n",
      "+----------------------------------+-----+\n",
      "|Private room in lighthouse        |2    |\n",
      "|Private room in loft              |154  |\n",
      "|Private room in earthen home      |2    |\n",
      "|Entire chalet                     |5    |\n",
      "|Earthen home                      |1    |\n",
      "|Farm stay                         |4    |\n",
      "|Entire rental unit                |40799|\n",
      "|Shared room in hostel             |61   |\n",
      "|Shared room                       |1    |\n",
      "|Private room in condo             |3255 |\n",
      "|Room in boutique hotel            |229  |\n",
      "|Private room in religious building|4    |\n",
      "|Room in bed and breakfast         |18   |\n",
      "|Private room in casa particular   |62   |\n",
      "|Private room in bungalow          |63   |\n",
      "|Entire cabin                      |50   |\n",
      "|Entire guesthouse                 |226  |\n",
      "|Hut                               |4    |\n",
      "|Private room in nature lodge      |4    |\n",
      "|Entire guest suite                |175  |\n",
      "+----------------------------------+-----+\n",
      "only showing top 20 rows\n",
      "\n"
     ]
    }
   ],
   "source": [
    "listings \\\n",
    "  .groupby(listings.property_type) \\\n",
    "  .count() \\\n",
    "  .show(truncate=False)"
   ]
  },
  {
   "cell_type": "code",
   "execution_count": 5,
   "id": "d291a7c6",
   "metadata": {},
   "outputs": [
    {
     "name": "stdout",
     "output_type": "stream",
     "text": [
      "+----------------------------------+-----+\n",
      "|property_type                     |count|\n",
      "+----------------------------------+-----+\n",
      "|Entire rental unit                |40799|\n",
      "|Private room in rental unit       |14573|\n",
      "|Private room in home              |11826|\n",
      "|Entire home                       |8938 |\n",
      "|Entire condo                      |8438 |\n",
      "|Private room in condo             |3255 |\n",
      "|Entire serviced apartment         |1840 |\n",
      "|Private room in townhouse         |1189 |\n",
      "|Entire townhouse                  |1069 |\n",
      "|Room in hotel                     |1042 |\n",
      "|Private room in bed and breakfast |495  |\n",
      "|Private room in guesthouse        |371  |\n",
      "|Entire loft                       |339  |\n",
      "|Room in boutique hotel            |229  |\n",
      "|Entire guesthouse                 |226  |\n",
      "|Entire guest suite                |175  |\n",
      "|Private room in guest suite       |170  |\n",
      "|Private room in loft              |154  |\n",
      "|Private room in serviced apartment|154  |\n",
      "|Private room                      |103  |\n",
      "+----------------------------------+-----+\n",
      "only showing top 20 rows\n",
      "\n"
     ]
    }
   ],
   "source": [
    "import pyspark.sql.functions as F\n",
    "\n",
    "listings \\\n",
    "  .groupby(listings.property_type) \\\n",
    "  .agg(\n",
    "    F.count('property_type').alias('count')\n",
    "  ) \\\n",
    "  .orderBy('count', ascending=[False]) \\\n",
    "  .show(truncate=False)"
   ]
  },
  {
   "cell_type": "code",
   "execution_count": 7,
   "id": "7335f738",
   "metadata": {},
   "outputs": [
    {
     "name": "stdout",
     "output_type": "stream",
     "text": [
      "+----------------------------------+-----+--------------------------+\n",
      "|property_type                     |count|avg_review_scores_location|\n",
      "+----------------------------------+-----+--------------------------+\n",
      "|Entire rental unit                |40799|4.733095834431922         |\n",
      "|Private room in rental unit       |14573|4.723925292814142         |\n",
      "|Private room in home              |11826|4.701917440156306         |\n",
      "|Entire home                       |8938 |4.726180264430801         |\n",
      "|Entire condo                      |8438 |4.778066335437068         |\n",
      "|Private room in condo             |3255 |4.7702538787023885        |\n",
      "|Entire serviced apartment         |1840 |4.718870662460569         |\n",
      "|Private room in townhouse         |1189 |4.762151898734181         |\n",
      "|Entire townhouse                  |1069 |4.817585836909877         |\n",
      "|Room in hotel                     |1042 |4.618212996389897         |\n",
      "|Private room in bed and breakfast |495  |4.741178247734139         |\n",
      "|Private room in guesthouse        |371  |4.583309352517987         |\n",
      "|Entire loft                       |339  |4.80874587458746          |\n",
      "|Room in boutique hotel            |229  |4.698913043478261         |\n",
      "|Entire guesthouse                 |226  |4.693316062176168         |\n",
      "|Entire guest suite                |175  |4.756178343949044         |\n",
      "|Private room in guest suite       |170  |4.803333333333334         |\n",
      "|Private room in loft              |154  |4.766750000000002         |\n",
      "|Private room in serviced apartment|154  |4.486464646464647         |\n",
      "|Private room                      |103  |4.750833333333331         |\n",
      "+----------------------------------+-----+--------------------------+\n",
      "only showing top 20 rows\n",
      "\n"
     ]
    }
   ],
   "source": [
    "listings \\\n",
    "  .groupby(listings.property_type) \\\n",
    "  .agg(\n",
    "    F.count('property_type').alias('count'),\n",
    "    F.avg('review_scores_location').alias('avg_review_scores_location')\n",
    "  ) \\\n",
    "  .orderBy('count', ascending=[False]) \\\n",
    "  .show(truncate=False)"
   ]
  }
 ],
 "metadata": {
  "kernelspec": {
   "display_name": "Python 3",
   "language": "python",
   "name": "python3"
  },
  "language_info": {
   "codemirror_mode": {
    "name": "ipython",
    "version": 3
   },
   "file_extension": ".py",
   "mimetype": "text/x-python",
   "name": "python",
   "nbconvert_exporter": "python",
   "pygments_lexer": "ipython3",
   "version": "3.12.9"
  }
 },
 "nbformat": 4,
 "nbformat_minor": 5
}
