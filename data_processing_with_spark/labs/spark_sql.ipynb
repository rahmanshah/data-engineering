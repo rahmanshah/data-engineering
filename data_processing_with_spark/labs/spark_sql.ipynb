{
 "cells": [
  {
   "cell_type": "markdown",
   "id": "2833f622",
   "metadata": {},
   "source": [
    "## Sparksession Setup"
   ]
  },
  {
   "cell_type": "code",
   "execution_count": 1,
   "id": "799f2151",
   "metadata": {},
   "outputs": [],
   "source": [
    "from pyspark.sql import SparkSession\n",
    "import pyspark.sql.functions as F\n",
    "\n",
    "spark = SparkSession.builder \\\n",
    "    .appName(\"SparkSQL App\") \\\n",
    "    .getOrCreate()"
   ]
  },
  {
   "cell_type": "markdown",
   "id": "5d92393b",
   "metadata": {},
   "source": [
    "### Loading Data"
   ]
  },
  {
   "cell_type": "code",
   "execution_count": 3,
   "id": "16afdafe",
   "metadata": {},
   "outputs": [],
   "source": [
    "listings = spark.read.csv(\"../data/listings.csv.gz\", \n",
    "    header=True,\n",
    "    inferSchema=True,\n",
    "    sep=\",\",\n",
    "    quote='\"',\n",
    "    escape='\"',\n",
    "    multiLine=True,\n",
    "    mode=\"PERMISSIVE\"\n",
    ")"
   ]
  },
  {
   "cell_type": "code",
   "execution_count": 5,
   "id": "94978fca",
   "metadata": {},
   "outputs": [],
   "source": [
    "reviews = spark.read.csv(\"../data/reviews.csv.gz\", \n",
    "    header=True,\n",
    "    inferSchema=True,\n",
    "    sep=\",\",\n",
    "    quote='\"',\n",
    "    escape='\"',\n",
    "    multiLine=True,\n",
    "    mode=\"PERMISSIVE\"\n",
    ")"
   ]
  },
  {
   "cell_type": "code",
   "execution_count": 6,
   "id": "0b8d66b2",
   "metadata": {},
   "outputs": [],
   "source": [
    "listings_reviews = listings.join(\n",
    "    reviews, listings.id == reviews.listing_id, how='inner'\n",
    ")"
   ]
  },
  {
   "cell_type": "code",
   "execution_count": 7,
   "id": "bced0395",
   "metadata": {},
   "outputs": [
    {
     "name": "stdout",
     "output_type": "stream",
     "text": [
      "+--------+--------------------------------------------------+-----------+\n",
      "|id      |name                                              |num_reviews|\n",
      "+--------+--------------------------------------------------+-----------+\n",
      "|47408549|Double Room+ Ensuite                              |1855       |\n",
      "|30760930|Double Garden View room - London House Hotel***   |1682       |\n",
      "|43120947|Private double room with en suite facilities      |1615       |\n",
      "|19670926|Locke Studio Apartment at Leman Locke             |1436       |\n",
      "|45006692|Budget Double Room In Colliers Hotel.             |1433       |\n",
      "|1436172 |Cosy Double in Kings Cross Houseshare nr Eurostar |1195       |\n",
      "|2126708 |London's best transport hub 5 mins walk! Safe too!|1122       |\n",
      "|1436177 |En-suite Double in Kings Cross Houseshare Eurostar|1005       |\n",
      "|47438714|KX Basic- Small Double- shared bathroom           |978        |\n",
      "|3855375 |Double in Kings Cross Houseshare nr Eurostar      |973        |\n",
      "|46233904|Superior Studio, avg size 23.5 msq                |964        |\n",
      "|2659707 |Large Room + Private Bathroom, E3.                |963        |\n",
      "|4748665 |Single bedroom near London Stratford              |917        |\n",
      "|27833488|S - Heathrow Airport Terminal 2 3 4 5 Hatton Cross|914        |\n",
      "|42081759|Micro Studio at Locke at Broken Wharf             |899        |\n",
      "|5266466 |Large London Room, Ensuite Bathroom,TV & Breakfast|885        |\n",
      "|2025844 |Family Friendly Central London Flat               |840        |\n",
      "|4332039 |Single bedroom in old East London                 |830        |\n",
      "|4461052 |Bright room with private bath by London central!  |804        |\n",
      "|107051  |JESSIE the narrowboat in Little Venice            |775        |\n",
      "+--------+--------------------------------------------------+-----------+\n",
      "only showing top 20 rows\n",
      "\n"
     ]
    }
   ],
   "source": [
    "reviews_per_listing = listings_reviews \\\n",
    "  .groupBy(listings.id, listings.name) \\\n",
    "  .agg(\n",
    "    F.count(reviews.id).alias('num_reviews')\n",
    "  ) \\\n",
    "  .orderBy('num_reviews', ascending=False) \\\n",
    "  .show(truncate=False)"
   ]
  },
  {
   "cell_type": "markdown",
   "id": "d74924c4",
   "metadata": {},
   "source": [
    "### Creating View"
   ]
  },
  {
   "cell_type": "code",
   "execution_count": 8,
   "id": "2ef34349",
   "metadata": {},
   "outputs": [],
   "source": [
    "listings.createOrReplaceTempView(\"listings\")\n",
    "reviews.createOrReplaceTempView(\"reviews\")"
   ]
  }
 ],
 "metadata": {
  "kernelspec": {
   "display_name": "Python 3",
   "language": "python",
   "name": "python3"
  },
  "language_info": {
   "codemirror_mode": {
    "name": "ipython",
    "version": 3
   },
   "file_extension": ".py",
   "mimetype": "text/x-python",
   "name": "python",
   "nbconvert_exporter": "python",
   "pygments_lexer": "ipython3",
   "version": "3.12.9"
  }
 },
 "nbformat": 4,
 "nbformat_minor": 5
}
