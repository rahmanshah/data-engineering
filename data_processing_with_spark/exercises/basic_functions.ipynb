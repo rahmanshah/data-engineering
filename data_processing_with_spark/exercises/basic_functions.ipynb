{
 "cells": [
  {
   "cell_type": "markdown",
   "id": "ad5d239f",
   "metadata": {},
   "source": [
    "## Session Setup"
   ]
  },
  {
   "cell_type": "code",
   "execution_count": 1,
   "id": "58a7a3be",
   "metadata": {},
   "outputs": [],
   "source": [
    "from pyspark.sql import SparkSession\n",
    "\n",
    "spark = SparkSession.builder \\\n",
    "    .appName(\"Read Inside Airbnb data\") \\\n",
    "    .getOrCreate()"
   ]
  },
  {
   "cell_type": "markdown",
   "id": "488134a9",
   "metadata": {},
   "source": [
    "### Loading Data"
   ]
  },
  {
   "cell_type": "code",
   "execution_count": 2,
   "id": "23098e30",
   "metadata": {},
   "outputs": [],
   "source": [
    "listings = spark.read.csv(\"../data/listings.csv.gz\", \n",
    "    header=True,\n",
    "    inferSchema=True,\n",
    "    sep=\",\", \n",
    "    quote='\"',\n",
    "    escape='\"', \n",
    "    multiLine=True,\n",
    "    mode=\"PERMISSIVE\" \n",
    ")"
   ]
  },
  {
   "cell_type": "markdown",
   "id": "382f6977",
   "metadata": {},
   "source": [
    "### Dataframe Schema"
   ]
  },
  {
   "cell_type": "code",
   "execution_count": 3,
   "id": "b55b0344",
   "metadata": {},
   "outputs": [
    {
     "name": "stdout",
     "output_type": "stream",
     "text": [
      "root\n",
      " |-- id: long (nullable = true)\n",
      " |-- listing_url: string (nullable = true)\n",
      " |-- scrape_id: long (nullable = true)\n",
      " |-- last_scraped: timestamp (nullable = true)\n",
      " |-- source: string (nullable = true)\n",
      " |-- name: string (nullable = true)\n",
      " |-- description: string (nullable = true)\n",
      " |-- neighborhood_overview: string (nullable = true)\n",
      " |-- picture_url: string (nullable = true)\n",
      " |-- host_id: integer (nullable = true)\n",
      " |-- host_url: string (nullable = true)\n",
      " |-- host_name: string (nullable = true)\n",
      " |-- host_since: timestamp (nullable = true)\n",
      " |-- host_location: string (nullable = true)\n",
      " |-- host_about: string (nullable = true)\n",
      " |-- host_response_time: string (nullable = true)\n",
      " |-- host_response_rate: string (nullable = true)\n",
      " |-- host_acceptance_rate: string (nullable = true)\n",
      " |-- host_is_superhost: string (nullable = true)\n",
      " |-- host_thumbnail_url: string (nullable = true)\n",
      " |-- host_picture_url: string (nullable = true)\n",
      " |-- host_neighbourhood: string (nullable = true)\n",
      " |-- host_listings_count: integer (nullable = true)\n",
      " |-- host_total_listings_count: integer (nullable = true)\n",
      " |-- host_verifications: string (nullable = true)\n",
      " |-- host_has_profile_pic: string (nullable = true)\n",
      " |-- host_identity_verified: string (nullable = true)\n",
      " |-- neighbourhood: string (nullable = true)\n",
      " |-- neighbourhood_cleansed: string (nullable = true)\n",
      " |-- neighbourhood_group_cleansed: string (nullable = true)\n",
      " |-- latitude: double (nullable = true)\n",
      " |-- longitude: double (nullable = true)\n",
      " |-- property_type: string (nullable = true)\n",
      " |-- room_type: string (nullable = true)\n",
      " |-- accommodates: integer (nullable = true)\n",
      " |-- bathrooms: double (nullable = true)\n",
      " |-- bathrooms_text: string (nullable = true)\n",
      " |-- bedrooms: integer (nullable = true)\n",
      " |-- beds: integer (nullable = true)\n",
      " |-- amenities: string (nullable = true)\n",
      " |-- price: string (nullable = true)\n",
      " |-- minimum_nights: integer (nullable = true)\n",
      " |-- maximum_nights: integer (nullable = true)\n",
      " |-- minimum_minimum_nights: integer (nullable = true)\n",
      " |-- maximum_minimum_nights: integer (nullable = true)\n",
      " |-- minimum_maximum_nights: integer (nullable = true)\n",
      " |-- maximum_maximum_nights: integer (nullable = true)\n",
      " |-- minimum_nights_avg_ntm: double (nullable = true)\n",
      " |-- maximum_nights_avg_ntm: double (nullable = true)\n",
      " |-- calendar_updated: string (nullable = true)\n",
      " |-- has_availability: string (nullable = true)\n",
      " |-- availability_30: integer (nullable = true)\n",
      " |-- availability_60: integer (nullable = true)\n",
      " |-- availability_90: integer (nullable = true)\n",
      " |-- availability_365: integer (nullable = true)\n",
      " |-- calendar_last_scraped: timestamp (nullable = true)\n",
      " |-- number_of_reviews: integer (nullable = true)\n",
      " |-- number_of_reviews_ltm: integer (nullable = true)\n",
      " |-- number_of_reviews_l30d: integer (nullable = true)\n",
      " |-- availability_eoy: integer (nullable = true)\n",
      " |-- number_of_reviews_ly: integer (nullable = true)\n",
      " |-- estimated_occupancy_l365d: integer (nullable = true)\n",
      " |-- estimated_revenue_l365d: integer (nullable = true)\n",
      " |-- first_review: timestamp (nullable = true)\n",
      " |-- last_review: timestamp (nullable = true)\n",
      " |-- review_scores_rating: double (nullable = true)\n",
      " |-- review_scores_accuracy: double (nullable = true)\n",
      " |-- review_scores_cleanliness: double (nullable = true)\n",
      " |-- review_scores_checkin: double (nullable = true)\n",
      " |-- review_scores_communication: double (nullable = true)\n",
      " |-- review_scores_location: double (nullable = true)\n",
      " |-- review_scores_value: double (nullable = true)\n",
      " |-- license: string (nullable = true)\n",
      " |-- instant_bookable: string (nullable = true)\n",
      " |-- calculated_host_listings_count: integer (nullable = true)\n",
      " |-- calculated_host_listings_count_entire_homes: integer (nullable = true)\n",
      " |-- calculated_host_listings_count_private_rooms: integer (nullable = true)\n",
      " |-- calculated_host_listings_count_shared_rooms: integer (nullable = true)\n",
      " |-- reviews_per_month: double (nullable = true)\n",
      "\n"
     ]
    }
   ],
   "source": [
    "listings.printSchema()"
   ]
  },
  {
   "cell_type": "code",
   "execution_count": 4,
   "id": "b61048ff",
   "metadata": {},
   "outputs": [
    {
     "name": "stdout",
     "output_type": "stream",
     "text": [
      "+----------------------------------------------------------------------------------------------------------+\n",
      "|picture_url                                                                                               |\n",
      "+----------------------------------------------------------------------------------------------------------+\n",
      "|https://a0.muscache.com/pictures/hosting/Hosting-264776/original/3cc7b93f-dbda-4ded-ac15-e9d96691e7ca.jpeg|\n",
      "+----------------------------------------------------------------------------------------------------------+\n",
      "\n"
     ]
    }
   ],
   "source": [
    "# 1. Get a non-null picture URL for any property (\"picture_url\" field)\n",
    "# Select any non-null picture URL\n",
    "listings.filter(\n",
    "    listings.picture_url.isNotNull()\n",
    ") \\\n",
    ".select('picture_url') \\\n",
    ".limit(1) \\\n",
    ".show(truncate=False)"
   ]
  },
  {
   "cell_type": "code",
   "execution_count": 5,
   "id": "781c389f",
   "metadata": {},
   "outputs": [
    {
     "data": {
      "text/plain": [
       "57"
      ]
     },
     "execution_count": 5,
     "metadata": {},
     "output_type": "execute_result"
    }
   ],
   "source": [
    "# 2. Get number of properties that get more than 10 reviews per month\n",
    "listings.filter(\n",
    "  listings.reviews_per_month > 10\n",
    ") \\\n",
    ".count()"
   ]
  },
  {
   "cell_type": "code",
   "execution_count": 6,
   "id": "76792fe0",
   "metadata": {},
   "outputs": [
    {
     "name": "stdout",
     "output_type": "stream",
     "text": [
      "+--------------------------------------------------+---------+--------+\n",
      "|name                                              |bathrooms|bedrooms|\n",
      "+--------------------------------------------------+---------+--------+\n",
      "|Central London with Stunning Views!               |1.5      |1       |\n",
      "|Also five minutes to South Bank                   |1.5      |1       |\n",
      "|Battersea live/work artist house                  |1.5      |1       |\n",
      "|Large double bedroom in Shoreditch w/garden       |1.5      |1       |\n",
      "|Bedroom In Great Location Stratford               |1.5      |1       |\n",
      "|Spacious luxury 2 bedroom apartment               |1.5      |1       |\n",
      "|Very Central! Bayswater Apartment                 |2.0      |1       |\n",
      "|Room in London with a family                      |1.5      |1       |\n",
      "|Stunning large room (double sofa bed), Hackney, E9|1.5      |1       |\n",
      "|Cosy Double studio in Zone 2 Hammersmith (1)      |1.5      |1       |\n",
      "+--------------------------------------------------+---------+--------+\n",
      "only showing top 10 rows\n",
      "\n"
     ]
    }
   ],
   "source": [
    "# 3. Get properties that have more bathrooms than bedrooms\n",
    "listings.filter(\n",
    "    (listings.bathrooms > listings.bedrooms)\n",
    ") \\\n",
    ".select('name', 'bathrooms', 'bedrooms') \\\n",
    ".show(10, truncate=False)"
   ]
  },
  {
   "cell_type": "code",
   "execution_count": 7,
   "id": "38b88344",
   "metadata": {},
   "outputs": [
    {
     "data": {
      "text/plain": [
       "[Row(name='Room in a cosy flat. Central, clean', price='$8,000.00'),\n",
       " Row(name='Spacious Private Ground Floor Room', price='$6,308.00'),\n",
       " Row(name='No Longer Available', price='$53,588.00'),\n",
       " Row(name='Bright & airy DoubleBed with EnSuite in Zone 2!', price='$74,100.00'),\n",
       " Row(name='Stunning home overlook canary wharf', price='$7,360.00'),\n",
       " Row(name='The Apartments by The Sloane Club, L 2 Bedroom Apt', price='$7,377.00'),\n",
       " Row(name='Kensington- Luxury 2 bedroom ground floor flat', price='$7,796.00'),\n",
       " Row(name='Spacious London Flat', price='$5,034.00'),\n",
       " Row(name='Single room. 7ft x 9ft - Over looking garden', price='$5,700.00'),\n",
       " Row(name='Luxury modern apartment in Dulwich Village', price='$5,372.00'),\n",
       " Row(name='Beautiful 2 BR flat in Kilburn with free parking', price='$6,000.00'),\n",
       " Row(name='Semi-detached mews house in Knightsbridge.', price='$7,007.00'),\n",
       " Row(name='Bright & Comfortable Angel Apartment', price='$9,999.00'),\n",
       " Row(name='Affordable Spacious  Room on the edge of the city', price='$6,000.00'),\n",
       " Row(name='Beautiful 3 bed refurbished apartment', price='$9,000.00'),\n",
       " Row(name='—', price='$22,824.00'),\n",
       " Row(name='Henry’s Townhouse, London', price='$6,500.00'),\n",
       " Row(name='SHORT WALK TO LONDON EYE - DOUBLE ROOM (SUR)', price='$50,000.00'),\n",
       " Row(name='SHORT WALK TO LONDON EYE - DOUBLE ROOM (SWI)', price='$9,033.00'),\n",
       " Row(name='The Presidential - 6 bed - stunning elegance', price='$6,000.00'),\n",
       " Row(name='Grosvenor Penthouse', price='$11,681.00'),\n",
       " Row(name='Walk To London Eye - Double Room (FIL)', price='$29,000.00'),\n",
       " Row(name='Resolve Apartment', price='$5,240.00'),\n",
       " Row(name='Very Large and Splendid Terrace House in London', price='$8,000.00'),\n",
       " Row(name='Twin Room Close to London Eye (RHI)', price='$50,000.00'),\n",
       " Row(name='Short Walk to London Eye (8V1)', price='$23,000.00'),\n",
       " Row(name='Foxter Properties Chelsea', price='$12,000.00'),\n",
       " Row(name='Close To London Eye', price='$8,000.00'),\n",
       " Row(name='Close To London Eye', price='$20,000.00'),\n",
       " Row(name='Close To London Eye', price='$65,000.00'),\n",
       " Row(name='Close to London Eye (BOL)', price='$58,000.00'),\n",
       " Row(name='Maida Vale, Modern 1 Bed Apt, Sleeps 4, London.', price='$5,175.00'),\n",
       " Row(name='Contemporary Oasis in Paddington II', price='$9,999.00'),\n",
       " Row(name='1. V02 Large Apartment; next to Piccadilly Circus!', price='$6,400.00'),\n",
       " Row(name='Modern Sky-High Flat In North Acton', price='$9,999.00'),\n",
       " Row(name='Spacious and Trendy Shoreditch Flat', price='$6,000.00'),\n",
       " Row(name='Zone 1 - Central London (JAM)', price='$22,000.00'),\n",
       " Row(name='Your Elite Hyde Park Retreat 2-Bedroom Luxury Flat', price='$10,890.00'),\n",
       " Row(name='CentralLondon Luxury for 5! 1Min from Paddington', price='$9,680.00'),\n",
       " Row(name='Very Close to The London Eye', price='$20,000.00'),\n",
       " Row(name='Spacious, airy penthouse with stunning view', price='$27,000.00'),\n",
       " Row(name='20% Off Monthly Business Relocation Stays Belsize', price='$15,000.00'),\n",
       " Row(name='Ultra Luxe 4 Bed flat in Mayfair', price='$6,000.00'),\n",
       " Row(name='Close to The Shard (TAI)', price='$10,001.00'),\n",
       " Row(name='London luxury.', price='$8,400.00'),\n",
       " Row(name='The Artists House', price='$15,143.00'),\n",
       " Row(name='Walk To London Eye (BLZ)', price='$30,000.00'),\n",
       " Row(name='Luxury Grade II Listed Mansion', price='$11,792.00'),\n",
       " Row(name='Modern apartment Central London', price='$8,910.00'),\n",
       " Row(name='Rustic and Contemporary Haven in Brixton', price='$9,999.00'),\n",
       " Row(name='Tranquil 2 Bedroom Apartment in East London', price='$9,999.00'),\n",
       " Row(name='Outdoor kitchen', price='$7,033.00'),\n",
       " Row(name='Retro Charm and Modern Comforts', price='$7,999.00'),\n",
       " Row(name='Charmante Wohnung mit Balkon', price='$8,429.00'),\n",
       " Row(name='Silverings', price='$9,999.00'),\n",
       " Row(name='Penthouse in the City of London', price='$9,000.00'),\n",
       " Row(name='Very Central Room - Walk to Eye', price='$58,000.00'),\n",
       " Row(name='Central Room - Walk to Eye (KR)', price='$50,000.00'),\n",
       " Row(name='Walk To London Eye', price='$5,600.00'),\n",
       " Row(name='Walk To London Eye', price='$58,000.00'),\n",
       " Row(name='The Prince Albert', price='$7,953.00'),\n",
       " Row(name='Adagio - Apartment 4 people - 1 bedroom', price='$6,537.00'),\n",
       " Row(name='Amazing Central Location (NBOL)', price='$58,000.00'),\n",
       " Row(name='Corporate ready - Combination of Flats  - Up to 56', price='$8,175.00'),\n",
       " Row(name='5 Flats in Building | Zone 1 | 20 Guests | 10 Beds', price='$7,677.00'),\n",
       " Row(name='Student Only, En-suite Room at South Bank', price='$8,000.00'),\n",
       " Row(name='Standard Double Room Near Ebury Square Gardens LON', price='$11,952.00'),\n",
       " Row(name='Ferienwohnung für 4 Personen ca. 80 m sup2 in.', price='$8,429.00'),\n",
       " Row(name='Notting Hill The One One One 3', price='$8,429.00'),\n",
       " Row(name='Notting Hill Die Eins Eins Eins 6', price='$8,429.00'),\n",
       " Row(name='Notting Hill Die Eins Eins Eins 1', price='$8,429.00'),\n",
       " Row(name='Atemberaubende Wohnung, in der Nähe von East.', price='$8,429.00'),\n",
       " Row(name='Notting Hill Die Eins Eins Eins 5', price='$8,429.00'),\n",
       " Row(name='Notting Hill Die Eins Eins Eins 4', price='$8,429.00'),\n",
       " Row(name='Ferienwohnung für 4 Personen ca. 80 m sup2 in.', price='$8,429.00'),\n",
       " Row(name='Studio Near JustPark LON', price='$11,952.00'),\n",
       " Row(name='1 Bedroom Apartment Near JustPark LON', price='$11,952.00'),\n",
       " Row(name='1 Bedroom Apartment Near Wakefield Gardens LON', price='$11,952.00'),\n",
       " Row(name=\"Stylish Earl's Court Studio Plus Patio\", price='$9,999.00'),\n",
       " Row(name='Classic Double Room Near Franks Church LON', price='$11,952.00'),\n",
       " Row(name='Luxury Hotel Style 2 bed Apartment in Notting Hill', price='$8,441.00'),\n",
       " Row(name='Luxury House near Hyde Park', price='$5,361.00')]"
      ]
     },
     "execution_count": 7,
     "metadata": {},
     "output_type": "execute_result"
    }
   ],
   "source": [
    "# 4. Get properties where the price is greater than 5,000. Collect the result as a Python list\n",
    "from pyspark.sql.functions import regexp_replace\n",
    "\n",
    "listings_with_price = listings \\\n",
    "  .withColumn('price_numeric', regexp_replace('price', '[$,]', '').cast('float'))\n",
    "\n",
    "res = listings_with_price.filter(\n",
    "    (listings_with_price.price_numeric > 5000)\n",
    ") \\\n",
    ".select('name', 'price') \\\n",
    ".collect()\n",
    "\n",
    "res"
   ]
  },
  {
   "cell_type": "code",
   "execution_count": 8,
   "id": "40932fc4",
   "metadata": {},
   "outputs": [
    {
     "name": "stdout",
     "output_type": "stream",
     "text": [
      "+--------------------------------------------------+-------------+-----------------+--------------------+\n",
      "|name                                              |price_numeric|number_of_reviews|review_scores_rating|\n",
      "+--------------------------------------------------+-------------+-----------------+--------------------+\n",
      "|One Bedroom Apartment                             |98.0         |24               |4.58                |\n",
      "|Refurbished Two Bedroom Apartment                 |144.0        |36               |4.64                |\n",
      "|Central London with Stunning Views!               |62.0         |532              |4.9                 |\n",
      "|Also five minutes to South Bank                   |66.0         |563              |4.63                |\n",
      "|Patio Apartment in London (Twickenham)            |73.0         |88               |4.64                |\n",
      "|Lovely 2 bedroom flat near Brixton, zone 2, London|135.0        |23               |4.77                |\n",
      "|Hackney Stylish & light 1 bedroom Victorian flat  |129.0        |152              |4.65                |\n",
      "|Boutique Room w/ Private Bath, Balcony            |70.0         |208              |4.98                |\n",
      "|Holiday London DB Room Let-on going               |72.0         |54               |4.85                |\n",
      "|Bright Chelsea  Apartment. Chelsea!               |120.0        |97               |4.8                 |\n",
      "|You are GUARANTEED to love this                   |74.0         |717              |4.87                |\n",
      "|Large double bedroom in Shoreditch w/garden       |104.0        |39               |4.9                 |\n",
      "|Bright Double + workspace in spacious Garden Flat |51.0         |246              |4.75                |\n",
      "|SPACIOUS ROOM IN CONTEMPORARY STYLE FLAT          |52.0         |71               |4.97                |\n",
      "|Room with a view, shared flat,  central  Bankside |75.0         |133              |4.69                |\n",
      "|You Will Save Money Here                          |55.0         |625              |4.89                |\n",
      "|Spacious luxury 2 bedroom apartment               |94.0         |25               |4.6                 |\n",
      "|Stylish apartment in trendy Dalston               |112.0        |36               |4.86                |\n",
      "|A people person awaits you here!                  |48.0         |78               |4.9                 |\n",
      "|Quiet Comfortable Room in Fulham                  |47.0         |253              |4.73                |\n",
      "+--------------------------------------------------+-------------+-----------------+--------------------+\n",
      "only showing top 20 rows\n",
      "\n"
     ]
    }
   ],
   "source": [
    "# 5. Get a list of properties with the following characteristics:\n",
    "# * price < 150\n",
    "# * more than 20 reviews\n",
    "# * review_scores_rating > 4.5\n",
    "# Consider using the \"&\" operator\n",
    "\n",
    "listings_with_price.filter(\n",
    "    (listings_with_price.price_numeric < 150) &\n",
    "    (listings_with_price.number_of_reviews > 20) &\n",
    "    (listings_with_price.review_scores_rating > 4.5)\n",
    "  ) \\\n",
    ".select('name', 'price_numeric', 'number_of_reviews', 'review_scores_rating') \\\n",
    ".show(truncate=False)"
   ]
  }
 ],
 "metadata": {
  "kernelspec": {
   "display_name": "Python 3",
   "language": "python",
   "name": "python3"
  },
  "language_info": {
   "codemirror_mode": {
    "name": "ipython",
    "version": 3
   },
   "file_extension": ".py",
   "mimetype": "text/x-python",
   "name": "python",
   "nbconvert_exporter": "python",
   "pygments_lexer": "ipython3",
   "version": "3.12.9"
  }
 },
 "nbformat": 4,
 "nbformat_minor": 5
}
