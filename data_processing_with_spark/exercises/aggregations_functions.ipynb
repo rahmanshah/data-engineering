{
 "cells": [
  {
   "cell_type": "markdown",
   "id": "6afe92cb",
   "metadata": {},
   "source": [
    "## Session Setup"
   ]
  },
  {
   "cell_type": "code",
   "execution_count": 1,
   "id": "81a76b51",
   "metadata": {},
   "outputs": [],
   "source": [
    "from pyspark.sql import SparkSession\n",
    "\n",
    "spark = SparkSession.builder \\\n",
    "    .appName(\"Spark aggregation functions\") \\\n",
    "    .getOrCreate()"
   ]
  },
  {
   "cell_type": "markdown",
   "id": "33b309ac",
   "metadata": {},
   "source": [
    "### Loading Data"
   ]
  },
  {
   "cell_type": "code",
   "execution_count": 2,
   "id": "c96ec561",
   "metadata": {},
   "outputs": [
    {
     "name": "stdout",
     "output_type": "stream",
     "text": [
      "root\n",
      " |-- id: long (nullable = true)\n",
      " |-- listing_url: string (nullable = true)\n",
      " |-- scrape_id: long (nullable = true)\n",
      " |-- last_scraped: timestamp (nullable = true)\n",
      " |-- source: string (nullable = true)\n",
      " |-- name: string (nullable = true)\n",
      " |-- description: string (nullable = true)\n",
      " |-- neighborhood_overview: string (nullable = true)\n",
      " |-- picture_url: string (nullable = true)\n",
      " |-- host_id: integer (nullable = true)\n",
      " |-- host_url: string (nullable = true)\n",
      " |-- host_name: string (nullable = true)\n",
      " |-- host_since: timestamp (nullable = true)\n",
      " |-- host_location: string (nullable = true)\n",
      " |-- host_about: string (nullable = true)\n",
      " |-- host_response_time: string (nullable = true)\n",
      " |-- host_response_rate: string (nullable = true)\n",
      " |-- host_acceptance_rate: string (nullable = true)\n",
      " |-- host_is_superhost: string (nullable = true)\n",
      " |-- host_thumbnail_url: string (nullable = true)\n",
      " |-- host_picture_url: string (nullable = true)\n",
      " |-- host_neighbourhood: string (nullable = true)\n",
      " |-- host_listings_count: integer (nullable = true)\n",
      " |-- host_total_listings_count: integer (nullable = true)\n",
      " |-- host_verifications: string (nullable = true)\n",
      " |-- host_has_profile_pic: string (nullable = true)\n",
      " |-- host_identity_verified: string (nullable = true)\n",
      " |-- neighbourhood: string (nullable = true)\n",
      " |-- neighbourhood_cleansed: string (nullable = true)\n",
      " |-- neighbourhood_group_cleansed: string (nullable = true)\n",
      " |-- latitude: double (nullable = true)\n",
      " |-- longitude: double (nullable = true)\n",
      " |-- property_type: string (nullable = true)\n",
      " |-- room_type: string (nullable = true)\n",
      " |-- accommodates: integer (nullable = true)\n",
      " |-- bathrooms: double (nullable = true)\n",
      " |-- bathrooms_text: string (nullable = true)\n",
      " |-- bedrooms: integer (nullable = true)\n",
      " |-- beds: integer (nullable = true)\n",
      " |-- amenities: string (nullable = true)\n",
      " |-- price: string (nullable = true)\n",
      " |-- minimum_nights: integer (nullable = true)\n",
      " |-- maximum_nights: integer (nullable = true)\n",
      " |-- minimum_minimum_nights: integer (nullable = true)\n",
      " |-- maximum_minimum_nights: integer (nullable = true)\n",
      " |-- minimum_maximum_nights: integer (nullable = true)\n",
      " |-- maximum_maximum_nights: integer (nullable = true)\n",
      " |-- minimum_nights_avg_ntm: double (nullable = true)\n",
      " |-- maximum_nights_avg_ntm: double (nullable = true)\n",
      " |-- calendar_updated: string (nullable = true)\n",
      " |-- has_availability: string (nullable = true)\n",
      " |-- availability_30: integer (nullable = true)\n",
      " |-- availability_60: integer (nullable = true)\n",
      " |-- availability_90: integer (nullable = true)\n",
      " |-- availability_365: integer (nullable = true)\n",
      " |-- calendar_last_scraped: timestamp (nullable = true)\n",
      " |-- number_of_reviews: integer (nullable = true)\n",
      " |-- number_of_reviews_ltm: integer (nullable = true)\n",
      " |-- number_of_reviews_l30d: integer (nullable = true)\n",
      " |-- availability_eoy: integer (nullable = true)\n",
      " |-- number_of_reviews_ly: integer (nullable = true)\n",
      " |-- estimated_occupancy_l365d: integer (nullable = true)\n",
      " |-- estimated_revenue_l365d: integer (nullable = true)\n",
      " |-- first_review: timestamp (nullable = true)\n",
      " |-- last_review: timestamp (nullable = true)\n",
      " |-- review_scores_rating: double (nullable = true)\n",
      " |-- review_scores_accuracy: double (nullable = true)\n",
      " |-- review_scores_cleanliness: double (nullable = true)\n",
      " |-- review_scores_checkin: double (nullable = true)\n",
      " |-- review_scores_communication: double (nullable = true)\n",
      " |-- review_scores_location: double (nullable = true)\n",
      " |-- review_scores_value: double (nullable = true)\n",
      " |-- license: string (nullable = true)\n",
      " |-- instant_bookable: string (nullable = true)\n",
      " |-- calculated_host_listings_count: integer (nullable = true)\n",
      " |-- calculated_host_listings_count_entire_homes: integer (nullable = true)\n",
      " |-- calculated_host_listings_count_private_rooms: integer (nullable = true)\n",
      " |-- calculated_host_listings_count_shared_rooms: integer (nullable = true)\n",
      " |-- reviews_per_month: double (nullable = true)\n",
      "\n"
     ]
    }
   ],
   "source": [
    "listings = spark.read.csv(\"../data/listings.csv.gz\", \n",
    "    header=True,\n",
    "    inferSchema=True,\n",
    "    sep=\",\", \n",
    "    quote='\"',\n",
    "    escape='\"', \n",
    "    multiLine=True,\n",
    "    mode=\"PERMISSIVE\" \n",
    ")\n",
    "listings.printSchema()"
   ]
  },
  {
   "cell_type": "code",
   "execution_count": 3,
   "id": "c5b5e398",
   "metadata": {},
   "outputs": [
    {
     "name": "stdout",
     "output_type": "stream",
     "text": [
      "root\n",
      " |-- listing_id: long (nullable = true)\n",
      " |-- id: long (nullable = true)\n",
      " |-- date: timestamp (nullable = true)\n",
      " |-- reviewer_id: integer (nullable = true)\n",
      " |-- reviewer_name: string (nullable = true)\n",
      " |-- comments: string (nullable = true)\n",
      "\n"
     ]
    }
   ],
   "source": [
    "reviews = spark.read.csv(\"../data/reviews.csv.gz\", \n",
    "    header=True,\n",
    "    inferSchema=True,\n",
    "    sep=\",\",\n",
    "    quote='\"',\n",
    "    escape='\"',\n",
    "    multiLine=True,\n",
    "    mode=\"PERMISSIVE\"\n",
    ")\n",
    "reviews.printSchema()"
   ]
  },
  {
   "cell_type": "code",
   "execution_count": 4,
   "id": "4e7a85fd",
   "metadata": {},
   "outputs": [
    {
     "name": "stdout",
     "output_type": "stream",
     "text": [
      "+----------+-----+\n",
      "|listing_id|count|\n",
      "+----------+-----+\n",
      "|     78606|    2|\n",
      "|    444886|   12|\n",
      "|    466017|   28|\n",
      "|   2736493|    4|\n",
      "|   2557853|   89|\n",
      "|   3132302|    3|\n",
      "|   3917692|    1|\n",
      "|   3734796|    5|\n",
      "|   3997029|    7|\n",
      "|   4361078|   70|\n",
      "+----------+-----+\n",
      "only showing top 10 rows\n",
      "\n"
     ]
    }
   ],
   "source": [
    "# 1. Count the number of reviews per listing using the \"reviews\" dataset\n",
    "\n",
    "reviews_per_listing = reviews \\\n",
    "  .groupBy('listing_id') \\\n",
    "  .count() \\\n",
    "  .show(10)"
   ]
  },
  {
   "cell_type": "code",
   "execution_count": 5,
   "id": "54d604ca",
   "metadata": {},
   "outputs": [
    {
     "name": "stdout",
     "output_type": "stream",
     "text": [
      "+--------+--------------+--------------------+\n",
      "| host_id|total_listings|average_review_score|\n",
      "+--------+--------------+--------------------+\n",
      "| 2358441|             1|                4.86|\n",
      "| 2876123|             2|  4.9399999999999995|\n",
      "| 2038199|             1|                 5.0|\n",
      "| 4157822|             2|               4.925|\n",
      "|  719504|             1|                4.96|\n",
      "| 7950720|             1|                4.86|\n",
      "| 6572018|             1|                 5.0|\n",
      "|12122942|             1|                4.93|\n",
      "|13851928|             1|                4.97|\n",
      "|13739634|             2|                4.74|\n",
      "+--------+--------------+--------------------+\n",
      "only showing top 10 rows\n",
      "\n"
     ]
    }
   ],
   "source": [
    "# 2. Compute the total number of listings and average review score per host\n",
    "\n",
    "from pyspark.sql.functions import avg, count\n",
    "\n",
    "host_stats = listings \\\n",
    "  .filter(listings.review_scores_rating.isNotNull()) \\\n",
    "  .groupBy('host_id') \\\n",
    "  .agg(\n",
    "    count('id').alias('total_listings'),\n",
    "    avg('review_scores_rating').alias('average_review_score')\n",
    "  ) \\\n",
    "  .show(10)"
   ]
  },
  {
   "cell_type": "code",
   "execution_count": 6,
   "id": "a9307103",
   "metadata": {},
   "outputs": [
    {
     "name": "stdout",
     "output_type": "stream",
     "text": [
      "+----------+-----+\n",
      "|listing_id|count|\n",
      "+----------+-----+\n",
      "|  47408549| 1855|\n",
      "|  30760930| 1682|\n",
      "|  43120947| 1615|\n",
      "|  19670926| 1436|\n",
      "|  45006692| 1433|\n",
      "|   1436172| 1195|\n",
      "|   2126708| 1122|\n",
      "|   1436177| 1005|\n",
      "|  47438714|  978|\n",
      "|   3855375|  973|\n",
      "+----------+-----+\n",
      "\n"
     ]
    }
   ],
   "source": [
    "# 3: Find the top ten listings with the highest number of reviews\n",
    "\n",
    "reviews \\\n",
    "  .groupBy('listing_id') \\\n",
    "  .count() \\\n",
    "  .orderBy('count', ascending=False) \\\n",
    "  .limit(10) \\\n",
    "  .show()"
   ]
  },
  {
   "cell_type": "code",
   "execution_count": 7,
   "id": "3d6a877e",
   "metadata": {},
   "outputs": [
    {
     "name": "stdout",
     "output_type": "stream",
     "text": [
      "+----------------------+-----+\n",
      "|neighbourhood_cleansed|count|\n",
      "+----------------------+-----+\n",
      "|           Westminster|11367|\n",
      "|         Tower Hamlets| 7566|\n",
      "|                Camden| 6564|\n",
      "|  Kensington and Ch...| 6348|\n",
      "|               Hackney| 6279|\n",
      "+----------------------+-----+\n",
      "\n"
     ]
    }
   ],
   "source": [
    "# 4. Find the top five neighborhoods with the most listings\n",
    "\n",
    "listings \\\n",
    "  .groupBy('neighbourhood_cleansed') \\\n",
    "  .count() \\\n",
    "  .orderBy('count', ascending=False) \\\n",
    "  .limit(5) \\\n",
    "  .show()"
   ]
  },
  {
   "cell_type": "code",
   "execution_count": 8,
   "id": "24d3ba7f",
   "metadata": {},
   "outputs": [
    {
     "name": "stdout",
     "output_type": "stream",
     "text": [
      "+-----+-----------------------------------+-------------+---------------------------------------------------------------------------------------------------------------------------------------------------------------------------------------------------------------------------------------------------------------------------------------------------------------------------------------------------------------------------------------------------------------------------------------------------------------------------------------------------------------------------------------------------------------------------------------------------------------------------------------------------------------------------------------------------------------------------------------------------------------------------------------------------------------------------------------------------------------------------------------------------------+\n",
      "|id   |name                               |reviewer_name|comments                                                                                                                                                                                                                                                                                                                                                                                                                                                                                                                                                                                                                                                                                                                                                                                                                                                                                                 |\n",
      "+-----+-----------------------------------+-------------+---------------------------------------------------------------------------------------------------------------------------------------------------------------------------------------------------------------------------------------------------------------------------------------------------------------------------------------------------------------------------------------------------------------------------------------------------------------------------------------------------------------------------------------------------------------------------------------------------------------------------------------------------------------------------------------------------------------------------------------------------------------------------------------------------------------------------------------------------------------------------------------------------------+\n",
      "|13913|Holiday London DB Room Let-on going|Michael      |My girlfriend and I hadn't known Alina before we took the leap of faith to rent her flat. Alina just couldn't be nicer! Her flat is comfortable, homey, very sunny, and quiet at night. Her diverse neighborhood rocks! It's full of excellent eateries of varying ethnicities, good supermarkets, etc., etc. Her place is about a 10-minute walk to the Finsbury Park tube stop, and there are also several buses that ply Stroud Green Road. The Piccadilly and Victoria tube lines that serve Finsbury Park are very dependable and come frequently. My only caveat is if you are unwilling to take 20- to 40-minute commutes to downtown London attractions and money is no object, you will prefer to stay downtown. But for anyone else, you will love your experience of living in a real, untouristy neighborhood and dealing with a generous, warm-hearted woman I'm happy to call a new friend.|\n",
      "|13913|Holiday London DB Room Let-on going|Mathias      |Alina was a really good host. The flat is clean and tidy - and really close to Finsbury Park station which is quite close to Central London. I recommend Alina to everyone.                                                                                                                                                                                                                                                                                                                                                                                                                                                                                                                                                                                                                                                                                                                              |\n",
      "|13913|Holiday London DB Room Let-on going|Kristin      |Alina is an amazing host. She made me feel right at home. It was more like hanging out with a friend than a complete stranger. She's very sweet and makes a mean espresso. There are tons of places right around flat to eat and market is close in case you want to cook. I would definitely stay here again if I was in London. Thanks Alina you're awesome.                                                                                                                                                                                                                                                                                                                                                                                                                                                                                                                                           |\n",
      "|13913|Holiday London DB Room Let-on going|Camilla      |Alina's place is so nice, the room is big and clean, and the bed is huge. Alina is a great host, and she made sure I had everything I needed, for instance she had put clean towels on the bed for me:) I felt very at home in her place. Aside from that she really helped me out with a lot of things, and even helped me find a permanent place to live in London. So overall a great place to stay with a great girl.                                                                                                                                                                                                                                                                                                                                                                                                                                                                                |\n",
      "|13913|Holiday London DB Room Let-on going|Jorik        |Nice location in Islington area, good for short business trip. House is OK, host is very friendly.                                                                                                                                                                                                                                                                                                                                                                                                                                                                                                                                                                                                                                                                                                                                                                                                       |\n",
      "|13913|Holiday London DB Room Let-on going|Vera         |I'm very happy to have been Alina's guest! We've had great time in London and enjoyed our stay. Alina is a great host, we felt us so welcomed by her! \\r<br/>Alina's house location is very convenient, it's only 5 min walk to Finsbury Park tube station and also a direct (Picadilly) line to Heathrow Airport (in case yu have an early departure you can use the opportunity to sleep a bit in the train :) \\r<br/>The flat itself is very nice and clean and comfortable, especially the double-bed with new mattress, I slept like a newborn :) And also the red sofa on the small roof terrace is great, I enjoyed the last night London sky!\\r<br/>To all who is going to visit London I highly reccomend Alina and her beautiful house to stay in. Alina, thank you so much and I hope to see you one day again!                                                                               |\n",
      "|13913|Holiday London DB Room Let-on going|Honi         |I stayed with Alina in her flat in London for a week. It's a wonderful home with a warm feeling and everything you need. Alina went out of her way to make sure I was comfortable and we shared some great chats and meals. I recommend Alina's place to anyone looking for a home for a while in London, and look forward to seeing Alina again.                                                                                                                                                                                                                                                                                                                                                                                                                                                                                                                                                        |\n",
      "|13913|Holiday London DB Room Let-on going|Alessandro   |Alina was a perfect guest and her flat is absolutely wonderful. Highly recommended. \\r<br/>                                                                                                                                                                                                                                                                                                                                                                                                                                                                                                                                                                                                                                                                                                                                                                                                              |\n",
      "|13913|Holiday London DB Room Let-on going|Oleh         |Alina's flat is exceptional one.  \\r<br/>I have to say i have never been to such an atmospheric place like her flat.\\r<br/>Plenty of stunning art items around and all of these pictures and drawings are magnificent and inspirational.\\r<br/>The kitchen is AMAZING. Huge window,  very bright and cozy  furnished with great equipment.\\r<br/>\\r<br/>I would highly recommend this flat, \\r<br/>i have had numerous short term rent in rent\\r<br/>and this one is number one to me.\\r<br/>\\r<br/>\\r<br/>\\r<br/>                                                                                                                                                                                                                                                                                                                                                                                       |\n",
      "|13913|Holiday London DB Room Let-on going|Mo           |The House is a piece of Art , there are beautiful portraits everywhere ,  so close to the tube station , on piccaddily and Victoria lines , the host alina is very friendly , welcoming , and polite person , highly recommended                                                                                                                                                                                                                                                                                                                                                                                                                                                                                                                                                                                                                                                                         |\n",
      "|13913|Holiday London DB Room Let-on going|A            |Was great base for my London visit and great support to update me about things to do. l felt very much welcome. Thanks again.                                                                                                                                                                                                                                                                                                                                                                                                                                                                                                                                                                                                                                                                                                                                                                            |\n",
      "|13913|Holiday London DB Room Let-on going|Daniel       |Alina was an amazing host, simply brilliant. Always available and kind, super kind! I miss our discussions in front of coffee or breakfast. Stay in touch!                                                                                                                                                                                                                                                                                                                                                                                                                                                                                                                                                                                                                                                                                                                                               |\n",
      "|13913|Holiday London DB Room Let-on going|Belinda      |Lovely relaxed place to stay. Very friendly and thoughtful host would definitely stay again. Very short walk from tube very safe and diverse area. Would definitely stay again and would recommend going to Bar Faltering Fullback for a drink in a local bar                                                                                                                                                                                                                                                                                                                                                                                                                                                                                                                                                                                                                                            |\n",
      "|13913|Holiday London DB Room Let-on going|Charles      |Alina's place is cosy, convenient, and full of eclectic artwork,  and furnishings made by herself personally. She met me at the door and instantly made me feel at home. Entrance is on a major road but the flat is set back so there is very little noise from the street.                                                                                                                                                                                                                                                                                                                                                                                                                                                                                                                                                                                                                             |\n",
      "|13913|Holiday London DB Room Let-on going|Andrew       |Alina, was very quick to respond. Thoughtful and accommodating. Would definitely recommend.                                                                                                                                                                                                                                                                                                                                                                                                                                                                                                                                                                                                                                                                                                                                                                                                              |\n",
      "|13913|Holiday London DB Room Let-on going|Bart         |Alina is an amazing host who welcomed me warmly and was always up for a talk. Her place is in a nice neighborhood with lots of great restaurants around.                                                                                                                                                                                                                                                                                                                                                                                                                                                                                                                                                                                                                                                                                                                                                 |\n",
      "|13913|Holiday London DB Room Let-on going|John         |Alina is a very relaxed and friendly host who made me completely welcome.  Whilst the room fronted the main road there was no noise and a comfortable bed made for a great night's sleep.  The location is great with so many bars and restaurants on the doorstep.                                                                                                                                                                                                                                                                                                                                                                                                                                                                                                                                                                                                                                      |\n",
      "|13913|Holiday London DB Room Let-on going|Philip       |Felt at home - Alina is an excellent host - very friendly - makes you feel wanted not just tolerated - many thanks                                                                                                                                                                                                                                                                                                                                                                                                                                                                                                                                                                                                                                                                                                                                                                                       |\n",
      "|13913|Holiday London DB Room Let-on going|Ania         |Alina’s place is great! It’s very stylish and cosy at the same time. She is a great host, quick at responding and very accommodating. I would definitely stay at Alina’s again.                                                                                                                                                                                                                                                                                                                                                                                                                                                                                                                                                                                                                                                                                                                          |\n",
      "|13913|Holiday London DB Room Let-on going|Samuel       |Outstanding host. Got along great.                                                                                                                                                                                                                                                                                                                                                                                                                                                                                                                                                                                                                                                                                                                                                                                                                                                                       |\n",
      "+-----+-----------------------------------+-------------+---------------------------------------------------------------------------------------------------------------------------------------------------------------------------------------------------------------------------------------------------------------------------------------------------------------------------------------------------------------------------------------------------------------------------------------------------------------------------------------------------------------------------------------------------------------------------------------------------------------------------------------------------------------------------------------------------------------------------------------------------------------------------------------------------------------------------------------------------------------------------------------------------------+\n",
      "only showing top 20 rows\n",
      "\n"
     ]
    }
   ],
   "source": [
    "# 5. Get a data frame with the following four columns:\n",
    "# * Listing's ID\n",
    "# * Listing's name\n",
    "# * Reviewer's name\n",
    "# * Review's comment\n",
    "# Use \"join\" to combine data from two datasets\n",
    "\n",
    "listings.join(reviews, listings.id == reviews.listing_id, 'inner') \\\n",
    "  .select(listings.id, 'name', 'reviewer_name', 'comments') \\\n",
    "  .show(truncate=False)"
   ]
  },
  {
   "cell_type": "code",
   "execution_count": 9,
   "id": "db7704ae",
   "metadata": {},
   "outputs": [
    {
     "name": "stdout",
     "output_type": "stream",
     "text": [
      "+------------------+----------------------+-------------+\n",
      "|        listing_id|average_comment_length|reviews_count|\n",
      "+------------------+----------------------+-------------+\n",
      "|618608352812465378|    1300.1666666666667|            6|\n",
      "|          28508447|    1089.3333333333333|            6|\n",
      "|627425975703032358|     951.7777777777778|            9|\n",
      "|           2197681|                 939.2|            5|\n",
      "|          13891813|                 905.0|            5|\n",
      "|            979753|     893.9230769230769|           13|\n",
      "|630150178279666225|     890.7272727272727|           11|\n",
      "|           8856894|     890.1666666666666|            6|\n",
      "|          29469389|                 885.0|            6|\n",
      "|          22524075|                 885.0|            5|\n",
      "|           5555679|     878.7169811320755|          106|\n",
      "|          33385444|                 848.0|            5|\n",
      "|            565214|     834.0833333333334|           12|\n",
      "|          53493254|                 831.0|            7|\n",
      "|          12646480|                 819.6|            5|\n",
      "|          17997858|               816.875|            8|\n",
      "|           8574525|     813.6666666666666|            6|\n",
      "|          38664252|     805.8333333333334|            6|\n",
      "|          16308170|     799.6666666666666|            6|\n",
      "|546424544012965343|               772.625|            8|\n",
      "+------------------+----------------------+-------------+\n",
      "only showing top 20 rows\n",
      "\n"
     ]
    }
   ],
   "source": [
    "# 6. Get top five listings with the highest average review comment length. Only return listings with at least 5 reviews\n",
    "# Use the \"length\" function from the \"pyspark.sql.functions\" to get a lenght of a review\n",
    "\n",
    "from pyspark.sql.functions import length, avg, count\n",
    "\n",
    "reviews_with_comment_length = reviews.withColumn('comment_length', length('comments'))\n",
    "reviews_with_comment_length \\\n",
    "  .join(listings, reviews_with_comment_length.listing_id == listings.id, 'inner') \\\n",
    "  .groupBy('listing_id').agg(\n",
    "      avg(reviews_with_comment_length.comment_length).alias('average_comment_length'),\n",
    "      count(reviews_with_comment_length.id).alias('reviews_count')\n",
    "  ) \\\n",
    "  .filter('reviews_count >= 5') \\\n",
    "  .orderBy('average_comment_length', ascending=False) \\\n",
    "  .show()"
   ]
  },
  {
   "cell_type": "code",
   "execution_count": 13,
   "id": "e0542609",
   "metadata": {},
   "outputs": [
    {
     "name": "stdout",
     "output_type": "stream",
     "text": [
      "+------------------------------------------------+\n",
      "|name                                            |\n",
      "+------------------------------------------------+\n",
      "|ChiqDoube Room in PrivateAppartment             |\n",
      "|ROOM TO RENT IN THE OLYMPIC PERIOD              |\n",
      "|4 bed Beautiful west london home                |\n",
      "|London, Hoxton. Nice, 2 bedroom, 7th floor flat.|\n",
      "|Bright Dbl/Nr/ Excellnt Transp                  |\n",
      "|Stunning Shared Penthouse Apartment             |\n",
      "|The Old Coach House (Olympics)                  |\n",
      "|Well furnished room (Olympics site)             |\n",
      "|Studio 20min Walk from Olympic City             |\n",
      "|Luxury single room                              |\n",
      "|Contemporary house London E4                    |\n",
      "|A lovely one bedroom garden flat!!              |\n",
      "|Coming to London for the Olympics?              |\n",
      "|Lovely double room + own bathroom               |\n",
      "|Double Room close to Olympic Park!              |\n",
      "|Double bedroom near Olympic Park                |\n",
      "|SPARE ROOM TO LET DURING OLYMPICS               |\n",
      "|Your Studio Flat in London-Olympics             |\n",
      "|1 bedroom available, kensal rise                |\n",
      "|Trendy location close to the river              |\n",
      "+------------------------------------------------+\n",
      "only showing top 20 rows\n",
      "\n"
     ]
    }
   ],
   "source": [
    "# 7. Using the \"join\" operator find listings without reviews.\n",
    "# Hint: Use \"left_join\" or \"left_anti\" join type when implementing this\n",
    "\n",
    "joined_df = listings.join(\n",
    "    reviews,\n",
    "    listings.id == reviews.listing_id,\n",
    "    how='left_outer'\n",
    ")\n",
    "\n",
    "joined_df \\\n",
    "  .filter(reviews.listing_id.isNull()) \\\n",
    "  .select('name') \\\n",
    "  .show(truncate=False)"
   ]
  },
  {
   "cell_type": "code",
   "execution_count": 14,
   "id": "d7ecfa2b",
   "metadata": {},
   "outputs": [
    {
     "name": "stdout",
     "output_type": "stream",
     "text": [
      "+------------------------------------------------+\n",
      "|name                                            |\n",
      "+------------------------------------------------+\n",
      "|ChiqDoube Room in PrivateAppartment             |\n",
      "|ROOM TO RENT IN THE OLYMPIC PERIOD              |\n",
      "|4 bed Beautiful west london home                |\n",
      "|London, Hoxton. Nice, 2 bedroom, 7th floor flat.|\n",
      "|Bright Dbl/Nr/ Excellnt Transp                  |\n",
      "|Stunning Shared Penthouse Apartment             |\n",
      "|The Old Coach House (Olympics)                  |\n",
      "|Well furnished room (Olympics site)             |\n",
      "|Studio 20min Walk from Olympic City             |\n",
      "|Luxury single room                              |\n",
      "|Contemporary house London E4                    |\n",
      "|A lovely one bedroom garden flat!!              |\n",
      "|Coming to London for the Olympics?              |\n",
      "|Lovely double room + own bathroom               |\n",
      "|Double Room close to Olympic Park!              |\n",
      "|Double bedroom near Olympic Park                |\n",
      "|SPARE ROOM TO LET DURING OLYMPICS               |\n",
      "|Your Studio Flat in London-Olympics             |\n",
      "|1 bedroom available, kensal rise                |\n",
      "|Trendy location close to the river              |\n",
      "+------------------------------------------------+\n",
      "only showing top 20 rows\n",
      "\n"
     ]
    }
   ],
   "source": [
    "# Performing a left anti join to find listings without reviews\n",
    "listings_without_reviews = listings \\\n",
    "  .join(\n",
    "    reviews,\n",
    "    listings.id == reviews.listing_id,\n",
    "    how='left_anti'\n",
    "  ) \\\n",
    "  .select('name') \\\n",
    "  .show(truncate=False)"
   ]
  }
 ],
 "metadata": {
  "kernelspec": {
   "display_name": "Python 3",
   "language": "python",
   "name": "python3"
  },
  "language_info": {
   "codemirror_mode": {
    "name": "ipython",
    "version": 3
   },
   "file_extension": ".py",
   "mimetype": "text/x-python",
   "name": "python",
   "nbconvert_exporter": "python",
   "pygments_lexer": "ipython3",
   "version": "3.12.9"
  }
 },
 "nbformat": 4,
 "nbformat_minor": 5
}
