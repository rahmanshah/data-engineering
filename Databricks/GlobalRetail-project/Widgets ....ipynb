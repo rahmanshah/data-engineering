{
 "cells": [
  {
   "cell_type": "markdown",
   "metadata": {
    "application/vnd.databricks.v1+cell": {
     "cellMetadata": {
      "byteLimit": 2048000,
      "rowLimit": 10000
     },
     "inputWidgets": {},
     "nuid": "79833b98-701e-4bd9-8abd-3fcf6479006d",
     "showTitle": false,
     "tableResultSettingsMap": {},
     "title": ""
    }
   },
   "source": [
    "%md\n",
    "# Wrap-up Summary: Interactive Monthly Sales App with Databricks Widgets\n",
    "\n",
    "This notebook demonstrates how to build an interactive monthly sales analysis app using Databricks widgets and PySpark. The workflow includes:\n",
    "\n",
    "1. **Aggregating daily sales** from the `globalretail_silver.silver_transactions` table into a gold table (`gold_daily_sales`).\n",
    "2. **Defining Python functions** to:\n",
    "   * Retrieve available months from the data.\n",
    "   * Calculate total sales for a selected month.\n",
    "   * Display daily sales for the selected month.\n",
    "3. **Creating a Databricks dropdown widget** for month selection, allowing users to interactively choose a month.\n",
    "4. **Displaying results**:\n",
    "   * The total sales for the selected month (e.g., December 2023: $111,872.53).\n",
    "   * A table of daily sales for each day in the selected month.\n",
    "\n",
    "This approach provides a user-friendly, interactive experience directly within the Databricks notebook, without requiring external web app hosting. Users can easily explore sales trends by month and day using the provided widgets and tables.\n",
    "\n",
    "---\n"
   ]
  },
  {
   "cell_type": "code",
   "execution_count": 0,
   "metadata": {
    "application/vnd.databricks.v1+cell": {
     "cellMetadata": {
      "byteLimit": 2048000,
      "implicitDf": true,
      "rowLimit": 10000
     },
     "inputWidgets": {},
     "nuid": "ae46463b-24fc-4300-81ff-2c1f0eb34800",
     "showTitle": false,
     "tableResultSettingsMap": {},
     "title": ""
    }
   },
   "outputs": [],
   "source": [
    "%sql\n",
    "select *\n",
    "from globalretail_gold.gold_daily_sales\n",
    "limit 10;"
   ]
  },
  {
   "cell_type": "code",
   "execution_count": 0,
   "metadata": {
    "application/vnd.databricks.v1+cell": {
     "cellMetadata": {
      "byteLimit": 2048000,
      "implicitDf": true,
      "rowLimit": 10000
     },
     "inputWidgets": {},
     "nuid": "7042d017-f0e5-47bd-9866-01f39b287f52",
     "showTitle": false,
     "tableResultSettingsMap": {},
     "title": ""
    }
   },
   "outputs": [],
   "source": [
    "%sql\n",
    "select table_name \n",
    "from workspace.information_schema.tables \n",
    "where table_schema = 'globalretail_gold'"
   ]
  },
  {
   "cell_type": "code",
   "execution_count": 0,
   "metadata": {
    "application/vnd.databricks.v1+cell": {
     "cellMetadata": {
      "byteLimit": 2048000,
      "implicitDf": true,
      "rowLimit": 10000
     },
     "inputWidgets": {},
     "nuid": "cb8a413b-9f26-4d30-9365-f85e88c28708",
     "showTitle": false,
     "tableResultSettingsMap": {},
     "title": ""
    }
   },
   "outputs": [],
   "source": [
    "%sql\n",
    "describe globalretail_gold.gold_daily_sales;"
   ]
  },
  {
   "cell_type": "markdown",
   "metadata": {
    "application/vnd.databricks.v1+cell": {
     "cellMetadata": {},
     "inputWidgets": {},
     "nuid": "c2e77c9a-010b-49e4-8b85-906dd77fdec8",
     "showTitle": false,
     "tableResultSettingsMap": {},
     "title": ""
    }
   },
   "source": [
    "%md\n",
    "**Step 1: Refactor Notebook Logic into a Python Function**\n",
    "\n",
    "We will create a Python function that takes a month (e.g., '2024-06') as input, queries the `gold_daily_sales` table, and returns the total sales for that month. This function will be used in the Gradio app to display results based on user selection."
   ]
  },
  {
   "cell_type": "markdown",
   "metadata": {
    "application/vnd.databricks.v1+cell": {
     "cellMetadata": {},
     "inputWidgets": {},
     "nuid": "41825bd5-a672-4001-9b89-eac7bcd2ea10",
     "showTitle": false,
     "tableResultSettingsMap": {},
     "title": ""
    }
   },
   "source": [
    "%md\n",
    "## Step 1: Refactor Notebook Logic into a Python Function\n",
    "We need a Python function that takes a month (e.g., '2024-06') as input, queries the gold_daily_sales table, and returns the total sales for that month. We'll use PySpark SQL to filter by the month and sum the sales. We'll also make the function robust to handle months with no data."
   ]
  },
  {
   "cell_type": "code",
   "execution_count": 0,
   "metadata": {
    "application/vnd.databricks.v1+cell": {
     "cellMetadata": {
      "byteLimit": 2048000,
      "rowLimit": 10000
     },
     "inputWidgets": {},
     "nuid": "939b9312-d339-41c6-afb1-741dcf8b04cc",
     "showTitle": false,
     "tableResultSettingsMap": {},
     "title": ""
    }
   },
   "outputs": [],
   "source": [
    "from pyspark.sql.functions import col, sum as spark_sum, date_format\n",
    "\n",
    "def get_monthly_sales(selected_month):\n",
    "    # Read the daily sales table\n",
    "    df = spark.table('globalretail_gold.gold_daily_sales')\n",
    "    # Extract year-month from transaction_date and filter\n",
    "    df_month = df.withColumn('year_month', date_format(col('transaction_date'), 'yyyy-MM')) \\\n",
    "                 .filter(col('year_month') == selected_month)\n",
    "    # Aggregate total sales for the month\n",
    "    result = df_month.agg(spark_sum('daily_total_sales').alias('monthly_total_sales')).collect()\n",
    "    if result and result[0]['monthly_total_sales'] is not None:\n",
    "        return float(result[0]['monthly_total_sales'])\n",
    "    else:\n",
    "        return 0.0"
   ]
  },
  {
   "cell_type": "markdown",
   "metadata": {
    "application/vnd.databricks.v1+cell": {
     "cellMetadata": {},
     "inputWidgets": {},
     "nuid": "a04bba70-9fc4-4d02-9b79-dda31dd22e14",
     "showTitle": false,
     "tableResultSettingsMap": {},
     "title": ""
    }
   },
   "source": [
    "%md\n",
    "## Step 2: Create a Gradio App for Month Selection\n",
    "Now that we have a function to get monthly sales, we'll build a Gradio app. The app will let the user select a month (from available months in the data) and display the total sales for that month. We'll also display a table of daily sales for the selected month for more detail. We'll need to install Gradio if not present, and fetch available months from the data for the dropdown."
   ]
  },
  {
   "cell_type": "code",
   "execution_count": 0,
   "metadata": {
    "application/vnd.databricks.v1+cell": {
     "cellMetadata": {
      "byteLimit": 2048000,
      "rowLimit": 10000
     },
     "inputWidgets": {},
     "nuid": "7e694c27-9eb7-483b-bf1c-d9df590d81f8",
     "showTitle": false,
     "tableResultSettingsMap": {},
     "title": ""
    }
   },
   "outputs": [],
   "source": [
    "# Install Gradio if not already installed\n",
    "# (Databricks may require --upgrade for user installs)\n",
    "%pip install --upgrade gradio"
   ]
  },
  {
   "cell_type": "code",
   "execution_count": 0,
   "metadata": {
    "application/vnd.databricks.v1+cell": {
     "cellMetadata": {
      "byteLimit": 2048000,
      "rowLimit": 10000
     },
     "inputWidgets": {},
     "nuid": "ab0ba28b-7322-4db1-bc64-b42e371e1616",
     "showTitle": false,
     "tableResultSettingsMap": {},
     "title": ""
    }
   },
   "outputs": [],
   "source": [
    "from pyspark.sql.functions import date_format\n",
    "\n",
    "def get_available_months():\n",
    "    df = spark.table('globalretail_gold.gold_daily_sales')\n",
    "    months_rows = df.select(date_format('transaction_date', 'yyyy-MM').alias('year_month')) \\\n",
    "        .distinct().orderBy('year_month').collect()\n",
    "    months = [row['year_month'] for row in months_rows]\n",
    "    return months"
   ]
  },
  {
   "cell_type": "code",
   "execution_count": 0,
   "metadata": {
    "application/vnd.databricks.v1+cell": {
     "cellMetadata": {
      "byteLimit": 2048000,
      "rowLimit": 10000
     },
     "inputWidgets": {},
     "nuid": "bfdfa87f-2276-4fbd-aeec-e4a27115efa2",
     "showTitle": false,
     "tableResultSettingsMap": {},
     "title": ""
    }
   },
   "outputs": [],
   "source": [
    "def get_daily_sales_for_month(selected_month):\n",
    "    df = spark.table('globalretail_gold.gold_daily_sales')\n",
    "    df_month = df.withColumn('year_month', date_format(col('transaction_date'), 'yyyy-MM')) \\\n",
    "                 .filter(col('year_month') == selected_month)\n",
    "    return df_month.select('transaction_date', 'daily_total_sales').orderBy('transaction_date').toPandas()"
   ]
  },
  {
   "cell_type": "code",
   "execution_count": 0,
   "metadata": {
    "application/vnd.databricks.v1+cell": {
     "cellMetadata": {
      "byteLimit": 2048000,
      "rowLimit": 10000
     },
     "inputWidgets": {},
     "nuid": "dfb056e0-900f-47ed-b6aa-cba938b2c329",
     "showTitle": false,
     "tableResultSettingsMap": {},
     "title": ""
    }
   },
   "outputs": [],
   "source": [
    "import gradio as gr\n",
    "\n",
    "def app(selected_month):\n",
    "    total_sales = get_monthly_sales(selected_month)\n",
    "    daily_sales_df = get_daily_sales_for_month(selected_month)\n",
    "    return f\"Total sales for {selected_month}: ${total_sales:,.2f}\", daily_sales_df\n",
    "\n",
    "months = get_available_months()\n",
    "\n",
    "demo = gr.Interface(\n",
    "    fn=app,\n",
    "    inputs=gr.Dropdown(choices=months, label=\"Select Month (YYYY-MM)\"),\n",
    "    outputs=[gr.Textbox(label=\"Total Sales\"), gr.Dataframe(label=\"Daily Sales Table\")],\n",
    "    title=\"Monthly Sales Viewer\",\n",
    "    description=\"Select a month to view total and daily sales.\"\n",
    ")\n",
    "demo.launch(share=True)"
   ]
  },
  {
   "cell_type": "markdown",
   "metadata": {
    "application/vnd.databricks.v1+cell": {
     "cellMetadata": {},
     "inputWidgets": {},
     "nuid": "79e7978b-77e7-4d9f-8802-3e7a8d5b9323",
     "showTitle": false,
     "tableResultSettingsMap": {},
     "title": ""
    }
   },
   "source": [
    "%md\n",
    "## Step 3: Use Databricks Widgets for Month Selection and Display Results\n",
    "Since Gradio apps cannot be hosted in Databricks AWS notebooks, we'll use Databricks widgets to let the user select a month. We'll display the total sales and a table of daily sales for the selected month directly in the notebook. This approach is fully supported and interactive within Databricks notebooks."
   ]
  },
  {
   "cell_type": "code",
   "execution_count": 0,
   "metadata": {
    "application/vnd.databricks.v1+cell": {
     "cellMetadata": {
      "byteLimit": 2048000,
      "rowLimit": 10000
     },
     "inputWidgets": {},
     "nuid": "5b32a9ea-adca-46da-bdc5-b6a837029aaa",
     "showTitle": false,
     "tableResultSettingsMap": {},
     "title": ""
    }
   },
   "outputs": [],
   "source": [
    "# Create a dropdown widget for available months\n",
    "months = get_available_months()\n",
    "try:\n",
    "    dbutils.widgets.remove('selected_month')\n",
    "except Exception:\n",
    "    pass\n",
    "dbutils.widgets.dropdown('selected_month', months[-1] if months else '', months)\n",
    "selected_month = dbutils.widgets.get('selected_month')\n",
    "print(f\"Selected month: {selected_month}\")"
   ]
  },
  {
   "cell_type": "code",
   "execution_count": 0,
   "metadata": {
    "application/vnd.databricks.v1+cell": {
     "cellMetadata": {
      "byteLimit": 2048000,
      "rowLimit": 10000
     },
     "inputWidgets": {},
     "nuid": "428a4000-dbe6-4ffc-be47-997889a986c9",
     "showTitle": false,
     "tableResultSettingsMap": {},
     "title": ""
    }
   },
   "outputs": [],
   "source": [
    "# Display total sales for the selected month\n",
    "monthly_total = get_monthly_sales(selected_month)\n",
    "print(f\"Total sales for {selected_month}: ${monthly_total:,.2f}\")\n",
    "\n",
    "# Display daily sales table for the selected month\n",
    "daily_sales_df = get_daily_sales_for_month(selected_month)\n",
    "display(daily_sales_df)"
   ]
  },
  {
   "cell_type": "code",
   "execution_count": 0,
   "metadata": {
    "application/vnd.databricks.v1+cell": {
     "cellMetadata": {},
     "inputWidgets": {},
     "nuid": "8c1fc588-6709-4087-8fc5-7806dff3e047",
     "showTitle": false,
     "tableResultSettingsMap": {},
     "title": ""
    }
   },
   "outputs": [],
   "source": []
  }
 ],
 "metadata": {
  "application/vnd.databricks.v1+notebook": {
   "computePreferences": null,
   "dashboards": [],
   "environmentMetadata": {
    "base_environment": "",
    "environment_version": "3"
   },
   "inputWidgetPreferences": null,
   "language": "python",
   "notebookMetadata": {
    "mostRecentlyExecutedCommandWithImplicitDF": {
     "commandId": 8604404070707490,
     "dataframes": [
      "_sqldf"
     ]
    },
    "pythonIndentUnit": 4
   },
   "notebookName": "Widgets ...",
   "widgets": {
    "selected_month": {
     "currentValue": "2022-12",
     "nuid": "1e3bb22a-7d10-4d60-979d-e83c46a127d3",
     "typedWidgetInfo": {
      "autoCreated": false,
      "defaultValue": "2023-12",
      "label": null,
      "name": "selected_month",
      "options": {
       "widgetDisplayType": "Dropdown",
       "choices": [
        "2020-01",
        "2020-02",
        "2020-03",
        "2020-04",
        "2020-05",
        "2020-06",
        "2020-07",
        "2020-08",
        "2020-09",
        "2020-10",
        "2020-11",
        "2020-12",
        "2021-01",
        "2021-02",
        "2021-03",
        "2021-04",
        "2021-05",
        "2021-06",
        "2021-07",
        "2021-08",
        "2021-09",
        "2021-10",
        "2021-11",
        "2021-12",
        "2022-01",
        "2022-02",
        "2022-03",
        "2022-04",
        "2022-05",
        "2022-06",
        "2022-07",
        "2022-08",
        "2022-09",
        "2022-10",
        "2022-11",
        "2022-12",
        "2023-01",
        "2023-02",
        "2023-03",
        "2023-04",
        "2023-05",
        "2023-06",
        "2023-07",
        "2023-08",
        "2023-09",
        "2023-10",
        "2023-11",
        "2023-12"
       ],
       "fixedDomain": true,
       "multiselect": false
      },
      "parameterDataType": "String"
     },
     "widgetInfo": {
      "widgetType": "dropdown",
      "defaultValue": "2023-12",
      "label": null,
      "name": "selected_month",
      "options": {
       "widgetType": "dropdown",
       "autoCreated": null,
       "choices": [
        "2020-01",
        "2020-02",
        "2020-03",
        "2020-04",
        "2020-05",
        "2020-06",
        "2020-07",
        "2020-08",
        "2020-09",
        "2020-10",
        "2020-11",
        "2020-12",
        "2021-01",
        "2021-02",
        "2021-03",
        "2021-04",
        "2021-05",
        "2021-06",
        "2021-07",
        "2021-08",
        "2021-09",
        "2021-10",
        "2021-11",
        "2021-12",
        "2022-01",
        "2022-02",
        "2022-03",
        "2022-04",
        "2022-05",
        "2022-06",
        "2022-07",
        "2022-08",
        "2022-09",
        "2022-10",
        "2022-11",
        "2022-12",
        "2023-01",
        "2023-02",
        "2023-03",
        "2023-04",
        "2023-05",
        "2023-06",
        "2023-07",
        "2023-08",
        "2023-09",
        "2023-10",
        "2023-11",
        "2023-12"
       ]
      }
     }
    }
   }
  },
  "language_info": {
   "name": "python"
  }
 },
 "nbformat": 4,
 "nbformat_minor": 0
}
