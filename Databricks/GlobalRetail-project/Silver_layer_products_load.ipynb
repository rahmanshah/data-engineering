{
 "cells": [
  {
   "cell_type": "code",
   "execution_count": 0,
   "metadata": {
    "application/vnd.databricks.v1+cell": {
     "cellMetadata": {
      "byteLimit": 2048000,
      "implicitDf": true,
      "rowLimit": 10000
     },
     "inputWidgets": {},
     "nuid": "d996aa94-142c-4fe9-acd2-24f256a76e9f",
     "showTitle": false,
     "tableResultSettingsMap": {},
     "title": ""
    }
   },
   "outputs": [],
   "source": [
    "%sql\n",
    "describe globalretail_bronze.bronze_products;"
   ]
  },
  {
   "cell_type": "code",
   "execution_count": 0,
   "metadata": {
    "application/vnd.databricks.v1+cell": {
     "cellMetadata": {
      "byteLimit": 2048000,
      "rowLimit": 10000
     },
     "inputWidgets": {},
     "nuid": "ab4a2fc4-9dc0-46a1-b441-483ba774f4d0",
     "showTitle": false,
     "tableResultSettingsMap": {},
     "title": ""
    }
   },
   "outputs": [],
   "source": [
    "spark.sql(\"USE globalretail_silver\")\n",
    "spark.sql(\"\"\"\n",
    "CREATE TABLE IF NOT EXISTS silver_products (\n",
    "    product_id STRING,\n",
    "    name STRING,\n",
    "    category STRING,\n",
    "    brand STRING,\n",
    "    price DOUBLE,\n",
    "    stock_quantity INT,\n",
    "    rating DOUBLE,\n",
    "    is_active BOOLEAN,\n",
    "    price_category STRING,\n",
    "    stock_status STRING,\n",
    "    last_updated TIMESTAMP\n",
    ")\n",
    "USING DELTA\n",
    "\"\"\")"
   ]
  },
  {
   "cell_type": "code",
   "execution_count": 0,
   "metadata": {
    "application/vnd.databricks.v1+cell": {
     "cellMetadata": {
      "byteLimit": 2048000,
      "implicitDf": true,
      "rowLimit": 10000
     },
     "inputWidgets": {},
     "nuid": "a9b23f7b-8c60-427a-ac9e-cb1db6cce68b",
     "showTitle": false,
     "tableResultSettingsMap": {},
     "title": ""
    }
   },
   "outputs": [],
   "source": [
    "%sql\n",
    "select table_name \n",
    "from workspace.information_schema.tables \n",
    "where table_schema = 'globalretail_silver'"
   ]
  },
  {
   "cell_type": "code",
   "execution_count": 0,
   "metadata": {
    "application/vnd.databricks.v1+cell": {
     "cellMetadata": {
      "byteLimit": 2048000,
      "implicitDf": true,
      "rowLimit": 10000
     },
     "inputWidgets": {},
     "nuid": "d41ffb79-fd70-40e3-87b4-eabaa64aae89",
     "showTitle": false,
     "tableResultSettingsMap": {},
     "title": ""
    }
   },
   "outputs": [],
   "source": [
    "%sql\n",
    "describe globalretail_silver.silver_products;"
   ]
  },
  {
   "cell_type": "code",
   "execution_count": 0,
   "metadata": {
    "application/vnd.databricks.v1+cell": {
     "cellMetadata": {
      "byteLimit": 2048000,
      "rowLimit": 10000
     },
     "inputWidgets": {},
     "nuid": "d67b0320-0b0f-4c3a-b61b-c4fa73a6e425",
     "showTitle": false,
     "tableResultSettingsMap": {},
     "title": ""
    }
   },
   "outputs": [],
   "source": [
    "# Get the last processed timestamp from silver layer\n",
    "last_processed_df = spark.sql(\"SELECT MAX(last_updated) as last_processed FROM silver_products\")\n",
    "last_processed_timestamp = last_processed_df.collect()[0]['last_processed']\n",
    "\n",
    "if last_processed_timestamp is None:\n",
    "    last_processed_timestamp = \"1900-01-01T00:00:00.000+00:00\""
   ]
  },
  {
   "cell_type": "code",
   "execution_count": 0,
   "metadata": {
    "application/vnd.databricks.v1+cell": {
     "cellMetadata": {
      "byteLimit": 2048000,
      "rowLimit": 10000
     },
     "inputWidgets": {},
     "nuid": "4f53c6c3-6342-4314-98ac-c74ab3f70ccb",
     "showTitle": false,
     "tableResultSettingsMap": {},
     "title": ""
    }
   },
   "outputs": [],
   "source": [
    "spark.sql(f\"\"\"\n",
    "CREATE OR REPLACE TEMPORARY VIEW bronze_incremental_products AS\n",
    "SELECT *\n",
    "FROM globalretail_bronze.bronze_products WHERE ingestion_timestamp > '{last_processed_timestamp}'\n",
    "\n",
    "\"\"\")"
   ]
  },
  {
   "cell_type": "code",
   "execution_count": 0,
   "metadata": {
    "application/vnd.databricks.v1+cell": {
     "cellMetadata": {
      "byteLimit": 2048000,
      "implicitDf": true,
      "rowLimit": 10000
     },
     "inputWidgets": {},
     "nuid": "7f826645-13dc-4be7-b1e6-e2bf3d7fe654",
     "showTitle": false,
     "tableResultSettingsMap": {},
     "title": ""
    }
   },
   "outputs": [],
   "source": [
    "%sql\n",
    "select *\n",
    "from bronze_incremental_products\n",
    "limit 10;"
   ]
  },
  {
   "cell_type": "markdown",
   "metadata": {
    "application/vnd.databricks.v1+cell": {
     "cellMetadata": {},
     "inputWidgets": {},
     "nuid": "e7218bcc-d27b-494e-a9ef-7df270e5bc5e",
     "showTitle": false,
     "tableResultSettingsMap": {},
     "title": ""
    }
   },
   "source": [
    "Data Transformations Criteria:\n",
    "   - Price normalization (setting negative prices to 0)\n",
    "   - Stock quantity normalization (setting negative stock to 0)\n",
    "   - Rating normalization (clamping between 0 and 5)\n",
    "   - Price categorization (Premium, Standard, Budget)\n",
    "   - Stock status calculation (Out of Stock, Low Stock, Moderate Stock, Sufficient Stock)\n"
   ]
  },
  {
   "cell_type": "code",
   "execution_count": 0,
   "metadata": {
    "application/vnd.databricks.v1+cell": {
     "cellMetadata": {
      "byteLimit": 2048000,
      "rowLimit": 10000
     },
     "inputWidgets": {},
     "nuid": "4310aa38-bfbc-4acf-a2e5-6c1f33d0f8af",
     "showTitle": false,
     "tableResultSettingsMap": {},
     "title": ""
    }
   },
   "outputs": [],
   "source": [
    "spark.sql(\"\"\"\n",
    "CREATE OR REPLACE TEMPORARY VIEW silver_incremental_products AS\n",
    "SELECT\n",
    "    product_id,\n",
    "    name,\n",
    "    category,\n",
    "    brand,\n",
    "    CASE\n",
    "        WHEN price < 0 THEN 0\n",
    "        ELSE price\n",
    "    END AS price,\n",
    "    CASE\n",
    "        WHEN stock_quantity < 0 THEN 0\n",
    "        ELSE stock_quantity\n",
    "    END AS stock_quantity,\n",
    "    CASE\n",
    "        WHEN rating < 0 THEN 0\n",
    "        WHEN rating > 5 THEN 5\n",
    "        ELSE rating\n",
    "    END AS rating,\n",
    "    is_active,\n",
    "    CASE\n",
    "        WHEN price > 1000 THEN 'Premium'\n",
    "        WHEN price > 100 THEN 'Standard'\n",
    "        ELSE 'Budget'\n",
    "    END AS price_category,\n",
    "    CASE\n",
    "        WHEN stock_quantity = 0 THEN 'Out of Stock'\n",
    "        WHEN stock_quantity < 10 THEN 'Low Stock'\n",
    "        WHEN stock_quantity < 50 THEN 'Moderate Stock'\n",
    "        ELSE 'Sufficient Stock'\n",
    "    END AS stock_status,\n",
    "    CURRENT_TIMESTAMP() AS last_updated\n",
    "FROM bronze_incremental_products\n",
    "WHERE name IS NOT NULL AND category IS NOT NULL\n",
    "\"\"\")"
   ]
  },
  {
   "cell_type": "code",
   "execution_count": 0,
   "metadata": {
    "application/vnd.databricks.v1+cell": {
     "cellMetadata": {
      "byteLimit": 2048000,
      "implicitDf": true,
      "rowLimit": 10000
     },
     "inputWidgets": {},
     "nuid": "33c3b617-cc26-4428-824e-1065b77542e7",
     "showTitle": false,
     "tableResultSettingsMap": {},
     "title": ""
    }
   },
   "outputs": [],
   "source": [
    "%sql\n",
    "select *\n",
    "from silver_incremental_products\n",
    "limit 10;"
   ]
  }
 ],
 "metadata": {
  "application/vnd.databricks.v1+notebook": {
   "computePreferences": {
    "hardware": {
     "accelerator": null,
     "gpuPoolId": null,
     "memory": null
    }
   },
   "dashboards": [],
   "environmentMetadata": {
    "base_environment": "",
    "environment_version": "3"
   },
   "inputWidgetPreferences": null,
   "language": "python",
   "notebookMetadata": {
    "mostRecentlyExecutedCommandWithImplicitDF": {
     "commandId": 8275334835087462,
     "dataframes": [
      "_sqldf"
     ]
    },
    "pythonIndentUnit": 4
   },
   "notebookName": "Silver_layer_products_load",
   "widgets": {}
  },
  "language_info": {
   "name": "python"
  }
 },
 "nbformat": 4,
 "nbformat_minor": 0
}
