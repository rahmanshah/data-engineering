{
 "cells": [
  {
   "cell_type": "code",
   "execution_count": 0,
   "metadata": {
    "application/vnd.databricks.v1+cell": {
     "cellMetadata": {
      "byteLimit": 2048000,
      "rowLimit": 10000
     },
     "inputWidgets": {},
     "nuid": "e74849a8-f4d7-4f4d-99da-bed72a2a2c0c",
     "showTitle": true,
     "tableResultSettingsMap": {},
     "title": "df"
    }
   },
   "outputs": [],
   "source": [
    "# sample data with region, product, quantity\n",
    "data = [\n",
    "    (\"North\",\"Laptop\",10),\n",
    "    (\"North\",\"Tablet\",20),\n",
    "    (\"North\",\"Phone\",15),\n",
    "    (\"South\",\"Laptop\",30),\n",
    "    (\"South\",\"Tablet\",40),\n",
    "    (\"South\",\"Phone\",25),\n",
    "    (\"East\",\"Laptop\",50),\n",
    "    (\"East\",\"Tablet\",60),\n",
    "    (\"East\",\"Phone\",35),\n",
    "    (\"West\",\"Laptop\",70),\n",
    "    (\"West\",\"Phone\",45),\n",
    "    (\"West\",\"Tablet\",55)\n",
    "    ]\n",
    "columns = [\"region\",\"product\",\"qty\"]\n",
    "df = spark.createDataFrame(data,columns)\n",
    "display(df)"
   ]
  },
  {
   "cell_type": "code",
   "execution_count": 0,
   "metadata": {
    "application/vnd.databricks.v1+cell": {
     "cellMetadata": {
      "byteLimit": 2048000,
      "rowLimit": 10000
     },
     "inputWidgets": {},
     "nuid": "f9ced34f-5a73-47d9-bff0-6f0c095f5087",
     "showTitle": true,
     "tableResultSettingsMap": {},
     "title": "df1"
    }
   },
   "outputs": [],
   "source": [
    "df1 = df.groupBy(\"region\").pivot(\"product\").sum(\"qty\")\n",
    "df1.display()"
   ]
  },
  {
   "cell_type": "code",
   "execution_count": 0,
   "metadata": {
    "application/vnd.databricks.v1+cell": {
     "cellMetadata": {
      "byteLimit": 2048000,
      "rowLimit": 10000
     },
     "inputWidgets": {},
     "nuid": "6f72e889-f869-4693-b1e6-399fd37ddee8",
     "showTitle": false,
     "tableResultSettingsMap": {},
     "title": ""
    }
   },
   "outputs": [],
   "source": [
    "from pyspark.sql.functions import expr\n",
    "\n",
    "df1_unpivoted = df1.selectExpr(\n",
    "    \"region\",\n",
    "    \"stack(3, 'Laptop', Laptop, 'Phone', Phone, 'Tablet', Tablet) as (product, qty)\"\n",
    ")\n",
    "display(df1_unpivoted)"
   ]
  }
 ],
 "metadata": {
  "application/vnd.databricks.v1+notebook": {
   "computePreferences": null,
   "dashboards": [],
   "environmentMetadata": {
    "base_environment": "",
    "environment_version": "4"
   },
   "inputWidgetPreferences": null,
   "language": "python",
   "notebookMetadata": {
    "pythonIndentUnit": 4
   },
   "notebookName": "pivot-unpivot",
   "widgets": {}
  },
  "language_info": {
   "name": "python"
  }
 },
 "nbformat": 4,
 "nbformat_minor": 0
}
