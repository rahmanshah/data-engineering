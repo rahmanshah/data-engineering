{
 "cells": [
  {
   "cell_type": "code",
   "execution_count": 0,
   "metadata": {
    "application/vnd.databricks.v1+cell": {
     "cellMetadata": {
      "byteLimit": 2048000,
      "rowLimit": 10000
     },
     "inputWidgets": {},
     "nuid": "3807ca82-8d8d-43ac-8627-f8e552ae84fb",
     "showTitle": true,
     "tableResultSettingsMap": {
      "0": {
       "dataGridStateBlob": "{\"version\":1,\"tableState\":{\"columnPinning\":{\"left\":[\"#row_number#\"],\"right\":[]},\"columnSizing\":{},\"columnVisibility\":{}},\"settings\":{\"columns\":{}},\"syncTimestamp\":1760688721170}",
       "filterBlob": null,
       "queryPlanFiltersBlob": null,
       "tableResultIndex": 0
      }
     },
     "title": "emp_df"
    }
   },
   "outputs": [],
   "source": [
    "emp_data = [\n",
    "    (1,'Alice',1),\n",
    "    (2,'Bob',2),\n",
    "    (3,'Charlie',3),\n",
    "    (4,'David',5)\n",
    "]\n",
    "emp_columns = ['id','name','dept_id']\n",
    "emp_df = spark.createDataFrame(data=emp_data, schema=emp_columns)\n",
    "display(emp_df)"
   ]
  },
  {
   "cell_type": "code",
   "execution_count": 0,
   "metadata": {
    "application/vnd.databricks.v1+cell": {
     "cellMetadata": {
      "byteLimit": 2048000,
      "rowLimit": 10000
     },
     "inputWidgets": {},
     "nuid": "9491af35-a066-4c42-9685-baebd7cd4478",
     "showTitle": true,
     "tableResultSettingsMap": {},
     "title": "dept_df"
    }
   },
   "outputs": [],
   "source": [
    "dept_data = [\n",
    "    (1,'HR'),\n",
    "    (2,'IT'),\n",
    "    (3,'Finance'),\n",
    "    (4,'Marketing')\n",
    "]\n",
    "dept_columns = ['dept_id','dept_name']\n",
    "dept_df = spark.createDataFrame(data=dept_data, schema=dept_columns)\n",
    "display(dept_df)"
   ]
  },
  {
   "cell_type": "code",
   "execution_count": 0,
   "metadata": {
    "application/vnd.databricks.v1+cell": {
     "cellMetadata": {
      "byteLimit": 2048000,
      "rowLimit": 10000
     },
     "inputWidgets": {},
     "nuid": "793cfe4d-b66b-4db2-bdb6-3f70521938bd",
     "showTitle": true,
     "tableResultSettingsMap": {},
     "title": "inner join"
    }
   },
   "outputs": [],
   "source": [
    "emp_df.join(dept_df, emp_df.dept_id == dept_df.dept_id, 'inner').display()"
   ]
  },
  {
   "cell_type": "code",
   "execution_count": 0,
   "metadata": {
    "application/vnd.databricks.v1+cell": {
     "cellMetadata": {
      "byteLimit": 2048000,
      "rowLimit": 10000
     },
     "inputWidgets": {},
     "nuid": "15c9972c-8c34-436f-b384-63129d22c9b1",
     "showTitle": true,
     "tableResultSettingsMap": {},
     "title": "left join"
    }
   },
   "outputs": [],
   "source": [
    "emp_df.join(dept_df, emp_df.dept_id == dept_df.dept_id, 'left').display()"
   ]
  },
  {
   "cell_type": "code",
   "execution_count": 0,
   "metadata": {
    "application/vnd.databricks.v1+cell": {
     "cellMetadata": {
      "byteLimit": 2048000,
      "rowLimit": 10000
     },
     "inputWidgets": {},
     "nuid": "0d257902-4af9-450a-96ac-de9e92598519",
     "showTitle": true,
     "tableResultSettingsMap": {},
     "title": "right join"
    }
   },
   "outputs": [],
   "source": [
    "emp_df.join(dept_df, emp_df.dept_id == dept_df.dept_id, 'right').display()"
   ]
  },
  {
   "cell_type": "code",
   "execution_count": 0,
   "metadata": {
    "application/vnd.databricks.v1+cell": {
     "cellMetadata": {
      "byteLimit": 2048000,
      "rowLimit": 10000
     },
     "inputWidgets": {},
     "nuid": "3c90d9bd-b6f4-4dae-944b-7c5800b6ded3",
     "showTitle": true,
     "tableResultSettingsMap": {},
     "title": "full outer join"
    }
   },
   "outputs": [],
   "source": [
    "emp_df.join(dept_df, emp_df.dept_id == dept_df.dept_id, 'outer').display()"
   ]
  },
  {
   "cell_type": "code",
   "execution_count": 0,
   "metadata": {
    "application/vnd.databricks.v1+cell": {
     "cellMetadata": {
      "byteLimit": 2048000,
      "rowLimit": 10000
     },
     "inputWidgets": {},
     "nuid": "8717847c-99d7-4426-a389-0c3925e74e62",
     "showTitle": true,
     "tableResultSettingsMap": {},
     "title": "left sami join"
    }
   },
   "outputs": [],
   "source": [
    "emp_df.join(dept_df, emp_df.dept_id == dept_df.dept_id, 'left_semi').display()"
   ]
  },
  {
   "cell_type": "code",
   "execution_count": 0,
   "metadata": {
    "application/vnd.databricks.v1+cell": {
     "cellMetadata": {
      "byteLimit": 2048000,
      "rowLimit": 10000
     },
     "inputWidgets": {},
     "nuid": "4e829fc1-2272-4216-a2d6-bb1b16d9c9c2",
     "showTitle": true,
     "tableResultSettingsMap": {},
     "title": "left anti join"
    }
   },
   "outputs": [],
   "source": [
    "emp_df.join(dept_df, emp_df.dept_id == dept_df.dept_id, 'left_anti').display()"
   ]
  },
  {
   "cell_type": "code",
   "execution_count": 0,
   "metadata": {
    "application/vnd.databricks.v1+cell": {
     "cellMetadata": {
      "byteLimit": 2048000,
      "rowLimit": 10000
     },
     "inputWidgets": {},
     "nuid": "24727f6e-4585-417d-9121-ea471c85076c",
     "showTitle": true,
     "tableResultSettingsMap": {},
     "title": "right outer join"
    }
   },
   "outputs": [],
   "source": [
    "emp_df.join(dept_df, emp_df.dept_id == dept_df.dept_id, 'right_outer').display()"
   ]
  },
  {
   "cell_type": "code",
   "execution_count": 0,
   "metadata": {
    "application/vnd.databricks.v1+cell": {
     "cellMetadata": {
      "byteLimit": 2048000,
      "rowLimit": 10000
     },
     "inputWidgets": {},
     "nuid": "60306000-9472-4237-b5db-3f3cde7a2cb8",
     "showTitle": true,
     "tableResultSettingsMap": {},
     "title": "left outer join"
    }
   },
   "outputs": [],
   "source": [
    "emp_df.join(dept_df, emp_df.dept_id == dept_df.dept_id, 'left_outer').display()"
   ]
  }
 ],
 "metadata": {
  "application/vnd.databricks.v1+notebook": {
   "computePreferences": null,
   "dashboards": [],
   "environmentMetadata": {
    "base_environment": "",
    "environment_version": "4"
   },
   "inputWidgetPreferences": null,
   "language": "python",
   "notebookMetadata": {
    "pythonIndentUnit": 4
   },
   "notebookName": "join",
   "widgets": {}
  },
  "language_info": {
   "name": "python"
  }
 },
 "nbformat": 4,
 "nbformat_minor": 0
}
