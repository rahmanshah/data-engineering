{
 "cells": [
  {
   "cell_type": "code",
   "execution_count": 0,
   "metadata": {
    "application/vnd.databricks.v1+cell": {
     "cellMetadata": {
      "byteLimit": 2048000,
      "rowLimit": 10000
     },
     "inputWidgets": {},
     "nuid": "0227f74f-f882-49ea-a39b-714577992ab4",
     "showTitle": true,
     "tableResultSettingsMap": {},
     "title": "df"
    }
   },
   "outputs": [],
   "source": [
    "data = [\n",
    "    ('John','Sales',10000),\n",
    "    ('Mary','Sales',20000),\n",
    "    ('Steve','IT',30000),\n",
    "    ('Sara','IT',40000),\n",
    "    ('Paul','Marketing',50000),\n",
    "    ('Sue','Marketing',60000),\n",
    "    ('Mike','Engineering',70000),\n",
    "    ('Jane','Engineering',70000),\n",
    "    ('Bill','Engineering',90000),\n",
    "    ('Mary','Engineering',100000),\n",
    "    ('John','Engineering',110000),\n",
    "    ('Mary','Engineering',120000),\n",
    "    ('Steve','Engineering',120000),\n",
    "    ('Sara','Engineering',140000)\n",
    "]\n",
    "columns= ['name','dept','salary']\n",
    "df = spark.createDataFrame(data,columns)\n",
    "display(df)"
   ]
  },
  {
   "cell_type": "code",
   "execution_count": 0,
   "metadata": {
    "application/vnd.databricks.v1+cell": {
     "cellMetadata": {
      "byteLimit": 2048000,
      "rowLimit": 10000
     },
     "inputWidgets": {},
     "nuid": "ab5b7f7d-a75c-483c-8031-dfffdebbb013",
     "showTitle": false,
     "tableResultSettingsMap": {},
     "title": ""
    }
   },
   "outputs": [],
   "source": [
    "df.createOrReplaceTempView(\"employees\")"
   ]
  },
  {
   "cell_type": "code",
   "execution_count": 0,
   "metadata": {
    "application/vnd.databricks.v1+cell": {
     "cellMetadata": {
      "byteLimit": 2048000,
      "implicitDf": true,
      "rowLimit": 10000
     },
     "inputWidgets": {},
     "nuid": "ed9375dc-c7f9-4b33-8942-2e095161d75f",
     "showTitle": false,
     "tableResultSettingsMap": {},
     "title": ""
    }
   },
   "outputs": [],
   "source": [
    "%sql\n",
    "select * from employees;"
   ]
  },
  {
   "cell_type": "code",
   "execution_count": 0,
   "metadata": {
    "application/vnd.databricks.v1+cell": {
     "cellMetadata": {
      "byteLimit": 2048000,
      "implicitDf": true,
      "rowLimit": 10000
     },
     "inputWidgets": {},
     "nuid": "d654b7f3-4ff3-41a5-b1fd-4c8c4ddb65c4",
     "showTitle": true,
     "tableResultSettingsMap": {},
     "title": "row number using sql"
    }
   },
   "outputs": [],
   "source": [
    "%sql\n",
    "select *, row_number() over(partition by dept order by salary desc) as rn from employees;"
   ]
  },
  {
   "cell_type": "code",
   "execution_count": 0,
   "metadata": {
    "application/vnd.databricks.v1+cell": {
     "cellMetadata": {
      "byteLimit": 2048000,
      "rowLimit": 10000
     },
     "inputWidgets": {},
     "nuid": "3cd02162-2df7-49ff-805e-b27471455deb",
     "showTitle": true,
     "tableResultSettingsMap": {
      "0": {
       "dataGridStateBlob": "{\"version\":1,\"tableState\":{\"columnPinning\":{\"left\":[\"#row_number#\"],\"right\":[]},\"columnSizing\":{},\"columnVisibility\":{}},\"settings\":{\"columns\":{}},\"syncTimestamp\":1760771570830}",
       "filterBlob": null,
       "queryPlanFiltersBlob": null,
       "tableResultIndex": 0
      }
     },
     "title": "row number using pyspark"
    }
   },
   "outputs": [],
   "source": [
    "from pyspark.sql.functions import *\n",
    "from pyspark.sql.window import Window\n",
    "\n",
    "w = Window.partitionBy(\"dept\").orderBy(col(\"salary\").desc())\n",
    "df.withColumn(\"rank by row_number\", row_number().over(w)).display()\n",
    "#df.withColumnRenamed(\"rank\",\"rank by row_number\").display()"
   ]
  },
  {
   "cell_type": "code",
   "execution_count": 0,
   "metadata": {
    "application/vnd.databricks.v1+cell": {
     "cellMetadata": {
      "byteLimit": 2048000,
      "rowLimit": 10000
     },
     "inputWidgets": {},
     "nuid": "321ffda5-3c1a-41af-93bf-3ec5cb954d9f",
     "showTitle": true,
     "tableResultSettingsMap": {},
     "title": "rank using pyspark"
    }
   },
   "outputs": [],
   "source": [
    "from pyspark.sql.functions import *\n",
    "from pyspark.sql.window import Window\n",
    "\n",
    "w = Window.partitionBy(\"dept\").orderBy(col(\"salary\").desc())\n",
    "df.withColumn(\"rank by rank\", rank().over(w)).display()"
   ]
  },
  {
   "cell_type": "code",
   "execution_count": 0,
   "metadata": {
    "application/vnd.databricks.v1+cell": {
     "cellMetadata": {
      "byteLimit": 2048000,
      "rowLimit": 10000
     },
     "inputWidgets": {},
     "nuid": "f5e12071-4af4-4414-9e82-e1bc6857dea1",
     "showTitle": true,
     "tableResultSettingsMap": {
      "0": {
       "dataGridStateBlob": "{\"version\":1,\"tableState\":{\"columnPinning\":{\"left\":[\"#row_number#\"],\"right\":[]},\"columnSizing\":{},\"columnVisibility\":{}},\"settings\":{\"columns\":{}},\"syncTimestamp\":1760772985083}",
       "filterBlob": null,
       "queryPlanFiltersBlob": null,
       "tableResultIndex": 0
      }
     },
     "title": "dense_rank using pyspark"
    }
   },
   "outputs": [],
   "source": [
    "from pyspark.sql.functions import *\n",
    "from pyspark.sql.window import Window\n",
    "\n",
    "w = Window.partitionBy(\"dept\").orderBy(col(\"salary\").desc())\n",
    "df.withColumn(\"rank by dense_rank\", dense_rank().over(w)).display()"
   ]
  },
  {
   "cell_type": "code",
   "execution_count": 0,
   "metadata": {
    "application/vnd.databricks.v1+cell": {
     "cellMetadata": {
      "byteLimit": 2048000,
      "rowLimit": 10000
     },
     "inputWidgets": {},
     "nuid": "9d1f9ce0-d7fd-4def-8a72-a04e74123041",
     "showTitle": true,
     "tableResultSettingsMap": {},
     "title": "lag using pyspark"
    }
   },
   "outputs": [],
   "source": [
    "from pyspark.sql.functions import *\n",
    "from pyspark.sql.window import Window\n",
    "\n",
    "w = Window.partitionBy(\"dept\").orderBy(col(\"salary\").desc())\n",
    "df.withColumn(\"rank\", lag(\"salary\", 1).over(w)).display()"
   ]
  }
 ],
 "metadata": {
  "application/vnd.databricks.v1+notebook": {
   "computePreferences": null,
   "dashboards": [],
   "environmentMetadata": {
    "base_environment": "",
    "environment_version": "4"
   },
   "inputWidgetPreferences": null,
   "language": "python",
   "notebookMetadata": {
    "mostRecentlyExecutedCommandWithImplicitDF": {
     "commandId": 8075672627822299,
     "dataframes": [
      "_sqldf"
     ]
    },
    "pythonIndentUnit": 4
   },
   "notebookName": "window functions",
   "widgets": {}
  },
  "language_info": {
   "name": "python"
  }
 },
 "nbformat": 4,
 "nbformat_minor": 0
}
