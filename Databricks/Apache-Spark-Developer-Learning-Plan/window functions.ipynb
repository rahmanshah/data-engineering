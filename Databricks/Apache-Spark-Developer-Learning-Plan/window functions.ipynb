{
 "cells": [
  {
   "cell_type": "code",
   "execution_count": 0,
   "metadata": {
    "application/vnd.databricks.v1+cell": {
     "cellMetadata": {
      "byteLimit": 2048000,
      "rowLimit": 10000
     },
     "inputWidgets": {},
     "nuid": "0227f74f-f882-49ea-a39b-714577992ab4",
     "showTitle": true,
     "tableResultSettingsMap": {},
     "title": "df"
    }
   },
   "outputs": [],
   "source": [
    "data = [\n",
    "    ('John','Sales',10000),\n",
    "    ('Mary','Sales',20000),\n",
    "    ('Steve','IT',30000),\n",
    "    ('Sara','IT',40000),\n",
    "    ('Paul','Marketing',50000),\n",
    "    ('Sue','Marketing',60000),\n",
    "    ('Mike','Engineering',70000),\n",
    "    ('Jane','Engineering',80000),\n",
    "    ('Bill','Engineering',90000),\n",
    "    ('Mary','Engineering',100000),\n",
    "    ('John','Engineering',110000),\n",
    "    ('Mary','Engineering',120000),\n",
    "    ('Steve','Engineering',130000),\n",
    "    ('Sara','Engineering',140000)\n",
    "]\n",
    "columns= ['name','dept','salary']\n",
    "df = spark.createDataFrame(data,columns)\n",
    "display(df)"
   ]
  },
  {
   "cell_type": "code",
   "execution_count": 0,
   "metadata": {
    "application/vnd.databricks.v1+cell": {
     "cellMetadata": {
      "byteLimit": 2048000,
      "rowLimit": 10000
     },
     "inputWidgets": {},
     "nuid": "ab5b7f7d-a75c-483c-8031-dfffdebbb013",
     "showTitle": false,
     "tableResultSettingsMap": {},
     "title": ""
    }
   },
   "outputs": [],
   "source": [
    "df.createOrReplaceTempView(\"employees\")"
   ]
  },
  {
   "cell_type": "code",
   "execution_count": 0,
   "metadata": {
    "application/vnd.databricks.v1+cell": {
     "cellMetadata": {
      "byteLimit": 2048000,
      "implicitDf": true,
      "rowLimit": 10000
     },
     "inputWidgets": {},
     "nuid": "ed9375dc-c7f9-4b33-8942-2e095161d75f",
     "showTitle": false,
     "tableResultSettingsMap": {},
     "title": ""
    }
   },
   "outputs": [],
   "source": [
    "%sql\n",
    "select * from employees;"
   ]
  },
  {
   "cell_type": "code",
   "execution_count": 0,
   "metadata": {
    "application/vnd.databricks.v1+cell": {
     "cellMetadata": {
      "byteLimit": 2048000,
      "implicitDf": true,
      "rowLimit": 10000
     },
     "inputWidgets": {},
     "nuid": "d654b7f3-4ff3-41a5-b1fd-4c8c4ddb65c4",
     "showTitle": false,
     "tableResultSettingsMap": {},
     "title": ""
    }
   },
   "outputs": [],
   "source": [
    "%sql\n",
    "select *, row_number() over(partition by dept order by salary desc) as rn from employees;"
   ]
  }
 ],
 "metadata": {
  "application/vnd.databricks.v1+notebook": {
   "computePreferences": null,
   "dashboards": [],
   "environmentMetadata": {
    "base_environment": "",
    "environment_version": "4"
   },
   "inputWidgetPreferences": null,
   "language": "python",
   "notebookMetadata": {
    "mostRecentlyExecutedCommandWithImplicitDF": {
     "commandId": 8075672627822299,
     "dataframes": [
      "_sqldf"
     ]
    },
    "pythonIndentUnit": 4
   },
   "notebookName": "window functions",
   "widgets": {}
  },
  "language_info": {
   "name": "python"
  }
 },
 "nbformat": 4,
 "nbformat_minor": 0
}
