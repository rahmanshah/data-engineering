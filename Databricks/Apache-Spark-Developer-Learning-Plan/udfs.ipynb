{
 "cells": [
  {
   "cell_type": "code",
   "execution_count": 0,
   "metadata": {
    "application/vnd.databricks.v1+cell": {
     "cellMetadata": {
      "byteLimit": 2048000,
      "rowLimit": 10000
     },
     "inputWidgets": {},
     "nuid": "85bb53d4-6b76-4c66-b412-bab9727eb047",
     "showTitle": false,
     "tableResultSettingsMap": {},
     "title": ""
    }
   },
   "outputs": [],
   "source": [
    "# Sample data\n",
    "data = [\n",
    "    (1,'alice',10),\n",
    "    (2,'bob',20),\n",
    "    (3,'charlie',30),\n",
    "    (4,'david',40),\n",
    "    (5,'eve',50),\n",
    "    (6,'frank',60),\n",
    "    (7,'george',70),\n",
    "    (8,'hannah',80),\n",
    "    (9,'ian',90)\n",
    "]\n",
    "columns = ['id','name','age']\n",
    "df = spark.createDataFrame(data,columns)\n",
    "display(df)"
   ]
  },
  {
   "cell_type": "code",
   "execution_count": 0,
   "metadata": {
    "application/vnd.databricks.v1+cell": {
     "cellMetadata": {
      "byteLimit": 2048000,
      "rowLimit": 10000
     },
     "inputWidgets": {},
     "nuid": "09bb868f-1cae-4d7a-95fe-92f64d8dc6e3",
     "showTitle": false,
     "tableResultSettingsMap": {},
     "title": ""
    }
   },
   "outputs": [],
   "source": [
    "def age_group(age):\n",
    "    if age < 18:\n",
    "        return 'minor'\n",
    "    elif age < 65:\n",
    "        return 'adult'\n",
    "    else:\n",
    "        return 'senior'"
   ]
  },
  {
   "cell_type": "code",
   "execution_count": 0,
   "metadata": {
    "application/vnd.databricks.v1+cell": {
     "cellMetadata": {
      "byteLimit": 2048000,
      "rowLimit": 10000
     },
     "inputWidgets": {},
     "nuid": "9fe6c2f9-2ed2-4806-b40b-4848858dc4ab",
     "showTitle": false,
     "tableResultSettingsMap": {},
     "title": ""
    }
   },
   "outputs": [],
   "source": [
    "from pyspark.sql.functions import udf\n",
    "from pyspark.sql.types import StringType\n",
    "\n",
    "age_group_udf = udf(age_group, StringType())\n",
    "df = df.withColumn(\"age_group\", age_group_udf(df.age))\n",
    "display(df)"
   ]
  }
 ],
 "metadata": {
  "application/vnd.databricks.v1+notebook": {
   "computePreferences": null,
   "dashboards": [],
   "environmentMetadata": {
    "base_environment": "",
    "environment_version": "4"
   },
   "inputWidgetPreferences": null,
   "language": "python",
   "notebookMetadata": {
    "pythonIndentUnit": 4
   },
   "notebookName": "udfs",
   "widgets": {}
  },
  "language_info": {
   "name": "python"
  }
 },
 "nbformat": 4,
 "nbformat_minor": 0
}
