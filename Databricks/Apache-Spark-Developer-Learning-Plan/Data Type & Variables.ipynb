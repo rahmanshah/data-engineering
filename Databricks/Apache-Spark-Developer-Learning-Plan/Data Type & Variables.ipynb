{
 "cells": [
  {
   "cell_type": "markdown",
   "metadata": {
    "application/vnd.databricks.v1+cell": {
     "cellMetadata": {},
     "inputWidgets": {},
     "nuid": "7b1cea23-076c-4446-8241-11e62e15d3ea",
     "showTitle": false,
     "tableResultSettingsMap": {},
     "title": ""
    }
   },
   "source": [
    "Calculation"
   ]
  },
  {
   "cell_type": "code",
   "execution_count": 0,
   "metadata": {
    "application/vnd.databricks.v1+cell": {
     "cellMetadata": {
      "byteLimit": 2048000,
      "rowLimit": 10000
     },
     "inputWidgets": {},
     "nuid": "78db6268-0efa-4e1b-9ff3-7a03ef2fb4c8",
     "showTitle": false,
     "tableResultSettingsMap": {},
     "title": ""
    }
   },
   "outputs": [],
   "source": [
    "1+1"
   ]
  },
  {
   "cell_type": "markdown",
   "metadata": {
    "application/vnd.databricks.v1+cell": {
     "cellMetadata": {},
     "inputWidgets": {},
     "nuid": "9d61a22f-68b4-4af9-aa68-e0a904a522ba",
     "showTitle": false,
     "tableResultSettingsMap": {},
     "title": ""
    }
   },
   "source": [
    "Comment"
   ]
  },
  {
   "cell_type": "code",
   "execution_count": 0,
   "metadata": {
    "application/vnd.databricks.v1+cell": {
     "cellMetadata": {
      "byteLimit": 2048000,
      "rowLimit": 10000
     },
     "inputWidgets": {},
     "nuid": "c04e9453-f8ab-44c7-9e38-2be47a0aa0d1",
     "showTitle": false,
     "tableResultSettingsMap": {},
     "title": ""
    }
   },
   "outputs": [],
   "source": [
    "# This is the first line of code\n",
    "1+1"
   ]
  },
  {
   "cell_type": "markdown",
   "metadata": {
    "application/vnd.databricks.v1+cell": {
     "cellMetadata": {},
     "inputWidgets": {},
     "nuid": "302e5f81-bd7a-4c2e-b132-254418764282",
     "showTitle": false,
     "tableResultSettingsMap": {},
     "title": ""
    }
   },
   "source": [
    "Data Types\n",
    "- Integer: Represents whole numbers; supports arithmetic operations such as addition (+), subtraction (-), multiplication (*), and division (/).\n",
    "- Float: Represents decimal numbers; supports arithmetic operations such as addition (+), subtraction (-), multiplication (*), and division (/).\n",
    "- String: Represents text, defined by characters enclosed in single ('') or double (\"\") quotes; supports operations such as concatenation using the + operator.\n",
    "- Boolean: Represents logical values, either True or False; used in logical operations and expressions."
   ]
  },
  {
   "cell_type": "code",
   "execution_count": 0,
   "metadata": {
    "application/vnd.databricks.v1+cell": {
     "cellMetadata": {
      "byteLimit": 2048000,
      "rowLimit": 10000
     },
     "inputWidgets": {},
     "nuid": "6685c044-a52e-40c4-99bb-0eee319376d0",
     "showTitle": false,
     "tableResultSettingsMap": {},
     "title": ""
    }
   },
   "outputs": [],
   "source": [
    "# Integer Type\n",
    "5+6-1*2"
   ]
  },
  {
   "cell_type": "code",
   "execution_count": 0,
   "metadata": {
    "application/vnd.databricks.v1+cell": {
     "cellMetadata": {
      "byteLimit": 2048000,
      "rowLimit": 10000
     },
     "inputWidgets": {},
     "nuid": "758c7893-6597-4818-b603-d680aadd15d8",
     "showTitle": false,
     "tableResultSettingsMap": {},
     "title": ""
    }
   },
   "outputs": [],
   "source": [
    "# Float Type\n",
    "1.2*2.5+1.0/2.0"
   ]
  },
  {
   "cell_type": "code",
   "execution_count": 0,
   "metadata": {
    "application/vnd.databricks.v1+cell": {
     "cellMetadata": {
      "byteLimit": 2048000,
      "rowLimit": 10000
     },
     "inputWidgets": {},
     "nuid": "0e5d699d-ce88-4299-b85c-f5ff0cda94ef",
     "showTitle": false,
     "tableResultSettingsMap": {},
     "title": ""
    }
   },
   "outputs": [],
   "source": [
    "# String Type\n",
    "\"Hello\"+\" \"+\"World\""
   ]
  },
  {
   "cell_type": "code",
   "execution_count": 0,
   "metadata": {
    "application/vnd.databricks.v1+cell": {
     "cellMetadata": {
      "byteLimit": 2048000,
      "rowLimit": 10000
     },
     "inputWidgets": {},
     "nuid": "945801a4-8bd0-473f-8d83-42958e7dae47",
     "showTitle": false,
     "tableResultSettingsMap": {},
     "title": ""
    }
   },
   "outputs": [],
   "source": [
    "# Boolean Type\n",
    "print(True and False)  # False\n",
    "print(True or False)   # True\n",
    "print(not True)        # False"
   ]
  },
  {
   "cell_type": "markdown",
   "metadata": {
    "application/vnd.databricks.v1+cell": {
     "cellMetadata": {},
     "inputWidgets": {},
     "nuid": "a35e094f-9c2e-4023-9200-5bc8a6fbb246",
     "showTitle": false,
     "tableResultSettingsMap": {},
     "title": ""
    }
   },
   "source": [
    "To determine the data type of a value, utilize the `type()` function."
   ]
  },
  {
   "cell_type": "markdown",
   "metadata": {
    "application/vnd.databricks.v1+cell": {
     "cellMetadata": {
      "byteLimit": 2048000,
      "rowLimit": 10000
     },
     "inputWidgets": {},
     "nuid": "79d9b3c6-4403-4c93-bbb3-10dfde236ae0",
     "showTitle": false,
     "tableResultSettingsMap": {},
     "title": ""
    }
   },
   "source": [
    "### Variables in Python\n",
    "\n",
    "#### A variable is a named location used to store data in memory. Variables allow you to reference and manipulate data throughout your code. In Python, you do not need to declare the data type of a variable explicitly; it is inferred from the value assigned.\n",
    "\n",
    "### Example:\n",
    "##### x = 10      # Integer variable\n",
    "##### y = 3.14    # Float variable\n",
    "##### name = \"Alice\"  # String variable\n",
    "##### is_valid = True # Boolean variable\n",
    "\n",
    "##### - Variable names must start with a letter or underscore (_).\n",
    "##### - Variable names are case-sensitive.\n",
    "##### - Use descriptive names to make your code more readable."
   ]
  },
  {
   "cell_type": "markdown",
   "metadata": {
    "application/vnd.databricks.v1+cell": {
     "cellMetadata": {},
     "inputWidgets": {},
     "nuid": "b2dc431e-e866-4976-868f-2eb954615e6c",
     "showTitle": false,
     "tableResultSettingsMap": {},
     "title": ""
    }
   },
   "source": [
    "##### In Spark, when running code on a cluster, variables used inside distributed operations (like map or reduce) are copied to each worker node. \n",
    "##### Updates to these variables on the workers are not reflected back to the driver program. \n",
    "##### To share read-only data efficiently across nodes, use broadcast variables. \n",
    "##### For aggregating values from workers, use accumulators. \n",
    "##### Avoid relying on mutable variable state across the cluster, as changes are not synchronized."
   ]
  }
 ],
 "metadata": {
  "application/vnd.databricks.v1+notebook": {
   "computePreferences": null,
   "dashboards": [],
   "environmentMetadata": {
    "base_environment": "",
    "environment_version": "3"
   },
   "inputWidgetPreferences": null,
   "language": "python",
   "notebookMetadata": {
    "pythonIndentUnit": 4
   },
   "notebookName": "Data Type & Variables",
   "widgets": {}
  },
  "language_info": {
   "name": "python"
  }
 },
 "nbformat": 4,
 "nbformat_minor": 0
}
