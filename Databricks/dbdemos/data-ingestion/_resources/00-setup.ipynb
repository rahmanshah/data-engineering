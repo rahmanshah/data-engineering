{
 "cells": [
  {
   "cell_type": "code",
   "execution_count": 0,
   "metadata": {
    "application/vnd.databricks.v1+cell": {
     "cellMetadata": {},
     "inputWidgets": {},
     "nuid": "3c3ec5be-a715-43c0-8704-014147133ddd",
     "showTitle": false,
     "tableResultSettingsMap": {},
     "title": ""
    }
   },
   "outputs": [],
   "source": [
    "dbutils.widgets.dropdown(\"reset_all_data\", \"false\", [\"true\", \"false\"], \"Reset all data\")\n",
    "reset_all_data = dbutils.widgets.get(\"reset_all_data\") == \"true\""
   ]
  },
  {
   "cell_type": "code",
   "execution_count": 0,
   "metadata": {
    "application/vnd.databricks.v1+cell": {
     "cellMetadata": {},
     "inputWidgets": {},
     "nuid": "a689477a-2039-49c1-a928-a6acbbb3bb16",
     "showTitle": false,
     "tableResultSettingsMap": {},
     "title": ""
    }
   },
   "outputs": [],
   "source": [
    "catalog = \"main\"\n",
    "schema = dbName = db = \"dbdemos_data_ingestion\"\n",
    "\n",
    "volume_name = \"raw_data\""
   ]
  },
  {
   "cell_type": "code",
   "execution_count": 0,
   "metadata": {
    "application/vnd.databricks.v1+cell": {
     "cellMetadata": {},
     "inputWidgets": {},
     "nuid": "d8dff114-3993-4cb6-a7ac-95ae72eba82f",
     "showTitle": false,
     "tableResultSettingsMap": {},
     "title": ""
    },
    "jupyter": {
     "outputs_hidden": true
    }
   },
   "outputs": [],
   "source": [
    "%run ./00-global-setup-v2"
   ]
  },
  {
   "cell_type": "code",
   "execution_count": 0,
   "metadata": {
    "application/vnd.databricks.v1+cell": {
     "cellMetadata": {},
     "inputWidgets": {},
     "nuid": "72a2039b-7390-4b55-8712-6e5c173abe01",
     "showTitle": false,
     "tableResultSettingsMap": {},
     "title": ""
    }
   },
   "outputs": [],
   "source": [
    "DBDemos.setup_schema(catalog, db, reset_all_data, volume_name)\n",
    "volume_folder =  f\"/Volumes/{catalog}/{db}/{volume_name}\""
   ]
  },
  {
   "cell_type": "code",
   "execution_count": 0,
   "metadata": {
    "application/vnd.databricks.v1+cell": {
     "cellMetadata": {},
     "inputWidgets": {},
     "nuid": "fe28aeef-060f-4832-bb91-9ccedc83b08e",
     "showTitle": false,
     "tableResultSettingsMap": {},
     "title": ""
    }
   },
   "outputs": [],
   "source": [
    "import time\n",
    "def get_chkp_folder():\n",
    "    import random\n",
    "    import string\n",
    "    randomCar = ''.join(random.choices(string.ascii_letters + string.digits, k=8))  # \n",
    "    return volume_folder+'/checkpoint/streams/'+randomCar"
   ]
  },
  {
   "cell_type": "code",
   "execution_count": 0,
   "metadata": {
    "application/vnd.databricks.v1+cell": {
     "cellMetadata": {},
     "inputWidgets": {},
     "nuid": "98754ef9-bfa3-4e43-8756-463966703d1e",
     "showTitle": false,
     "tableResultSettingsMap": {},
     "title": ""
    }
   },
   "outputs": [],
   "source": [
    "from time import sleep\n",
    "\n",
    "if reset_all_data or DBDemos.is_folder_empty(volume_folder+\"/user_json\"):\n",
    "  #data generation on another notebook to avoid installing libraries (takes a few seconds to setup pip env)\n",
    "  print(f\"Generating data under {volume_folder} , please wait a few sec...\")\n",
    "  path = dbutils.notebook.entry_point.getDbutils().notebook().getContext().notebookPath().get()\n",
    "  folder_path = path[:path.rfind(\"/\")]\n",
    "  prefix = ''\n",
    "  if not folder_path.endswith('_resources'):\n",
    "    prefix = './_resources/'\n",
    "  dbutils.notebook.run(prefix+\"./01-load-data\", 300, {\"volume_folder\": volume_folder})\n",
    "else:\n",
    "  print(\"data already existing. Run with reset_all_data=true to force a data cleanup for your local demo.\")\n",
    "  \n",
    "  \n",
    "#cleanup schema in all cases\n",
    "dbutils.fs.rm(volume_folder+'/inferred_schema', True)"
   ]
  },
  {
   "cell_type": "code",
   "execution_count": 0,
   "metadata": {
    "application/vnd.databricks.v1+cell": {
     "cellMetadata": {},
     "inputWidgets": {},
     "nuid": "5232dc62-bff9-457d-b484-6868aedf2e59",
     "showTitle": true,
     "tableResultSettingsMap": {},
     "title": "Helper functions to wait between streams to have a nice execution & results clicking on \"run all\""
    }
   },
   "outputs": [],
   "source": [
    "#Wait to have data to be available in the _rescued_data column.\n",
    "def wait_for_rescued_data():\n",
    "  i = 0\n",
    "  while DBDemos.is_folder_empty(volume_folder+'/_wait_rescued/data/_delta_log/') or spark.read.load(volume_folder+'/_wait_rescued/data').count() == 0:\n",
    "    get_stream().filter(\"_rescued_data is not null\") \\\n",
    "               .writeStream.option(\"checkpointLocation\", volume_folder+'/_wait_rescued/ckpt') \\\n",
    "               .trigger(once=True).start(volume_folder+'/_wait_rescued/data').awaitTermination()\n",
    "    i+=1\n",
    "    sleep(1)\n",
    "    if i > 30:\n",
    "      raise Exception(\"Can't capture the new column. Please make sure the stream on the previous cell is running.\")\n"
   ]
  }
 ],
 "metadata": {
  "application/vnd.databricks.v1+notebook": {
   "computePreferences": null,
   "dashboards": [],
   "environmentMetadata": {
    "environment_version": "2"
   },
   "inputWidgetPreferences": null,
   "language": "python",
   "notebookMetadata": {
    "pythonIndentUnit": 4
   },
   "notebookName": "00-setup",
   "widgets": {}
  },
  "language_info": {
   "name": "python"
  }
 },
 "nbformat": 4,
 "nbformat_minor": 0
}
