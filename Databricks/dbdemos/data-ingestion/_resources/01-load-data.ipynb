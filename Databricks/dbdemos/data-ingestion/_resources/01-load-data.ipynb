{
 "cells": [
  {
   "cell_type": "markdown",
   "metadata": {
    "application/vnd.databricks.v1+cell": {
     "cellMetadata": {},
     "inputWidgets": {},
     "nuid": "8139369c-120a-44c0-a40a-1eafe710f4d3",
     "showTitle": false,
     "tableResultSettingsMap": {},
     "title": ""
    }
   },
   "source": [
    "# Data initialization notebook. \n",
    "Do not run outside of the main notebook. This will automatically be called based on the reste_all widget value to setup the data required for the demo."
   ]
  },
  {
   "cell_type": "code",
   "execution_count": 0,
   "metadata": {
    "application/vnd.databricks.v1+cell": {
     "cellMetadata": {},
     "inputWidgets": {},
     "nuid": "d56784aa-32ac-4fb8-8f10-866b9ed8322b",
     "showTitle": false,
     "tableResultSettingsMap": {},
     "title": ""
    }
   },
   "outputs": [],
   "source": [
    "%pip install Faker"
   ]
  },
  {
   "cell_type": "code",
   "execution_count": 0,
   "metadata": {
    "application/vnd.databricks.v1+cell": {
     "cellMetadata": {},
     "inputWidgets": {},
     "nuid": "292041dc-f492-428e-8b5f-79aadb9bea90",
     "showTitle": false,
     "tableResultSettingsMap": {},
     "title": ""
    }
   },
   "outputs": [],
   "source": [
    "dbutils.widgets.text(\"volume_folder\", \"/dbdemos/raw_data\", \"Raw data location (stating dir)\")"
   ]
  },
  {
   "cell_type": "code",
   "execution_count": 0,
   "metadata": {
    "application/vnd.databricks.v1+cell": {
     "cellMetadata": {},
     "inputWidgets": {},
     "nuid": "df756477-3021-4ecf-ae4e-48bf0dea46f2",
     "showTitle": false,
     "tableResultSettingsMap": {},
     "title": ""
    }
   },
   "outputs": [],
   "source": [
    "from pyspark.sql import functions as F\n",
    "from faker import Faker\n",
    "from collections import OrderedDict \n",
    "import uuid\n",
    "fake = Faker()\n",
    "\n",
    "fake_firstname = F.udf(fake.first_name)\n",
    "fake_lastname = F.udf(fake.last_name)\n",
    "fake_email = F.udf(fake.ascii_company_email)\n",
    "fake_date = F.udf(lambda:fake.date_time_this_month().strftime(\"%m-%d-%Y %H:%M:%S\"))\n",
    "fake_address = F.udf(lambda: fake.address().replace(',', '').replace('\\n', ' '))\n",
    "fake_id = F.udf(lambda: str(uuid.uuid4()))\n",
    "\n",
    "# Generate the base DataFrame (same as original)\n",
    "df = spark.range(0, 100000)\n",
    "df = df.withColumn(\"id\", F.monotonically_increasing_id())\n",
    "df = df.withColumn(\"creation_date\", fake_date())\n",
    "df = df.withColumn(\"firstname\", fake_firstname())\n",
    "df = df.withColumn(\"lastname\", fake_lastname())\n",
    "df = df.withColumn(\"email\", fake_email())\n",
    "df = df.withColumn(\"address\", fake_address())\n",
    "df = df.withColumn(\"gender\", F.round(F.rand()+0.2))\n",
    "df = df.withColumn(\"age_group\", F.round(F.rand()*10))\n",
    "\n",
    "volume_folder = dbutils.widgets.get(\"volume_folder\")\n",
    "\n",
    "# Generate multiple formats from the same data\n",
    "print(\"Generating JSON format...\")\n",
    "df.repartition(100).write.mode(\"overwrite\").format(\"json\").save(volume_folder+\"/user_json\")\n",
    "\n",
    "print(\"Generating CSV format...\")\n",
    "df.repartition(10).write.mode(\"overwrite\")\\\n",
    "  .option(\"header\", \"true\")\\\n",
    "  .format(\"csv\")\\\n",
    "  .save(volume_folder+\"/user_csv\")\n",
    "\n",
    "# CSV variations for demonstration\n",
    "print(\"Creating CSV variations...\")\n",
    "\n",
    "# CSV without headers\n",
    "df.limit(5000).write.mode(\"overwrite\")\\\n",
    "  .option(\"header\", \"false\")\\\n",
    "  .format(\"csv\")\\\n",
    "  .save(volume_folder+\"/user_csv_no_headers\")\n",
    "\n",
    "# CSV with different delimiter\n",
    "df.limit(5000).write.mode(\"overwrite\")\\\n",
    "  .option(\"header\", \"true\")\\\n",
    "  .option(\"delimiter\", \"|\")\\\n",
    "  .format(\"csv\")\\\n",
    "  .save(volume_folder+\"/user_csv_pipe_delimited\")\n",
    "\n",
    "print(\"Generating Parquet format...\")\n",
    "df.repartition(10).write.mode(\"overwrite\")\\\n",
    "  .format(\"parquet\")\\\n",
    "  .save(volume_folder+\"/user_parquet\")\n",
    "\n",
    "# Partitioned Parquet (great for read_files partition inference)\n",
    "print(\"Creating partitioned data...\")\n",
    "df.withColumn(\"year\", F.lit(\"2024\"))\\\n",
    "  .withColumn(\"month\", F.expr(\"lpad(cast(rand() * 12 + 1 as int), 2, '0')\"))\\\n",
    "  .write.mode(\"overwrite\")\\\n",
    "  .format(\"parquet\")\\\n",
    "  .partitionBy(\"year\", \"month\")\\\n",
    "  .save(volume_folder+\"/user_parquet_partitioned\")"
   ]
  }
 ],
 "metadata": {
  "application/vnd.databricks.v1+notebook": {
   "computePreferences": null,
   "dashboards": [],
   "environmentMetadata": {
    "environment_version": "2"
   },
   "inputWidgetPreferences": null,
   "language": "python",
   "notebookMetadata": {},
   "notebookName": "01-load-data",
   "widgets": {}
  },
  "language_info": {
   "name": "python"
  }
 },
 "nbformat": 4,
 "nbformat_minor": 0
}
