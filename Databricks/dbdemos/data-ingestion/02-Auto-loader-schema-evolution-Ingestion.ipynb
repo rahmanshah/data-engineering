{
 "cells": [
  {
   "cell_type": "markdown",
   "metadata": {
    "application/vnd.databricks.v1+cell": {
     "cellMetadata": {},
     "inputWidgets": {},
     "isMarkdownSandbox": true,
     "nuid": "783d0ad1-10c2-462f-a251-9aa86af7a1ac",
     "showTitle": false,
     "tableResultSettingsMap": {},
     "title": ""
    }
   },
   "source": [
    "\n",
    "# What is Databricks Auto Loader?\n",
    "\n",
    "<img src=\"https://github.com/QuentinAmbard/databricks-demo/raw/main/product_demos/autoloader/autoloader-edited-anim.gif\" style=\"float:right; margin-left: 10px\" />\n",
    "\n",
    "[Databricks Auto Loader](https://docs.databricks.com/ingestion/auto-loader/index.html) lets you scan a cloud storage folder (S3, ADLS, GS) and only ingest the new data that arrived since the previous run.\n",
    "\n",
    "This is called **incremental ingestion**.\n",
    "\n",
    "Auto Loader can be used in a near real-time stream or in a batch fashion, e.g., running every night to ingest daily data.\n",
    "\n",
    "Auto Loader provides a strong gaurantee when used with a Delta sink (the data will only be ingested once).\n",
    "\n",
    "## How Auto Loader simplifies data ingestion\n",
    "\n",
    "Ingesting data at scale from cloud storage can be really hard at scale. Auto Loader makes it easy, offering these benefits:\n",
    "\n",
    "\n",
    "* **Incremental** & **cost-efficient** ingestion (removes unnecessary listing or state handling)\n",
    "* **Simple** and **resilient** operation: no tuning or manual code required\n",
    "* Scalable to **billions of files**\n",
    "  * Using incremental listing (deprecated, relies on filename order)\n",
    "  * Leveraging notification + message queue (recommended)\n",
    "* **Schema inference** and **schema evolution** are handled out of the box for most formats (csv, json, avro, images...)\n",
    "\n",
    "<!-- Collect usage data (view). Remove it to disable collection. View README for more details.  -->\n",
    "<img width=\"1px\" src=\"https://ppxrzfxige.execute-api.us-west-2.amazonaws.com/v1/analytics?category=data-engineering&org_id=796524194907820&notebook=%2F02-Auto-loader-schema-evolution-Ingestion&demo_name=data-ingestion&event=VIEW&path=%2F_dbdemos%2Fdata-engineering%2Fdata-ingestion%2F02-Auto-loader-schema-evolution-Ingestion&version=1\">"
   ]
  },
  {
   "cell_type": "code",
   "execution_count": 0,
   "metadata": {
    "application/vnd.databricks.v1+cell": {
     "cellMetadata": {},
     "inputWidgets": {},
     "nuid": "21ecf207-3bc6-4028-af19-9e5940e62fd3",
     "showTitle": true,
     "tableResultSettingsMap": {},
     "title": "Data initialization - run the cell to prepare the demo data."
    },
    "jupyter": {
     "outputs_hidden": true
    }
   },
   "outputs": [],
   "source": [
    "%run ./_resources/00-setup $reset_all_data=false"
   ]
  },
  {
   "cell_type": "code",
   "execution_count": 0,
   "metadata": {
    "application/vnd.databricks.v1+cell": {
     "cellMetadata": {},
     "inputWidgets": {},
     "nuid": "281f3ea7-6a71-4818-a919-8ce27ce923c3",
     "showTitle": true,
     "tableResultSettingsMap": {},
     "title": "Let's explore what is being delivered in our bucket: (json)"
    }
   },
   "outputs": [],
   "source": [
    "display(spark.read.text(volume_folder+'/user_json'))"
   ]
  },
  {
   "cell_type": "markdown",
   "metadata": {
    "application/vnd.databricks.v1+cell": {
     "cellMetadata": {},
     "inputWidgets": {},
     "nuid": "2e08429d-5c54-4d1d-b0ac-927e2bd026b1",
     "showTitle": false,
     "tableResultSettingsMap": {},
     "title": ""
    }
   },
   "source": [
    "### Auto Loader basics\n",
    "Let's create a new Auto Loader stream that will incrementally ingest new incoming files.\n",
    "\n",
    "In this example we will specify the full schema. We will also use `cloudFiles.maxFilesPerTrigger` to take 1 file a time to simulate a process adding files 1 by 1."
   ]
  },
  {
   "cell_type": "code",
   "execution_count": 0,
   "metadata": {
    "application/vnd.databricks.v1+cell": {
     "cellMetadata": {},
     "inputWidgets": {},
     "nuid": "eb60b8d8-8613-4c20-b035-90730f5b99ef",
     "showTitle": false,
     "tableResultSettingsMap": {},
     "title": ""
    }
   },
   "outputs": [],
   "source": [
    "bronzeDF = (spark.readStream \\\n",
    "                .format(\"cloudFiles\")\n",
    "                .option(\"cloudFiles.format\", \"json\")\n",
    "                .option(\"cloudFiles.maxFilesPerTrigger\", \"1\")  #demo only, remove in real stream\n",
    "                .schema(\"address string, creation_date string, firstname string, lastname string, id bigint\")\n",
    "                .load(volume_folder+'/user_json'))\n",
    "display(bronzeDF)"
   ]
  },
  {
   "cell_type": "markdown",
   "metadata": {
    "application/vnd.databricks.v1+cell": {
     "cellMetadata": {},
     "inputWidgets": {},
     "nuid": "11e86aa3-de70-452c-b129-68a258c1c21b",
     "showTitle": false,
     "tableResultSettingsMap": {},
     "title": ""
    }
   },
   "source": [
    "## Schema inference\n",
    "Specifying the schema manually can be a challenge, especially with dynamic JSON. Notice that we are missing the \"age\" data because we overlooked specifying this column in the schema.\n",
    "\n",
    "* Schema inference has always been expensive and slow at scale, but not with Auto Loader. Auto Loader efficiently samples data to infer the schema and stores it under `cloudFiles.schemaLocation` in your bucket. \n",
    "* Additionally, `cloudFiles.inferColumnTypes` will determine the proper data type from your JSON.\n",
    "\n",
    "Let's redefine our stream with these features. Notice that we now have all of the JSON fields.\n",
    "\n",
    "*Notes:*\n",
    "* *With Delta Live Tables you don't even have to set this option, the engine manages the schema location for you.*\n",
    "* *Sampling size can be changed with `spark.databricks.cloudFiles.schemaInference.sampleSize.numBytes`*"
   ]
  },
  {
   "cell_type": "code",
   "execution_count": 0,
   "metadata": {
    "application/vnd.databricks.v1+cell": {
     "cellMetadata": {},
     "inputWidgets": {},
     "nuid": "94e1ed98-54be-4604-b5d0-48bfb57a0957",
     "showTitle": true,
     "tableResultSettingsMap": {},
     "title": "Auto Loader can now infer the schema automatically (from any format) "
    }
   },
   "outputs": [],
   "source": [
    "bronzeDF = (spark.readStream\n",
    "                .format(\"cloudFiles\")\n",
    "                .option(\"cloudFiles.format\", \"json\")\n",
    "                .option(\"cloudFiles.schemaLocation\", volume_folder+'/inferred_schema')\n",
    "                .option(\"cloudFiles.inferColumnTypes\", \"true\")\n",
    "                .load(volume_folder+'/user_json'))\n",
    "display(bronzeDF)"
   ]
  },
  {
   "cell_type": "markdown",
   "metadata": {
    "application/vnd.databricks.v1+cell": {
     "cellMetadata": {},
     "inputWidgets": {},
     "nuid": "0173b3d1-c3a3-46b2-be22-c604945d68bf",
     "showTitle": false,
     "tableResultSettingsMap": {},
     "title": ""
    }
   },
   "source": [
    "### Schema hints\n",
    "You might need to enforce a part of your schema, e.g., to convert a timestamp. This can easily be done with Schema Hints.\n",
    "\n",
    "In this case, we'll make sure that the `id` is read as `bigint` and not `int`:"
   ]
  },
  {
   "cell_type": "code",
   "execution_count": 0,
   "metadata": {
    "application/vnd.databricks.v1+cell": {
     "cellMetadata": {},
     "inputWidgets": {},
     "nuid": "b0d309ff-1e15-4f25-85de-1f23137fbf89",
     "showTitle": false,
     "tableResultSettingsMap": {},
     "title": ""
    }
   },
   "outputs": [],
   "source": [
    "bronzeDF = (spark.readStream\n",
    "                .format(\"cloudFiles\")\n",
    "                .option(\"cloudFiles.format\", \"json\")\n",
    "                .option(\"cloudFiles.schemaLocation\", f\"{volume_folder}/inferred_schema\")\n",
    "                .option(\"cloudFiles.inferColumnTypes\", \"true\")\n",
    "                .option(\"cloudFiles.schemaHints\", \"id bigint\")\n",
    "                .load(volume_folder+'/user_json'))\n",
    "display(bronzeDF)"
   ]
  },
  {
   "cell_type": "markdown",
   "metadata": {
    "application/vnd.databricks.v1+cell": {
     "cellMetadata": {},
     "inputWidgets": {},
     "nuid": "5cbd9f4d-c900-4356-9db4-c4653f7e43ad",
     "showTitle": false,
     "tableResultSettingsMap": {},
     "title": ""
    }
   },
   "source": [
    "## Schema evolution"
   ]
  },
  {
   "cell_type": "code",
   "execution_count": 0,
   "metadata": {
    "application/vnd.databricks.v1+cell": {
     "cellMetadata": {},
     "inputWidgets": {},
     "nuid": "2d71eb6d-9c5a-4eb2-850c-ec7d3aa63206",
     "showTitle": true,
     "tableResultSettingsMap": {},
     "title": "Schema evolution is now supported by restarting the stream"
    }
   },
   "outputs": [],
   "source": [
    "def get_stream():\n",
    "  return (spark.readStream\n",
    "                .format(\"cloudFiles\")\n",
    "                .option(\"cloudFiles.format\", \"json\")\n",
    "                .option(\"cloudFiles.schemaLocation\", f\"{volume_folder}/inferred_schema\")\n",
    "                .option(\"cloudFiles.inferColumnTypes\", \"true\")\n",
    "                .option(\"cloudFiles.schemaHints\", \"id bigint\")\n",
    "                .load(volume_folder+'/user_json'))\n",
    "display(get_stream())"
   ]
  },
  {
   "cell_type": "markdown",
   "metadata": {
    "application/vnd.databricks.v1+cell": {
     "cellMetadata": {},
     "inputWidgets": {},
     "nuid": "5874ce04-d5b2-47b4-8c36-81915445c346",
     "showTitle": false,
     "tableResultSettingsMap": {},
     "title": ""
    }
   },
   "source": [
    "### Incorrect schema\n",
    "Auto Loader automatically recovers from incorrect schema and conflicting type. It'll save incorrect data in the `_rescued_data` column."
   ]
  },
  {
   "cell_type": "code",
   "execution_count": 0,
   "metadata": {
    "application/vnd.databricks.v1+cell": {
     "cellMetadata": {},
     "inputWidgets": {},
     "nuid": "ca26e0be-0e5d-4d85-9763-a74e94825b18",
     "showTitle": true,
     "tableResultSettingsMap": {},
     "title": "Adding an incorrect field (\"id\" as string instead of bigint)"
    }
   },
   "outputs": [],
   "source": [
    "from pyspark.sql import Row\n",
    "data = [Row(email=\"quentin.ambard@databricks.com\", firstname=\"Quentin\", id=\"456455\", lastname=\"Ambard\")]\n",
    "incorrect_data = spark.createDataFrame(data)\n",
    "incorrect_data.write.format(\"json\").mode(\"append\").save(volume_folder + \"/user_json\")"
   ]
  },
  {
   "cell_type": "code",
   "execution_count": 0,
   "metadata": {
    "application/vnd.databricks.v1+cell": {
     "cellMetadata": {},
     "inputWidgets": {},
     "nuid": "9561025b-0ba8-4402-827d-266c0a9623dd",
     "showTitle": false,
     "tableResultSettingsMap": {},
     "title": ""
    }
   },
   "outputs": [],
   "source": [
    "wait_for_rescued_data()\n",
    "# Start the stream and filter on on the rescue column to see how the incorrect data is captured\n",
    "display(get_stream().filter(\"_rescued_data is not null\"))"
   ]
  },
  {
   "cell_type": "markdown",
   "metadata": {
    "application/vnd.databricks.v1+cell": {
     "cellMetadata": {},
     "inputWidgets": {},
     "nuid": "750abe09-bde9-4743-88d2-66494ab5a1ea",
     "showTitle": false,
     "tableResultSettingsMap": {},
     "title": ""
    }
   },
   "source": [
    "### Adding a new column\n",
    "By default the stream will tigger a `UnknownFieldException` exception on new column. You then have to restart the stream to include the new column. \n",
    "\n",
    "Make sure your previous stream is still running and run the next cell.\n",
    "\n",
    "*Notes*:\n",
    "* *See `cloudFiles.schemaEvolutionMode` for different behaviors and more details.*\n",
    "* *Don't forget to add `.writeStream.option(\"mergeSchema\", \"true\")` to dynamically add when columns when writting to a delta table*"
   ]
  },
  {
   "cell_type": "code",
   "execution_count": 0,
   "metadata": {
    "application/vnd.databricks.v1+cell": {
     "cellMetadata": {},
     "inputWidgets": {},
     "nuid": "70b8dadc-b483-4831-993e-5d01c45d885d",
     "showTitle": true,
     "tableResultSettingsMap": {},
     "title": "Adding a row with an extra column (\"new_column\":\"test new column value\")"
    }
   },
   "outputs": [],
   "source": [
    "# Stop all the existing streams\n",
    "DBDemos.stop_all_streams()\n",
    "\n",
    "# Add 'new_column'\n",
    "data = [Row(email=\"quentin.ambard@databricks.com\", firstname=\"Quentin\", id=456454, lastname=\"Ambard\", new_column=\"test new column value\")]\n",
    "new_row = spark.createDataFrame(data)\n",
    "new_row.write.format(\"json\").mode(\"append\").save(volume_folder + \"/user_json\")"
   ]
  },
  {
   "cell_type": "code",
   "execution_count": 0,
   "metadata": {
    "application/vnd.databricks.v1+cell": {
     "cellMetadata": {},
     "inputWidgets": {},
     "nuid": "067cf959-b466-4014-a661-0f50d7c180a4",
     "showTitle": false,
     "tableResultSettingsMap": {},
     "title": ""
    }
   },
   "outputs": [],
   "source": [
    "# Existing stream wil fail with: org.apache.spark.sql.catalyst.util.UnknownFieldException: Encountered unknown field(s) during parsing: {\"new_column\":\"test new column value\"}\n",
    "display(get_stream())"
   ]
  },
  {
   "cell_type": "code",
   "execution_count": 0,
   "metadata": {
    "application/vnd.databricks.v1+cell": {
     "cellMetadata": {},
     "inputWidgets": {},
     "nuid": "04b5616c-a9d3-4cfb-b4a2-e0acaa349b29",
     "showTitle": false,
     "tableResultSettingsMap": {},
     "title": ""
    }
   },
   "outputs": [],
   "source": [
    "# We just have to restart it to capture the new data. Let's filter on the new column to make sure we have the proper row \n",
    "# (re-run the cell)\n",
    "display(get_stream().filter('new_column is not null'))"
   ]
  },
  {
   "cell_type": "markdown",
   "metadata": {
    "application/vnd.databricks.v1+cell": {
     "cellMetadata": {},
     "inputWidgets": {},
     "nuid": "bc2aa46e-c95e-41ea-aae8-eb9723c555af",
     "showTitle": false,
     "tableResultSettingsMap": {},
     "title": ""
    }
   },
   "source": [
    "## Ingesting a high volume of input files\n",
    "Scanning folders with many files to detect new data is an expensive operation, leading to ingestion challenges and higher cloud storage costs.\n",
    "\n",
    "To solve this issue and support an efficient listing, Databricks autoloader offers two modes:\n",
    "\n",
    "- Incremental listing with `cloudFiles.useIncrementalListing` (deprecated), based on the alphabetical order of the file's path to only scan new data: (`ingestion_path/YYYY-MM-DD`)\n",
    "- Notification system, which sets up a managed cloud notification system sending new file name to a queue (recommended). See `cloudFiles.useNotifications` for more details.\n",
    "\n",
    "<img src=\"https://github.com/QuentinAmbard/databricks-demo/raw/main/product_demos/autoloader-mode.png\" width=\"700\"/>\n",
    "\n",
    "Use the notification system option whenever possible."
   ]
  },
  {
   "cell_type": "markdown",
   "metadata": {
    "application/vnd.databricks.v1+cell": {
     "cellMetadata": {},
     "inputWidgets": {},
     "nuid": "69dc6ba6-ed6b-41df-836d-707f7b69daed",
     "showTitle": false,
     "tableResultSettingsMap": {},
     "title": ""
    }
   },
   "source": [
    "## Support for images\n",
    "Databricks Auto Loader provides native support for images and binary files.\n",
    "\n",
    "<img src=\"https://github.com/QuentinAmbard/databricks-demo/raw/main/product_demos/autoloader-images.png\" width=\"800\" />\n",
    "\n",
    "Just set the format accordingly and the engine will do the rest: `.option(\"cloudFiles.format\", \"binaryFile\")`\n",
    "\n",
    "Use-cases:\n",
    "\n",
    "- ETL images into a Delta table using Auto Loader\n",
    "- Automatically ingest continuously arriving new images\n",
    "- Easily retrain ML models on new images\n",
    "- Perform distributed inference using a pandas UDF directly from Delta "
   ]
  },
  {
   "cell_type": "markdown",
   "metadata": {
    "application/vnd.databricks.v1+cell": {
     "cellMetadata": {},
     "inputWidgets": {},
     "nuid": "c5c0dfed-dd8b-453a-a105-087d55b35e29",
     "showTitle": false,
     "tableResultSettingsMap": {},
     "title": ""
    }
   },
   "source": [
    "## Deploying robust ingestion jobs in production\n",
    "\n",
    "Let's see how to use Auto Loader to ingest JSON files, support schema evolution, and automatically restart when a new column is found.\n",
    "\n",
    "If you need your job to be resilient with regard to an evolving schema, you have multiple options:\n",
    "\n",
    "* Let the full job fail & configure Databricks Workflow to restart it automatically\n",
    "* Leverage Delta Live Tables to simplify all the setup (DLT handles everything for you out of the box)\n",
    "* Wrap your call to restart the stream when the new column appears.\n",
    "\n",
    "Here is an example:"
   ]
  },
  {
   "cell_type": "code",
   "execution_count": 0,
   "metadata": {
    "application/vnd.databricks.v1+cell": {
     "cellMetadata": {},
     "inputWidgets": {},
     "nuid": "014c8b59-699e-4a65-bac3-f97b1943776c",
     "showTitle": true,
     "tableResultSettingsMap": {},
     "title": "Define helper functions"
    }
   },
   "outputs": [],
   "source": [
    "def start_stream_restart_on_schema_evolution():\n",
    "  while True:\n",
    "    try:\n",
    "      q = (spark.readStream\n",
    "                  .format(\"cloudFiles\")\n",
    "                  .option(\"cloudFiles.format\", \"json\")\n",
    "                  .option(\"cloudFiles.schemaLocation\", f\"{volume_folder}/inferred_schema\")\n",
    "                  .option(\"cloudFiles.inferColumnTypes\", \"true\")\n",
    "                  .load(volume_folder+\"/user_json\")\n",
    "                .writeStream\n",
    "                  .toTable(\"autoloader_demo_output\",\n",
    "                           checkpointLocation=volume_folder+\"/checkpoint\",\n",
    "                           mergeSchema=True)\n",
    "          )\n",
    "      q.awaitTermination()\n",
    "      return q\n",
    "    except BaseException as e:\n",
    "      # Adding a new column will trigger an UnknownFieldException. In this case we just restart the stream:\n",
    "      if 'UNKNOWN_FIELD_EXCEPTION' in str(e):\n",
    "        print(f\"Going to restart stream after schema change:\\n{e}\")\n",
    "      else:\n",
    "        raise e\n",
    "\n",
    "#Careful - this will run forever do not forget to stop your job/notebook after you tried!\n",
    "# Seeing [INFINITE_STREAMING_TRIGGER_NOT_SUPPORTED] ? Interactive serverless isn't designed for unlimited streaming. See https://docs.databricks.com/en/compute/serverless/limitations.html#streaming\n",
    "# Use a classic cluster, or you can use the writeStream.trigger(availableNow=True) option instead, or move your code to a Declarative Pipeline!\n",
    "#start_stream_restart_on_schema_evolution()"
   ]
  },
  {
   "cell_type": "markdown",
   "metadata": {
    "application/vnd.databricks.v1+cell": {
     "cellMetadata": {},
     "inputWidgets": {},
     "nuid": "2b97bd14-a75a-4fa2-a129-f018def0f86f",
     "showTitle": false,
     "tableResultSettingsMap": {},
     "title": ""
    }
   },
   "source": [
    "## Conclusion\n",
    "\n",
    "We've seen how Databricks Auto Loader can be used to easily ingest your files, solving all ingestion challenges!\n",
    "\n",
    "You're ready to use it in your projects!"
   ]
  },
  {
   "cell_type": "code",
   "execution_count": 0,
   "metadata": {
    "application/vnd.databricks.v1+cell": {
     "cellMetadata": {},
     "inputWidgets": {},
     "nuid": "5c6bd032-0f01-4e11-a76b-d454de49069c",
     "showTitle": true,
     "tableResultSettingsMap": {},
     "title": "Stop all active stream"
    }
   },
   "outputs": [],
   "source": [
    "DBDemos.stop_all_streams()"
   ]
  }
 ],
 "metadata": {
  "application/vnd.databricks.v1+notebook": {
   "computePreferences": null,
   "dashboards": [],
   "environmentMetadata": {
    "environment_version": "2"
   },
   "inputWidgetPreferences": null,
   "language": "python",
   "notebookMetadata": {},
   "notebookName": "02-Auto-loader-schema-evolution-Ingestion",
   "widgets": {}
  },
  "language_info": {
   "name": "python"
  }
 },
 "nbformat": 4,
 "nbformat_minor": 0
}
