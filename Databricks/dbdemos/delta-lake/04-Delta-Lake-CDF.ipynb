{
 "cells": [
  {
   "cell_type": "markdown",
   "metadata": {
    "application/vnd.databricks.v1+cell": {
     "cellMetadata": {},
     "inputWidgets": {},
     "isMarkdownSandbox": true,
     "nuid": "52224250-9ce8-4f4e-b5f4-b5c46872381f",
     "showTitle": false,
     "tableResultSettingsMap": {},
     "title": ""
    }
   },
   "source": [
    "\n",
    "# Delta Lake Change Data Feed\n",
    "<img src=\"https://pages.databricks.com/rs/094-YMS-629/images/delta-lake-logo-whitebackground.png\" style=\"width:200px; float: right\"/>\n",
    "\n",
    "Delta Lake is an open format and can be read using multiple engine or with standalone libraries (java, python, rust)...\n",
    "\n",
    "It's then easy to subscribe to modifications stream on one of your table to propagage the changes downstream in a medaillon architecture.\n",
    "\n",
    "See the [documentation](https://docs.databricks.com/delta/delta-change-data-feed.html) for more details.\n",
    "\n",
    "<!-- Collect usage data (view). Remove it to disable collection. View README for more details.  -->\n",
    "<img width=\"1px\" src=\"https://ppxrzfxige.execute-api.us-west-2.amazonaws.com/v1/analytics?category=data-engineering&org_id=796524194907820&notebook=%2F04-Delta-Lake-CDF&demo_name=delta-lake&event=VIEW&path=%2F_dbdemos%2Fdata-engineering%2Fdelta-lake%2F04-Delta-Lake-CDF&version=1\">\n",
    "<!-- [metadata={\"description\":\"Quick introduction to Delta Lake. <br/><i>Use this content for quick Delta demo.</i>\",\n",
    " \"authors\":[\"quentin.ambard@databricks.com\"],\n",
    " \"db_resources\":{}}] -->"
   ]
  },
  {
   "cell_type": "code",
   "execution_count": 0,
   "metadata": {
    "application/vnd.databricks.v1+cell": {
     "cellMetadata": {},
     "inputWidgets": {},
     "nuid": "11c582e1-4948-41f4-8e02-d426b0e65781",
     "showTitle": true,
     "tableResultSettingsMap": {},
     "title": "Init the demo data"
    },
    "jupyter": {
     "outputs_hidden": true
    }
   },
   "outputs": [],
   "source": [
    "%run ./_resources/00-setup $reset_all_data=false"
   ]
  },
  {
   "cell_type": "markdown",
   "metadata": {
    "application/vnd.databricks.v1+cell": {
     "cellMetadata": {},
     "inputWidgets": {},
     "isMarkdownSandbox": true,
     "nuid": "de4a305f-9847-4827-88ac-b56168f6facf",
     "showTitle": false,
     "tableResultSettingsMap": {},
     "title": ""
    }
   },
   "source": [
    "## CDF for Data Mesh & Delta Sharing\n",
    "\n",
    "<img src=\"https://github.com/QuentinAmbard/databricks-demo/raw/main/retail/resources/images/delta-cdf-datamesh.png\" style=\"float:right; margin-right: 50px\" width=\"300px\" />\n",
    "\n",
    "When sharing data within a Datamesh and/or to external organization with Delta Sharing, you not only need to share existing data, but also all modifications, so that your consumer can capture apply the same changes.\n",
    "\n",
    "CDF makes **Data Mesh** implementation easier. Once enabled by an organisation, data can be shared with other. It's then easy to subscribe to the modification stream and propagage GDPR DELETE downstream.\n",
    "\n",
    "To do so, we need to make sure the CDF are enabled at the table level. Once enabled, it'll capture all the table modifications using the `table_changes` function.\n",
    "\n",
    "For more details, visit the [CDF documentation](https://docs.databricks.com/delta/delta-change-data-feed.html)"
   ]
  },
  {
   "cell_type": "markdown",
   "metadata": {
    "application/vnd.databricks.v1+cell": {
     "cellMetadata": {},
     "inputWidgets": {},
     "nuid": "70b042ce-bfcd-436f-87a4-5adfb4d0f2e9",
     "showTitle": false,
     "tableResultSettingsMap": {},
     "title": ""
    }
   },
   "source": [
    "### Try Out CDF :\n",
    "- Enable CDF\n",
    "- Do Sample changes\n",
    "- Query Delta History to ensure changes went through\n",
    "- Query older version\n",
    "- Check for CDF tracking columns"
   ]
  },
  {
   "cell_type": "code",
   "execution_count": 0,
   "metadata": {
    "application/vnd.databricks.v1+cell": {
     "cellMetadata": {},
     "inputWidgets": {},
     "nuid": "c74903c5-30da-486f-8e17-91c648d77182",
     "showTitle": true,
     "tableResultSettingsMap": {},
     "title": "Enable CDF at the table level"
    }
   },
   "outputs": [],
   "source": [
    "ALTER TABLE user_delta SET TBLPROPERTIES (delta.enableChangeDataFeed = true)"
   ]
  },
  {
   "cell_type": "markdown",
   "metadata": {
    "application/vnd.databricks.v1+cell": {
     "cellMetadata": {},
     "inputWidgets": {},
     "nuid": "50c8e2e0-515f-4479-93e6-c93cf8030ef5",
     "showTitle": false,
     "tableResultSettingsMap": {},
     "title": ""
    }
   },
   "source": [
    "#### Delta CDF table_changes output\n",
    "In addition to the row details, `table_changes` provides back 4 cdc types in the \"_change_type\" column:\n",
    "\n",
    "| CDC Type             | Description                                                               |\n",
    "|----------------------|---------------------------------------------------------------------------|\n",
    "| **update_preimage**  | Content of the row before an update                                       |\n",
    "| **update_postimage** | Content of the row after the update (what you want to capture downstream) |\n",
    "| **delete**           | Content of a row that has been deleted                                    |\n",
    "| **insert**           | Content of a new row that has been inserted                               |\n",
    "\n",
    "Let's query the changes of the Delta Version 12 which should be our MERGE operation (you can run a `DESCRIBE HISTORY user_data_bronze` to see the version numbers).\n",
    "\n",
    "As you can see 1 row has been UPDATED (we get the old and new value), 1 DELETED and one INSERTED."
   ]
  },
  {
   "cell_type": "code",
   "execution_count": 0,
   "metadata": {
    "application/vnd.databricks.v1+cell": {
     "cellMetadata": {},
     "inputWidgets": {},
     "nuid": "65dafb00-4b58-4e72-8b75-5f77bbc2c148",
     "showTitle": true,
     "tableResultSettingsMap": {},
     "title": "Let's make sure we have some changes in our table"
    }
   },
   "outputs": [],
   "source": [
    "-- Make sure you run the first notebook to load all the data.\n",
    "UPDATE user_delta SET firstname = 'John' WHERE ID < 10;\n",
    "DELETE FROM user_delta WHERE ID > 1000;"
   ]
  },
  {
   "cell_type": "code",
   "execution_count": 0,
   "metadata": {
    "application/vnd.databricks.v1+cell": {
     "cellMetadata": {},
     "inputWidgets": {},
     "nuid": "d9b76c3d-a6ec-4ffd-9b5c-667e78ae5280",
     "showTitle": true,
     "tableResultSettingsMap": {},
     "title": "Use below command to get history of all operations on this table"
    }
   },
   "outputs": [],
   "source": [
    "DESCRIBE HISTORY user_delta;"
   ]
  },
  {
   "cell_type": "code",
   "execution_count": 0,
   "metadata": {
    "application/vnd.databricks.v1+cell": {
     "cellMetadata": {},
     "inputWidgets": {},
     "nuid": "0269d1c6-9efe-46a0-9cdb-49297923bcfb",
     "showTitle": true,
     "tableResultSettingsMap": {},
     "title": "Use below command to get the table as of the version number"
    }
   },
   "outputs": [],
   "source": [
    "select * from table_changes(\"user_delta\", 118);"
   ]
  },
  {
   "cell_type": "code",
   "execution_count": 0,
   "metadata": {
    "application/vnd.databricks.v1+cell": {
     "cellMetadata": {},
     "inputWidgets": {},
     "nuid": "44720523-e00f-4c2c-991e-054b57e5d1f2",
     "showTitle": true,
     "tableResultSettingsMap": {},
     "title": "Below Query will tell us what are the distinct changes that happened in the version"
    }
   },
   "outputs": [],
   "source": [
    "select distinct(_change_type) from table_changes(\"user_delta\", 118)"
   ]
  },
  {
   "cell_type": "markdown",
   "metadata": {
    "application/vnd.databricks.v1+cell": {
     "cellMetadata": {},
     "inputWidgets": {},
     "nuid": "12b6b99b-0236-4987-b75b-621f48b44631",
     "showTitle": false,
     "tableResultSettingsMap": {},
     "title": ""
    }
   },
   "source": [
    "## Using CDF to capture incremental change (stream)\n",
    "\n",
    "To capture the last changes from your table, you can leverage Spark Streaming API. \n",
    "\n",
    "It's then easy to subscribe to modifications stream on one of your table to propagage GDPR DELETE downstream"
   ]
  },
  {
   "cell_type": "code",
   "execution_count": 0,
   "metadata": {
    "application/vnd.databricks.v1+cell": {
     "cellMetadata": {},
     "inputWidgets": {},
     "nuid": "ad046c78-53d2-4ea8-95d2-beadf37ea3b8",
     "showTitle": false,
     "tableResultSettingsMap": {},
     "title": ""
    }
   },
   "outputs": [],
   "source": [
    "%python\n",
    "stream = spark.readStream.format(\"delta\") \\\n",
    "              .option(\"readChangeFeed\", \"true\") \\\n",
    "              .option(\"startingVersion\", 118) \\\n",
    "              .table(\"user_delta\")\n",
    "\n",
    "\n",
    "display(stream.select(\"_change_type\", \"_commit_version\", \"_commit_timestamp\", \"id\", \"firstname\", \"email\"), checkpointLocation = get_chkp_folder(folder))"
   ]
  },
  {
   "cell_type": "markdown",
   "metadata": {
    "application/vnd.databricks.v1+cell": {
     "cellMetadata": {},
     "inputWidgets": {},
     "nuid": "77c7ca2a-c222-443a-a376-35a1c89677d0",
     "showTitle": false,
     "tableResultSettingsMap": {},
     "title": ""
    }
   },
   "source": [
    "## Using CDF for CDC on source table, and MERGE incrementally on target\n"
   ]
  },
  {
   "cell_type": "code",
   "execution_count": 0,
   "metadata": {
    "application/vnd.databricks.v1+cell": {
     "cellMetadata": {},
     "inputWidgets": {},
     "nuid": "4c452fb9-6e2c-4244-9e97-0f4b3621c997",
     "showTitle": true,
     "tableResultSettingsMap": {},
     "title": "Create Target Table (No CDF required)"
    }
   },
   "outputs": [],
   "source": [
    "CREATE table user_delta_silver as select * from user_delta"
   ]
  },
  {
   "cell_type": "code",
   "execution_count": 0,
   "metadata": {
    "application/vnd.databricks.v1+cell": {
     "cellMetadata": {},
     "inputWidgets": {},
     "nuid": "0e21b0cd-7b28-4d10-afeb-9a03399a3cc9",
     "showTitle": false,
     "tableResultSettingsMap": {},
     "title": ""
    }
   },
   "outputs": [],
   "source": [
    "select * from user_delta_silver"
   ]
  },
  {
   "cell_type": "code",
   "execution_count": 0,
   "metadata": {
    "application/vnd.databricks.v1+cell": {
     "cellMetadata": {},
     "inputWidgets": {},
     "nuid": "f3e6172d-957f-4892-82ed-3a53b1572d49",
     "showTitle": true,
     "tableResultSettingsMap": {},
     "title": "Sample change in source table user_delta"
    }
   },
   "outputs": [],
   "source": [
    "-- Make sure you run the first notebook to load all the data.\n",
    "UPDATE user_delta SET firstname = 'John_cdc' WHERE ID < 10;"
   ]
  },
  {
   "cell_type": "code",
   "execution_count": 0,
   "metadata": {
    "application/vnd.databricks.v1+cell": {
     "cellMetadata": {},
     "inputWidgets": {},
     "nuid": "bc7c1d99-d84e-4408-867d-30e26bd26759",
     "showTitle": true,
     "tableResultSettingsMap": {},
     "title": "Making sure change went through in user_delta"
    }
   },
   "outputs": [],
   "source": [
    "select * from user_delta WHERE ID < 10;"
   ]
  },
  {
   "cell_type": "code",
   "execution_count": 0,
   "metadata": {
    "application/vnd.databricks.v1+cell": {
     "cellMetadata": {},
     "inputWidgets": {},
     "nuid": "3cd60868-4ba0-4d54-8600-a405064e069d",
     "showTitle": true,
     "tableResultSettingsMap": {},
     "title": "Query delta history to get correct version for CDF"
    }
   },
   "outputs": [],
   "source": [
    "describe history user_delta"
   ]
  },
  {
   "cell_type": "code",
   "execution_count": 0,
   "metadata": {
    "application/vnd.databricks.v1+cell": {
     "cellMetadata": {},
     "inputWidgets": {},
     "nuid": "23477f58-030c-43e2-a705-85d258c0ab44",
     "showTitle": false,
     "tableResultSettingsMap": {},
     "title": ""
    }
   },
   "outputs": [],
   "source": [
    "%python\n",
    "cdf_changes = spark.read.format(\"delta\") \\\n",
    "  .option(\"readChangeData\", \"true\") \\\n",
    "  .option(\"startingVersion\", 121) \\\n",
    "  .table(\"user_delta\")\n",
    "\n",
    "cdf_changes.createOrReplaceTempView(\"source_cdf_changes\")\n",
    "display(cdf_changes)"
   ]
  },
  {
   "cell_type": "code",
   "execution_count": 0,
   "metadata": {
    "application/vnd.databricks.v1+cell": {
     "cellMetadata": {},
     "inputWidgets": {},
     "nuid": "75affafb-2994-4001-a192-a88554c86f08",
     "showTitle": true,
     "tableResultSettingsMap": {},
     "title": "Use MERGE to Apply CDC to Target Table"
    }
   },
   "outputs": [],
   "source": [
    "MERGE INTO user_delta_silver AS target\n",
    "USING (\n",
    "  SELECT * FROM source_cdf_changes\n",
    "  WHERE _change_type IN ('update_postimage', 'insert')\n",
    ") AS source\n",
    "ON target.id = source.id\n",
    "WHEN MATCHED THEN UPDATE SET *\n",
    "WHEN NOT MATCHED THEN INSERT *"
   ]
  },
  {
   "cell_type": "code",
   "execution_count": 0,
   "metadata": {
    "application/vnd.databricks.v1+cell": {
     "cellMetadata": {},
     "inputWidgets": {},
     "nuid": "327e909e-1aca-4c92-9ffe-46ca560eab93",
     "showTitle": true,
     "tableResultSettingsMap": {},
     "title": "Ensuring Merge applied CDC to target"
    }
   },
   "outputs": [],
   "source": [
    "select * from user_delta_silver WHERE ID < 10;"
   ]
  },
  {
   "cell_type": "code",
   "execution_count": 0,
   "metadata": {
    "application/vnd.databricks.v1+cell": {
     "cellMetadata": {},
     "inputWidgets": {},
     "nuid": "58cf81ac-9230-410e-9fe3-68996910dfdf",
     "showTitle": false,
     "tableResultSettingsMap": {},
     "title": ""
    }
   },
   "outputs": [],
   "source": [
    "%python\n",
    "time.sleep(30)\n",
    "DBDemos.stop_all_streams()"
   ]
  },
  {
   "cell_type": "markdown",
   "metadata": {
    "application/vnd.databricks.v1+cell": {
     "cellMetadata": {},
     "inputWidgets": {},
     "nuid": "02faf279-f1a2-41d4-8619-3973fff9f247",
     "showTitle": false,
     "tableResultSettingsMap": {},
     "title": ""
    }
   },
   "source": [
    "## Easier CDF with Delta Live Table APPLY CHANGES\n",
    "\n",
    "Delta Lake CDF is a low level API. To implement simple CDC pipeline using pure SQL (including SCDT2 tables), you can leverage the Delta Live Table engine! See the [documentation](https://docs.databricks.com/workflows/delta-live-tables/delta-live-tables-cdc.html) for more details."
   ]
  },
  {
   "cell_type": "markdown",
   "metadata": {
    "application/vnd.databricks.v1+cell": {
     "cellMetadata": {},
     "inputWidgets": {},
     "nuid": "db596bbd-513e-4745-89c4-f5d4e68f5b34",
     "showTitle": false,
     "tableResultSettingsMap": {},
     "title": ""
    }
   },
   "source": [
    "That's it, we covered the main capabilities provided by Delta Lake.\n",
    "\n",
    "If you want to know more about the technical implementation, you can have a look to the [internal structure of Delta Lake]($./05-Advanced-Delta-Lake-Internal) (optional) or [go back to the Introduction]($./00-Delta-Lake-Introduction)."
   ]
  }
 ],
 "metadata": {
  "application/vnd.databricks.v1+notebook": {
   "computePreferences": null,
   "dashboards": [],
   "environmentMetadata": {
    "environment_version": "2"
   },
   "inputWidgetPreferences": null,
   "language": "sql",
   "notebookMetadata": {},
   "notebookName": "04-Delta-Lake-CDF",
   "widgets": {}
  },
  "language_info": {
   "name": "sql"
  }
 },
 "nbformat": 4,
 "nbformat_minor": 0
}
