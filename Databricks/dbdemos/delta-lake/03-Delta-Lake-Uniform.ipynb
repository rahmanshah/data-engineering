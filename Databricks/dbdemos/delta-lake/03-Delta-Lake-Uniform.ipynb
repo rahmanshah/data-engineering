{
 "cells": [
  {
   "cell_type": "markdown",
   "metadata": {
    "application/vnd.databricks.v1+cell": {
     "cellMetadata": {},
     "inputWidgets": {},
     "isMarkdownSandbox": true,
     "nuid": "b4418acc-f248-4721-b370-591d5084378d",
     "showTitle": false,
     "tableResultSettingsMap": {},
     "title": ""
    }
   },
   "source": [
    "\n",
    "# Delta Lake Uniform: Universal Format for all your Lakehouse tools\n",
    "\n",
    "\n",
    "<img src=\"https://cms.databricks.com/sites/default/files/inline-images/image1_5.png\" width=\"700px\" style=\"float: right; margin-left: 50px\"/>\n",
    "\n",
    "Companies want to leverage open format and stay away from vendor lockin. Migration is costly and difficult, so they want to make the right decision up front and only have to save data once. \n",
    "\n",
    "They ultimately want the best performance at the cheapest price for all of their data workloads including ETL, BI, and AI, and the flexibility to consume that data anywhere.\n",
    "\n",
    "\n",
    "Delta Universal Format (UniForm) automatically unifies table formats, without creating additional copies of data or more data silos. \n",
    "\n",
    "Teams that use query engines designed to work with Iceberg or Hudi data will be able to read Delta tables seamlessly, without having to copy data over or convert it. \n",
    "\n",
    "Customers don’t have to choose a single format, because **tables written by Delta will be universally accessible by Iceberg and Hudi readers.**\n",
    "\n",
    "\n",
    "<!-- Collect usage data (view). Remove it to disable collection. View README for more details.  -->\n",
    "<img width=\"1px\" src=\"https://ppxrzfxige.execute-api.us-west-2.amazonaws.com/v1/analytics?category=data-engineering&org_id=796524194907820&notebook=%2F03-Delta-Lake-Uniform&demo_name=delta-lake&event=VIEW&path=%2F_dbdemos%2Fdata-engineering%2Fdelta-lake%2F03-Delta-Lake-Uniform&version=1\">\n",
    "<!-- [metadata={\"description\":\"Quick introduction to Delta Lake. <br/><i>Use this content for quick Delta demo.</i>\",\n",
    " \"authors\":[\"quentin.ambard@databricks.com\"],\n",
    " \"db_resources\":{}}] -->"
   ]
  },
  {
   "cell_type": "code",
   "execution_count": 0,
   "metadata": {
    "application/vnd.databricks.v1+cell": {
     "cellMetadata": {},
     "inputWidgets": {},
     "nuid": "d5e4060f-71e1-444f-bdd8-1c1338e2e331",
     "showTitle": true,
     "tableResultSettingsMap": {},
     "title": "Init the demo data"
    },
    "jupyter": {
     "outputs_hidden": true
    }
   },
   "outputs": [],
   "source": [
    "%run ./_resources/00-setup $reset_all_data=false"
   ]
  },
  {
   "cell_type": "markdown",
   "metadata": {
    "application/vnd.databricks.v1+cell": {
     "cellMetadata": {},
     "inputWidgets": {},
     "isMarkdownSandbox": true,
     "nuid": "2b992d62-1f67-41d2-a822-e9a70afe08db",
     "showTitle": false,
     "tableResultSettingsMap": {},
     "title": ""
    }
   },
   "source": [
    "##![](https://pages.databricks.com/rs/094-YMS-629/images/delta-lake-tiny-logo.png) Leveraging Delta Lake power across all formats\n",
    "\n",
    "<img src=\"https://cms.databricks.com/sites/default/files/inline-images/image3_2.png\" style=\"float: right\" width=\"650px\" />\n",
    "\n",
    "UniForm takes advantage of the fact that all three open lakehouse formats are thin layers of metadata atop Parquet data files. As writes are made, UniForm will incrementally generate this layer of metadata to spec for Hudi, Iceberg and Delta.\n",
    "\n",
    "UniForm introduces negligible performance and resource overhead. \n",
    "\n",
    "We also saw improved read performance on UniForm-enabled tables relative to native Iceberg tables, thanks to Delta’s improved data layout capabilities .\n",
    "\n",
    "With UniForm, customers can choose Delta with confidence, knowing that they’ll have broad support from any tool that supports lakehouse formats."
   ]
  },
  {
   "cell_type": "markdown",
   "metadata": {
    "application/vnd.databricks.v1+cell": {
     "cellMetadata": {},
     "inputWidgets": {},
     "nuid": "73ee4be2-b78e-4963-bb55-c2bab5d48345",
     "showTitle": false,
     "tableResultSettingsMap": {},
     "title": ""
    }
   },
   "source": [
    "##  Create a UniForm-enabled Delta table"
   ]
  },
  {
   "cell_type": "code",
   "execution_count": 0,
   "metadata": {
    "application/vnd.databricks.v1+cell": {
     "cellMetadata": {},
     "inputWidgets": {},
     "nuid": "a373abab-ee60-49c6-a2b4-6726d2f57828",
     "showTitle": false,
     "tableResultSettingsMap": {},
     "title": ""
    }
   },
   "outputs": [],
   "source": [
    "%sql\n",
    "CREATE OR REPLACE TABLE user_uniform ( id BIGINT, firstname STRING, lastname STRING, email STRING)\n",
    "    TBLPROPERTIES ('delta.universalFormat.enabledFormats' = 'iceberg', \n",
    "                   'delta.enableIcebergCompatV2' = 'true')"
   ]
  },
  {
   "cell_type": "code",
   "execution_count": 0,
   "metadata": {
    "application/vnd.databricks.v1+cell": {
     "cellMetadata": {},
     "inputWidgets": {},
     "nuid": "baff9bb0-fc5b-41a1-958f-002c5424e10f",
     "showTitle": false,
     "tableResultSettingsMap": {},
     "title": ""
    }
   },
   "outputs": [],
   "source": [
    "%sql\n",
    "INSERT INTO user_uniform SELECT id, firstname, lastname, email FROM user_delta;  \n",
    "\n",
    "SELECT * FROM user_uniform;"
   ]
  },
  {
   "cell_type": "code",
   "execution_count": 0,
   "metadata": {
    "application/vnd.databricks.v1+cell": {
     "cellMetadata": {},
     "inputWidgets": {},
     "nuid": "2d9281f1-6a35-4b1b-b8fd-4a8d01a36e87",
     "showTitle": true,
     "tableResultSettingsMap": {},
     "title": "Check if relevant Uniform property is present in table"
    }
   },
   "outputs": [],
   "source": [
    "spark.sql(\"\"\"\n",
    "SHOW TBLPROPERTIES user_uniform\n",
    "\"\"\").filter(\"key LIKE 'delta.universalFormat%' OR key LIKE 'delta_uniform_%'\").display()"
   ]
  },
  {
   "cell_type": "code",
   "execution_count": 0,
   "metadata": {
    "application/vnd.databricks.v1+cell": {
     "cellMetadata": {},
     "inputWidgets": {},
     "nuid": "c47ccfb7-5e5f-4a37-9570-86a2e36ab56a",
     "showTitle": false,
     "tableResultSettingsMap": {},
     "title": ""
    }
   },
   "outputs": [],
   "source": [
    "%sql\n",
    "update user_uniform set firstname = 'John_c' where id < 100"
   ]
  },
  {
   "cell_type": "code",
   "execution_count": 0,
   "metadata": {
    "application/vnd.databricks.v1+cell": {
     "cellMetadata": {},
     "inputWidgets": {},
     "nuid": "8e56043f-f919-4fac-826b-8bfe9c462a69",
     "showTitle": true,
     "tableResultSettingsMap": {},
     "title": "Run Describe extended to Fetch Metdata Location"
    }
   },
   "outputs": [],
   "source": [
    "%sql\n",
    "describe extended user_uniform"
   ]
  },
  {
   "cell_type": "markdown",
   "metadata": {
    "application/vnd.databricks.v1+cell": {
     "cellMetadata": {},
     "inputWidgets": {},
     "nuid": "11be6c14-0fca-4a33-802b-0afc04675554",
     "showTitle": false,
     "tableResultSettingsMap": {},
     "title": ""
    }
   },
   "source": [
    "Uniform delta tables are available as any other table. Because we enabled `iceberg` as format, each subsequential write will update the Delta and Iceberg metadata. <br>\n",
    "Technically speaking, your table now contains 2 metadata folders:\n",
    "\n",
    "* `delta_log` containing all Delta Lake format metadata\n",
    "* `metadata` containing Iceberg format metadata\n",
    "\n",
    "\n",
    "Your Delta Lake table is still available like any other table:"
   ]
  },
  {
   "cell_type": "markdown",
   "metadata": {
    "application/vnd.databricks.v1+cell": {
     "cellMetadata": {},
     "inputWidgets": {},
     "nuid": "22b3c0ca-22be-48ea-85ca-9f12871cf1da",
     "showTitle": false,
     "tableResultSettingsMap": {},
     "title": ""
    }
   },
   "source": [
    "### Upgrade Existing Table to UniForm (Optional)\n",
    "\n"
   ]
  },
  {
   "cell_type": "code",
   "execution_count": 0,
   "metadata": {
    "application/vnd.databricks.v1+cell": {
     "cellMetadata": {},
     "inputWidgets": {},
     "nuid": "36770c79-2476-4d5e-af92-30eedfe84454",
     "showTitle": false,
     "tableResultSettingsMap": {},
     "title": ""
    }
   },
   "outputs": [],
   "source": [
    "# If needed, upgrade legacy Delta tables using REORG\n",
    "spark.sql(\"\"\"\n",
    "REORG TABLE user_uniform\n",
    " APPLY (UPGRADE UNIFORM(ICEBERG_COMPAT_VERSION=2)) \"\"\")"
   ]
  },
  {
   "cell_type": "markdown",
   "metadata": {
    "application/vnd.databricks.v1+cell": {
     "cellMetadata": {},
     "inputWidgets": {},
     "nuid": "e8321c64-112c-4fcc-a9f5-c8905bbd1e6e",
     "showTitle": false,
     "tableResultSettingsMap": {},
     "title": ""
    }
   },
   "source": [
    "### Access your Delta Lake table using Iceberg REST Catalog API\n",
    "\n",
    "If you're using an external storage, Databricks expose the table information through:"
   ]
  },
  {
   "cell_type": "code",
   "execution_count": 0,
   "metadata": {
    "application/vnd.databricks.v1+cell": {
     "cellMetadata": {},
     "inputWidgets": {},
     "nuid": "bfdae92a-bbb1-4b50-b1ac-a014acaad207",
     "showTitle": false,
     "tableResultSettingsMap": {},
     "title": ""
    }
   },
   "outputs": [],
   "source": [
    "from databricks.sdk import WorkspaceClient\n",
    "ws = WorkspaceClient() \n",
    "table_info = ws.api_client.do('GET', f'/api/2.1/unity-catalog/tables/{catalog}.{schema}.user_uniform')\n",
    "table_info['delta_uniform_iceberg']"
   ]
  },
  {
   "cell_type": "markdown",
   "metadata": {
    "application/vnd.databricks.v1+cell": {
     "cellMetadata": {},
     "inputWidgets": {},
     "nuid": "aa97f994-1315-4a8e-8449-cb84d4fe06a1",
     "showTitle": false,
     "tableResultSettingsMap": {},
     "title": ""
    }
   },
   "source": [
    "To read a managed table, you can leverage the Iceberg Catalog:\n",
    "\n",
    "```\n",
    "curl -X GET -H \"Authentication: Bearer $OAUTH_TOKEN\" -H \"Accept: application/json\" \\\n",
    "https://<workspace-instance>/api/2.1/unity-catalog/iceberg/v1/catalogs/<uc_catalog_name>/namespaces/<uc_schema_name>/tables/<uc_table_name>\n",
    "```\n",
    "\n",
    "You should then receive a response like this:\n",
    "\n",
    "```\n",
    "{\n",
    "  \"metadata-location\": \"s3://bucket/path/to/iceberg/table/metadata/file\",\n",
    "  \"metadata\": <iceberg-table-metadata-json>,\n",
    "  \"config\": {\n",
    "    \"expires-at-ms\": \"<epoch-ts-in-millis>\",\n",
    "    \"s3.access-key-id\": \"<temporary-s3-access-key-id>\",\n",
    "    \"s3.session-token\":\"<temporary-s3-session-token>\",\n",
    "    \"s3.secret-access-key\":\"<temporary-secret-access-key>\",\n",
    "    \"client.region\":\"<aws-bucket-region-for-metadata-location>\"\n",
    "  }\n",
    "}\n",
    "```\n",
    "\n",
    "For more details, see [the Uniform Documentation](https://docs.databricks.com/en/delta/uniform.html)"
   ]
  },
  {
   "cell_type": "markdown",
   "metadata": {
    "application/vnd.databricks.v1+cell": {
     "cellMetadata": {},
     "inputWidgets": {},
     "nuid": "5eb30496-8f54-4841-8b83-639b4d24d767",
     "showTitle": false,
     "tableResultSettingsMap": {},
     "title": ""
    }
   },
   "source": [
    "### Uniform Limitations\n",
    "\n",
    "Note: Uniform works only with Unity Catalog and not HMS\n",
    "\n",
    "Go to Limitations : https://docs.databricks.com/aws/en/delta/uniform#limitations\n",
    "\n"
   ]
  },
  {
   "cell_type": "code",
   "execution_count": 0,
   "metadata": {
    "application/vnd.databricks.v1+cell": {
     "cellMetadata": {},
     "inputWidgets": {},
     "nuid": "28feaa00-1335-4093-bc6a-9b1bb90fd0d6",
     "showTitle": true,
     "tableResultSettingsMap": {},
     "title": "DV can be disabled if needed:"
    }
   },
   "outputs": [],
   "source": [
    "%sql\n",
    "-- ALTER table user_uniform_dv set TBLPROPERTIES ('delta.columnMapping.mode' = 'name', 'delta.universalFormat.enabledFormats' = 'iceberg', 'delta.enableIcebergCompatV2' = 'true')"
   ]
  },
  {
   "cell_type": "markdown",
   "metadata": {
    "application/vnd.databricks.v1+cell": {
     "cellMetadata": {},
     "inputWidgets": {},
     "nuid": "c0d4bf7c-7882-45f3-9618-a5b5ca0b0dfa",
     "showTitle": false,
     "tableResultSettingsMap": {},
     "title": ""
    }
   },
   "source": [
    "That's it! You can now access all your Delta Lake table as Iceberg table, while getting the power of Delta Lake and bazing fast queries with Liquid Clustering.\n",
    "\n",
    "Your lakehouse is now fully open, without any vender lock-in. \n",
    "\n",
    "\n",
    "Next: Deep dive into Delta Lake Change Data Capture capability with [the 04-Delta-Lake-CDF notebook]($./04-Delta-Lake-CDF) or go back to [00-Delta-Lake-Introduction]($./00-Delta-Lake-Introduction).\n"
   ]
  }
 ],
 "metadata": {
  "application/vnd.databricks.v1+notebook": {
   "computePreferences": null,
   "dashboards": [],
   "environmentMetadata": {
    "environment_version": "2"
   },
   "inputWidgetPreferences": null,
   "language": "python",
   "notebookMetadata": {},
   "notebookName": "03-Delta-Lake-Uniform",
   "widgets": {}
  },
  "language_info": {
   "name": "python"
  }
 },
 "nbformat": 4,
 "nbformat_minor": 0
}
