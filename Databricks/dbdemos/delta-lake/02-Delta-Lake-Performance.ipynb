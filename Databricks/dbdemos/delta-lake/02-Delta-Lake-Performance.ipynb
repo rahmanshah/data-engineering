{
 "cells": [
  {
   "cell_type": "markdown",
   "metadata": {
    "application/vnd.databricks.v1+cell": {
     "cellMetadata": {},
     "inputWidgets": {},
     "isMarkdownSandbox": true,
     "nuid": "d35ca20a-8e8c-4b96-bf05-2bcc53ecbb3a",
     "showTitle": false,
     "tableResultSettingsMap": {},
     "title": ""
    }
   },
   "source": [
    "\n",
    "<img src=\"https://github.com/QuentinAmbard/databricks-demo/raw/main/retail/resources/images/delta-lake-perf-bench.png\" width=\"500\" style=\"float: right; margin-left: 50px\"/>\n",
    "\n",
    "# Delta Lake: Performance made simple\n",
    "\n",
    "## Blazing fast query at scale\n",
    "\n",
    "Delta Lake saves all your table metadata in an efficient format, ranging from efficient queries on small tables (GB) to massive PB-scale tables. \n",
    "\n",
    "Delta Lake is designed to be smart and do all the hard job for you. It'll automatically tune your table and read the minimum data required to be able to satisfied your query.\n",
    "\n",
    "This result in **fast read query**, even with a growing number of data/partitions!\n",
    "\n",
    "\n",
    "In this notebook, we'll see how we can leverage Delta Lake unique capabilities to speedup requests and simplify maintenance operation. For more details, we recommend to read the [documentation](https://docs.databricks.com/delta/file-mgmt.html).\n",
    "\n",
    "<!-- Collect usage data (view). Remove it to disable collection. View README for more details.  -->\n",
    "<img width=\"1px\" src=\"https://ppxrzfxige.execute-api.us-west-2.amazonaws.com/v1/analytics?category=data-engineering&org_id=796524194907820&notebook=%2F02-Delta-Lake-Performance&demo_name=delta-lake&event=VIEW&path=%2F_dbdemos%2Fdata-engineering%2Fdelta-lake%2F02-Delta-Lake-Performance&version=1\">\n",
    "<!-- [metadata={\"description\":\"Quick introduction to Delta Lake. <br/><i>Use this content for quick Delta demo.</i>\",\n",
    " \"authors\":[\"quentin.ambard@databricks.com\"],\n",
    " \"db_resources\":{}}] -->"
   ]
  },
  {
   "cell_type": "code",
   "execution_count": 0,
   "metadata": {
    "application/vnd.databricks.v1+cell": {
     "cellMetadata": {},
     "inputWidgets": {},
     "nuid": "b227516d-b911-44d0-930d-4d83443059f9",
     "showTitle": true,
     "tableResultSettingsMap": {},
     "title": "Init the demo data under ${raw_data_location}/user_parquet."
    },
    "jupyter": {
     "outputs_hidden": true
    }
   },
   "outputs": [],
   "source": [
    "%run ./_resources/00-setup $reset_all_data=false"
   ]
  },
  {
   "cell_type": "markdown",
   "metadata": {
    "application/vnd.databricks.v1+cell": {
     "cellMetadata": {},
     "inputWidgets": {},
     "isMarkdownSandbox": true,
     "nuid": "176f7613-3b79-4570-9c5b-436818d45c74",
     "showTitle": false,
     "tableResultSettingsMap": {},
     "title": ""
    }
   },
   "source": [
    "##![](https://pages.databricks.com/rs/094-YMS-629/images/delta-lake-tiny-logo.png) Delta Lake Liquid Clustering\n",
    "\n",
    "<img src=\"https://github.com/databricks-demos/dbdemos-resources/blob/main/images/product/delta/delta-liquid-1.png?raw=true\" style=\"float: right\" width=\"450px\">\n",
    "\n",
    "Data Layout is key to increase performance and query speed. Manual tuning trough hive-style partitioning is not efficient (creating too big or small partitions) and hard to maintain.\n",
    "\n",
    "To solve this issue, Delta Lake released Liquid Clustering. Liquid will automatically adjusts the data layout based on clustering keys, which helps to avoid the over or under-partitioning problems that can occur with Hive partitioning.\n",
    "\n",
    "Liquid clustering can be specified on any columns to provide fast access, including high cardinality or data skew. \n",
    "\n",
    "* **Liquid is simple**: You set Liquid clustering keys on the columns that are most often queried - no more worrying about traditional considerations like column cardinality, partition ordering, or creating artificial columns that act as perfect partitioning keys.\n",
    "* **Liquid is efficient**: It incrementally clusters new data, so you don't need to trade off between improving performance with reducing cost/write amplification.\n",
    "* **Liquid is flexible**: You can quickly change which columns are clustered by Liquid without rewriting existing data.\n",
    "\n",
    "**Delta Liquid Clustering requires DBR 13.2**\n",
    "\n",
    "For more details, [please read the documentation](https://docs.databricks.com/delta/clustering.html)"
   ]
  },
  {
   "cell_type": "code",
   "execution_count": 0,
   "metadata": {
    "application/vnd.databricks.v1+cell": {
     "cellMetadata": {},
     "inputWidgets": {},
     "nuid": "41d1f866-8f02-4e00-ab41-a74f1057a249",
     "showTitle": false,
     "tableResultSettingsMap": {},
     "title": ""
    }
   },
   "outputs": [],
   "source": [
    "-- Liquid will properly layout the data to speedup queries by firstname or lastname.\n",
    "-- this is done by adding the CLUSTER BY keyword during your standard table creation. Clustered table can't have partitions.\n",
    "CREATE OR REPLACE TABLE user_clustering CLUSTER BY (firstname, lastname)\n",
    "  AS SELECT * FROM user_delta;"
   ]
  },
  {
   "cell_type": "code",
   "execution_count": 0,
   "metadata": {
    "application/vnd.databricks.v1+cell": {
     "cellMetadata": {},
     "inputWidgets": {},
     "nuid": "fa93b92b-e30a-4a41-b2ec-807d0e148cce",
     "showTitle": false,
     "tableResultSettingsMap": {},
     "title": ""
    }
   },
   "outputs": [],
   "source": [
    "-- review the table definition, Liquid Clustering appears under \"Clustering Information\"\n",
    "DESCRIBE TABLE user_clustering;"
   ]
  },
  {
   "cell_type": "markdown",
   "metadata": {
    "application/vnd.databricks.v1+cell": {
     "cellMetadata": {},
     "inputWidgets": {},
     "isMarkdownSandbox": true,
     "nuid": "847786a2-cac5-4977-afa6-a4a132550b01",
     "showTitle": false,
     "tableResultSettingsMap": {},
     "title": ""
    }
   },
   "source": [
    "\n",
    "### How to trigger liquid clustering\n",
    "<img src=\"https://github.com/databricks-demos/dbdemos-resources/blob/main/images/product/delta/delta-liquid-2.png?raw=true\" style=\"float: right\" width=\"400px\">\n",
    "\n",
    "\n",
    "Liquid clustering is incremental, meaning that data is only rewritten as necessary to accommodate data that needs to be clustered.\n",
    "\n",
    "For best performance, Databricks recommends scheduling regular OPTIMIZE jobs to cluster data. \n",
    "\n",
    "For tables experiencing many updates or inserts, Databricks recommends scheduling an OPTIMIZE job every one or two hours. \n",
    "\n",
    "Because liquid clustering is incremental, most OPTIMIZE jobs for clustered tables run quickly. No need to specify any ZORDER columns.\n",
    "\n",
    "*Note: Liquid clustering will automatically re-arrange your data during writes above a given threshold. As with all indexes, this will add a small write cost.*"
   ]
  },
  {
   "cell_type": "code",
   "execution_count": 0,
   "metadata": {
    "application/vnd.databricks.v1+cell": {
     "cellMetadata": {},
     "inputWidgets": {},
     "nuid": "810aaabe-562b-4dcb-b7eb-6c6ca6de8769",
     "showTitle": true,
     "tableResultSettingsMap": {},
     "title": "Trigger liquid clustering"
    }
   },
   "outputs": [],
   "source": [
    "OPTIMIZE user_clustering;"
   ]
  },
  {
   "cell_type": "code",
   "execution_count": 0,
   "metadata": {
    "application/vnd.databricks.v1+cell": {
     "cellMetadata": {},
     "inputWidgets": {},
     "nuid": "9612df78-742f-4615-828e-e7d35b9acd2a",
     "showTitle": true,
     "tableResultSettingsMap": {},
     "title": "Don't forget to the table periodically to remove your history and previous files"
    }
   },
   "outputs": [],
   "source": [
    "VACUUM user_clustering;"
   ]
  },
  {
   "cell_type": "code",
   "execution_count": 0,
   "metadata": {
    "application/vnd.databricks.v1+cell": {
     "cellMetadata": {},
     "inputWidgets": {},
     "nuid": "76b69351-0884-4dfa-80aa-0959652c40f5",
     "showTitle": true,
     "tableResultSettingsMap": {},
     "title": "Our requests using firstname and lastname are now super fast!"
    }
   },
   "outputs": [],
   "source": [
    "SELECT * FROM user_clustering where firstname = 'Teresa'"
   ]
  },
  {
   "cell_type": "markdown",
   "metadata": {
    "application/vnd.databricks.v1+cell": {
     "cellMetadata": {},
     "inputWidgets": {},
     "nuid": "36cc177e-a5cc-41f5-9f8c-ee03ea3ae898",
     "showTitle": false,
     "tableResultSettingsMap": {},
     "title": ""
    }
   },
   "source": [
    "### Dynamically changing your clustering columns\n",
    "\n",
    "Liquid table are flexible, you can change your clustering columns without having to re-write all your data. \n",
    "\n",
    "Let's make sure our table provides fast queries for ID:"
   ]
  },
  {
   "cell_type": "code",
   "execution_count": 0,
   "metadata": {
    "application/vnd.databricks.v1+cell": {
     "cellMetadata": {},
     "inputWidgets": {},
     "nuid": "250dc08a-686f-4337-b891-ebb73c4a5638",
     "showTitle": true,
     "tableResultSettingsMap": {},
     "title": "Dynamically changing your clustering columns"
    }
   },
   "outputs": [],
   "source": [
    "ALTER TABLE user_clustering CLUSTER BY (id, firstname, lastname);"
   ]
  },
  {
   "cell_type": "code",
   "execution_count": 0,
   "metadata": {
    "application/vnd.databricks.v1+cell": {
     "cellMetadata": {},
     "inputWidgets": {},
     "nuid": "10c7b01d-0ac5-464d-b815-69f7c320ab67",
     "showTitle": true,
     "tableResultSettingsMap": {},
     "title": "Disabling liquid clustering:"
    }
   },
   "outputs": [],
   "source": [
    "-- Disable liquid clustering:\n",
    "ALTER TABLE user_clustering CLUSTER BY NONE;\n",
    "-- Note: this does not rewrite data that has already been clustered, but prevents future OPTIMIZE operations from using clustering keys."
   ]
  },
  {
   "cell_type": "markdown",
   "metadata": {
    "application/vnd.databricks.v1+cell": {
     "cellMetadata": {},
     "inputWidgets": {},
     "nuid": "b7b4b2e0-22db-4a3e-a651-9fea18d7008c",
     "showTitle": false,
     "tableResultSettingsMap": {},
     "title": ""
    }
   },
   "source": [
    "### Cluster by Auto\n",
    "\n",
    "In Databricks Runtime 15.4 LTS and above, you can enable automatic liquid clustering for Unity Catalog managed Delta tables. With automatic liquid clustering enabled, Databricks intelligently chooses clustering keys to optimize query performance. You enable automatic liquid clustering using the CLUSTER BY AUTO clause.\n",
    "\n",
    "When enabled, automatic key selection and clustering operations run asynchronously as a maintenance operation and require that predictive optimization is enabled for the table."
   ]
  },
  {
   "cell_type": "code",
   "execution_count": 0,
   "metadata": {
    "application/vnd.databricks.v1+cell": {
     "cellMetadata": {},
     "inputWidgets": {},
     "nuid": "9c3cf86a-6c53-42dc-8da5-40b6a7b28dc2",
     "showTitle": true,
     "tableResultSettingsMap": {},
     "title": "Using CLUSTER BY AUTO"
    }
   },
   "outputs": [],
   "source": [
    "ALTER TABLE user_clustering CLUSTER BY AUTO;"
   ]
  },
  {
   "cell_type": "code",
   "execution_count": 0,
   "metadata": {
    "application/vnd.databricks.v1+cell": {
     "cellMetadata": {},
     "inputWidgets": {},
     "nuid": "1d201ec3-c23f-48a1-b026-13545ed162e4",
     "showTitle": true,
     "tableResultSettingsMap": {},
     "title": "Ensuring That predeitive optimization is enabled at UC"
    }
   },
   "outputs": [],
   "source": [
    "DESCRIBE EXTENDED user_clustering\n",
    "\n",
    "--Predictive Optimization\tENABLE (inherited from METASTORE unity-catalog-demo)"
   ]
  },
  {
   "cell_type": "code",
   "execution_count": 0,
   "metadata": {
    "application/vnd.databricks.v1+cell": {
     "cellMetadata": {},
     "inputWidgets": {},
     "nuid": "31fc4082-4e92-4f81-88f6-8ff136d34fbb",
     "showTitle": true,
     "tableResultSettingsMap": {},
     "title": "Do the first time manual clustering/optimize"
    }
   },
   "outputs": [],
   "source": [
    "OPTIMIZE user_clustering;"
   ]
  },
  {
   "cell_type": "code",
   "execution_count": 0,
   "metadata": {
    "application/vnd.databricks.v1+cell": {
     "cellMetadata": {},
     "inputWidgets": {},
     "nuid": "eb677c9d-a30c-4ced-898b-aff2c868a679",
     "showTitle": false,
     "tableResultSettingsMap": {},
     "title": ""
    }
   },
   "outputs": [],
   "source": [
    "VACUUM user_clustering;"
   ]
  },
  {
   "cell_type": "markdown",
   "metadata": {
    "application/vnd.databricks.v1+cell": {
     "cellMetadata": {},
     "inputWidgets": {},
     "nuid": "c3feaf48-58ec-44c3-b63d-99e6606700ce",
     "showTitle": false,
     "tableResultSettingsMap": {},
     "title": ""
    }
   },
   "source": [
    "### Auto Liquid Clustering will dynamically change the cluster keys based on the read/write pattern on the table based on column filters, merge keys etc"
   ]
  },
  {
   "cell_type": "markdown",
   "metadata": {
    "application/vnd.databricks.v1+cell": {
     "cellMetadata": {},
     "inputWidgets": {},
     "nuid": "893b9f41-b291-430d-b77e-bb89e9f96402",
     "showTitle": false,
     "tableResultSettingsMap": {},
     "title": ""
    }
   },
   "source": [
    "###![](https://pages.databricks.com/rs/094-YMS-629/images/delta-lake-tiny-logo.png) Compacting without Liquid Clustering\n",
    "\n",
    "While recommended to accelerate your queries, some tables might not always have Liquid Clustering enabled.\n",
    "\n",
    "Adding data to the table results in new file creation, and your table can quickly have way too many small files which is going to impact performances over time.\n",
    "\n",
    "This becomes expecially true with streaming operation where you add new data every few seconds, in near realtime.\n",
    "\n",
    "Just like for Liquid Clusteing, Delta Lake solves this operation with the `OPTIMIZE` command, which is going to optimize the file layout for you, picking the proper file size based on heuristics. As no Cluster are defined, this will simply compact the files."
   ]
  },
  {
   "cell_type": "code",
   "execution_count": 0,
   "metadata": {
    "application/vnd.databricks.v1+cell": {
     "cellMetadata": {},
     "inputWidgets": {},
     "nuid": "b9c34e8d-265e-4cb6-acd0-5eba99683bdc",
     "showTitle": false,
     "tableResultSettingsMap": {},
     "title": ""
    }
   },
   "outputs": [],
   "source": [
    "-- let's compact our table. Note that the engine decided to compact 8 files into 1 (\"numFilesAdded\": 1, \"numFilesRemoved\": 8)\n",
    "OPTIMIZE user_delta "
   ]
  },
  {
   "cell_type": "markdown",
   "metadata": {
    "application/vnd.databricks.v1+cell": {
     "cellMetadata": {},
     "inputWidgets": {},
     "nuid": "cdbf1767-81cd-4547-9b1b-f3d5e9a09069",
     "showTitle": false,
     "tableResultSettingsMap": {},
     "title": ""
    }
   },
   "source": [
    "These maintenance operation have to be triggered frequently to keep our table properly optimized.\n",
    "\n",
    "Using Databricks, you can have your table automatically optimized out of the box, without having you to worry about it. All you have to do is set the [proper table properties](https://docs.databricks.com/optimizations/auto-optimize.html), and the engine will optimize your table when needed, without having you to run manual OPTIMIZE operation.\n",
    "\n",
    "We strongly recommend to enable this option for all your tables."
   ]
  },
  {
   "cell_type": "code",
   "execution_count": 0,
   "metadata": {
    "application/vnd.databricks.v1+cell": {
     "cellMetadata": {},
     "inputWidgets": {},
     "nuid": "e85a6a89-2abb-49d9-8400-e0dbf6a3bdab",
     "showTitle": false,
     "tableResultSettingsMap": {},
     "title": ""
    }
   },
   "outputs": [],
   "source": [
    "ALTER TABLE user_delta SET TBLPROPERTIES (delta.autoOptimize.optimizeWrite = true, delta.autoOptimize.autoCompact = true);"
   ]
  },
  {
   "cell_type": "markdown",
   "metadata": {
    "application/vnd.databricks.v1+cell": {
     "cellMetadata": {},
     "inputWidgets": {},
     "nuid": "b2f1eedc-d3e1-49db-80c3-eacec1890a47",
     "showTitle": false,
     "tableResultSettingsMap": {},
     "title": ""
    }
   },
   "source": [
    "### Note: Auto Optimize with Liquid Clustering\n",
    "\n",
    "Liquid Clustering will automatically kick off eager optimization starting from a given write size, based on heuristic. \n",
    "You can also turn on `delta.autoOptimize.optimizeWrite = true` on your liquid table starting from DBR 13.3 to make sure all writes will be optimized. While you can enable `delta.autoOptimize.autoCompact = true`, it won't have any effect for now (as of DBR 13.3, this might change in the future)."
   ]
  },
  {
   "cell_type": "markdown",
   "metadata": {
    "application/vnd.databricks.v1+cell": {
     "cellMetadata": {},
     "inputWidgets": {},
     "nuid": "709e312c-3fb3-44b1-82a9-987c229861ea",
     "showTitle": false,
     "tableResultSettingsMap": {},
     "title": ""
    }
   },
   "source": [
    "## Legacy file layout optimizations\n",
    "\n",
    "Liquid Clustering is the future of Delta Lake optimization and query speedup, and we now recommend starting with Liquid Clustering.\n",
    "\n",
    "Below are previous Delta Lake optimization leveraging Zordering and Partitioning techniques. "
   ]
  },
  {
   "cell_type": "markdown",
   "metadata": {
    "application/vnd.databricks.v1+cell": {
     "cellMetadata": {},
     "inputWidgets": {},
     "nuid": "99d821c9-a9b9-4337-b224-4f89f592eda0",
     "showTitle": false,
     "tableResultSettingsMap": {},
     "title": ""
    }
   },
   "source": [
    "### ZORDER\n",
    "\n",
    "\n",
    "ZORDER will optimize the file layout by multiple columns, but it's often used in addition to partitioning and is not as efficient as Liquid Clustering. It'll increase the write amplification and won't solve your small partitions issues.\n",
    "\n",
    "Below are a few examples on how you can leverage ZORDER, but we strongly recommend switching to Liquid Tables instead."
   ]
  },
  {
   "cell_type": "markdown",
   "metadata": {
    "application/vnd.databricks.v1+cell": {
     "cellMetadata": {},
     "inputWidgets": {},
     "isMarkdownSandbox": true,
     "nuid": "bfd7651a-a7ad-4c94-8726-c16b8fa6ef46",
     "showTitle": false,
     "tableResultSettingsMap": {},
     "title": ""
    }
   },
   "source": [
    "### ![](https://pages.databricks.com/rs/094-YMS-629/images/delta-lake-tiny-logo.png) Adding indexes (ZORDER) to your table\n",
    "\n",
    "If you request your table using a specific predicat (ex: username), you can speedup your request by adding an index on these columns. We call this operation ZORDER.\n",
    "\n",
    "You can ZORDER on any column, especially the one having high cardinality (id, firstname etc). \n",
    "\n",
    "*Note: We recommand to stay below 4 ZORDER columns for better query performance.*"
   ]
  },
  {
   "cell_type": "code",
   "execution_count": 0,
   "metadata": {
    "application/vnd.databricks.v1+cell": {
     "cellMetadata": {},
     "inputWidgets": {},
     "nuid": "9f347790-f5aa-4dde-9b4d-ac9bb73d4f8e",
     "showTitle": false,
     "tableResultSettingsMap": {},
     "title": ""
    }
   },
   "outputs": [],
   "source": [
    "OPTIMIZE user_delta ZORDER BY (id, firstname);\n",
    "\n",
    "-- our next queries using a filter on id or firstname will be much faster\n",
    "SELECT * FROM user_delta where id = 4 or firstname = 'Quentin';"
   ]
  },
  {
   "cell_type": "markdown",
   "metadata": {
    "application/vnd.databricks.v1+cell": {
     "cellMetadata": {},
     "inputWidgets": {},
     "nuid": "c8a3d228-ef49-4fee-8513-3a51f3001822",
     "showTitle": false,
     "tableResultSettingsMap": {},
     "title": ""
    }
   },
   "source": [
    "### ![Delta Lake Tiny Logo](https://pages.databricks.com/rs/094-YMS-629/images/delta-lake-tiny-logo.png) Delta Lake Generated columns for dynamic partitions\n",
    "\n",
    "Adding partitions to your table is a way of saving data having the same column under the same location. Our engine will then be able to read less data and have better read performances.\n",
    "\n",
    "Using Delta Lake, partitions can be generated based on expression, and the engine will push-down your predicate applying the same expression even if the request is on the original field.\n",
    "\n",
    "A typical use-case is to partition per a given time (ex: year, month or even day). \n",
    "\n",
    "Our user table has a `creation_date` field. We'll generate a `creation_day` field based on an expression and use it as partition for our table with `GENERATED ALWAYS`.\n",
    "\n",
    "In addition, we'll let the engine generate incremental ID.\n",
    "\n",
    "*Note: Remember that partition will also create more files under the hood. You have to be careful using them. Make sure you don't over-partition your table (aim for 100's of partition max, having at least 1GB of data). We don't recommend creating partition on table smaller than 1TB. Use LIQUID CLUSTERING instead.*"
   ]
  },
  {
   "cell_type": "code",
   "execution_count": 0,
   "metadata": {
    "application/vnd.databricks.v1+cell": {
     "cellMetadata": {},
     "inputWidgets": {},
     "nuid": "befe6196-9697-49a5-9431-09fea39a40d7",
     "showTitle": false,
     "tableResultSettingsMap": {},
     "title": ""
    }
   },
   "outputs": [],
   "source": [
    "CREATE TABLE IF NOT EXISTS user_delta_partition (\n",
    "  id BIGINT GENERATED ALWAYS AS IDENTITY ( START WITH 10000 INCREMENT BY 1 ), \n",
    "  firstname STRING, \n",
    "  lastname STRING, \n",
    "  email STRING, \n",
    "  address STRING, \n",
    "  gender INT, \n",
    "  age_group INT,\n",
    "  creation_date timestamp, \n",
    "  creation_day date GENERATED ALWAYS AS ( CAST(creation_date AS DATE) ) )\n",
    "PARTITIONED BY (creation_day);"
   ]
  },
  {
   "cell_type": "code",
   "execution_count": 0,
   "metadata": {
    "application/vnd.databricks.v1+cell": {
     "cellMetadata": {},
     "inputWidgets": {},
     "nuid": "ccb70289-e501-48b1-a829-c9e6fa83892c",
     "showTitle": false,
     "tableResultSettingsMap": {},
     "title": ""
    }
   },
   "outputs": [],
   "source": [
    "-- Note that we don't insert data for the creation_day field or id. The engine will handle that for us:\n",
    "INSERT INTO user_delta_partition (firstname, lastname, email, address, gender, age_group, creation_date) SELECT\n",
    "  firstname,\n",
    "  lastname,\n",
    "  email,\n",
    "  address,\n",
    "  gender,\n",
    "  age_group,\n",
    "  creation_date\n",
    "FROM user_delta;"
   ]
  },
  {
   "cell_type": "code",
   "execution_count": 0,
   "metadata": {
    "application/vnd.databricks.v1+cell": {
     "cellMetadata": {},
     "inputWidgets": {},
     "nuid": "27d31ed7-a589-413c-a2aa-7ad1ef141654",
     "showTitle": false,
     "tableResultSettingsMap": {},
     "title": ""
    }
   },
   "outputs": [],
   "source": [
    "SELECT * FROM user_delta_partition where creation_day = CAST(NOW() as DATE) ;"
   ]
  },
  {
   "cell_type": "markdown",
   "metadata": {
    "application/vnd.databricks.v1+cell": {
     "cellMetadata": {},
     "inputWidgets": {},
     "nuid": "e79218f0-04d5-430e-a603-5b065ff9707a",
     "showTitle": false,
     "tableResultSettingsMap": {},
     "title": ""
    }
   },
   "source": [
    "That's it! You know how to have super fast queries on top of your Delta Lake tables!\n",
    "\n",
    "\n",
    "Next: Discover how Delta Lake is an Universal Format with [the 03-Delta-Lake-Uniform notebook]($./03-Delta-Lake-Uniform) or go back to [00-Delta-Lake-Introduction]($./00-Delta-Lake-Introduction).\n"
   ]
  }
 ],
 "metadata": {
  "application/vnd.databricks.v1+notebook": {
   "computePreferences": null,
   "dashboards": [],
   "environmentMetadata": {
    "environment_version": "2"
   },
   "inputWidgetPreferences": null,
   "language": "sql",
   "notebookMetadata": {
    "pythonIndentUnit": 4
   },
   "notebookName": "02-Delta-Lake-Performance",
   "widgets": {}
  },
  "language_info": {
   "name": "sql"
  }
 },
 "nbformat": 4,
 "nbformat_minor": 0
}
