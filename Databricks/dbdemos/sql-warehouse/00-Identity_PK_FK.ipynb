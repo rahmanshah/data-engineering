{
 "cells": [
  {
   "cell_type": "markdown",
   "metadata": {
    "application/vnd.databricks.v1+cell": {
     "cellMetadata": {},
     "inputWidgets": {},
     "isMarkdownSandbox": true,
     "nuid": "c60227ea-9336-49e5-9a4f-46baeae6039e",
     "showTitle": false,
     "tableResultSettingsMap": {},
     "title": ""
    }
   },
   "source": [
    "# Unity Catalog : Support for Identity Columns, Primary + Foreign Key Constraints\n",
    "\n",
    "<img src=\"https://github.com/QuentinAmbard/databricks-demo/raw/main/product_demos/uc/UC-FK-PK-crop.png\" style=\"float:right; margin:10px 0px 0px 10px\" width=\"700\"/>\n",
    "\n",
    "\n",
    "\n",
    "To simplify SQL operations and support migrations from on-prem and alternative warehouse, Databricks Lakehouse now give customers convenient ways to build Entity Relationship Diagrams that are simple to maintain and evolve.\n",
    "\n",
    "These features offer:\n",
    "- The ability to automatically generate auto-incrementing identify columns. Just insert data and the engine will automatically increment the ID.\n",
    "- Support for defining primary key\n",
    "- Support for defining foreign key constraints\n",
    "\n",
    "Note that as of now, Primary Key and Foreign Key are informational only and then won’t be enforced. \n",
    "\n",
    "<br /><br /><br />\n",
    "## Use case\n",
    "\n",
    "<img src=\"https://github.com/QuentinAmbard/databricks-demo/raw/main/product_demos/uc/UC-star-schema.png\" style=\"float:right; margin:10px 0px 0px 10px\" width=\"700\"/>\n",
    "\n",
    "Defining PK & FK helps the BI analyst to understand the entity relationships and how to join tables. It also offers more information to BI tools who can leverage this to perform further optimisation.\n",
    "\n",
    "We'll define the following star schema:\n",
    "* dim_store\n",
    "* dim_product\n",
    "* dim_customer\n",
    "\n",
    "And the fact table containing our sales information pointing to our dimension tables:\n",
    "\n",
    "* fact_sales\n",
    "\n",
    "Requirements:\n",
    "- PK/FK requires Unity Catalog enabled (Hive Metastore is not supported for FK/PK)\n",
    "- DBR 11.1\n",
    "\n",
    "<!-- Collect usage data (view). Remove it to disable collection or disable tracker during installation. View README for more details.  -->\n",
    "<img width=\"1px\" src=\"https://ppxrzfxige.execute-api.us-west-2.amazonaws.com/v1/analytics?category=DBSQL&org_id=796524194907820&notebook=%2F00-Identity_PK_FK&demo_name=sql-warehouse&event=VIEW&path=%2F_dbdemos%2FDBSQL%2Fsql-warehouse%2F00-Identity_PK_FK&version=1\">"
   ]
  },
  {
   "cell_type": "code",
   "execution_count": 0,
   "metadata": {
    "application/vnd.databricks.v1+cell": {
     "cellMetadata": {},
     "inputWidgets": {},
     "nuid": "a6ff7521-edda-4a49-8216-b19667e87e56",
     "showTitle": true,
     "tableResultSettingsMap": {},
     "title": "Environment Setup. You need the permission to create a catalog and schema in your Unity Catalog metastore."
    },
    "jupyter": {
     "outputs_hidden": true
    }
   },
   "outputs": [],
   "source": [
    "%run ./_resources/00-setup"
   ]
  },
  {
   "cell_type": "markdown",
   "metadata": {
    "application/vnd.databricks.v1+cell": {
     "cellMetadata": {},
     "inputWidgets": {},
     "nuid": "ee5f83b3-52f2-4daa-bdc2-d0bbfd460e0a",
     "showTitle": false,
     "tableResultSettingsMap": {},
     "title": ""
    }
   },
   "source": [
    "## 1/ Create a Dimension & Fact Tables In Unity Catalog\n",
    "\n",
    "The first step is to create a Delta Tables in Unity Catalog (see [documentation](https://docs.databricks.com/sql/language-manual/sql-ref-syntax-ddl-create-table-using.html)).\n",
    "\n",
    "We want to do that in SQL, to show multi-language support (we could have done it in python too):\n",
    "\n",
    "\n",
    "* Use the `CREATE TABLE` command\n",
    "* Add generated identity column with `GENERATED ALWAYS AS IDENTITY`\n",
    "* Define PK with `PRIMARY KEY`\n",
    "* Define Foreign Keys with `FOREIGN KEY REFERENCES`"
   ]
  },
  {
   "cell_type": "code",
   "execution_count": 0,
   "metadata": {
    "application/vnd.databricks.v1+cell": {
     "cellMetadata": {},
     "inputWidgets": {},
     "nuid": "67b44c13-ba57-4a58-bd02-037fafc9a4a0",
     "showTitle": false,
     "tableResultSettingsMap": {},
     "title": ""
    }
   },
   "outputs": [],
   "source": [
    "--STORE DIMENSION\n",
    "CREATE OR REPLACE  TABLE dim_store(\n",
    "  store_id BIGINT GENERATED ALWAYS AS IDENTITY PRIMARY KEY,\n",
    "  store_name STRING,\n",
    "  address STRING\n",
    ");\n",
    "\n",
    "--PRODUCT DIMENSION\n",
    "CREATE OR REPLACE  TABLE dim_product(\n",
    "  product_id BIGINT GENERATED ALWAYS AS IDENTITY PRIMARY KEY,\n",
    "  sku STRING,\n",
    "  description STRING,\n",
    "  category STRING\n",
    ");\n",
    "\n",
    "--CUSTOMER DIMENSION\n",
    "CREATE OR REPLACE  TABLE dim_customer(\n",
    "  customer_id BIGINT GENERATED ALWAYS AS IDENTITY (START WITH 0 INCREMENT BY 10) PRIMARY KEY,\n",
    "  customer_name STRING,\n",
    "  customer_profile STRING,\n",
    "  address STRING\n",
    ");\n",
    "\n",
    "CREATE OR REPLACE TABLE fact_sales(\n",
    "  sales_id BIGINT GENERATED ALWAYS AS IDENTITY PRIMARY KEY,\n",
    "  product_id BIGINT NOT NULL CONSTRAINT dim_product_fk FOREIGN KEY REFERENCES dim_product,\n",
    "  store_id BIGINT NOT NULL CONSTRAINT dim_store_fk FOREIGN KEY REFERENCES dim_store,\n",
    "  customer_id BIGINT NOT NULL CONSTRAINT dim_customer_fk FOREIGN KEY REFERENCES dim_customer,\n",
    "  price_sold DOUBLE,\n",
    "  units_sold INT,\n",
    "  dollar_cost DOUBLE\n",
    ");\n"
   ]
  },
  {
   "cell_type": "markdown",
   "metadata": {
    "application/vnd.databricks.v1+cell": {
     "cellMetadata": {},
     "inputWidgets": {},
     "nuid": "23b59f83-8043-4f2a-8b3c-395fbb4704f1",
     "showTitle": false,
     "tableResultSettingsMap": {},
     "title": ""
    }
   },
   "source": [
    "## 2/ Let's look at the table definition for DIM_CUSTOMER\n",
    "\n",
    "The first step is to run DESCRIBE TABLE EXTENDED\n",
    "\n",
    "Constraints are shown at the bottom of the results:\n",
    "\n",
    "\n",
    "| col_name       | data_type                | \n",
    "|----------------|--------------------------|\n",
    "| #  Constraints |                          |\n",
    "| dim_customer_pk    | PRIMARY KEY (`customer_id`) |"
   ]
  },
  {
   "cell_type": "code",
   "execution_count": 0,
   "metadata": {
    "application/vnd.databricks.v1+cell": {
     "cellMetadata": {},
     "inputWidgets": {},
     "nuid": "2e49ec86-39ab-4957-a4fc-5a2439cbcc3d",
     "showTitle": false,
     "tableResultSettingsMap": {},
     "title": ""
    }
   },
   "outputs": [],
   "source": [
    "DESCRIBE TABLE EXTENDED dim_customer;"
   ]
  },
  {
   "cell_type": "markdown",
   "metadata": {
    "application/vnd.databricks.v1+cell": {
     "cellMetadata": {},
     "inputWidgets": {},
     "nuid": "c2d04025-5681-4f92-bef1-6b2bb25fdda9",
     "showTitle": false,
     "tableResultSettingsMap": {},
     "title": ""
    }
   },
   "source": [
    "## 3/ Let's add some data to the Dimension Tables\n",
    "\n",
    "We want to do that in SQL, to show multi-language support:\n",
    "\n",
    "* Use the `INSERT INTO` command to insert some rows in the table\n",
    "* Note that we don't specify the values for IDs as they'll be generated by the engine with auto-increment"
   ]
  },
  {
   "cell_type": "code",
   "execution_count": 0,
   "metadata": {
    "application/vnd.databricks.v1+cell": {
     "cellMetadata": {},
     "inputWidgets": {},
     "nuid": "8c245f63-36f4-45e1-a044-32e64fafd2bb",
     "showTitle": false,
     "tableResultSettingsMap": {},
     "title": ""
    }
   },
   "outputs": [],
   "source": [
    "INSERT INTO\n",
    "  dim_store (store_name, address)\n",
    "VALUES\n",
    "  ('City Store', '1 Main Rd, Whoville');\n",
    "  \n",
    "INSERT INTO\n",
    "  dim_product (sku, description, category)\n",
    "VALUES\n",
    "  ('1000001', 'High Tops', 'Ladies Shoes'),\n",
    "  ('7000003', 'Printed T', 'Ladies Fashion Tops');\n",
    "  \n",
    "INSERT INTO\n",
    "  dim_customer (customer_name, customer_profile, address)\n",
    "VALUES\n",
    "  ('Al', 'Al profile', 'Databricks - Queensland Australia'),\n",
    "  ('Quentin', 'REDACTED_PROFILE', 'Databricks - Paris France');"
   ]
  },
  {
   "cell_type": "code",
   "execution_count": 0,
   "metadata": {
    "application/vnd.databricks.v1+cell": {
     "cellMetadata": {},
     "inputWidgets": {},
     "nuid": "ddd0b86f-6fc2-4980-a2e0-57978c90562e",
     "showTitle": true,
     "tableResultSettingsMap": {},
     "title": "As you can see the ids (GENERATED ALWAYS) are automatically generated with increment:"
    }
   },
   "outputs": [],
   "source": [
    "SELECT * FROM dim_product;"
   ]
  },
  {
   "cell_type": "markdown",
   "metadata": {
    "application/vnd.databricks.v1+cell": {
     "cellMetadata": {},
     "inputWidgets": {},
     "nuid": "c2b18c57-a93a-432f-a79f-7f6b7eefa053",
     "showTitle": false,
     "tableResultSettingsMap": {},
     "title": ""
    }
   },
   "source": [
    "## 4/ Let's add some data to the Fact Tables\n",
    "\n",
    "We want to do that in SQL, to show multi-language support:\n",
    "1. Use the `INSERT INTO` command to insert some rows in the table"
   ]
  },
  {
   "cell_type": "code",
   "execution_count": 0,
   "metadata": {
    "application/vnd.databricks.v1+cell": {
     "cellMetadata": {},
     "inputWidgets": {},
     "nuid": "8ad477c5-0f46-4750-b05f-575fa5543acd",
     "showTitle": false,
     "tableResultSettingsMap": {},
     "title": ""
    }
   },
   "outputs": [],
   "source": [
    "INSERT INTO\n",
    "  fact_sales (product_id, store_id, customer_id, price_sold, units_sold, dollar_cost)\n",
    "VALUES\n",
    "  (1, 1, 0, 100.99, 2, 2.99),\n",
    "  (2, 1, 0, 10.99, 2, 2.99),\n",
    "  (1, 1, 0, 100.99, 2, 2.99),\n",
    "  (1, 1, 10, 100.99, 2, 2.99),\n",
    "  (2, 1, 10, 10.99, 2, 2.99);"
   ]
  },
  {
   "cell_type": "markdown",
   "metadata": {
    "application/vnd.databricks.v1+cell": {
     "cellMetadata": {},
     "inputWidgets": {},
     "nuid": "60bfc032-9f4f-4cef-ac0d-9628eb479a9d",
     "showTitle": false,
     "tableResultSettingsMap": {},
     "title": ""
    }
   },
   "source": [
    "### Query the tables joining data\n",
    "\n",
    "We can now imply query the tables to retrieve our data based on the FK:"
   ]
  },
  {
   "cell_type": "code",
   "execution_count": 0,
   "metadata": {
    "application/vnd.databricks.v1+cell": {
     "cellMetadata": {},
     "inputWidgets": {},
     "nuid": "2f77c819-aed6-4eed-b508-c80a318ef115",
     "showTitle": false,
     "tableResultSettingsMap": {},
     "title": ""
    }
   },
   "outputs": [],
   "source": [
    "SELECT * FROM fact_sales\n",
    "  INNER JOIN dim_product  USING (product_id)\n",
    "  INNER JOIN dim_customer USING (customer_id)\n",
    "  INNER JOIN dim_store    USING (store_id)"
   ]
  },
  {
   "cell_type": "markdown",
   "metadata": {
    "application/vnd.databricks.v1+cell": {
     "cellMetadata": {},
     "inputWidgets": {},
     "nuid": "0b91bbbf-3e38-4f35-8c3d-b820b181783b",
     "showTitle": false,
     "tableResultSettingsMap": {},
     "title": ""
    }
   },
   "source": [
    "## 5/ Primary Key and Foreign Key in Data Explorer\n",
    "\n",
    "<br />\n",
    "\n",
    "<img src=\"https://github.com/althrussell/databricks-demo/raw/main/product-demos/pkfk/images/data_explorer.gif\" style=\"float:right; margin-left:100px\" width=\"700\"/>"
   ]
  },
  {
   "cell_type": "markdown",
   "metadata": {
    "application/vnd.databricks.v1+cell": {
     "cellMetadata": {},
     "inputWidgets": {},
     "nuid": "65b8586c-750c-42b7-87cf-8007022f6516",
     "showTitle": false,
     "tableResultSettingsMap": {},
     "title": ""
    }
   },
   "source": [
    "\n",
    "## 6/ Primary Key and Foreign Key in DBSQL - Code Completion\n",
    "\n",
    "<br />\n",
    "\n",
    "<img src=\"https://github.com/althrussell/databricks-demo/raw/main/product-demos/pkfk/images/code_completion.gif\" style=\"float:center; margin-left:100px\" width=\"700\"/>"
   ]
  },
  {
   "cell_type": "code",
   "execution_count": 0,
   "metadata": {
    "application/vnd.databricks.v1+cell": {
     "cellMetadata": {},
     "inputWidgets": {},
     "nuid": "bd99fb8e-e2e0-401a-a561-c1c1c35780d9",
     "showTitle": true,
     "tableResultSettingsMap": {},
     "title": "Clean Up"
    }
   },
   "outputs": [],
   "source": [
    "-- %python spark.sql(f\"DROP DATABASE {catalog}.{db} CASCADE\")"
   ]
  },
  {
   "cell_type": "markdown",
   "metadata": {
    "application/vnd.databricks.v1+cell": {
     "cellMetadata": {},
     "inputWidgets": {},
     "isMarkdownSandbox": true,
     "nuid": "19f118c7-441d-4b4b-aa6e-99c6d3dcf5bc",
     "showTitle": false,
     "tableResultSettingsMap": {},
     "title": ""
    }
   },
   "source": [
    "# Summary\n",
    "\n",
    "<img src=\"https://github.com/QuentinAmbard/databricks-demo/raw/main/product_demos/uc/UC-FK-PK.png\" style=\"float:right; margin-left:10px\" width=\"900\"/>\n",
    "\n",
    "As you have seen Primary Keys and Foreign Keys help the BI analyst to understand the entity relationships and how to join tables and even better having code completion do the joins for you.  \n",
    "\n",
    "The best Datawarehouse is a Lakehouse!\n",
    "\n",
    "Next Steps:\n",
    "- Try DBSQL query & dashboard editors\n",
    "- Plug your BI tools (Tableau, PowerBI ...) to query these tables directly!"
   ]
  },
  {
   "cell_type": "markdown",
   "metadata": {
    "application/vnd.databricks.v1+cell": {
     "cellMetadata": {},
     "inputWidgets": {},
     "nuid": "79719e01-a262-4872-a768-1c7181494b46",
     "showTitle": false,
     "tableResultSettingsMap": {},
     "title": ""
    }
   },
   "source": [
    "## What's next:\n",
    "\n",
    "Discover more warehouse capabilities: open [01-Advanced-SQL-Warehouse]($./01-Advanced-SQL-Warehouse) to see how to create stored proc, sql variable, loops and more!"
   ]
  }
 ],
 "metadata": {
  "application/vnd.databricks.v1+notebook": {
   "computePreferences": null,
   "dashboards": [],
   "environmentMetadata": {
    "environment_version": "2"
   },
   "inputWidgetPreferences": null,
   "language": "sql",
   "notebookMetadata": {},
   "notebookName": "00-Identity_PK_FK",
   "widgets": {}
  },
  "language_info": {
   "name": "sql"
  }
 },
 "nbformat": 4,
 "nbformat_minor": 0
}
