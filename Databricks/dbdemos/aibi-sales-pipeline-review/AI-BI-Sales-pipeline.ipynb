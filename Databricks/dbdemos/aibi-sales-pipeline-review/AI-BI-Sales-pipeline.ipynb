{
 "cells": [
  {
   "cell_type": "markdown",
   "metadata": {
    "application/vnd.databricks.v1+cell": {
     "cellMetadata": {},
     "inputWidgets": {},
     "nuid": "ccf51618-134d-4c0f-9309-397d42ac01fc",
     "showTitle": false,
     "tableResultSettingsMap": {},
     "title": ""
    }
   },
   "source": [
    "# Databricks AI/BI for Understanding your Sales Pipeline\n",
    "\n",
    "[Databricks AI/BI](https://www.youtube.com/watch?v=5ctfW6Ac0Ws), the newest addition to the Databricks Intelligence Platform, is a new type of business intelligence product built to democratize analytics and insights for anyone in your organization - technical or nontechnical. \n",
    "\n",
    "Powered by _your own organization's data,_ AI/BI understands your unique business concepts, challenges, and areas of opportunity, continuously learning and improving based on feedback - all behind a slick, nontechnical UI.\n",
    "\n",
    "AI/BI features two complementary capabilities: _Dashboards and Genie_. \n",
    "\n",
    "- **Dashboards** provide a low-code experience to help analysts quickly build highly interactive data visualizations for their business teams using any natural language.\n",
    "- **Genie** allows business users to converse with their data to ask questions and self-serve their own analytics.\n",
    "\n",
    "Databricks AI/BI is native to the Databricks Data Intelligence Platform, providing instant insights at massive scale while ensuring unified governance and fine-grained security are maintained across the entire organization.\n",
    "\n",
    "\n",
    "\n",
    "<!-- Collect usage data (view). Remove it to disable collection or disable tracker during installation. View README for more details.  -->\n",
    "<img width=\"1px\" src=\"https://ppxrzfxige.execute-api.us-west-2.amazonaws.com/v1/analytics?category=AI-BI&org_id=796524194907820&notebook=%2FAI-BI-Sales-pipeline&demo_name=aibi-sales-pipeline-review&event=VIEW&path=%2F_dbdemos%2FAI-BI%2Faibi-sales-pipeline-review%2FAI-BI-Sales-pipeline&version=1\">"
   ]
  },
  {
   "cell_type": "markdown",
   "metadata": {
    "application/vnd.databricks.v1+cell": {
     "cellMetadata": {},
     "inputWidgets": {},
     "nuid": "1f0c2e1b-351d-44a3-8c99-88b9fbb923f8",
     "showTitle": false,
     "tableResultSettingsMap": {},
     "title": ""
    }
   },
   "source": [
    "# Sales Pipeline Review & Management\n",
    "---\n",
    "\n",
    "## The Challenge\n",
    "\n",
    "In today’s competitive market, efficiently managing the sales pipeline is crucial across industries. Ineffective sales pipeline management can lead to missed opportunities, inaccurate revenue forecasting, and poor resource allocation. Organizations without a comprehensive data intelligence platform often struggle to consolidate data from multiple sources, deliver real-time insights to stakeholders, and reduce time-to-insights necessary for strategic adjustments in the sales process.\n",
    "\n",
    "## The Solution\n",
    "\n",
    "Databricks' Intelligence Platform leverages **AI and Business Intelligence (or as we call it, AI/BI)** to provide seamless access to your organization's sales data. By integrating data from various CRM, marketing, and transactional sources into a unified environment, Databricks breaks down data silos and offers end-to-end visibility into the entire sales pipeline.\n",
    "\n",
    "Advanced AI-driven analytics and intuitive BI tools empower both technical and non-technical users to examine sales trends, forecast revenue, and analyze pipeline health through natural language queries. This accessibility accelerates time-to-insights, enhances cross-functional collaboration, and enables leadership to make informed, data-driven decisions to improve sales strategy, close rates, and overall pipeline efficiency.\n",
    "\n",
    "## This Notebook\n",
    "\n",
    "This notebook will guide you, the knowledgeable Databricks aficionado, through deploying a Databricks AI/BI project focused on sales pipeline review and management. Follow the step-by-step process to familiarize yourself with the project. By installing this project, its dashboard and Genie Dataroom are already accessible at **these links**.\n",
    "\n",
    "In the following sections, this notebook will guide you through at a high level:\n",
    "1. Data Ingestion with **Lakeflow Connect**\n",
    "2. Data Governance and Security with **Unity Catalog**\n",
    "3. Creating Interactive **Dashboards** with Databricks\n",
    "4. Utilizing **Genie** for natural language queries to analyze and review your sales pipeline data, even in complex scenarios"
   ]
  },
  {
   "cell_type": "markdown",
   "metadata": {
    "application/vnd.databricks.v1+cell": {
     "cellMetadata": {},
     "inputWidgets": {},
     "isMarkdownSandbox": true,
     "nuid": "ea9a4389-cbc9-4e9d-98e2-fdd955d2ee1d",
     "showTitle": false,
     "tableResultSettingsMap": {},
     "title": ""
    }
   },
   "source": [
    "## Step 1: Utilize Lakeflow Connect for Intuitive Data Ingestion\n",
    "\n",
    "<div style=\"background-color: #1B3139; color: #F9F7F4; padding: 40px; max-width: 400px; text-align: center; border-radius: 12px; box-shadow: 0 4px 10px rgba(0, 0, 0, 0.2); float:right; margin: 0px 15px 0px 15px\">\n",
    "  <div style=\"font-size: 1.5em; color: #FFAB00; margin-bottom: 20px;\">Data Ingestion with LakeFlow Connect</div>\n",
    "  <p style=\"font-size: 1em; color: #EEEDE9; margin-bottom: 20px; line-height: 1.6;\">\n",
    "    Discover how to seamlessly ingest your data with LakeFlow Connect. Dive into our interactive tour to learn more!\n",
    "  </p>\n",
    "  <a href=\"https://app.getreprise.com/launch/BXZY58n/\" target=\"_blank\" style=\"background-color: #00A972; color: #F9F7F4; border: none; padding: 15px 25px; border-radius: 8px; font-size: 1em; font-weight: bold; text-decoration: none; display: inline-block; transition: background-color 0.3s ease; cursor: pointer;\"\n",
    "     onmouseover=\"this.style.backgroundColor='#FF3621';\" onmouseout=\"this.style.backgroundColor='#00A972';\">\n",
    "    Open the Interactive Tour\n",
    "  </a>\n",
    "</div>\n",
    "\n",
    "As in any data project, your first step is to ingest and centralize your data to a central place.\n",
    "\n",
    "Databricks makes this super simple with LakeFlow Connect, a **point-and-click data ingestion solution** supporting:\n",
    "\n",
    "- Databases -- including SQL Servers and more.\n",
    "- Entreprise application such as Salesforce, Workday, Google Analytics or ServiceNow.\n",
    "\n",
    "If you want to know more about LakeFlow Connect and how to incrementally synchronize your external table to Databricks, you can open the [Lakeflow Connect Product Tour](https://www.databricks.com/resources/demos/tours/platform/discover-databricks-lakeflow-connect-demo).\n",
    "\n",
    "\n",
    "In this demo, we pre-loaded the data for you! For more details on how to simplify data transformation, [open the Delta Live Table Product Tour](https://www.databricks.com/resources/demos/tours/data-engineering/delta-live-tables).\n"
   ]
  },
  {
   "cell_type": "markdown",
   "metadata": {
    "application/vnd.databricks.v1+cell": {
     "cellMetadata": {},
     "inputWidgets": {},
     "isMarkdownSandbox": true,
     "nuid": "34de8ed4-1bb9-4379-a502-f3169692bf5e",
     "showTitle": false,
     "tableResultSettingsMap": {},
     "title": ""
    }
   },
   "source": [
    "\n",
    "## Step 2: Ensure data governance and security coverage with Databricks Unity Catalog\n",
    "\n",
    "<img src=\"https://raw.githubusercontent.com/databricks-demos/dbdemos-resources/refs/heads/main/images/aibi/dbx_aibi_uc.png\" style=\"float: right; margin: 10px\" width=\"500px\">\n",
    "\n",
    "Once your data is ingested and ready-to-go, **Databricks Unity Catalog** provides all the key features to support your business' data governane requirements, _including but not limited to_:\n",
    "\n",
    "- **Fine Grained Access control on your data**: Control who can access which row or column based on your own organization\n",
    "- **Full lineage, from data ingestion to ML models**: Analyze all downstream impact for any legal / privacy requirements\n",
    "- **Audit and traceability**: Analyze who did what, when\n",
    "- **Support for all data assets**: Including files, table, dashboards, ML/AI models, jobs, and more! _Simplify governance, support all your teams in one place._\n",
    "\n",
    "Explore the data and table ingested in [Unity Catalog](/explore/data) and make sure that it looks appropriate for your organization's needs.\n",
    "\n",
    "Click [here](https://www.databricks.com/product/unity-catalog) for more information on Databricks Unity Catalog.\n"
   ]
  },
  {
   "cell_type": "markdown",
   "metadata": {
    "application/vnd.databricks.v1+cell": {
     "cellMetadata": {},
     "inputWidgets": {},
     "isMarkdownSandbox": true,
     "nuid": "371632b6-7b1e-4a98-ad1f-fb185eda35fd",
     "showTitle": false,
     "tableResultSettingsMap": {},
     "title": ""
    }
   },
   "source": [
    "\n",
    "## Step 3: Utilize Databricks Dashboards to clearly show data trends\n",
    "\n",
    "<img src=\"https://raw.githubusercontent.com/databricks-demos/dbdemos-resources/refs/heads/main/images/aibi/dbx_aibi_dashboard_product.gif\" style=\"float: right; margin: 10px\" width=\"500px\">\n",
    "\n",
    "Your Marketing Campaign data is now available for your Data Analyst to explore and track their main KPIs.\n",
    "\n",
    "AI/BI Dashboards make it easy to create and iterate on visualizations with natural language through AI-assisted authoring. \n",
    "\n",
    "Dashboards offers advanced data visualization capabilities including sleek charts, interactions such as cross-filtering, periodic snapshots via email, embedding and _much more_. \n",
    "\n",
    "And they live side-by-side with your data, delivering instant load and rapid interactive analysis — no matter the data or user scale.\n",
    "\n",
    "\n",
    "Open the <a dbdemos-dashboard-id=\"sales-pipeline\" href='/sql/dashboardsv3/01f0b23e68cd1cf886cd54bbb5218303' target=\"_blank\">Sales Pipeline Dashboard to analyze & track main KPIs</a>"
   ]
  },
  {
   "cell_type": "markdown",
   "metadata": {
    "application/vnd.databricks.v1+cell": {
     "cellMetadata": {},
     "inputWidgets": {},
     "isMarkdownSandbox": true,
     "nuid": "02fcf49b-0668-489d-84f0-f48c4938f47d",
     "showTitle": false,
     "tableResultSettingsMap": {},
     "title": ""
    }
   },
   "source": [
    "\n",
    "## Step 4: Create Genie to allow end-users to converse with your data\n",
    "\n",
    "<img src=\"https://raw.githubusercontent.com/databricks-demos/dbdemos-resources/refs/heads/main/images/aibi/dbx_aibi_genie_product.gif\" style=\"float: right; margin: 10px\" width=\"500px\">\n",
    "\n",
    "Our data is now available as a Dashboard that our business users can open.\n",
    "\n",
    "However, they'll likely have extra questions or followup based on the insight they see in the dashboard, like: \"What the heck is wrong with my campaign, anyway?\" or \"What was the CTR of my campaign last month?\"\n",
    "\n",
    "Open the <a dbdemos-genie-id=\"sales-pipeline\" href='/genie/rooms/01f0b23e8a9b1e8caac2e3a0f4e1f97d' target=\"_blank\">Sales Pipeline Genie space to deep dive into your data</a>"
   ]
  },
  {
   "cell_type": "markdown",
   "metadata": {
    "application/vnd.databricks.v1+cell": {
     "cellMetadata": {},
     "inputWidgets": {},
     "nuid": "d518ea2a-2f38-4a0a-8b7e-72ec5308b210",
     "showTitle": false,
     "tableResultSettingsMap": {},
     "title": ""
    }
   },
   "source": [
    "\n",
    "## \"I've had enough of AI/BI for now, what next?\"\n",
    "\n",
    "We have seen how Databricks' Data Intelligence Platform comprehensively understands your data, streamlining the journey from data ingestion to insightful dashboards, and supporting natural language queries.\n",
    "\n",
    "In addition, Databricks offers advanced capabilities, including:\n",
    "\n",
    "- **Data Engineering**: Build and orchestrate sophisticated data pipelines using Python and SQL\n",
    "- **Data Quality & Monitoring**: Ensure your data remains accurate and reliable\n",
    "- **Comprehensive Governance**: Implement fine-grained access controls and tagging\n",
    "- **State-of-the-Art Warehouse Engine**: Achieve excellent total cost of ownership (TCO)\n",
    "- **Support for ML, AI & GenAI Applications**: Fully hosted by Databricks\n",
    "- **GenAI Capabilities**: Create custom agents to further empower your business users\n",
    "\n",
    "Interested in learning more? [Explore our end-to-end platform demos](https://www.databricks.com/resources/demos/tutorials?itm_data=demo_center) to see step-by-step implementations."
   ]
  }
 ],
 "metadata": {
  "application/vnd.databricks.v1+notebook": {
   "computePreferences": null,
   "dashboards": [],
   "environmentMetadata": {
    "environment_version": "2"
   },
   "inputWidgetPreferences": null,
   "language": "python",
   "notebookMetadata": {
    "pythonIndentUnit": 4
   },
   "notebookName": "AI-BI-Sales-pipeline",
   "widgets": {}
  },
  "language_info": {
   "name": "python"
  }
 },
 "nbformat": 4,
 "nbformat_minor": 0
}
