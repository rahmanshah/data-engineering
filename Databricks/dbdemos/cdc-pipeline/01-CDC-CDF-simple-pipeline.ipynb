{
 "cells": [
  {
   "cell_type": "markdown",
   "metadata": {
    "application/vnd.databricks.v1+cell": {
     "cellMetadata": {},
     "inputWidgets": {},
     "nuid": "c1f5fa05-d008-43be-b57b-d346660ba401",
     "showTitle": false,
     "tableResultSettingsMap": {},
     "title": ""
    }
   },
   "source": [
    "\n",
    "# Implement CDC: Change Data Capture\n",
    "## Use-case: Synchronize your SQL Database with your Lakehouse\n",
    "\n",
    "Delta Lake is an <a href=\"https://delta.io/\" target=\"_blank\">open-source</a> storage layer with Transactional capabilities and increased Performances. \n",
    "\n",
    "Delta lake is designed to support CDC workload by providing support for UPDATE / DELETE and MERGE operation.\n",
    "\n",
    "In addition, Delta table can support CDC to capture internal changes and propagate the changes downstream.\n",
    "\n",
    "Note that this is a fairly advaned demo. Before going into this content, we recommend you get familiar with Delta Lake `dbdemos.install('delta-lake')`.\n",
    "\n",
    "## Simplifying CDC with Delta Live Table\n",
    "\n",
    "As you'll see, implementing a CDC pipeline from scratch is slightly advanced. \n",
    "\n",
    "To simplify these operation & implement a full CDC flow with SQL expression, we strongly advise to use Delta Live Table with `APPLY CHANGES`: `dbdemos.install('delta-live-table')` (including native SCDT2 support)\n",
    "\n",
    "As you'll see, `APPLY CHANGES` handles the MERGE INTO + DEDUPLICATION complexity for you. \n",
    "\n",
    "\n",
    "<!-- Collect usage data (view). Remove it to disable collection. View README for more details.  -->\n",
    "<img width=\"1px\" src=\"https://ppxrzfxige.execute-api.us-west-2.amazonaws.com/v1/analytics?category=data-engineering&org_id=796524194907820&notebook=%2F01-CDC-CDF-simple-pipeline&demo_name=cdc-pipeline&event=VIEW&path=%2F_dbdemos%2Fdata-engineering%2Fcdc-pipeline%2F01-CDC-CDF-simple-pipeline&version=1\">"
   ]
  },
  {
   "cell_type": "code",
   "execution_count": 0,
   "metadata": {
    "application/vnd.databricks.v1+cell": {
     "cellMetadata": {
      "byteLimit": 2048000,
      "rowLimit": 10000
     },
     "inputWidgets": {},
     "nuid": "b9baa22a-8952-4675-89c8-23380656c5ed",
     "showTitle": false,
     "tableResultSettingsMap": {},
     "title": ""
    },
    "jupyter": {
     "outputs_hidden": true
    }
   },
   "outputs": [],
   "source": [
    "%run ./_resources/00-setup $reset_all_data=false"
   ]
  },
  {
   "cell_type": "markdown",
   "metadata": {
    "application/vnd.databricks.v1+cell": {
     "cellMetadata": {},
     "inputWidgets": {},
     "nuid": "aa03120c-27e1-46b5-86e0-9d4e17d6ed18",
     "showTitle": false,
     "tableResultSettingsMap": {},
     "title": ""
    }
   },
   "source": [
    "<img width=\"1000px\" src=\"https://github.com/databricks-demos/dbdemos-resources/raw/main/images/product/Delta-Lake-CDC-CDF/delta_cdf.png\" alt='Delta Lake Change Data Feed'/>"
   ]
  },
  {
   "cell_type": "markdown",
   "metadata": {
    "application/vnd.databricks.v1+cell": {
     "cellMetadata": {},
     "inputWidgets": {},
     "nuid": "1ede8464-1552-47fc-9381-cf54bc9601d4",
     "showTitle": false,
     "tableResultSettingsMap": {},
     "title": ""
    }
   },
   "source": [
    "## CDC flow\n",
    "\n",
    "Here is the flow we'll implement, consuming CDC data from an external database. Note that the incoming could be any format, including message queue such as Kafka.\n",
    "\n",
    "<img width=\"1000px\" src=\"https://github.com/databricks-demos/dbdemos-resources/raw/main/images/product/Delta-Lake-CDC-CDF/cdc-flow-0.png\" alt='Make all your data ready for BI and ML'/>"
   ]
  },
  {
   "cell_type": "markdown",
   "metadata": {
    "application/vnd.databricks.v1+cell": {
     "cellMetadata": {},
     "inputWidgets": {},
     "isMarkdownSandbox": true,
     "nuid": "7b932623-b788-4b41-a7a4-16ab390779c5",
     "showTitle": false,
     "tableResultSettingsMap": {},
     "title": ""
    }
   },
   "source": [
    "## Bronze: Incremental data loading using Auto Loader\n",
    "\n",
    "<img src=\"https://github.com/databricks-demos/dbdemos-resources/raw/main/images/product/Delta-Lake-CDC-CDF/cdc-flow-1.png\" alt='Make all your data ready for BI and ML' style='float: right' width='600'/>\n",
    "\n",
    "Working with external system can be challenging due to schema update. The external database can have schema update, adding or modifying columns, and our system must be robust against these changes.\n",
    "\n",
    "Databricks Autoloader (`cloudFiles`) handles schema inference and evolution out of the box.\n",
    "\n",
    "For more details on Auto Loader, run `dbdemos.install('auto-loader')`"
   ]
  },
  {
   "cell_type": "code",
   "execution_count": 0,
   "metadata": {
    "application/vnd.databricks.v1+cell": {
     "cellMetadata": {
      "byteLimit": 2048000,
      "rowLimit": 10000
     },
     "inputWidgets": {},
     "nuid": "e5d834e1-c7df-4a58-b4c0-156946ce49c6",
     "showTitle": true,
     "tableResultSettingsMap": {},
     "title": "Let's explore our incoming data. We receive CSV files with client information"
    }
   },
   "outputs": [],
   "source": [
    "cdc_raw_data = spark.read.option('header', \"true\").csv(raw_data_location+'/user_csv')\n",
    "display(cdc_raw_data)"
   ]
  },
  {
   "cell_type": "code",
   "execution_count": 0,
   "metadata": {
    "application/vnd.databricks.v1+cell": {
     "cellMetadata": {
      "byteLimit": 2048000,
      "rowLimit": 10000
     },
     "inputWidgets": {},
     "nuid": "c1d3172f-ed48-4c22-b623-8f0cf6e3dc16",
     "showTitle": true,
     "tableResultSettingsMap": {},
     "title": "Our CDC is sending 3 type of operation: APPEND, DELETE and UPDATE"
    }
   },
   "outputs": [],
   "source": [
    "display(cdc_raw_data.dropDuplicates(['operation']))"
   ]
  },
  {
   "cell_type": "code",
   "execution_count": 0,
   "metadata": {
    "application/vnd.databricks.v1+cell": {
     "cellMetadata": {
      "byteLimit": 2048000,
      "rowLimit": 10000
     },
     "inputWidgets": {},
     "nuid": "dfee0136-8c07-4f75-997a-6a58cbb98cc0",
     "showTitle": true,
     "tableResultSettingsMap": {},
     "title": "We need to keep the cdc information, however csv isn't a efficient storage. Let's put that in a Delta table instead:"
    }
   },
   "outputs": [],
   "source": [
    "bronzeDF = (spark.readStream\n",
    "                .format(\"cloudFiles\")\n",
    "                .option(\"cloudFiles.format\", \"csv\")\n",
    "                #.option(\"cloudFiles.maxFilesPerTrigger\", \"1\") #Simulate streaming, remove in production\n",
    "                .option(\"cloudFiles.inferColumnTypes\", \"true\")\n",
    "                .option(\"cloudFiles.schemaLocation\",  raw_data_location+\"/stream/schema_cdc_raw\")\n",
    "                .option(\"cloudFiles.schemaHints\", \"id bigint, operation_date timestamp\")\n",
    "                .load(raw_data_location+'/user_csv'))\n",
    "\n",
    "(bronzeDF.withColumn(\"file_name\", col(\"_metadata.file_path\")).writeStream\n",
    "        .option(\"checkpointLocation\", raw_data_location+\"/stream/checkpoint_cdc_raw\")\n",
    "        .trigger(availableNow=True)\n",
    "        #.trigger(processingTime='10 seconds') #Simulate streaming, remove in production\n",
    "        #.trigger(availableNow=True) --use this trigger on serverless\n",
    "        .table(\"clients_cdc\"))\n",
    "\n",
    "time.sleep(20)"
   ]
  },
  {
   "cell_type": "code",
   "execution_count": 0,
   "metadata": {
    "application/vnd.databricks.v1+cell": {
     "cellMetadata": {
      "byteLimit": 2048000,
      "implicitDf": true,
      "rowLimit": 10000
     },
     "inputWidgets": {},
     "nuid": "e433dcb8-9359-4695-8005-30bb4ba155b1",
     "showTitle": false,
     "tableResultSettingsMap": {},
     "title": ""
    }
   },
   "outputs": [],
   "source": [
    "%sql\n",
    "-- let's make sure our table has the proper compaction settings to support streaming\n",
    "ALTER TABLE clients_cdc SET TBLPROPERTIES (delta.autoOptimize.optimizeWrite = true, delta.autoOptimize.autoCompact = true);\n",
    "\n",
    "SELECT * FROM clients_cdc order by id asc ;"
   ]
  },
  {
   "cell_type": "markdown",
   "metadata": {
    "application/vnd.databricks.v1+cell": {
     "cellMetadata": {},
     "inputWidgets": {},
     "isMarkdownSandbox": true,
     "nuid": "e15c041a-4a29-4dcb-83b1-09bba0084a9b",
     "showTitle": false,
     "tableResultSettingsMap": {},
     "title": ""
    }
   },
   "source": [
    "## Silver: Materialize the table\n",
    "\n",
    "<img src=\"https://github.com/databricks-demos/dbdemos-resources/raw/main/images/product/Delta-Lake-CDC-CDF/cdc-flow-2.png\" alt='Make all your data ready for BI and ML' style='float: right' width='600'/>\n",
    "\n",
    "The silver `retail_client_silver` table will contains the most up to date view. It'll be a replicat of the original MYSQL table.\n",
    "\n",
    "Because we'll propagate the `MERGE` operations downstream to the `GOLD` layer, we need to enable Delta Lake CDF: `delta.enableChangeDataFeed = true`"
   ]
  },
  {
   "cell_type": "code",
   "execution_count": 0,
   "metadata": {
    "application/vnd.databricks.v1+cell": {
     "cellMetadata": {
      "byteLimit": 2048000,
      "implicitDf": true,
      "rowLimit": 10000
     },
     "inputWidgets": {},
     "nuid": "827d151d-14df-49b2-97cc-1abf98641cd1",
     "showTitle": true,
     "tableResultSettingsMap": {},
     "title": "We can now create our client table using standard SQL command"
    }
   },
   "outputs": [],
   "source": [
    "%sql \n",
    "-- we can add NOT NULL in our ID field (or even more advanced constraint)\n",
    "CREATE TABLE IF NOT EXISTS retail_client_silver (id BIGINT NOT NULL, name STRING, address STRING, email STRING, operation STRING) \n",
    "  TBLPROPERTIES (delta.enableChangeDataFeed = true, delta.autoOptimize.optimizeWrite = true, delta.autoOptimize.autoCompact = true);"
   ]
  },
  {
   "cell_type": "code",
   "execution_count": 0,
   "metadata": {
    "application/vnd.databricks.v1+cell": {
     "cellMetadata": {
      "byteLimit": 2048000,
      "rowLimit": 10000
     },
     "inputWidgets": {},
     "nuid": "2d386137-19c4-4859-9f0c-cc67f82f83eb",
     "showTitle": true,
     "tableResultSettingsMap": {},
     "title": "And run our MERGE statement the upsert the CDC information in our final table"
    }
   },
   "outputs": [],
   "source": [
    "#for each batch / incremental update from the raw cdc table, we'll run a MERGE on the silver table\n",
    "def merge_stream(df, i):\n",
    "  df.createOrReplaceTempView(\"clients_cdc_microbatch\")\n",
    "  #First we need to dedup the incoming data based on ID (we can have multiple update of the same row in our incoming data)\n",
    "  #Then we run the merge (upsert or delete). We could do it with a window and filter on rank() == 1 too\n",
    "  df.sparkSession.sql(\"\"\"MERGE INTO retail_client_silver target\n",
    "                                USING\n",
    "                                (select id, name, address, email, operation from \n",
    "                                  (SELECT *, ROW_NUMBER() OVER (PARTITION BY id ORDER BY operation_date DESC) as rank from clients_cdc_microbatch) \n",
    "                                 where rank = 1\n",
    "                                ) as source\n",
    "                                ON source.id = target.id\n",
    "                                WHEN MATCHED AND source.operation = 'DELETE' THEN DELETE\n",
    "                                WHEN MATCHED AND source.operation != 'DELETE' THEN UPDATE SET *\n",
    "                                WHEN NOT MATCHED AND source.operation != 'DELETE' THEN INSERT *\"\"\")\n",
    "  \n",
    "(spark.readStream\n",
    "       .table(\"clients_cdc\")\n",
    "     .writeStream\n",
    "       .foreachBatch(merge_stream)\n",
    "       .option(\"checkpointLocation\", raw_data_location+\"/stream/checkpoint_clients_cdc\")\n",
    "       .trigger(availableNow=True)\n",
    "       #.trigger(processingTime='10 seconds')\n",
    "       #.trigger(availableNow=True) --use this trigger on serverless\n",
    "     .start())\n",
    "\n",
    "time.sleep(20)"
   ]
  },
  {
   "cell_type": "code",
   "execution_count": 0,
   "metadata": {
    "application/vnd.databricks.v1+cell": {
     "cellMetadata": {
      "byteLimit": 2048000,
      "implicitDf": true,
      "rowLimit": 10000
     },
     "inputWidgets": {},
     "nuid": "9e61f50f-35ba-4910-b949-8f7e4aba2b6b",
     "showTitle": false,
     "tableResultSettingsMap": {},
     "title": ""
    }
   },
   "outputs": [],
   "source": [
    "%sql \n",
    "select * from retail_client_silver order by id asc;"
   ]
  },
  {
   "cell_type": "markdown",
   "metadata": {
    "application/vnd.databricks.v1+cell": {
     "cellMetadata": {},
     "inputWidgets": {},
     "nuid": "b9e44588-f4e7-492d-8392-61480f24fca4",
     "showTitle": false,
     "tableResultSettingsMap": {},
     "title": ""
    }
   },
   "source": [
    "### Testing the first CDC layer\n",
    "Let's send a new CDC entry to simulate an update and a DELETE for the ID 1 and 2"
   ]
  },
  {
   "cell_type": "code",
   "execution_count": 0,
   "metadata": {
    "application/vnd.databricks.v1+cell": {
     "cellMetadata": {
      "byteLimit": 2048000,
      "implicitDf": true,
      "rowLimit": 10000
     },
     "inputWidgets": {},
     "nuid": "03045a9a-19ae-4ff8-a8e8-d194098c0e25",
     "showTitle": true,
     "tableResultSettingsMap": {},
     "title": "Let's UPDATE id=1 and DELETE the row with id=2"
    }
   },
   "outputs": [],
   "source": [
    "%sql \n",
    "insert into clients_cdc  (id, name, address, email, operation_date, operation, _rescued_data, file_name) values \n",
    "            (1000, \"Quentin\", \"Paris 75020\", \"quentin.ambard@databricks.com\", now(), \"UPDATE\", null, null),\n",
    "            (2000, null, null, null, now(), \"DELETE\", null, null);\n",
    "select * from clients_cdc where id in (1000, 2000);"
   ]
  },
  {
   "cell_type": "code",
   "execution_count": 0,
   "metadata": {
    "application/vnd.databricks.v1+cell": {
     "cellMetadata": {
      "byteLimit": 2048000,
      "rowLimit": 10000
     },
     "inputWidgets": {},
     "nuid": "f1ea5a41-3d9f-403b-8a72-0421667159f4",
     "showTitle": false,
     "tableResultSettingsMap": {},
     "title": ""
    }
   },
   "outputs": [],
   "source": [
    "#wait for the stream to get the new data\n",
    "time.sleep(20)"
   ]
  },
  {
   "cell_type": "code",
   "execution_count": 0,
   "metadata": {
    "application/vnd.databricks.v1+cell": {
     "cellMetadata": {
      "byteLimit": 2048000,
      "implicitDf": true,
      "rowLimit": 10000
     },
     "inputWidgets": {},
     "nuid": "8d06cbf0-da35-45f0-b524-77f767dc180a",
     "showTitle": true,
     "tableResultSettingsMap": {},
     "title": "Wait a few seconds for the stream to catch the new entry in the CDC table and check the results in the main table"
    }
   },
   "outputs": [],
   "source": [
    "%sql \n",
    "select * from retail_client_silver where id in (1000, 2000);\n",
    "-- Note that ID 1000 has been updated, and ID 2000 is deleted"
   ]
  },
  {
   "cell_type": "markdown",
   "metadata": {
    "application/vnd.databricks.v1+cell": {
     "cellMetadata": {},
     "inputWidgets": {},
     "isMarkdownSandbox": true,
     "nuid": "0d924ea3-d256-423b-a8f1-d37f98676411",
     "showTitle": false,
     "tableResultSettingsMap": {},
     "title": ""
    }
   },
   "source": [
    "## Gold: capture and propagate Silver modifications downstream\n",
    "\n",
    "<img src=\"https://github.com/databricks-demos/dbdemos-resources/raw/main/images/product/Delta-Lake-CDC-CDF/cdc-flow-3.png\" alt='Make all your data ready for BI and ML' style='float: right' width='600'/>\n",
    "\n",
    "We need to add a final Gold layer based on the data from the Silver table. If a row is DELETED or UPDATED in the SILVER layer, we want to apply the same modification in the GOLD layer.\n",
    "\n",
    "To do so, we need to capture all the tables changes from the SILVER layer and incrementally replicate the changes to the GOLD layer.\n",
    "\n",
    "This is very simple using Delta Lake CDF from our SILVER table!\n",
    "\n",
    "Delta Lake CDF provides the `table_changes('< table_name >', < delta_version >)` that you can use to select all the tables modifications from a specific Delta version to another one:"
   ]
  },
  {
   "cell_type": "markdown",
   "metadata": {
    "application/vnd.databricks.v1+cell": {
     "cellMetadata": {},
     "inputWidgets": {},
     "nuid": "6813596a-a197-4214-8425-5ab24a97f1fb",
     "showTitle": false,
     "tableResultSettingsMap": {},
     "title": ""
    }
   },
   "source": [
    "### Working with Delta Lake CDF"
   ]
  },
  {
   "cell_type": "code",
   "execution_count": 0,
   "metadata": {
    "application/vnd.databricks.v1+cell": {
     "cellMetadata": {
      "byteLimit": 2048000,
      "implicitDf": true,
      "rowLimit": 10000
     },
     "inputWidgets": {},
     "nuid": "72c54218-03a6-41a8-b96d-4ba42554de70",
     "showTitle": false,
     "tableResultSettingsMap": {},
     "title": ""
    }
   },
   "outputs": [],
   "source": [
    "%sql\n",
    "--Remember, CDC must be enabled in the silver table to capture the change. Let's make sure it's properly enabled:\n",
    "ALTER TABLE retail_client_silver SET TBLPROPERTIES (delta.enableChangeDataFeed = true);\n",
    "\n",
    "-- Delta Lake CDF works using table_changes function:\n",
    "SELECT * FROM table_changes('retail_client_silver', 1)  order by id"
   ]
  },
  {
   "cell_type": "markdown",
   "metadata": {
    "application/vnd.databricks.v1+cell": {
     "cellMetadata": {},
     "inputWidgets": {},
     "nuid": "2939ac75-47d2-4ccb-91d9-f3010c223c52",
     "showTitle": false,
     "tableResultSettingsMap": {},
     "title": ""
    }
   },
   "source": [
    "#### Delta CDF table_changes output\n",
    "Table Changes provides back 4 cdc types in the \"_change_type\" column:\n",
    "\n",
    "| CDC Type             | Description                                                               |\n",
    "|----------------------|---------------------------------------------------------------------------|\n",
    "| **update_preimage**  | Content of the row before an update                                       |\n",
    "| **update_postimage** | Content of the row after the update (what you want to capture downstream) |\n",
    "| **delete**           | Content of a row that has been deleted                                    |\n",
    "| **insert**           | Content of a new row that has been inserted                               |\n",
    "\n",
    "Therefore, 1 update will result in 2 rows in the cdc stream (one row with the previous values, one with the new values)"
   ]
  },
  {
   "cell_type": "code",
   "execution_count": 0,
   "metadata": {
    "application/vnd.databricks.v1+cell": {
     "cellMetadata": {
      "byteLimit": 2048000,
      "rowLimit": 10000
     },
     "inputWidgets": {},
     "nuid": "7a52ef91-e34e-4337-8d5d-c8ade4034d6e",
     "showTitle": true,
     "tableResultSettingsMap": {},
     "title": "Getting the last modifications with the Python API"
    }
   },
   "outputs": [],
   "source": [
    "from delta.tables import *\n",
    "\n",
    "#Let's get the last table version to only see the last update mofications\n",
    "last_version = str(DeltaTable.forName(spark, \"retail_client_silver\").history(1).head()[\"version\"])\n",
    "print(f\"our Delta table last version is {last_version}, let's select the last changes to see our DELETE and UPDATE operations (last 2 versions):\")\n",
    "\n",
    "changes = spark.read.format(\"delta\") \\\n",
    "                    .option(\"readChangeData\", \"true\") \\\n",
    "                    .option(\"startingVersion\", int(last_version) -1) \\\n",
    "                    .table(\"retail_client_silver\")\n",
    "display(changes)"
   ]
  },
  {
   "cell_type": "markdown",
   "metadata": {
    "application/vnd.databricks.v1+cell": {
     "cellMetadata": {},
     "inputWidgets": {},
     "nuid": "794d50f7-e80b-48af-87d5-f3f822d5d3e7",
     "showTitle": false,
     "tableResultSettingsMap": {},
     "title": ""
    }
   },
   "source": [
    "### Synchronizing our downstream GOLD table based from the Silver changes\n",
    "\n",
    "Let's now say that we want to perform another table enhancement and propagate these changes downstream.\n",
    "\n",
    "To keep this example simple, we'll just add a column name `gold_data` with random data, but in real world this could be an aggregation, a join with another datasource, an ML model etc.\n",
    "\n",
    "The same logic as the Silver layer must be implemented. Since we now consume the CDF data, we also need to perform a deduplication stage. Let's do it using the python APIs this time for the example.\n",
    "\n",
    "*Note: Streaming operations with CDC are supported from DBR 8.1+*"
   ]
  },
  {
   "cell_type": "code",
   "execution_count": 0,
   "metadata": {
    "application/vnd.databricks.v1+cell": {
     "cellMetadata": {
      "byteLimit": 2048000,
      "implicitDf": true,
      "rowLimit": 10000
     },
     "inputWidgets": {},
     "nuid": "57c49c32-0c54-4ff8-9823-8fbefd52420f",
     "showTitle": true,
     "tableResultSettingsMap": {},
     "title": "Let's create or final GOLD table: retail_client_gold"
    }
   },
   "outputs": [],
   "source": [
    "%sql\n",
    "CREATE TABLE IF NOT EXISTS retail_client_gold (id BIGINT NOT NULL, name STRING, address STRING, email STRING, gold_data STRING);"
   ]
  },
  {
   "cell_type": "code",
   "execution_count": 0,
   "metadata": {
    "application/vnd.databricks.v1+cell": {
     "cellMetadata": {
      "byteLimit": 2048000,
      "rowLimit": 10000
     },
     "inputWidgets": {},
     "nuid": "f5588dfa-feb5-4fb1-8f1b-13b379aa1fe7",
     "showTitle": false,
     "tableResultSettingsMap": {},
     "title": ""
    }
   },
   "outputs": [],
   "source": [
    "from pyspark.sql.window import Window\n",
    "from pyspark.sql.functions import dense_rank, regexp_replace, lit, col\n",
    "\n",
    "#Function to upsert `microBatchOutputDF` into Delta table using MERGE\n",
    "def upsertToDelta(data, batchId):\n",
    "  #First we need to deduplicate based on the id and take the most recent update\n",
    "  windowSpec = Window.partitionBy(\"id\").orderBy(col(\"_commit_version\").desc())\n",
    "  #Select only the first value \n",
    "  #getting the latest change is still needed if the cdc contains multiple time the same id. We can rank over the id and get the most recent _commit_version\n",
    "  data_deduplicated = data.withColumn(\"rank\", dense_rank().over(windowSpec)).where(\"rank = 1 and _change_type!='update_preimage'\").drop(\"_commit_version\", \"rank\")\n",
    "\n",
    "  #Add some data cleaning for the gold layer to remove quotes from the address\n",
    "  data_deduplicated = data_deduplicated.withColumn(\"address\", regexp_replace(col(\"address\"), \"\\\"\", \"\"))\n",
    "  \n",
    "  #run the merge in the gold table directly\n",
    "  (DeltaTable.forName(spark, \"retail_client_gold\").alias(\"target\")\n",
    "      .merge(data_deduplicated.alias(\"source\"), \"source.id = target.id\")\n",
    "      .whenMatchedDelete(\"source._change_type = 'delete'\")\n",
    "      .whenMatchedUpdateAll(\"source._change_type != 'delete'\")\n",
    "      .whenNotMatchedInsertAll(\"source._change_type != 'delete'\")\n",
    "      .execute())\n",
    "\n",
    "\n",
    "(spark.readStream\n",
    "       .option(\"readChangeData\", \"true\")\n",
    "       .option(\"startingVersion\", 1)\n",
    "       .table(\"retail_client_silver\")\n",
    "       .withColumn(\"gold_data\", lit(\"Delta CDF is Awesome\"))\n",
    "      .writeStream\n",
    "        .foreachBatch(upsertToDelta)\n",
    "        .option(\"checkpointLocation\", raw_data_location+\"/stream/checkpoint_clients_gold\")\n",
    "        .trigger(availableNow=True)\n",
    "        #.trigger(processingTime='10 seconds')\n",
    "        #.trigger(availableNow=True) --use this trigger on serverless\n",
    "      .start())\n",
    "\n",
    "time.sleep(20)"
   ]
  },
  {
   "cell_type": "code",
   "execution_count": 0,
   "metadata": {
    "application/vnd.databricks.v1+cell": {
     "cellMetadata": {
      "byteLimit": 2048000,
      "implicitDf": true,
      "rowLimit": 10000
     },
     "inputWidgets": {},
     "nuid": "e297edc6-8665-4a80-b714-c90ca0efa3db",
     "showTitle": false,
     "tableResultSettingsMap": {},
     "title": ""
    }
   },
   "outputs": [],
   "source": [
    "%sql SELECT * FROM retail_client_gold"
   ]
  },
  {
   "cell_type": "markdown",
   "metadata": {
    "application/vnd.databricks.v1+cell": {
     "cellMetadata": {},
     "inputWidgets": {},
     "isMarkdownSandbox": true,
     "nuid": "37372eb3-c78e-457b-a98f-c97a11848d1e",
     "showTitle": false,
     "tableResultSettingsMap": {},
     "title": ""
    }
   },
   "source": [
    "### Support for data sharing and Datamesh organization\n",
    "<img src=\"https://github.com/databricks-demos/dbdemos-resources/raw/main/images/product/Delta-Lake-CDC-CDF/delta-cdf-datamesh.png\" style=\"float:right; margin-right: 50px\" width=\"300px\" />\n",
    "\n",
    "As we've seen during this demo, you can track all the changes (INSERT/UPDATE/DELETE) from any Detlta table using the CDC option.\n",
    "\n",
    "It's then easy to subscribe the table modifications as an incremental process.\n",
    "\n",
    "This makes the Data Mesh implementation easy: each Mesh can publish a set of tables, and other meshes can subscribe the original changes.\n",
    "\n",
    "They are then in charge of propagating the changes (ex GDPR DELETE) to their own Data Mesh"
   ]
  },
  {
   "cell_type": "markdown",
   "metadata": {
    "application/vnd.databricks.v1+cell": {
     "cellMetadata": {},
     "inputWidgets": {},
     "isMarkdownSandbox": true,
     "nuid": "1e4ea4bc-2440-4e09-b1b0-ce45957c4b9d",
     "showTitle": false,
     "tableResultSettingsMap": {},
     "title": ""
    }
   },
   "source": [
    "## Data is now ready for BI & ML use-case !\n",
    "\n",
    "<img src=\"https://github.com/databricks-demos/dbdemos-resources/raw/main/images/product/Delta-Lake-CDC-CDF/cdc-flow-4.png\" alt='Make all your data ready for BI and ML' style='float: right' width='600'/>\n",
    "\n",
    "We now have our final table, updated based on the initial CDC information we receive.\n",
    "\n",
    "As next step, we can leverage Databricks Lakehouse platform to start creating SQL queries / dashboards or ML models"
   ]
  },
  {
   "cell_type": "markdown",
   "metadata": {
    "application/vnd.databricks.v1+cell": {
     "cellMetadata": {},
     "inputWidgets": {},
     "nuid": "323bb5ac-ccdb-492f-bf8f-8c0595c77256",
     "showTitle": false,
     "tableResultSettingsMap": {},
     "title": ""
    }
   },
   "source": [
    "Next step: [Implement a CDC pipeline for multiple tables]($./02-CDC-CDF-full-multi-tables)"
   ]
  },
  {
   "cell_type": "code",
   "execution_count": 0,
   "metadata": {
    "application/vnd.databricks.v1+cell": {
     "cellMetadata": {
      "byteLimit": 2048000,
      "rowLimit": 10000
     },
     "inputWidgets": {},
     "nuid": "54d0f6df-597a-4c8d-98ce-5dec2a7ec564",
     "showTitle": true,
     "tableResultSettingsMap": {},
     "title": "Make sure we stop all actives streams"
    }
   },
   "outputs": [],
   "source": [
    "DBDemos.stop_all_streams()"
   ]
  }
 ],
 "metadata": {
  "application/vnd.databricks.v1+notebook": {
   "computePreferences": null,
   "dashboards": [],
   "environmentMetadata": {
    "environment_version": "2"
   },
   "inputWidgetPreferences": null,
   "language": "python",
   "notebookMetadata": {
    "mostRecentlyExecutedCommandWithImplicitDF": {
     "commandId": 5718070802545723,
     "dataframes": [
      "_sqldf"
     ]
    },
    "pythonIndentUnit": 4
   },
   "notebookName": "01-CDC-CDF-simple-pipeline",
   "widgets": {}
  },
  "language_info": {
   "name": "python"
  }
 },
 "nbformat": 4,
 "nbformat_minor": 0
}
