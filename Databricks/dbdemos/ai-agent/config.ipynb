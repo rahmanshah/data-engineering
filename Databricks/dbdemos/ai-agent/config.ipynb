{
 "cells": [
  {
   "cell_type": "markdown",
   "metadata": {
    "application/vnd.databricks.v1+cell": {
     "cellMetadata": {},
     "inputWidgets": {},
     "nuid": "d109e7dd-e6e1-4170-bc0f-bb9cba20dadb",
     "showTitle": false,
     "tableResultSettingsMap": {},
     "title": ""
    }
   },
   "source": [
    "## Configuration file\n",
    "\n",
    "Please change your catalog and schema here to run the demo on a different catalog.\n",
    "\n",
    "<!-- Collect usage data (view). Remove it to disable collection or disable tracker during installation. View README for more details.  -->\n",
    "<img width=\"1px\" src=\"https://ppxrzfxige.execute-api.us-west-2.amazonaws.com/v1/analytics?category=data-science&org_id=796524194907820&notebook=%2Fconfig&demo_name=ai-agent&event=VIEW&path=%2F_dbdemos%2Fdata-science%2Fai-agent%2Fconfig&version=1\">"
   ]
  },
  {
   "cell_type": "code",
   "execution_count": 0,
   "metadata": {
    "application/vnd.databricks.v1+cell": {
     "cellMetadata": {},
     "inputWidgets": {},
     "nuid": "e50ba728-946a-4257-a066-ce7a9e695a77",
     "showTitle": false,
     "tableResultSettingsMap": {},
     "title": ""
    }
   },
   "outputs": [],
   "source": [
    "#Note: we do not recommend to change the catalog here as it won't impact all the demo resources such as DLT pipeline and Dashboards.\n",
    "#Instead, please re-install the demo with a specific catalog and schema using dbdemos.install(\"lakehouse-retail-c360\", catalog=\"..\", schema=\"...\")\n",
    "\n",
    "catalog = \"main\"\n",
    "schema = dbName = db = \"dbdemos_ai_agent\"\n",
    "\n",
    "volume_name = \"raw_data\"\n",
    "VECTOR_SEARCH_ENDPOINT_NAME=\"dbdemos_vs_endpoint\"\n",
    "\n",
    "MODEL_NAME = \"dbdemos_ai_agent_demo\"\n",
    "ENDPOINT_NAME = f'{MODEL_NAME}_{catalog}_{db}'[:60]\n",
    "\n",
    "# This must be a tool-enabled model\n",
    "LLM_ENDPOINT_NAME = 'databricks-claude-3-7-sonnet'"
   ]
  }
 ],
 "metadata": {
  "application/vnd.databricks.v1+notebook": {
   "computePreferences": null,
   "dashboards": [],
   "environmentMetadata": {
    "environment_version": "2"
   },
   "inputWidgetPreferences": null,
   "language": "python",
   "notebookMetadata": {
    "pythonIndentUnit": 4
   },
   "notebookName": "config",
   "widgets": {}
  },
  "language_info": {
   "name": "python"
  }
 },
 "nbformat": 4,
 "nbformat_minor": 0
}
