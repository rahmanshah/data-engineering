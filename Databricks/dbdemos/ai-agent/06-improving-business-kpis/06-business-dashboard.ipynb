{
 "cells": [
  {
   "cell_type": "markdown",
   "metadata": {
    "application/vnd.databricks.v1+cell": {
     "cellMetadata": {},
     "inputWidgets": {},
     "nuid": "36f73612-9f8c-4be6-9542-26249bced13b",
     "showTitle": false,
     "tableResultSettingsMap": {},
     "title": ""
    }
   },
   "source": [
    "\n",
    "# Measure the impact of your AI Agent with Databricks Lakeflow, AI/BI Dashboard and Genie!\n",
    "\n",
    "Deploying new AI project is great, but ultimately, you want to be able to track how your business is impacted by your agent.\n",
    "\n",
    "Typically, a customer support assistant should:\n",
    "\n",
    "- Lower time to resolution\n",
    "- Increase customer satisfaction\n",
    "- Drive more business outcomes\n",
    "- Empower support team to do more, with higher quality interaction...\n",
    "\n",
    "Databricks lets you track all of these metrics : Connect your CRM or Ticket system with Lakeflow Connect or any ingestion, prepare and transform your data if needed and deploy an Business-First dashboard, and ask any followup question about your data with Databricks Genie!\n",
    "\n",
    "<img src=\"https://github.com/databricks-demos/dbdemos-resources/blob/main/images/product/ai-agent/customer-support-dashboard.png?raw=true\" width=\"900px\">"
   ]
  },
  {
   "cell_type": "markdown",
   "metadata": {
    "application/vnd.databricks.v1+cell": {
     "cellMetadata": {},
     "inputWidgets": {},
     "nuid": "2cea3ce8-0eb7-4b8f-91fc-7cd9aeb2810f",
     "showTitle": false,
     "tableResultSettingsMap": {},
     "title": ""
    }
   },
   "source": [
    "## Want to try an AI/BI customer support setup?\n",
    "\n",
    "Run the following cells to install our dbdemos customer support:"
   ]
  },
  {
   "cell_type": "code",
   "execution_count": 0,
   "metadata": {
    "application/vnd.databricks.v1+cell": {
     "cellMetadata": {},
     "inputWidgets": {},
     "nuid": "d33309e6-001b-4ffb-b2e2-8f608567e5ec",
     "showTitle": false,
     "tableResultSettingsMap": {},
     "title": ""
    }
   },
   "outputs": [],
   "source": [
    "%pip install dbdemos -U\n",
    "%restart_python"
   ]
  },
  {
   "cell_type": "code",
   "execution_count": 0,
   "metadata": {
    "application/vnd.databricks.v1+cell": {
     "cellMetadata": {},
     "inputWidgets": {},
     "nuid": "63e085b9-3b6a-425d-9917-0f77d31560dc",
     "showTitle": false,
     "tableResultSettingsMap": {},
     "title": ""
    }
   },
   "outputs": [],
   "source": [
    "import dbdemos\n",
    "dbdemos.install('aibi-customer-support', catalog='main', schema='dbdemos_aibi_customer_support')"
   ]
  }
 ],
 "metadata": {
  "application/vnd.databricks.v1+notebook": {
   "computePreferences": null,
   "dashboards": [],
   "environmentMetadata": {
    "environment_version": "2"
   },
   "inputWidgetPreferences": null,
   "language": "python",
   "notebookMetadata": {},
   "notebookName": "06-business-dashboard",
   "widgets": {}
  },
  "language_info": {
   "name": "python"
  }
 },
 "nbformat": 4,
 "nbformat_minor": 0
}
