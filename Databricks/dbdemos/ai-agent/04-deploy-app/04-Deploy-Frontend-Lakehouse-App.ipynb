{
 "cells": [
  {
   "cell_type": "markdown",
   "metadata": {
    "application/vnd.databricks.v1+cell": {
     "cellMetadata": {},
     "inputWidgets": {},
     "isMarkdownSandbox": true,
     "nuid": "003bab0a-8e0c-4303-9698-d20d459c85ad",
     "showTitle": false,
     "tableResultSettingsMap": {},
     "title": ""
    }
   },
   "source": [
    "# 3/ Deploying our frontend App with Lakehouse Applications\n",
    "\n",
    "\n",
    "Mosaic AI Agent Evaluation review app is used for collecting stakeholder feedback during your development process.\n",
    "\n",
    "You still need to deploy your own front end application!\n",
    "\n",
    "Let's leverage Databricks Lakehouse Applications to build and deploy our first, simple chatbot frontend app. \n",
    "\n",
    "<img src=\"https://github.com/databricks-demos/dbdemos-resources/blob/main/images/product/chatbot-rag/rag-frontend-app.png?raw=true\" width=\"1200px\">\n",
    "\n",
    "\n",
    "<div style=\"background-color: #d4e7ff; padding: 10px; border-radius: 15px;\">\n",
    "<strong>Note:</strong> In this example, we'll deploy the app using the endpoint. However, if the only use-case is the app itself, you can also directly package your MLFlow Chat Agent within your application, and remove the endpoint entirely!\n",
    "</div>\n",
    "\n",
    "<!-- Collect usage data (view). Remove it to disable collection or disable tracker during installation. View README for more details.  -->\n",
    "<img width=\"1px\" src=\"https://ppxrzfxige.execute-api.us-west-2.amazonaws.com/v1/analytics?category=data-science&org_id=796524194907820&notebook=%2F04-deploy-app%2F04-Deploy-Frontend-Lakehouse-App&demo_name=ai-agent&event=VIEW&path=%2F_dbdemos%2Fdata-science%2Fai-agent%2F04-deploy-app%2F04-Deploy-Frontend-Lakehouse-App&version=1\">"
   ]
  },
  {
   "cell_type": "code",
   "execution_count": 0,
   "metadata": {
    "application/vnd.databricks.v1+cell": {
     "cellMetadata": {},
     "inputWidgets": {},
     "nuid": "f9578702-8ba4-4eb1-a951-defe8322496e",
     "showTitle": false,
     "tableResultSettingsMap": {},
     "title": ""
    }
   },
   "outputs": [],
   "source": [
    "%pip install --quiet -U mlflow[databricks]>=3.1.4 databricks-sdk>=0.59.0\n",
    "dbutils.library.restartPython()"
   ]
  },
  {
   "cell_type": "code",
   "execution_count": 0,
   "metadata": {
    "application/vnd.databricks.v1+cell": {
     "cellMetadata": {},
     "inputWidgets": {},
     "nuid": "748bf9b8-39a5-4da9-b417-d82d7dc738da",
     "showTitle": false,
     "tableResultSettingsMap": {},
     "title": ""
    },
    "jupyter": {
     "outputs_hidden": true
    }
   },
   "outputs": [],
   "source": [
    "%run ../_resources/01-setup"
   ]
  },
  {
   "cell_type": "markdown",
   "metadata": {
    "application/vnd.databricks.v1+cell": {
     "cellMetadata": {},
     "inputWidgets": {},
     "nuid": "888f1e60-bf7d-436f-b724-b3035302de9a",
     "showTitle": false,
     "tableResultSettingsMap": {},
     "title": ""
    }
   },
   "source": [
    "## Add your application configuration\n",
    "\n",
    "Lakehouse apps allow you to work with any Python framework. For our demo, we'll create a simple configuration file containing the model serving endpoint name and save it as `chatbot_app/app.yaml`."
   ]
  },
  {
   "cell_type": "code",
   "execution_count": 0,
   "metadata": {
    "application/vnd.databricks.v1+cell": {
     "cellMetadata": {},
     "inputWidgets": {},
     "nuid": "a8bf25be-f0c2-4337-8605-a607337160c8",
     "showTitle": false,
     "tableResultSettingsMap": {},
     "title": ""
    }
   },
   "outputs": [],
   "source": [
    "print(f\"The Databricks APP will be using the following model serving endpoint: {ENDPOINT_NAME}\")"
   ]
  },
  {
   "cell_type": "code",
   "execution_count": 0,
   "metadata": {
    "application/vnd.databricks.v1+cell": {
     "cellMetadata": {},
     "inputWidgets": {},
     "nuid": "117806f9-80d9-445d-861d-6294493b3967",
     "showTitle": false,
     "tableResultSettingsMap": {},
     "title": ""
    }
   },
   "outputs": [],
   "source": [
    "import yaml\n",
    "\n",
    "# Our frontend application will hit the model endpoint we deployed.\n",
    "# Because dbdemos let you change your catalog and database, let's make sure we deploy the app with the proper endpoint name\n",
    "yaml_app_config = {\"command\": [\"uvicorn\", \"main:app\", \"--workers\", \"1\"],\n",
    "                    \"env\": [{\"name\": \"MODEL_SERVING_ENDPOINT\", \"value\": ENDPOINT_NAME}]\n",
    "                  }\n",
    "try:\n",
    "    with open('chatbot_app/app.yaml', 'w') as f:\n",
    "        yaml.dump(yaml_app_config, f)\n",
    "except Exception as e:\n",
    "    print(f'pass to work on build job - {e}')"
   ]
  },
  {
   "cell_type": "markdown",
   "metadata": {
    "application/vnd.databricks.v1+cell": {
     "cellMetadata": {},
     "inputWidgets": {},
     "nuid": "05b4b7ad-4871-4c2b-b49a-6202c16d8fd1",
     "showTitle": false,
     "tableResultSettingsMap": {},
     "title": ""
    }
   },
   "source": [
    "## Capturing feedback through MLFlow Tracing and Feedback API\n",
    "\n",
    "With MLFLow 3, it's now easy to directly capture feedback (thumb up/down) from your application!\n",
    "\n",
    "```\n",
    "client = mlflow.deployments.get_deploy_client(\"databricks\")\n",
    "\n",
    "input_message = [{\"content\": \"test\", \"role\": \"user\", \"type\": \"message\"}]\n",
    "\n",
    "response = client.predict(\n",
    "  endpoint=ENDPOINT_NAME,\n",
    "  inputs={'input': input_message, \"databricks_options\": {\n",
    "      # Return the trace so we can get the trace_id for logging feedback. (return only the id for faster results)\n",
    "      \"return_trace\": True\n",
    "    }}\n",
    ")\n",
    "```\n",
    "\n",
    "\n",
    "Then, simply use the `mlflow-tracing` in your chatbot backend to send emit the trace with the user feedback:\n",
    "\n",
    "\n",
    "```\n",
    "mlflow.log_feedback(\n",
    "                trace_id=trace_id, #the trace id present in the response, typically tr-xxxxx\n",
    "                name='user_feedback',\n",
    "                value=True if like_data.liked else False,\n",
    "                rationale=None,\n",
    "                source=mlflow.entities.AssessmentSource(source_type='HUMAN', source_id='user')\n",
    "            )\n",
    "```\n",
    "\n",
    "*Note: you can also manage your own IDs - see the [feedback documentation](https://docs.databricks.com/aws/en/mlflow3/genai/tracing/collect-user-feedback/) for more details*"
   ]
  },
  {
   "cell_type": "markdown",
   "metadata": {
    "application/vnd.databricks.v1+cell": {
     "cellMetadata": {},
     "inputWidgets": {},
     "nuid": "abae8494-0831-481c-9572-ef1500f7a1e4",
     "showTitle": false,
     "tableResultSettingsMap": {},
     "title": ""
    }
   },
   "source": [
    "## Let's now create our chatbot application using Gradio using Databricks Applications"
   ]
  },
  {
   "cell_type": "markdown",
   "metadata": {
    "application/vnd.databricks.v1+cell": {
     "cellMetadata": {},
     "inputWidgets": {},
     "nuid": "9d9c3c0f-250b-477e-86bb-382785c2f65a",
     "showTitle": false,
     "tableResultSettingsMap": {},
     "title": ""
    }
   },
   "source": [
    "## Deploying our application\n",
    "\n",
    "Our application is made of 2 files under the `chatbot_app` folder:\n",
    "- `main.py` containing our python code\n",
    "- `app.yaml` containing our configuration\n",
    "\n",
    "All we now have to do is call the API to create a new app and deploy using the `chatbot_app` path:"
   ]
  },
  {
   "cell_type": "code",
   "execution_count": 0,
   "metadata": {
    "application/vnd.databricks.v1+cell": {
     "cellMetadata": {},
     "inputWidgets": {},
     "nuid": "63123aa6-5b45-4805-9c2d-b550a2ea60a2",
     "showTitle": false,
     "tableResultSettingsMap": {},
     "title": ""
    }
   },
   "outputs": [],
   "source": [
    "from databricks.sdk import WorkspaceClient\n",
    "from databricks.sdk.service.apps import App, AppResource, AppResourceServingEndpoint, AppResourceServingEndpointServingEndpointPermission, AppDeployment\n",
    "\n",
    "w = WorkspaceClient()\n",
    "app_name = \"dbdemos-ai-agent-app\""
   ]
  },
  {
   "cell_type": "markdown",
   "metadata": {
    "application/vnd.databricks.v1+cell": {
     "cellMetadata": {},
     "inputWidgets": {},
     "nuid": "799ab892-f7a2-4778-a000-2357b60b4315",
     "showTitle": false,
     "tableResultSettingsMap": {},
     "title": ""
    }
   },
   "source": [
    "Lakehouse apps come with an auto-provisioned Service Principal. Let's grant this Service Principal access to our model endpoint before deploying..."
   ]
  },
  {
   "cell_type": "code",
   "execution_count": 0,
   "metadata": {
    "application/vnd.databricks.v1+cell": {
     "cellMetadata": {},
     "inputWidgets": {},
     "nuid": "f5e3ae6b-f65c-42c9-b455-63186874b03b",
     "showTitle": false,
     "tableResultSettingsMap": {},
     "title": ""
    }
   },
   "outputs": [],
   "source": [
    "serving_endpoint = AppResourceServingEndpoint(name=ENDPOINT_NAME,\n",
    "                                              permission=AppResourceServingEndpointServingEndpointPermission.CAN_QUERY\n",
    "                                              )\n",
    "\n",
    "rag_endpoint = AppResource(name=\"rag-endpoint\", serving_endpoint=serving_endpoint) \n",
    "\n",
    "rag_app = App(name=app_name, \n",
    "              description=\"Your Databricks assistant\", \n",
    "              default_source_code_path=os.path.join(os.getcwd(), 'chatbot_app'),\n",
    "              resources=[rag_endpoint])\n",
    "try:\n",
    "  app_details = w.apps.create_and_wait(app=rag_app)\n",
    "  print(app_details)\n",
    "except Exception as e:\n",
    "  if \"already exists\" in str(e):\n",
    "    print(\"App already exists, you can deploy it\")\n",
    "  else:\n",
    "    raise e"
   ]
  },
  {
   "cell_type": "markdown",
   "metadata": {
    "application/vnd.databricks.v1+cell": {
     "cellMetadata": {},
     "inputWidgets": {},
     "nuid": "1e944266-ca85-4be6-aadc-4dd952075bce",
     "showTitle": false,
     "tableResultSettingsMap": {},
     "title": ""
    }
   },
   "source": [
    "Once the app is created, we can (re)deploy the code as following:"
   ]
  },
  {
   "cell_type": "code",
   "execution_count": 0,
   "metadata": {
    "application/vnd.databricks.v1+cell": {
     "cellMetadata": {},
     "inputWidgets": {},
     "nuid": "982c00fa-3e71-43f3-9481-0610ba1262ca",
     "showTitle": false,
     "tableResultSettingsMap": {},
     "title": ""
    }
   },
   "outputs": [],
   "source": [
    "import mlflow\n",
    "\n",
    "xp_name = os.getcwd().rsplit(\"/\", 1)[0]+\"/03-knowledge-base-rag/03.1-pdf-rag-tool\"\n",
    "mlflow.set_experiment(xp_name)"
   ]
  },
  {
   "cell_type": "code",
   "execution_count": 0,
   "metadata": {
    "application/vnd.databricks.v1+cell": {
     "cellMetadata": {},
     "inputWidgets": {},
     "nuid": "b5ff8733-48a7-465b-b0db-2371a0827aa2",
     "showTitle": false,
     "tableResultSettingsMap": {},
     "title": ""
    }
   },
   "outputs": [],
   "source": [
    "deployment = AppDeployment(source_code_path=os.path.join(os.getcwd(), 'chatbot_app'))\n",
    "\n",
    "app_details = w.apps.deploy_and_wait(app_name=app_name, app_deployment=deployment)"
   ]
  },
  {
   "cell_type": "code",
   "execution_count": 0,
   "metadata": {
    "application/vnd.databricks.v1+cell": {
     "cellMetadata": {},
     "inputWidgets": {},
     "nuid": "ece68d50-c736-4d28-a06d-0ccb034ba77b",
     "showTitle": false,
     "tableResultSettingsMap": {},
     "title": ""
    }
   },
   "outputs": [],
   "source": [
    "#Let's access the application\n",
    "w.apps.get(name=app_name).url"
   ]
  },
  {
   "cell_type": "markdown",
   "metadata": {
    "application/vnd.databricks.v1+cell": {
     "cellMetadata": {},
     "inputWidgets": {},
     "isMarkdownSandbox": true,
     "nuid": "238b1c5a-09fd-4455-adfb-7665d68c4aca",
     "showTitle": false,
     "tableResultSettingsMap": {},
     "title": ""
    }
   },
   "source": [
    "## Your Lakehouse app is ready and deployed!\n",
    "\n",
    "<img src=\"https://github.com/databricks-demos/dbdemos-resources/blob/main/images/product/chatbot-rag/rag-gradio-app.png?raw=true\" width=\"750px\" style=\"float: right; margin-left:10px\">\n",
    "\n",
    "Open the UI to start requesting your chatbot.\n",
    "\n",
    "As improvement, we could improve our chatbot UI to provide feedback and send it to Mosaic AI Quality Labs, so that bad answers can be reviewed and improved.\n",
    "\n",
    "## Conclusion\n",
    "\n",
    "We saw how Databricks provides an end to end platform: \n",
    "- Building and deploying an endpoint\n",
    "- Buit-in solution to review, analyze and improve our chatbot\n",
    "- Deploy front-end genAI application with lakehouse apps!"
   ]
  },
  {
   "cell_type": "markdown",
   "metadata": {
    "application/vnd.databricks.v1+cell": {
     "cellMetadata": {},
     "inputWidgets": {},
     "nuid": "0bcd9bd7-38a0-4e15-ac64-4f2a4f0e8919",
     "showTitle": false,
     "tableResultSettingsMap": {},
     "title": ""
    }
   },
   "source": [
    "## Next: ready to take it to a next level? Let's monitor our agent performance in production\n",
    "\n",
    "Open the [05-production-monitoring/05.production-monitoring]($../05-production-monitoring/05.production-monitoring) notebook to learn how to monitor your endpoint and evaluate it while in production!"
   ]
  }
 ],
 "metadata": {
  "application/vnd.databricks.v1+notebook": {
   "computePreferences": null,
   "dashboards": [],
   "environmentMetadata": {
    "environment_version": "2"
   },
   "inputWidgetPreferences": null,
   "language": "python",
   "notebookMetadata": {},
   "notebookName": "04-Deploy-Frontend-Lakehouse-App",
   "widgets": {}
  },
  "language_info": {
   "name": "python"
  }
 },
 "nbformat": 4,
 "nbformat_minor": 0
}
