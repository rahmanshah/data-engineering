{
 "cells": [
  {
   "cell_type": "markdown",
   "metadata": {
    "application/vnd.databricks.v1+cell": {
     "cellMetadata": {},
     "inputWidgets": {},
     "isMarkdownSandbox": true,
     "nuid": "855340df-ad8b-4b05-88bb-13054a7dc536",
     "showTitle": false,
     "tableResultSettingsMap": {},
     "title": ""
    }
   },
   "source": [
    "# Building your first Agent Systems with Databricks\n",
    "\n",
    "<img src=\"https://github.com/databricks-demos/dbdemos-resources/blob/main/images/product/llm-tools-functions/ai-agent-functions.png?raw=true\" style=\"float: right\" width=\"700px\">\n",
    "LLMs are powerful to answer general knowledge, but don't have any information on your own business.\n",
    "\n",
    "Databricks makes it easy to develop custom tools which can be called by your LLM, creating a complete agent with reasoning capability.\n",
    "\n",
    "\n",
    "### Build Simple UC Tools\n",
    "In this notebook, we'll register the following to Unity Catalogs:\n",
    "- **SQL Functions**: Create queries that access customer information, order and subscriptions.\n",
    "- **Simple Python Function**: Create and register a Python function doing math operations to overcome some common limitations of language models.\n",
    "\n",
    "<!-- Collect usage data (view). Remove it to disable collection or disable tracker during installation. View README for more details.  -->\n",
    "<img width=\"1px\" src=\"https://ppxrzfxige.execute-api.us-west-2.amazonaws.com/v1/analytics?category=data-science&org_id=796524194907820&notebook=%2F01-create-tools%2F01_create_first_billing_agent&demo_name=ai-agent&event=VIEW&path=%2F_dbdemos%2Fdata-science%2Fai-agent%2F01-create-tools%2F01_create_first_billing_agent&version=1\">"
   ]
  },
  {
   "cell_type": "code",
   "execution_count": 0,
   "metadata": {
    "application/vnd.databricks.v1+cell": {
     "cellMetadata": {},
     "inputWidgets": {},
     "nuid": "8da8d567-6f09-444d-ba4a-2f11f5a78db1",
     "showTitle": true,
     "tableResultSettingsMap": {},
     "title": "Library Installs"
    }
   },
   "outputs": [],
   "source": [
    "%pip install databricks-agents mlflow>=3.1.0 databricks-sdk==0.55.0 unitycatalog-ai[databricks]\n",
    "# Restart to load the packages into the Python environment\n",
    "dbutils.library.restartPython()"
   ]
  },
  {
   "cell_type": "code",
   "execution_count": 0,
   "metadata": {
    "application/vnd.databricks.v1+cell": {
     "cellMetadata": {},
     "inputWidgets": {},
     "nuid": "cb8efa95-f498-4f46-9647-0e76228f1a97",
     "showTitle": false,
     "tableResultSettingsMap": {},
     "title": ""
    },
    "jupyter": {
     "outputs_hidden": true
    }
   },
   "outputs": [],
   "source": [
    "%run ../_resources/01-setup"
   ]
  },
  {
   "cell_type": "markdown",
   "metadata": {
    "application/vnd.databricks.v1+cell": {
     "cellMetadata": {},
     "inputWidgets": {},
     "nuid": "2e9dba25-1163-48c4-b756-34d563839541",
     "showTitle": false,
     "tableResultSettingsMap": {},
     "title": ""
    }
   },
   "source": [
    "Generate synthetic data we're going to use with our agents."
   ]
  },
  {
   "cell_type": "markdown",
   "metadata": {
    "application/vnd.databricks.v1+cell": {
     "cellMetadata": {},
     "inputWidgets": {},
     "nuid": "7e12eb02-9d5b-49b5-983a-852a241e0ca5",
     "showTitle": false,
     "tableResultSettingsMap": {},
     "title": ""
    }
   },
   "source": [
    "\n",
    "## 1. Get the customer details based on their email\n",
    "\n",
    "Let's add a function to retrieve a customer detail based on their email.\n",
    "\n",
    "*Note: realtime postgres tables could be used to provide low latencies for point-queries like these. However, to keep this demo simple, we'll use a SQL endpoint. Using a SQL endpoint is also a very good way to provide analytics capabilities to your agent!*\n"
   ]
  },
  {
   "cell_type": "code",
   "execution_count": 0,
   "metadata": {
    "application/vnd.databricks.v1+cell": {
     "cellMetadata": {},
     "inputWidgets": {},
     "nuid": "e7579917-9f1e-4081-8f76-a932c0dd7b63",
     "showTitle": true,
     "tableResultSettingsMap": {},
     "title": "Create a function registered to Unity Catalog"
    }
   },
   "outputs": [],
   "source": [
    "%sql\n",
    "CREATE OR REPLACE FUNCTION get_customer_by_email(email_input STRING COMMENT 'customer email used to retrieve customer information')\n",
    "RETURNS TABLE (\n",
    "    customer_id BIGINT,\n",
    "    first_name STRING,\n",
    "    last_name STRING,\n",
    "    email STRING,\n",
    "    phone STRING,\n",
    "    address STRING,\n",
    "    city STRING,\n",
    "    state STRING,\n",
    "    zip_code STRING,\n",
    "    customer_segment STRING,\n",
    "    registration_date DATE,\n",
    "    customer_status STRING,\n",
    "    loyalty_tier STRING,\n",
    "    tenure_years DOUBLE,\n",
    "    churn_risk_score BIGINT,\n",
    "    customer_value_score BIGINT\n",
    ")\n",
    "COMMENT 'Returns the customer record matching the provided email address. Includes its ID, firstname, lastname and more.'\n",
    "RETURN (\n",
    "    SELECT * FROM customers\n",
    "    WHERE email = email_input\n",
    "    LIMIT 1\n",
    ");\n"
   ]
  },
  {
   "cell_type": "code",
   "execution_count": 0,
   "metadata": {
    "application/vnd.databricks.v1+cell": {
     "cellMetadata": {},
     "inputWidgets": {},
     "nuid": "a75b633c-d36b-4fcd-9239-186117208da4",
     "showTitle": false,
     "tableResultSettingsMap": {},
     "title": ""
    }
   },
   "outputs": [],
   "source": [
    "%sql SELECT * FROM get_customer_by_email('john21@example.net');"
   ]
  },
  {
   "cell_type": "markdown",
   "metadata": {
    "application/vnd.databricks.v1+cell": {
     "cellMetadata": {},
     "inputWidgets": {},
     "nuid": "739fa42a-ca73-43f4-82b2-07252f1ade50",
     "showTitle": false,
     "tableResultSettingsMap": {},
     "title": ""
    }
   },
   "source": [
    "\n",
    "## 2. Retrieve all billing informations\n",
    "Let's add a function to get all the customer orders and subscriptions. This function will take a customer ID as input and return som aggregation to filter all the past billing informations and current subscriptions."
   ]
  },
  {
   "cell_type": "code",
   "execution_count": 0,
   "metadata": {
    "application/vnd.databricks.v1+cell": {
     "cellMetadata": {},
     "inputWidgets": {},
     "nuid": "db6046fc-878b-4e35-976a-43231db8b841",
     "showTitle": false,
     "tableResultSettingsMap": {},
     "title": ""
    }
   },
   "outputs": [],
   "source": [
    "%sql\n",
    "CREATE OR REPLACE FUNCTION get_customer_billing_and_subscriptions(customer_id_input BIGINT COMMENT 'customer ID used to retrive orders, billing and subscriptiosn')\n",
    "RETURNS TABLE (\n",
    "    customer_id BIGINT,\n",
    "    subscription_id BIGINT,\n",
    "    service_type STRING,\n",
    "    plan_name STRING,\n",
    "    plan_tier STRING,\n",
    "    monthly_charge BIGINT,\n",
    "    start_date DATE,\n",
    "    contract_length_months BIGINT,\n",
    "    status STRING,\n",
    "    autopay_enabled BOOLEAN,\n",
    "    total_billed DOUBLE,\n",
    "    total_paid DOUBLE,\n",
    "    total_late_payments BIGINT,\n",
    "    total_late_fees DOUBLE,\n",
    "    latest_payment_status STRING\n",
    ")\n",
    "COMMENT 'Returns subscription and billing details for a customer.'\n",
    "RETURN (\n",
    "    SELECT\n",
    "        s.customer_id, s.subscription_id, s.service_type, s.plan_name, s.plan_tier,\n",
    "        s.monthly_charge, s.start_date, s.contract_length_months, s.status, s.autopay_enabled,\n",
    "        COALESCE(b.total_billed, 0), COALESCE(b.total_paid, 0),\n",
    "        COALESCE(b.total_late_payments, 0), COALESCE(b.total_late_fees, 0),\n",
    "        COALESCE(b.latest_payment_status, 'N/A')\n",
    "    FROM subscriptions s\n",
    "    LEFT JOIN (\n",
    "        SELECT\n",
    "            subscription_id, customer_id,\n",
    "            SUM(total_amount) AS total_billed,\n",
    "            SUM(payment_amount) AS total_paid,\n",
    "            COUNT_IF(payment_date > due_date OR payment_status = 'Late') AS total_late_payments,\n",
    "            SUM(CASE WHEN payment_date > due_date OR payment_status = 'Late' THEN total_amount - payment_amount ELSE 0 END) AS total_late_fees,\n",
    "            MAX(payment_status) AS latest_payment_status\n",
    "        FROM billing\n",
    "        WHERE customer_id = customer_id_input\n",
    "        GROUP BY subscription_id, customer_id\n",
    "    ) b ON s.subscription_id = b.subscription_id\n",
    "    WHERE s.customer_id = customer_id_input\n",
    ");"
   ]
  },
  {
   "cell_type": "code",
   "execution_count": 0,
   "metadata": {
    "application/vnd.databricks.v1+cell": {
     "cellMetadata": {},
     "inputWidgets": {},
     "nuid": "dceaf80e-6faa-4a1e-9eab-82c8bc8b2b56",
     "showTitle": false,
     "tableResultSettingsMap": {},
     "title": ""
    }
   },
   "outputs": [],
   "source": [
    "%sql\n",
    "SELECT *\n",
    "FROM get_customer_billing_and_subscriptions(\n",
    "  (SELECT customer_id FROM get_customer_by_email('john21@example.net'))\n",
    ");\n"
   ]
  },
  {
   "cell_type": "markdown",
   "metadata": {
    "application/vnd.databricks.v1+cell": {
     "cellMetadata": {},
     "inputWidgets": {},
     "nuid": "026f9799-ae56-4ceb-bff5-d6e7f6a0565c",
     "showTitle": false,
     "tableResultSettingsMap": {},
     "title": ""
    }
   },
   "source": [
    "\n",
    "## 3. Give the LLM a Python Function to compute Math\n",
    "LLMs typically struggle to run any advance math. Let's add a tool to let the LLM compute any math expression, using python directly.\n",
    "\n",
    "Databricks makes it easy, running safe, sandboxed python functions:"
   ]
  },
  {
   "cell_type": "code",
   "execution_count": 0,
   "metadata": {
    "application/vnd.databricks.v1+cell": {
     "cellMetadata": {},
     "inputWidgets": {},
     "nuid": "e10e5c66-87d2-4962-961e-33d62523da12",
     "showTitle": true,
     "tableResultSettingsMap": {},
     "title": "Very simple Python function"
    }
   },
   "outputs": [],
   "source": [
    "# -----------------------\n",
    "# TOOL 2: evaluate math expression\n",
    "# -----------------------\n",
    "def calculate_math_expression(expression: str) -> float:\n",
    "    \"\"\"\n",
    "    Evaluates a basic math expression safely.\n",
    "\n",
    "    Args:\n",
    "        expression (str): A math expression (e.g., \"sqrt(2 + 3 * (4 - 1)), using python math functions.\").\n",
    "\n",
    "    Returns:\n",
    "        float: The result of the evaluated expression.\n",
    "    \"\"\"\n",
    "    import math\n",
    "    allowed_names = {k: v for k, v in math.__dict__.items() if not k.startswith(\"__\")}\n",
    "    allowed_names.update({\"abs\": abs, \"round\": round})\n",
    "\n",
    "    try:\n",
    "        result = eval(expression, {\"__builtins__\": None}, allowed_names)\n",
    "        return float(result)\n",
    "    except Exception as e:\n",
    "        raise ValueError(f\"Invalid expression: {expression}. Error: {str(e)}\")\n",
    "\n",
    "print(calculate_math_expression(\"6 + 3 * (13 - 1)\"))"
   ]
  },
  {
   "cell_type": "code",
   "execution_count": 0,
   "metadata": {
    "application/vnd.databricks.v1+cell": {
     "cellMetadata": {},
     "inputWidgets": {},
     "nuid": "c60f7885-7979-4b28-83d6-62ad7687c299",
     "showTitle": true,
     "tableResultSettingsMap": {},
     "title": "Register python function to Unity Catalog"
    }
   },
   "outputs": [],
   "source": [
    "from unitycatalog.ai.core.databricks import DatabricksFunctionClient\n",
    "\n",
    "client = DatabricksFunctionClient()\n",
    "\n",
    "# this will deploy the tool to UC, automatically setting the metadata in UC based on the tool's docstring & typing hints\n",
    "python_tool_uc_info = client.create_python_function(func=calculate_math_expression, catalog=catalog, schema=dbName, replace=True)\n",
    "\n",
    "# the tool will deploy to a function in UC called `{catalog}.{schema}.{func}` where {func} is the name of the function\n",
    "# Print the deployed Unity Catalog function name\n",
    "print(f\"Deployed Unity Catalog function name: {python_tool_uc_info.full_name}\")\n",
    "# Create HTML link to created functions\n",
    "displayHTML(f'<a href=\"/explore/data/functions/{catalog}/{dbName}/calculate_math_expression\" target=\"_blank\">Go to Unity Catalog to see Registered Functions</a>')"
   ]
  },
  {
   "cell_type": "markdown",
   "metadata": {
    "application/vnd.databricks.v1+cell": {
     "cellMetadata": {},
     "inputWidgets": {},
     "nuid": "9c946947-e98d-458d-b8b3-b35c6a5ab50f",
     "showTitle": false,
     "tableResultSettingsMap": {},
     "title": ""
    }
   },
   "source": [
    "###### Note: There is also a function registered in System.ai.python_exec that will let your LLM run generated code in a sandboxed environment:\n",
    "\n",
    "```\n",
    "\n",
    "%sql\n",
    "SELECT system.ai.python_exec(\"\"\"\n",
    "from datetime import datetime\n",
    "print(datetime.now().strftime('%Y-%m-%d'))\n",
    "\"\"\") as current_date\n",
    "\n",
    "```\n"
   ]
  },
  {
   "cell_type": "markdown",
   "metadata": {
    "application/vnd.databricks.v1+cell": {
     "cellMetadata": {},
     "inputWidgets": {},
     "isMarkdownSandbox": true,
     "nuid": "e557f587-b0b0-4103-a949-118c8816e7de",
     "showTitle": false,
     "tableResultSettingsMap": {},
     "title": ""
    }
   },
   "source": [
    "\n",
    "## 4: Let's go over to the AI Playground to see how we can use these functions and assemble our first Agent!\n",
    "\n",
    "Open the [Playground](/ml/playground) and select the tools we created to test your agent!\n",
    "\n",
    "<div style=\"float: right; width: 70%;\">\n",
    "  <img \n",
    "    src=\"https://raw.githubusercontent.com/databricks-demos/dbdemos-resources/refs/heads/main/images/\\\n",
    "cross_demo_assets/AI_Agent_GIFs/AI_agent_function_selection.gif\" \n",
    "    alt=\"Function Selection\" \n",
    "    width=\"100%\"\n",
    "  >\n",
    "</div>\n",
    "\n",
    "### Location Guide\n",
    "\n",
    "Your functions are organized in Unity Catalog using this structure:\n",
    "\n",
    "#### Example Path:\n",
    "`my_catalog.my_schema.my_awesome_function`\n",
    "\n",
    "💡 Note: Replace the example names with your actual catalog and schema names."
   ]
  },
  {
   "cell_type": "markdown",
   "metadata": {
    "application/vnd.databricks.v1+cell": {
     "cellMetadata": {},
     "inputWidgets": {},
     "nuid": "6f3ee811-a1fa-4ddb-9ffc-bfa0712f0abd",
     "showTitle": false,
     "tableResultSettingsMap": {},
     "title": ""
    }
   },
   "source": [
    "## What's next: Evaluation\n",
    "\n",
    "Our agent is now ready and leveraging our tools to properly answer our questions.\n",
    "\n",
    "But how can we make sure it's working properly, and more importantly will still work well for future questions and modifications?\n",
    "\n",
    "To do so, we need to build an Evaluation dataset and leverage MLFlow to automatically analyze our agent!\n",
    "\n",
    "Open the [02_agent_eval/02.1_agent_evaluation]($../02_agent_eval/02.1_agent_evaluation) notebook to see how to deploy your agent using Langchain and run your first evaluations!"
   ]
  }
 ],
 "metadata": {
  "application/vnd.databricks.v1+notebook": {
   "computePreferences": null,
   "dashboards": [],
   "environmentMetadata": {
    "environment_version": "2"
   },
   "inputWidgetPreferences": null,
   "language": "python",
   "notebookMetadata": {},
   "notebookName": "01_create_first_billing_agent",
   "widgets": {}
  },
  "language_info": {
   "name": "python"
  }
 },
 "nbformat": 4,
 "nbformat_minor": 0
}
