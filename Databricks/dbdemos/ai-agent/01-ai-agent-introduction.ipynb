{
 "cells": [
  {
   "cell_type": "markdown",
   "metadata": {
    "application/vnd.databricks.v1+cell": {
     "cellMetadata": {},
     "inputWidgets": {},
     "isMarkdownSandbox": true,
     "nuid": "6c431da5-0a04-4ed5-b05f-f3e9d4846078",
     "showTitle": false,
     "tableResultSettingsMap": {},
     "title": ""
    }
   },
   "source": [
    "# Build and Evaluate your AI Agent Systems with Databricks and MLFlow\n",
    "\n",
    "<img src=\"https://github.com/databricks-demos/dbdemos-resources/blob/main/images/product/ai-agent/agent-demo-0.png?raw=true\" width=\"800px\" style=\"float: right\">\n",
    "\n",
    "Databricks makes it easy to create and register your own Agents and tools to manipulate your data, and also any other external system (from openai agent sdk, claude agents to MCP servers).\n",
    "\n",
    "But building your agent is only the first step to deploy your production and drive business impact!\n",
    "\n",
    "In this demo, we will be building an agent for your customer support team. It'll be able to process your customer support request, and provide guidance, ultimately **accelerating your time to resolution, increasing satisfaction and reducing costs!**\n",
    "\n",
    "You will need the following steps, and Databricks makes it easier than ever:\n",
    "\n",
    "<!-- Collect usage data (view). Remove it to disable collection or disable tracker during installation. View README for more details.  -->\n",
    "<img width=\"1px\" src=\"https://ppxrzfxige.execute-api.us-west-2.amazonaws.com/v1/analytics?category=data-science&org_id=796524194907820&notebook=%2F01-ai-agent-introduction&demo_name=ai-agent&event=VIEW&path=%2F_dbdemos%2Fdata-science%2Fai-agent%2F01-ai-agent-introduction&version=1\">\n"
   ]
  },
  {
   "cell_type": "markdown",
   "metadata": {
    "application/vnd.databricks.v1+cell": {
     "cellMetadata": {},
     "inputWidgets": {},
     "isMarkdownSandbox": true,
     "nuid": "242b3a23-2ff3-4be4-a30c-79026dd0a215",
     "showTitle": false,
     "tableResultSettingsMap": {},
     "title": ""
    }
   },
   "source": [
    "## 1/ Create your tools\n",
    "\n",
    "<img src=\"https://github.com/databricks-demos/dbdemos-resources/blob/main/images/product/ai-agent/agent-demo-1.png?raw=true\" width=\"500px\" style=\"float: right\">\n",
    "\n",
    "Let's start by creating our first tools. We'll create a few functions to help your customer support team to find customer information, and register them in your Catalog/Schema. \n",
    "\n",
    "Remember, this could be any functions!"
   ]
  },
  {
   "cell_type": "markdown",
   "metadata": {
    "application/vnd.databricks.v1+cell": {
     "cellMetadata": {},
     "inputWidgets": {},
     "nuid": "f292c744-fff2-4f3b-8098-7ebd658a7f90",
     "showTitle": false,
     "tableResultSettingsMap": {},
     "title": ""
    }
   },
   "source": [
    "Open [01-create-tools/01_create_first_billing_agent]($.01-create-tools/01_create_first_billing_agent) to get started"
   ]
  },
  {
   "cell_type": "markdown",
   "metadata": {
    "application/vnd.databricks.v1+cell": {
     "cellMetadata": {},
     "inputWidgets": {},
     "isMarkdownSandbox": true,
     "nuid": "ca747759-a244-4276-baa8-ae8818292968",
     "showTitle": false,
     "tableResultSettingsMap": {},
     "title": ""
    }
   },
   "source": [
    "## 2/ Deploy and Evaluate your agent\n",
    "\n",
    "<img src=\"https://github.com/databricks-demos/dbdemos-resources/blob/main/images/product/ai-agent/mlflow-evaluate-0.png?raw=true?raw=true\" width=\"500px\" style=\"float: right\">\n",
    "\n",
    "Now that our tools are ready, we'll create an Agent using Langchain and give equip the agent with the tools we previously created!\n",
    "\n",
    "Once our agent created, we'll start running a first Evaluation round against an existing evaluation dataset, and improve our prompt to make it better and have better eval metrics!"
   ]
  },
  {
   "cell_type": "markdown",
   "metadata": {
    "application/vnd.databricks.v1+cell": {
     "cellMetadata": {},
     "inputWidgets": {},
     "nuid": "406376b7-87d3-4b59-94df-ea90bfc4e6ea",
     "showTitle": false,
     "tableResultSettingsMap": {},
     "title": ""
    }
   },
   "source": [
    "Open [02-agent-eval/02.1_agent_evaluation]($./02-agent-eval/02.1_agent_evaluation) to deploy and evaluate your agent."
   ]
  },
  {
   "cell_type": "markdown",
   "metadata": {
    "application/vnd.databricks.v1+cell": {
     "cellMetadata": {},
     "inputWidgets": {},
     "nuid": "121e1896-5104-4f3c-84cf-d35a09e61f22",
     "showTitle": false,
     "tableResultSettingsMap": {},
     "title": ""
    }
   },
   "source": [
    "## 3/ Add a Knowledge base\n",
    "\n",
    "Our agent is working well, but cannot answer questions on our internal product and procedure.\n",
    "\n",
    "It's time to add a knowledge base, extracting information from PDF and adding a vector search to enrich our context with custom information in our prompt!\n",
    "\n",
    "And of course, we'll close the loop by re-evaluating our agent, making sure we keep improving it.\n",
    "\n",
    "Open [03-knowledge-base-rag/03.1-pdf-rag-tool]($./03-knowledge-base-rag/03.1-pdf-rag-tool) to add your Knowledge base."
   ]
  },
  {
   "cell_type": "markdown",
   "metadata": {
    "application/vnd.databricks.v1+cell": {
     "cellMetadata": {},
     "inputWidgets": {},
     "nuid": "8fa176fe-7b82-4a45-993d-02a185329159",
     "showTitle": false,
     "tableResultSettingsMap": {},
     "title": ""
    }
   },
   "source": [
    "## 4/ Deploy your agent using Databricks Application, capturing Customer Feedback in MLFlow\n",
    "\n",
    "Now that our agent is ready, we can deploy it using Databricks Application.\n",
    "\n",
    "For our demo, we'll release a simple GradIO chatbot application to show you how to capture user feedback within MLFlow, and use it to improve your eval set and your model performance over time!\n",
    "\n",
    "Open [04-deploy-app/04-Deploy-Frontend-Lakehouse-App]($./04-deploy-app/04-Deploy-Frontend-Lakehouse-App) to get started."
   ]
  },
  {
   "cell_type": "markdown",
   "metadata": {
    "application/vnd.databricks.v1+cell": {
     "cellMetadata": {},
     "inputWidgets": {},
     "nuid": "dfaa6afb-e9a1-4cbe-92b9-4622d9e4509d",
     "showTitle": false,
     "tableResultSettingsMap": {},
     "title": ""
    }
   },
   "source": [
    "## 5/ Add live, production monitoring to your agent\n",
    "\n",
    "Our frontend application is now live! Our next step is to add a monitoring to evaluate all the incoming user requests, and make sure they respect our evaluation metrics over time.\n",
    "\n",
    "Open [05-production-monitoring/05.production-monitoring]($./05-production-monitoring/05.production-monitoring) to add Production Monitoring to your agents!"
   ]
  },
  {
   "cell_type": "markdown",
   "metadata": {
    "application/vnd.databricks.v1+cell": {
     "cellMetadata": {},
     "inputWidgets": {},
     "nuid": "fd286c11-ee93-4d89-96d5-e4c29d889edc",
     "showTitle": false,
     "tableResultSettingsMap": {},
     "title": ""
    }
   },
   "source": [
    "## 6/ Track how your agent improves your business metrics\n",
    "\n",
    "Out last step is to measure how your agent impact your business!\n",
    "\n",
    "Thanksfully, Databricks let you manage your entire data stack, you can for example synchronize your CRM or Ticket support data and track how the CSAT score increases over time, benchmarking a team with and without agent for example!\n",
    "\n",
    "Open [06-improving-business-kpis/06-improving-business-kpis]($./06-improving-business-kpis/06-improving-business-kpis) to track your Busines KPI with a ready to use dashboard!"
   ]
  },
  {
   "cell_type": "markdown",
   "metadata": {
    "application/vnd.databricks.v1+cell": {
     "cellMetadata": {},
     "inputWidgets": {},
     "nuid": "207293b3-af3a-4a49-9b1c-2fcd07d7c8ff",
     "showTitle": false,
     "tableResultSettingsMap": {},
     "title": ""
    }
   },
   "source": [
    "Congratulation!\n",
    "You're now ready to build and deploy your AI Agent with Databricks and MLFlow 3!\n",
    "\n",
    "## What's next: Discover ready to use Agent with Databricks Agent Bricks\n",
    "\n",
    "Many AI tasks are common, and Databricks provides out of the box Agent that you can use and stich together:\n",
    "\n",
    "- **Information Extraction**: Extract key information, classify content, or summarize text from documents into a structured JSON.\n",
    "- **Custom LLM**: Specialize an LLM endpoint to perform custom text tasks (i.e. content generation, chat) aligned within your domain-specific guidelines.\n",
    "- **Multi-Agent Supervisor**: Design an AI system that brings Genie Spaces and Agents together.\n",
    "- **Knowledge Assistant**: Turn your docs into an expert AI chatbot.\n",
    "- ...\n",
    "\n",
    "\n",
    "Open [Databricks Agent Bricks]($./ml/bricks) and setup these agents in a few clicks!"
   ]
  }
 ],
 "metadata": {
  "application/vnd.databricks.v1+notebook": {
   "computePreferences": null,
   "dashboards": [],
   "environmentMetadata": {
    "environment_version": "2"
   },
   "inputWidgetPreferences": null,
   "language": "python",
   "notebookMetadata": {
    "pythonIndentUnit": 4
   },
   "notebookName": "01-ai-agent-introduction",
   "widgets": {}
  },
  "language_info": {
   "name": "python"
  }
 },
 "nbformat": 4,
 "nbformat_minor": 0
}
