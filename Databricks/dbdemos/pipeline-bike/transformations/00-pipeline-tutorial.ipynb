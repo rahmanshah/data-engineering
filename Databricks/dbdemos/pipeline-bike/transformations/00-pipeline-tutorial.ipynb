{
 "cells": [
  {
   "cell_type": "markdown",
   "metadata": {
    "application/vnd.databricks.v1+cell": {
     "cellMetadata": {},
     "inputWidgets": {},
     "nuid": "f96fd007-6d4f-469d-ad34-97358f7d773e",
     "showTitle": false,
     "tableResultSettingsMap": {},
     "title": ""
    }
   },
   "source": [
    "\n",
    "**Your Lakeflow Declarative Pipeline has been installed and started for you!** Open the <a dbdemos-pipeline-id=\"pipeline-bike\" href=\"#joblist/pipelines/8b0431e3-e311-4c5b-b870-7907d348f854\" target=\"_blank\">Bike Rental Declarative Pipeline</a> to see it in action.<br/>\n",
    "*(Note: The pipeline will automatically start once the initialization job is completed, this might take a few minutes... Check installation logs for more details)*"
   ]
  },
  {
   "cell_type": "markdown",
   "metadata": {
    "application/vnd.databricks.v1+cell": {
     "cellMetadata": {},
     "inputWidgets": {},
     "isMarkdownSandbox": true,
     "nuid": "5eb6bbf2-70c8-4e15-baa4-c3f535374495",
     "showTitle": false,
     "tableResultSettingsMap": {},
     "title": ""
    }
   },
   "source": [
    "## Streaming Tables\n",
    "\n",
    "<img src=\"https://github.com/databricks-demos/dbdemos-resources/blob/main/images/product/declarative-pipelines/declarative-pipelines-1.png?raw=true\" width=\"400px\" style=\"width:400px; float: right;\" />\n",
    "\n",
    "A streaming table is a Delta table with additional support for streaming or incremental data processing. A streaming table can be targeted by one or more flows in an ETL pipeline.\n",
    "\n",
    "Streaming tables are a good choice for data ingestion for the following reasons:\n",
    "* Each input row is handled only once, which models the vast majority of ingestion workloads (that is, by appending or upserting rows into a table).\n",
    "* They can handle large volumes of append-only data.\n",
    "\n",
    "Streaming tables are also a good choice for low-latency streaming transformations for the following reasons:\n",
    "* Reason over rows and windows of time\n",
    "* Handle high volumes of data\n",
    "* Low latency\n",
    "\n",
    "<!-- Collect usage data (view). Remove it to disable collection. View README for more details.  -->\n",
    "<img width=\"1px\" src=\"https://ppxrzfxige.execute-api.us-west-2.amazonaws.com/v1/analytics?category=data-engineering&org_id=796524194907820&notebook=%2Ftransformations%2F00-pipeline-tutorial&demo_name=pipeline-bike&event=VIEW&path=%2F_dbdemos%2Fdata-engineering%2Fpipeline-bike%2Ftransformations%2F00-pipeline-tutorial&version=1\">"
   ]
  },
  {
   "cell_type": "markdown",
   "metadata": {
    "application/vnd.databricks.v1+cell": {
     "cellMetadata": {},
     "inputWidgets": {},
     "nuid": "4c33cc9b-31a4-4035-ab0d-04b245390099",
     "showTitle": false,
     "tableResultSettingsMap": {},
     "title": ""
    }
   },
   "source": [
    "## Creating our bronze streaming tables\n",
    "Take a look at [bronze.sql]($./01-bronze.sql) to see how we create our bronze tables `maintenance_logs_raw`, `rides_raw`, `weather_raw`, and `customers_cdc_raw`."
   ]
  },
  {
   "cell_type": "markdown",
   "metadata": {
    "application/vnd.databricks.v1+cell": {
     "cellMetadata": {},
     "inputWidgets": {},
     "isMarkdownSandbox": true,
     "nuid": "a92c3c44-fe92-4181-90df-deebbede4dd1",
     "showTitle": false,
     "tableResultSettingsMap": {},
     "title": ""
    }
   },
   "source": [
    "# Enriching our data with AI functions\n",
    "\n",
    "<img src=\"https://github.com/databricks-demos/dbdemos-resources/blob/main/images/product/declarative-pipelines/declarative-pipelines-2.png?raw=true\" width=\"400px\" style=\"width:400px; float: right;\" />\n",
    "\n",
    "Now that we've got our raw data loaded let's enrich it in our silver layer.\n",
    "\n",
    "Our maintenance logs include an unstructured field `issue_description`, as is this isn't very useful for analytics. Let's use the `ai_classify` function to categorize each of these issues into categories for reporting."
   ]
  },
  {
   "cell_type": "code",
   "execution_count": 0,
   "metadata": {
    "application/vnd.databricks.v1+cell": {
     "cellMetadata": {
      "byteLimit": 2048000,
      "implicitDf": true,
      "rowLimit": 10000
     },
     "inputWidgets": {},
     "nuid": "a8bccd54-f2b1-4861-aca9-8cb1385e9d0a",
     "showTitle": false,
     "tableResultSettingsMap": {},
     "title": ""
    }
   },
   "outputs": [],
   "source": [
    "%sql\n",
    "select\n",
    "  date(reported_time) as maintenance_date,\n",
    "  maintenance_id,\n",
    "  bike_id,\n",
    "  reported_time,\n",
    "  resolved_time,\n",
    "  issue_description,\n",
    "  -- Classify issues as either related to brakes, chains/pedals, tires or something else\n",
    "  ai_classify(issue_description, array(\"brakes\", \"chains_pedals\", \"tires\", \"other\")) as issue_type\n",
    "from\n",
    "  main.dbdemos_pipeline_bike.maintenance_logs_raw\n",
    "limit 10"
   ]
  },
  {
   "cell_type": "markdown",
   "metadata": {
    "application/vnd.databricks.v1+cell": {
     "cellMetadata": {},
     "inputWidgets": {},
     "nuid": "8feeb26c-67e8-477c-af2a-410d86dba06b",
     "showTitle": false,
     "tableResultSettingsMap": {},
     "title": ""
    }
   },
   "source": [
    "## Creating our silver Streaming Tables enriched with AI\n",
    "Take a look at [silver.sql]($./02-silver.sql) to see how we create our silver tables `maintenance_logs`, `rides`, `weather`, and `customers` (SCD Type 2 using Auto CDC)."
   ]
  },
  {
   "cell_type": "markdown",
   "metadata": {
    "application/vnd.databricks.v1+cell": {
     "cellMetadata": {},
     "inputWidgets": {},
     "isMarkdownSandbox": true,
     "nuid": "5c1419e8-b153-4f8e-b9ab-e5f97f183632",
     "showTitle": false,
     "tableResultSettingsMap": {},
     "title": ""
    }
   },
   "source": [
    "# Incrementally process aggregations with Materialized Views\n",
    "\n",
    "<img src=\"https://github.com/databricks-demos/dbdemos-resources/blob/main/images/product/declarative-pipelines/declarative-pipelines-3.png?raw=true\" width=\"400px\" style=\"width:400px; float: right;\" />\n",
    "\n",
    "\n",
    "Like standard views, materialized views are the results of a query and you access them the same way you would a table. Unlike standard views, which recompute results on every query, materialized views cache the results and refreshes them on a specified interval. Because a materialized view is precomputed, queries against it can run much faster than against regular views.\n",
    "\n",
    "A materialized view is a declarative pipeline object. It includes a query that defines it, a flow to update it, and the cached results for fast access. A materialized view:\n",
    "* Tracks changes in upstream data.\n",
    "* On trigger, incrementally processes the changed data and applies the necessary transformations.\n",
    "* Maintains the output table, in sync with the source data, based on a specified refresh interval.\n",
    "\n",
    "Materialized views are a good choice for many transformations:\n",
    "* You apply reasoning over cached results instead of rows. In fact, you simply write a query.\n",
    "* They are always correct. All required data is processed, even if it arrives late or out of order.\n",
    "* They are often incremental. Databricks will try to choose the appropriate strategy that minimizes the cost of updating a materialized view. \n",
    "\n",
    "\n",
    "When the pipeline defining a materialized view is triggered, the view is automatically kept up to date, often incrementally. Databricks attempts to process only the data that must be processed to keep the materialized view up to date. A materialized view always shows the correct result, even if it requires fully recomputing the query result from scratch, but often Databricks makes only incremental updates to a materialized view, which can be far less costly than a full recomputation.\n"
   ]
  },
  {
   "cell_type": "markdown",
   "metadata": {
    "application/vnd.databricks.v1+cell": {
     "cellMetadata": {},
     "inputWidgets": {},
     "nuid": "9e3fef8c-58b5-49b2-aabc-121b18fe173f",
     "showTitle": false,
     "tableResultSettingsMap": {},
     "title": ""
    }
   },
   "source": [
    "## Creating our gold Materialized Views\n",
    "Take a look at [gold.sql]($../transformations/03-gold.sql) to see how we create our gold tables `bikes`, `stations` and `maintenance_events`"
   ]
  },
  {
   "cell_type": "markdown",
   "metadata": {
    "application/vnd.databricks.v1+cell": {
     "cellMetadata": {},
     "inputWidgets": {},
     "nuid": "b4ead48d-b4d8-4c2f-83cc-391124471a7d",
     "showTitle": false,
     "tableResultSettingsMap": {},
     "title": ""
    }
   },
   "source": [
    "## Analyzing your business metrics\n",
    "You have everything you need! Once ready, open your <a  dbdemos-dashboard-id=\"bike-rental\" href='/sql/dashboardsv3/01f0a995542a13c799f175ff307a2b12' target=\"_blank\">Bike Rental Business Dashboard</a> to track all your insights in realtime ! \n",
    "\n",
    "\n",
    "### Next: tracking data quality\n",
    "\n",
    "Lakeflow Declarative Pipelines makes it easy to track your data quality and set alerts when something is wrong! Open the [02-Pipeline-event-monitoring]($../explorations/02-Pipeline-event-monitoring) notebook for more details."
   ]
  }
 ],
 "metadata": {
  "application/vnd.databricks.v1+notebook": {
   "computePreferences": null,
   "dashboards": [],
   "environmentMetadata": {
    "environment_version": "2"
   },
   "inputWidgetPreferences": null,
   "language": "python",
   "notebookMetadata": {
    "mostRecentlyExecutedCommandWithImplicitDF": {
     "commandId": 5317486578662980,
     "dataframes": [
      "_sqldf"
     ]
    }
   },
   "notebookName": "00-pipeline-tutorial",
   "widgets": {}
  },
  "language_info": {
   "name": "python"
  }
 },
 "nbformat": 4,
 "nbformat_minor": 0
}
