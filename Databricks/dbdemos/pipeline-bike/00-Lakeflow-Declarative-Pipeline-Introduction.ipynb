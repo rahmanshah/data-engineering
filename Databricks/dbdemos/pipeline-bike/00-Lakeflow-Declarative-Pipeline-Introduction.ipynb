{
 "cells": [
  {
   "cell_type": "markdown",
   "metadata": {
    "application/vnd.databricks.v1+cell": {
     "cellMetadata": {},
     "inputWidgets": {},
     "nuid": "49d3553d-5970-40d3-9533-b8f5b5b1561e",
     "showTitle": false,
     "tableResultSettingsMap": {},
     "title": ""
    }
   },
   "source": [
    "## Intro to Lakeflow Declaritive Pipelines\n",
    "\n",
    "Declarative Pipelines simplify batch and streaming ETL with automated reliability and built-in data quality. Let's give it a try!\n",
    "\n",
    "## Optimizing our bike rental business - ETL pipeline\n",
    "Our fictional company operates bike rental stations across the city. The primary goal of this data pipeline is to transform raw operational data—such as ride logs, maintenance records, and weather information—into a structured and refined format, enabling comprehensive analytics. <br/>\n",
    "This allows us to track key business metrics like total revenue, forecast future earnings, understand revenue contributions from members versus non-members, analyze customer behavior and lifetime value, and crucially, identify and quantify revenue loss due to maintenance issues. \n",
    "\n",
    "By providing these insights, the pipeline empowers us to optimize operations, improve bike availability, and ultimately maximize profitability.\n",
    "\n",
    "We'll be using as input a raw dataset containing information coming from our ride tracking system as well as data from our maintenence system, weather data, and customer CDC events. Our goal is to ingest this data in near real time and build table for our analyst team while ensuring data quality.\n",
    "\n",
    "### Getting started with the new pipeline editor\n",
    "Databricks provides a [rich editor](https://github.com/databricks-demos/dbdemos-resources/blob/main/images/product/declarative-pipelines/declarative-pipelines-0.png?raw=true) to help you build and navigate through your different pipeline steps! \n",
    "\n",
    "<!-- Collect usage data (view). Remove it to disable collection. View README for more details.  -->\n",
    "<img width=\"1px\" src=\"https://ppxrzfxige.execute-api.us-west-2.amazonaws.com/v1/analytics?category=data-engineering&org_id=796524194907820&notebook=%2F00-Lakeflow-Declarative-Pipeline-Introduction&demo_name=pipeline-bike&event=VIEW&path=%2F_dbdemos%2Fdata-engineering%2Fpipeline-bike%2F00-Lakeflow-Declarative-Pipeline-Introduction&version=1\">"
   ]
  },
  {
   "cell_type": "markdown",
   "metadata": {
    "application/vnd.databricks.v1+cell": {
     "cellMetadata": {},
     "inputWidgets": {},
     "nuid": "de351699-aff4-4b84-97db-4642ae110788",
     "showTitle": false,
     "tableResultSettingsMap": {},
     "title": ""
    }
   },
   "source": [
    "#### 1/ Exploring the data\n",
    "First, open the [notebook in the Exploration folder]($./explorations/01-Exploring-the-Data) to discover our dataset.\n",
    "\n",
    "We'll consume data from 4 sources, all available to us as raw CSV or JSON file in our schema volume:\n",
    "\n",
    "- **maintenance_logs** (all the maintenance details, as csv files)\n",
    "- **rides** (the ride informations, including comments from users using the mobile application)\n",
    "- **weather** (current and forecast, as JSON file)\n",
    "- **customers** (customer CDC data for Auto CDC processing, as parquet files)\n"
   ]
  },
  {
   "cell_type": "markdown",
   "metadata": {
    "application/vnd.databricks.v1+cell": {
     "cellMetadata": {},
     "inputWidgets": {},
     "nuid": "ab1656f4-0bd1-49fd-884b-b8b59eb8f8aa",
     "showTitle": false,
     "tableResultSettingsMap": {},
     "title": ""
    }
   },
   "source": [
    "#### 2/ Get started with Streaming Tables and Materialized view\n",
    "\n",
    "Creating your pipeline is super simple! If you're new to the Declarative Pipelines, it's best to start with the [UI introduction from the documentation](https://docs.databricks.com/aws/en/dlt/dlt-multi-file-editor)!\n",
    "\n",
    "\n",
    "\n",
    "**Your Lakeflow Declarative Pipeline has been installed and started for you!** Open the <a dbdemos-pipeline-id=\"pipeline-bike\" href=\"#joblist/pipelines/8b0431e3-e311-4c5b-b870-7907d348f854\" target=\"_blank\">Bike Rental Declarative Pipeline</a> to see it in action.<br/>\n",
    "*(Note: The pipeline will automatically start once the initialization job is completed, this might take a few minutes... Check installation logs for more details)*"
   ]
  },
  {
   "cell_type": "markdown",
   "metadata": {
    "application/vnd.databricks.v1+cell": {
     "cellMetadata": {},
     "inputWidgets": {},
     "nuid": "0b06ca3e-c535-47e6-b80c-2cce6ee7693f",
     "showTitle": false,
     "tableResultSettingsMap": {},
     "title": ""
    }
   },
   "source": [
    "### 3/ Ingesting and transforming your data\n",
    "\n",
    "Now that we reviewed the data available to us, it's time to start creating our pipeline! We'll do it one step at a time.\n",
    "\n",
    "Open the [00-pipeline-tutorial notebook]($./transformations/00-pipeline-tutorial) if you want to start with the basics behind Streaming Table and Materialized View.\n",
    "\n",
    "<table>\n",
    "  <tr>\n",
    "    <td>\n",
    "      <b>Bronze: Raw data ingested into Delta tables.</b>\n",
    "      Our bronze layer contains our raw data loaded with minimal schema changes into tables using Autoloader.  \n",
    "\n",
    "Tables in our bronze layer:\n",
    "- maintenance_logs_raw\n",
    "- rides_raw\n",
    "- weather_raw\n",
    "- customers_cdc_raw\n",
    "    </td>\n",
    "    <td>\n",
    "      <b>Silver: Cleaned and enriched with data quality rules</b><br/>\n",
    "      Filter out invalid rides and maintenance logs, enrich data with ride revenue, categorize maintenance issues, and process customer CDC events using Auto CDC for SCD Type 2 (historical tracking).<br/>\n",
    "\n",
    "Tables in our silver layer:\n",
    "- maintenance_logs\n",
    "- rides\n",
    "- weather\n",
    "- customers (SCD Type 2)\n",
    "    </td>\n",
    "    <td>\n",
    "      <b>Gold: Curated for analytics & AI.</b><br>\n",
    "      Aggregates data for reporting by pre-calulating how much revenue each station makes as a origin and destination as well as calculates how much revenue loss each maintenance event costs.  \n",
    "\n",
    "Tables:\n",
    "\n",
    "- maintenance_events\n",
    "- stations\n",
    "- bikes\n",
    "    </td>\n",
    "  </tr>\n",
    "  <tr>\n",
    "    <td><a href=\"$./transformations/01-bronze.sql\"><img src=\"https://github.com/databricks-demos/dbdemos-resources/blob/main/images/product/declarative-pipelines/declarative-pipelines-1.png?raw=true\" width=\"300px\" style=\"width:300px;\" /></a></td>\n",
    "    <td><a href=\"$./transformations/01-silver.sql\"><img src=\"https://github.com/databricks-demos/dbdemos-resources/blob/main/images/product/declarative-pipelines/declarative-pipelines-2.png?raw=true\" width=\"300px\" style=\"width:300px;\" /></a></td>\n",
    "    <td><a href=\"$./transformations/01-gold.sql\"><img src=\"https://github.com/databricks-demos/dbdemos-resources/blob/main/images/product/declarative-pipelines/declarative-pipelines-3.png?raw=true\" width=\"300px\" style=\"width:300px;\" /></a></td>\n",
    "  </tr>\n",
    "  <tr>\n",
    "    <td align=\"center\">Open <a href=\"$./transformations/01-bronze.sql\">transformations/01-bronze.sql</a></td>\n",
    "    <td align=\"center\">Open <a href=\"$./transformations/01-silver.sql\">transformations/01-silver.sql</a></td>\n",
    "    <td align=\"center\">Open <a href=\"$./transformations/01-gold.sql\">transformations/01-gold.sql</a></td>\n",
    "  </tr>\n",
    "</table>\n"
   ]
  },
  {
   "cell_type": "markdown",
   "metadata": {
    "application/vnd.databricks.v1+cell": {
     "cellMetadata": {},
     "inputWidgets": {},
     "nuid": "51ba0b9f-700d-4b81-b0c0-60147bd57447",
     "showTitle": false,
     "tableResultSettingsMap": {},
     "title": ""
    }
   },
   "source": [
    "\n",
    "### 4/ Visualizing the data with Databricks AI/BI\n",
    "\n",
    "<table>\n",
    "  <tr>\n",
    "    <td>\n",
    "    <a dbdemos-dashboard-id=\"bike-rental\" href='/sql/dashboardsv3/01f0a995542a13c799f175ff307a2b12' target=\"_blank\">Business Dasbhoard</a>\n",
    "    </td>\n",
    "    <td>\n",
    "    - <a  dbdemos-dashboard-id=\"data-quality\" href='/sql/dashboardsv3/01f0a995542a13c799f175ff307a2b12' target=\"_blank\">Bike Rental Data Monitoring Dashboard</a>\n",
    "    <br/>\n",
    "    - <a dbdemos-dashboard-id=\"operational\" href='/sql/dashboardsv3/01f0a995542a13c799f175ff307a2b12' target=\"_blank\">Bike Rental Pipeline Operational Dashboard</a>\n",
    "    </td>\n",
    "  </tr>\n",
    "  <tr>\n",
    "    <td><img src=\"https://github.com/databricks-demos/dbdemos-resources/blob/main/images/product/declarative-pipelines/declarative-pipelines-dashboard-1.png?raw=true\" width=\"500px\" style=\"width:300px;\" /></td>\n",
    "    <td><img src=\"https://github.com/databricks-demos/dbdemos-resources/blob/main/images/product/declarative-pipelines/declarative-pipelines-dashboard-2.png?raw=true\" width=\"500px\" style=\"width:300px;\" /></td>\n",
    "  </tr>\n",
    "</table>\n"
   ]
  }
 ],
 "metadata": {
  "application/vnd.databricks.v1+notebook": {
   "computePreferences": null,
   "dashboards": [],
   "environmentMetadata": {
    "environment_version": "2"
   },
   "inputWidgetPreferences": null,
   "language": "python",
   "notebookMetadata": {
    "pythonIndentUnit": 4
   },
   "notebookName": "00-Lakeflow-Declarative-Pipeline-Introduction",
   "widgets": {}
  },
  "language_info": {
   "name": "python"
  }
 },
 "nbformat": 4,
 "nbformat_minor": 0
}
