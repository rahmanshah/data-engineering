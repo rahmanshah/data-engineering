{
 "cells": [
  {
   "cell_type": "code",
   "execution_count": 0,
   "metadata": {
    "application/vnd.databricks.v1+cell": {
     "cellMetadata": {},
     "inputWidgets": {},
     "nuid": "8d63e37f-8119-45d3-9479-a6f03866152c",
     "showTitle": false,
     "tableResultSettingsMap": {},
     "title": ""
    }
   },
   "outputs": [],
   "source": [
    "SELECT trip_category, COUNT(ride_id) AS total_journeys\n",
    "FROM (\n",
    "  SELECT ride_id, \n",
    "         date_diff(MINUTE, started_at, ended_at) AS trip_duration_minutes,\n",
    "         CASE \n",
    "           WHEN date_diff(MINUTE, started_at, ended_at) > 60 THEN 'Long'\n",
    "           WHEN date_diff(MINUTE, started_at, ended_at) > 30 THEN 'Medium'\n",
    "           ELSE 'Short'\n",
    "         END AS trip_category\n",
    "  FROM course_project.citibike.jc_bike_data_22\n",
    ") AS subquery\n",
    "GROUP BY trip_category;"
   ]
  }
 ],
 "metadata": {
  "application/vnd.databricks.v1+notebook": {
   "computePreferences": null,
   "dashboards": [],
   "environmentMetadata": null,
   "inputWidgetPreferences": null,
   "language": "sql",
   "notebookMetadata": {
    "sqlQueryOptions": {
     "applyAutoLimit": false,
     "catalog": "course_project",
     "schema": "citibike"
    }
   },
   "notebookName": "trip_category.dbquery.ipynb",
   "widgets": {}
  },
  "language_info": {
   "name": "sql"
  }
 },
 "nbformat": 4,
 "nbformat_minor": 0
}
