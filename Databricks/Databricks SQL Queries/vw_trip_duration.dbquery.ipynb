{
 "cells": [
  {
   "cell_type": "code",
   "execution_count": 0,
   "metadata": {
    "application/vnd.databricks.v1+cell": {
     "cellMetadata": {},
     "inputWidgets": {},
     "nuid": "a704244e-ec43-4e96-823a-94a10c32f62a",
     "showTitle": false,
     "tableResultSettingsMap": {},
     "title": ""
    }
   },
   "outputs": [],
   "source": [
    "CREATE OR REPLACE VIEW vw_trip_duration AS\n",
    "SELECT\n",
    "  ride_id,\n",
    "  start_station_id,\n",
    "  end_station_id,\n",
    "  datediff(MINUTE, started_at,ended_at) AS trip_duration\n",
    "FROM jc_bike_data_22;\n",
    "\n",
    "SELECT * \n",
    "FROM vw_trip_duration \n",
    "LIMIT 5;"
   ]
  }
 ],
 "metadata": {
  "application/vnd.databricks.v1+notebook": {
   "computePreferences": null,
   "dashboards": [],
   "environmentMetadata": null,
   "inputWidgetPreferences": null,
   "language": "sql",
   "notebookMetadata": {
    "sqlQueryOptions": {
     "applyAutoLimit": false,
     "catalog": "course_project",
     "schema": "citibike"
    }
   },
   "notebookName": "vw_trip_duration.dbquery.ipynb",
   "widgets": {}
  },
  "language_info": {
   "name": "sql"
  }
 },
 "nbformat": 4,
 "nbformat_minor": 0
}
