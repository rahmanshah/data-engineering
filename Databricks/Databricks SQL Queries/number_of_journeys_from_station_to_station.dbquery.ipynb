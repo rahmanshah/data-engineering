{
 "cells": [
  {
   "cell_type": "code",
   "execution_count": 0,
   "metadata": {
    "application/vnd.databricks.v1+cell": {
     "cellMetadata": {},
     "inputWidgets": {},
     "nuid": "c39a47f2-1a90-4d2b-a3ce-75a257a61dd2",
     "showTitle": false,
     "tableResultSettingsMap": {},
     "title": ""
    }
   },
   "outputs": [],
   "source": [
    "WITH station_names AS (\n",
    "    SELECT\n",
    "        station_id,\n",
    "        station_name\n",
    "    FROM\n",
    "        station_data\n",
    "),\n",
    "journey_data AS (\n",
    "    SELECT\n",
    "        ride_id,\n",
    "        start_station_id,\n",
    "        end_station_id\n",
    "    FROM\n",
    "        course_project.citibike.jc_bike_data_22\n",
    "),\n",
    "journey_with_names AS (\n",
    "    SELECT\n",
    "        j.ride_id,\n",
    "        CONCAT(s1.station_name, ' TO ', s2.station_name) AS journey\n",
    "    FROM\n",
    "        journey_data j\n",
    "    JOIN\n",
    "        station_names s1 ON j.start_station_id = s1.station_id\n",
    "    JOIN\n",
    "        station_names s2 ON j.end_station_id = s2.station_id\n",
    ")\n",
    "SELECT\n",
    "    journey,\n",
    "    COUNT(*) AS total_journeys\n",
    "FROM\n",
    "    journey_with_names\n",
    "GROUP BY\n",
    "    journey\n",
    "ORDER BY\n",
    "    total_journeys DESC;\n",
    "\n",
    "-- Another Version\n",
    "select\n",
    "count(ride_id) as total_rides,\n",
    "concat(start_station, ' TO ', end_station) as start_end_station\n",
    "from\n",
    "(select \n",
    "t1.ride_id,\n",
    "t2.station_name as start_station,\n",
    "t3.station_name as end_station\n",
    "from jc_bike_data_22 as t1\n",
    "left join station_data as t2\n",
    "on t1.start_station_id = t2.station_id\n",
    "left join station_data as t3\n",
    "on t1.end_station_id = t3.station_id)\n",
    "group by concat(start_station, ' TO ', end_station)\n",
    "order by total_rides desc;\n"
   ]
  }
 ],
 "metadata": {
  "application/vnd.databricks.v1+notebook": {
   "computePreferences": null,
   "dashboards": [],
   "environmentMetadata": null,
   "inputWidgetPreferences": null,
   "language": "sql",
   "notebookMetadata": {
    "sqlQueryOptions": {
     "applyAutoLimit": true,
     "catalog": "course_project",
     "schema": "citibike"
    }
   },
   "notebookName": "number_of_journeys_from_station_to_station.dbquery.ipynb",
   "widgets": {}
  },
  "language_info": {
   "name": "sql"
  }
 },
 "nbformat": 4,
 "nbformat_minor": 0
}
