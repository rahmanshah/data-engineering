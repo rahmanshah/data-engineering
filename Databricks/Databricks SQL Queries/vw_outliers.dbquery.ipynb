{
 "cells": [
  {
   "cell_type": "code",
   "execution_count": 0,
   "metadata": {
    "application/vnd.databricks.v1+cell": {
     "cellMetadata": {},
     "inputWidgets": {},
     "nuid": "a2b8dc05-f7f2-4ec7-9de2-9032aa2eeee4",
     "showTitle": false,
     "tableResultSettingsMap": {},
     "title": ""
    }
   },
   "outputs": [],
   "source": [
    "CREATE OR REPLACE VIEW vw_outliers AS\n",
    "SELECT\n",
    "  ride_id,\n",
    "  start_station_id,\n",
    "  end_station_id,\n",
    "  datediff(MINUTE, started_at,ended_at) AS trip_duration\n",
    "FROM jc_bike_data_22\n",
    "WHERE (datediff(MINUTE, started_at,ended_at) > 2000) OR (datediff(MINUTE, started_at,ended_at) < 0);\n",
    "\n",
    "\n",
    "SELECT *\n",
    "FROM vw_outliers;"
   ]
  }
 ],
 "metadata": {
  "application/vnd.databricks.v1+notebook": {
   "computePreferences": null,
   "dashboards": [],
   "environmentMetadata": null,
   "inputWidgetPreferences": null,
   "language": "sql",
   "notebookMetadata": {
    "sqlQueryOptions": {
     "applyAutoLimit": false,
     "catalog": "course_project",
     "schema": "citibike"
    }
   },
   "notebookName": "vw_outliers.dbquery.ipynb",
   "widgets": {}
  },
  "language_info": {
   "name": "sql"
  }
 },
 "nbformat": 4,
 "nbformat_minor": 0
}
