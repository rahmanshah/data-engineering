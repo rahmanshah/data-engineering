{
 "cells": [
  {
   "cell_type": "code",
   "execution_count": 0,
   "metadata": {
    "application/vnd.databricks.v1+cell": {
     "cellMetadata": {},
     "inputWidgets": {},
     "nuid": "9e0698be-1303-4747-8129-af4fc5865b5b",
     "showTitle": false,
     "tableResultSettingsMap": {},
     "title": ""
    }
   },
   "outputs": [],
   "source": [
    "create table trip_duration as select ride_id, date_diff(MINUTE,started_at ,ended_at ) as trip_duration_minutes from jc_bike_data_22;\r\n",
    "\r\n",
    "\r\n",
    "select * \r\n",
    "from trip_duration\r\n",
    "limit 5;\r\n",
    "\r\n",
    "\r\n",
    "select ride_id, trip_duration_minutes, if(trip_duration_minutes > 60, 'Long', 'Short/Medium') as trip_category\r\n",
    "from trip_duration\r\n",
    "limit 5;\r\n",
    "\r\n",
    "select ride_id, trip_duration_minutes, if(trip_duration_minutes > 60, 'Long', if(trip_duration_minutes>30,'Medium','Short')) as trip_category\r\n",
    "from trip_duration\r\n",
    "limit 10;\r\n",
    "\r\n",
    "\r\n",
    "select ride_id, trip_duration_minutes, \r\n",
    "case when trip_duration_minutes > 60 then 'Long' \r\n",
    "    when trip_duration_minutes > 30 then 'Medium'\r\n",
    "    else 'Short' end as trip_category\r\n",
    "from trip_duration\r\n",
    "limit 10;"
   ]
  }
 ],
 "metadata": {
  "application/vnd.databricks.v1+notebook": {
   "computePreferences": null,
   "dashboards": [],
   "environmentMetadata": null,
   "inputWidgetPreferences": null,
   "language": "sql",
   "notebookMetadata": {
    "sqlQueryOptions": {
     "applyAutoLimit": true,
     "catalog": "course_project",
     "schema": "citibike"
    }
   },
   "notebookName": "condition.dbquery.ipynb",
   "widgets": {}
  },
  "language_info": {
   "name": "sql"
  }
 },
 "nbformat": 4,
 "nbformat_minor": 0
}
