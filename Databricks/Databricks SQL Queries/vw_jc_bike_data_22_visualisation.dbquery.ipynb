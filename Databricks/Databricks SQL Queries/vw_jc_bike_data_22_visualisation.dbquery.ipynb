{
 "cells": [
  {
   "cell_type": "code",
   "execution_count": 0,
   "metadata": {
    "application/vnd.databricks.v1+cell": {
     "cellMetadata": {},
     "inputWidgets": {},
     "nuid": "2a4ddbb8-60aa-4300-b6c6-2c1999446a3f",
     "showTitle": false,
     "tableResultSettingsMap": {},
     "title": ""
    }
   },
   "outputs": [],
   "source": [
    "select * \n",
    "from vw_jc_bike_data_22\n",
    "where started_at between '{{start_time date}}' and '{{end_time date}}';"
   ]
  }
 ],
 "metadata": {
  "application/vnd.databricks.v1+notebook": {
   "computePreferences": null,
   "dashboards": [],
   "environmentMetadata": null,
   "inputWidgetPreferences": null,
   "language": "sql",
   "notebookMetadata": {
    "sqlQueryOptions": {
     "applyAutoLimit": false,
     "catalog": "course_project",
     "schema": "citibike"
    }
   },
   "notebookName": "vw_jc_bike_data_22_visualisation.dbquery.ipynb",
   "widgets": {
    "end_time date": {
     "currentValue": "2022-11-15",
     "nuid": "b027ad84-5d74-4443-93d4-022ca5c2acaa",
     "typedWidgetInfo": {
      "autoCreated": false,
      "defaultValue": "2022-11-15",
      "label": "end_time date",
      "name": "end_time date",
      "options": {
       "widgetDisplayType": "Text",
       "validationRegex": null
      },
      "parameterDataType": "Date"
     },
     "widgetInfo": {
      "widgetType": "text",
      "defaultValue": "2022-11-15",
      "label": "end_time date",
      "name": "end_time date",
      "options": {
       "widgetType": "text",
       "autoCreated": false,
       "validationRegex": null
      }
     }
    },
    "start_time date": {
     "currentValue": "2022-09-01",
     "nuid": "d8b8227f-7e3a-4937-b1b7-a4fcfc454f69",
     "typedWidgetInfo": {
      "autoCreated": false,
      "defaultValue": "2022-09-01",
      "label": "start_time date",
      "name": "start_time date",
      "options": {
       "widgetDisplayType": "Text",
       "validationRegex": null
      },
      "parameterDataType": "Date"
     },
     "widgetInfo": {
      "widgetType": "text",
      "defaultValue": "2022-09-01",
      "label": "start_time date",
      "name": "start_time date",
      "options": {
       "widgetType": "text",
       "autoCreated": false,
       "validationRegex": null
      }
     }
    }
   }
  },
  "language_info": {
   "name": "sql"
  }
 },
 "nbformat": 4,
 "nbformat_minor": 0
}
