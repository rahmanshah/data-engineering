{
 "cells": [
  {
   "cell_type": "code",
   "execution_count": 0,
   "metadata": {
    "application/vnd.databricks.v1+cell": {
     "cellMetadata": {},
     "inputWidgets": {},
     "nuid": "de2299f2-fe64-4821-b0dc-dce55b8c0106",
     "showTitle": false,
     "tableResultSettingsMap": {},
     "title": ""
    }
   },
   "outputs": [],
   "source": [
    "create table test_1(id INT, name STRING);\n",
    "\n",
    "describe table test_1;\n",
    "\n",
    "SELECT * FROM test_1;\n",
    "\n",
    "insert into test_1 values(1, 'Record1');\n",
    "insert into test_1 values(2, 'Record2');\n",
    "insert into test_1 values(3, 'Record3');\n",
    "insert into test_1 values(4, 'Record4');\n",
    "insert into test_1 values(5, 'Record5');\n",
    "\n",
    "create table test_2 as (select * from test_1);\n",
    "\n",
    "select * from test_2;"
   ]
  }
 ],
 "metadata": {
  "application/vnd.databricks.v1+notebook": {
   "computePreferences": null,
   "dashboards": [],
   "environmentMetadata": null,
   "inputWidgetPreferences": null,
   "language": "sql",
   "notebookMetadata": {
    "sqlQueryOptions": {
     "applyAutoLimit": true,
     "catalog": "democatalog1",
     "schema": "demo_schema"
    }
   },
   "notebookName": "create table.dbquery.ipynb",
   "widgets": {}
  },
  "language_info": {
   "name": "sql"
  }
 },
 "nbformat": 4,
 "nbformat_minor": 0
}
