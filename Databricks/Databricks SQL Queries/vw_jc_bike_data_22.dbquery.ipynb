{
 "cells": [
  {
   "cell_type": "code",
   "execution_count": 0,
   "metadata": {
    "application/vnd.databricks.v1+cell": {
     "cellMetadata": {},
     "inputWidgets": {},
     "nuid": "41b1ec85-92f8-488e-b5fa-29f396732ea4",
     "showTitle": false,
     "tableResultSettingsMap": {},
     "title": ""
    }
   },
   "outputs": [],
   "source": [
    "create or replace view course_project.citibike.vw_jc_bike_data_22\n",
    "as \n",
    "select\n",
    "t1.ride_id,\n",
    "t1.member_casual,\n",
    "t1.rideable_type,\n",
    "t1.started_at,\n",
    "t1.ended_at,\n",
    "datediff(minute, t1.started_at, t1.ended_at) as trip_duration_mins,\n",
    "t2.station_name as start_station_name,\n",
    "t3.station_name as end_station_name\n",
    "from course_project.citibike.jc_bike_data_22 as t1\n",
    "inner join course_project.citibike.station_data as t2\n",
    "on t1.start_station_id = t2.station_id\n",
    "inner join course_project.citibike.station_data as t3\n",
    "on t1.end_station_id = t3.station_id\n",
    "where t1.rideable_type <> 'docked_bike' and t1.end_station_id <> 'null';"
   ]
  }
 ],
 "metadata": {
  "application/vnd.databricks.v1+notebook": {
   "computePreferences": null,
   "dashboards": [],
   "environmentMetadata": null,
   "inputWidgetPreferences": null,
   "language": "sql",
   "notebookMetadata": {
    "sqlQueryOptions": {
     "applyAutoLimit": false,
     "catalog": "course_project",
     "schema": "citibike"
    }
   },
   "notebookName": "vw_jc_bike_data_22.dbquery.ipynb",
   "widgets": {}
  },
  "language_info": {
   "name": "sql"
  }
 },
 "nbformat": 4,
 "nbformat_minor": 0
}
