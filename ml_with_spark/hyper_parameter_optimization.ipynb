{
 "cells": [
  {
   "cell_type": "markdown",
   "id": "9cac4397",
   "metadata": {},
   "source": [
    "#### Initializing Spark Session"
   ]
  },
  {
   "cell_type": "code",
   "execution_count": null,
   "id": "cdadbb6e",
   "metadata": {},
   "outputs": [],
   "source": [
    "from pyspark.sql import SparkSession\n",
    "\n",
    "spark = SparkSession \\\n",
    "  .builder \\\n",
    "  .appName(\"Hotel reservations\") \\\n",
    "  .getOrCreate()"
   ]
  },
  {
   "cell_type": "markdown",
   "id": "69d16b5d",
   "metadata": {},
   "source": [
    "#### Loading dataset to dataframe"
   ]
  },
  {
   "cell_type": "code",
   "execution_count": 6,
   "id": "90d4e550",
   "metadata": {},
   "outputs": [
    {
     "name": "stdout",
     "output_type": "stream",
     "text": [
      "root\n",
      " |-- Booking_ID: string (nullable = true)\n",
      " |-- no_of_adults: integer (nullable = true)\n",
      " |-- no_of_children: integer (nullable = true)\n",
      " |-- no_of_weekend_nights: integer (nullable = true)\n",
      " |-- no_of_week_nights: integer (nullable = true)\n",
      " |-- type_of_meal_plan: string (nullable = true)\n",
      " |-- required_car_parking_space: integer (nullable = true)\n",
      " |-- room_type_reserved: string (nullable = true)\n",
      " |-- lead_time: integer (nullable = true)\n",
      " |-- arrival_year: integer (nullable = true)\n",
      " |-- arrival_month: integer (nullable = true)\n",
      " |-- arrival_date: integer (nullable = true)\n",
      " |-- market_segment_type: string (nullable = true)\n",
      " |-- repeated_guest: integer (nullable = true)\n",
      " |-- no_of_previous_cancellations: integer (nullable = true)\n",
      " |-- no_of_previous_bookings_not_canceled: integer (nullable = true)\n",
      " |-- avg_price_per_room: double (nullable = true)\n",
      " |-- no_of_special_requests: integer (nullable = true)\n",
      " |-- booking_status: string (nullable = true)\n",
      "\n"
     ]
    }
   ],
   "source": [
    "data = spark.read.csv(\"data/Hotel Reservations.csv\", header=True, inferSchema=True)\n",
    "\n",
    "data.printSchema()"
   ]
  },
  {
   "cell_type": "markdown",
   "id": "3d22e4e9",
   "metadata": {},
   "source": [
    "#### Basic check"
   ]
  },
  {
   "cell_type": "code",
   "execution_count": 7,
   "id": "09518527",
   "metadata": {},
   "outputs": [
    {
     "data": {
      "text/plain": [
       "36275"
      ]
     },
     "execution_count": 7,
     "metadata": {},
     "output_type": "execute_result"
    }
   ],
   "source": [
    "data.count()"
   ]
  },
  {
   "cell_type": "code",
   "execution_count": 8,
   "id": "91e170b5",
   "metadata": {},
   "outputs": [
    {
     "data": {
      "text/plain": [
       "19"
      ]
     },
     "execution_count": 8,
     "metadata": {},
     "output_type": "execute_result"
    }
   ],
   "source": [
    "len(data.columns)"
   ]
  },
  {
   "cell_type": "code",
   "execution_count": 9,
   "id": "ac125983",
   "metadata": {},
   "outputs": [
    {
     "name": "stdout",
     "output_type": "stream",
     "text": [
      "+----------+------------+--------------+--------------------+-----------------+-----------------+--------------------------+------------------+---------+------------+-------------+------------+-------------------+--------------+----------------------------+------------------------------------+------------------+----------------------+--------------+\n",
      "|Booking_ID|no_of_adults|no_of_children|no_of_weekend_nights|no_of_week_nights|type_of_meal_plan|required_car_parking_space|room_type_reserved|lead_time|arrival_year|arrival_month|arrival_date|market_segment_type|repeated_guest|no_of_previous_cancellations|no_of_previous_bookings_not_canceled|avg_price_per_room|no_of_special_requests|booking_status|\n",
      "+----------+------------+--------------+--------------------+-----------------+-----------------+--------------------------+------------------+---------+------------+-------------+------------+-------------------+--------------+----------------------------+------------------------------------+------------------+----------------------+--------------+\n",
      "|  INN00001|           2|             0|                   1|                2|      Meal Plan 1|                         0|       Room_Type 1|      224|        2017|           10|           2|            Offline|             0|                           0|                                   0|              65.0|                     0|  Not_Canceled|\n",
      "|  INN00002|           2|             0|                   2|                3|     Not Selected|                         0|       Room_Type 1|        5|        2018|           11|           6|             Online|             0|                           0|                                   0|            106.68|                     1|  Not_Canceled|\n",
      "|  INN00003|           1|             0|                   2|                1|      Meal Plan 1|                         0|       Room_Type 1|        1|        2018|            2|          28|             Online|             0|                           0|                                   0|              60.0|                     0|      Canceled|\n",
      "|  INN00004|           2|             0|                   0|                2|      Meal Plan 1|                         0|       Room_Type 1|      211|        2018|            5|          20|             Online|             0|                           0|                                   0|             100.0|                     0|      Canceled|\n",
      "|  INN00005|           2|             0|                   1|                1|     Not Selected|                         0|       Room_Type 1|       48|        2018|            4|          11|             Online|             0|                           0|                                   0|              94.5|                     0|      Canceled|\n",
      "+----------+------------+--------------+--------------------+-----------------+-----------------+--------------------------+------------------+---------+------------+-------------+------------+-------------------+--------------+----------------------------+------------------------------------+------------------+----------------------+--------------+\n",
      "only showing top 5 rows\n"
     ]
    }
   ],
   "source": [
    "data.show(5)"
   ]
  },
  {
   "cell_type": "code",
   "execution_count": 11,
   "id": "e83c1e99",
   "metadata": {},
   "outputs": [
    {
     "name": "stderr",
     "output_type": "stream",
     "text": [
      "25/07/19 08:01:39 WARN SparkStringUtils: Truncated the string representation of a plan since it was too large. This behavior can be adjusted by setting 'spark.sql.debug.maxToStringFields'.\n",
      "[Stage 6:>                                                          (0 + 1) / 1]\r"
     ]
    },
    {
     "name": "stdout",
     "output_type": "stream",
     "text": [
      "+-------+----------+------------------+-------------------+--------------------+------------------+-----------------+--------------------------+------------------+-----------------+------------------+------------------+------------------+-------------------+-------------------+----------------------------+------------------------------------+------------------+----------------------+--------------+\n",
      "|summary|Booking_ID|      no_of_adults|     no_of_children|no_of_weekend_nights| no_of_week_nights|type_of_meal_plan|required_car_parking_space|room_type_reserved|        lead_time|      arrival_year|     arrival_month|      arrival_date|market_segment_type|     repeated_guest|no_of_previous_cancellations|no_of_previous_bookings_not_canceled|avg_price_per_room|no_of_special_requests|booking_status|\n",
      "+-------+----------+------------------+-------------------+--------------------+------------------+-----------------+--------------------------+------------------+-----------------+------------------+------------------+------------------+-------------------+-------------------+----------------------------+------------------------------------+------------------+----------------------+--------------+\n",
      "|  count|     36275|             36275|              36275|               36275|             36275|            36275|                     36275|             36275|            36275|             36275|             36275|             36275|              36275|              36275|                       36275|                               36275|             36275|                 36275|         36275|\n",
      "|   mean|      NULL|1.8449620951068229|0.10527911784975878|   0.810723638869745|2.2043004824259134|             NULL|        0.0309855272226051|              NULL|85.23255685733976|2017.8204272915232| 7.423652653342522|15.596995175740869|               NULL|0.02563749138525155|        0.023349414197105445|                 0.15341144038594073| 103.4235390764958|    0.6196554100620262|          NULL|\n",
      "| stddev|      NULL|0.5187148379012908| 0.4026480635892787|   0.870643614759999|1.4109048548240162|             NULL|       0.17328084736891436|              NULL|85.93081669923292|0.3838364395590116|3.0698944112257633| 8.740447368632918|               NULL|0.15805346903513293|         0.36833144791978645|                  1.7541707114426341| 35.08942403637024|    0.7862358983956053|          NULL|\n",
      "|    min|  INN00001|                 0|                  0|                   0|                 0|      Meal Plan 1|                         0|       Room_Type 1|                0|              2017|                 1|                 1|           Aviation|                  0|                           0|                                   0|               0.0|                     0|      Canceled|\n",
      "|    max|  INN36275|                 4|                 10|                   7|                17|     Not Selected|                         1|       Room_Type 7|              443|              2018|                12|                31|             Online|                  1|                          13|                                  58|             540.0|                     5|  Not_Canceled|\n",
      "+-------+----------+------------------+-------------------+--------------------+------------------+-----------------+--------------------------+------------------+-----------------+------------------+------------------+------------------+-------------------+-------------------+----------------------------+------------------------------------+------------------+----------------------+--------------+\n",
      "\n"
     ]
    },
    {
     "name": "stderr",
     "output_type": "stream",
     "text": [
      "                                                                                \r"
     ]
    }
   ],
   "source": [
    "data.describe().show()"
   ]
  },
  {
   "cell_type": "markdown",
   "id": "93bf5934",
   "metadata": {},
   "source": [
    "#### Splitting the data to train and test datasets"
   ]
  },
  {
   "cell_type": "code",
   "execution_count": 12,
   "id": "ba7eb307",
   "metadata": {},
   "outputs": [
    {
     "name": "stdout",
     "output_type": "stream",
     "text": [
      "Train size:  29040\n",
      "Test size:  7235\n"
     ]
    }
   ],
   "source": [
    "train_data, test_data = data.randomSplit([0.8, 0.2], seed=42)\n",
    "print(\"Train size: \", train_data.count())\n",
    "print(\"Test size: \", test_data.count())"
   ]
  },
  {
   "cell_type": "code",
   "execution_count": 13,
   "id": "81533635",
   "metadata": {},
   "outputs": [],
   "source": [
    "pipeline_stages = []"
   ]
  },
  {
   "cell_type": "markdown",
   "id": "ed3295fe",
   "metadata": {},
   "source": [
    "#### Prepraing categorical columns using string indexer and onehotencoder"
   ]
  },
  {
   "cell_type": "code",
   "execution_count": 14,
   "id": "27ad44a7",
   "metadata": {},
   "outputs": [
    {
     "name": "stdout",
     "output_type": "stream",
     "text": [
      "StringIndexer type_of_meal_plan -> type_of_meal_plan_index\n",
      "OneHotEncoder type_of_meal_plan_index -> type_of_meal_plan_vec\n",
      "\n",
      "StringIndexer room_type_reserved -> room_type_reserved_index\n",
      "OneHotEncoder room_type_reserved_index -> room_type_reserved_vec\n",
      "\n",
      "StringIndexer arrival_month -> arrival_month_index\n",
      "OneHotEncoder arrival_month_index -> arrival_month_vec\n",
      "\n",
      "StringIndexer market_segment_type -> market_segment_type_index\n",
      "OneHotEncoder market_segment_type_index -> market_segment_type_vec\n",
      "\n"
     ]
    }
   ],
   "source": [
    "from pyspark.ml.feature import StringIndexer, OneHotEncoder \n",
    "\n",
    "categorical_cols = ['type_of_meal_plan', 'room_type_reserved', 'arrival_month', 'market_segment_type']\n",
    "\n",
    "for col in categorical_cols:\n",
    "    string_indexer = StringIndexer(inputCol=col, outputCol= col + '_index')\n",
    "    print(f'StringIndexer {string_indexer.getInputCol()} -> {string_indexer.getOutputCol()}')\n",
    "    \n",
    "    encoder = OneHotEncoder(inputCol=string_indexer.getOutputCol(), outputCol=col + '_vec', dropLast=False)\n",
    "    print(f'OneHotEncoder {encoder.getInputCol()} -> {encoder.getOutputCol()}')\n",
    "    print()\n",
    "    \n",
    "    pipeline_stages += [string_indexer, encoder]"
   ]
  },
  {
   "cell_type": "code",
   "execution_count": 15,
   "id": "415960b4",
   "metadata": {},
   "outputs": [],
   "source": [
    "pipeline_stages += [StringIndexer(inputCol='booking_status', outputCol= 'booking_status_index')]"
   ]
  },
  {
   "cell_type": "code",
   "execution_count": 16,
   "id": "0f21567f",
   "metadata": {},
   "outputs": [
    {
     "data": {
      "text/plain": [
       "['type_of_meal_plan_vec',\n",
       " 'room_type_reserved_vec',\n",
       " 'arrival_month_vec',\n",
       " 'market_segment_type_vec']"
      ]
     },
     "execution_count": 16,
     "metadata": {},
     "output_type": "execute_result"
    }
   ],
   "source": [
    "encoded_categorical_cols = [col + \"_vec\" for col in categorical_cols]\n",
    "encoded_categorical_cols"
   ]
  },
  {
   "cell_type": "markdown",
   "id": "5dc93e91",
   "metadata": {},
   "source": [
    "#### Preparing with Numerical columns"
   ]
  },
  {
   "cell_type": "code",
   "execution_count": 17,
   "id": "0acc9f96",
   "metadata": {},
   "outputs": [],
   "source": [
    "numeric_cols = ['no_of_adults', 'no_of_children', 'no_of_weekend_nights', 'no_of_week_nights',\n",
    "               'required_car_parking_space', 'lead_time',\n",
    "               'repeated_guest', 'no_of_previous_cancellations', 'no_of_previous_bookings_not_canceled',\n",
    "               'avg_price_per_room', 'no_of_special_requests']"
   ]
  },
  {
   "cell_type": "code",
   "execution_count": 18,
   "id": "8d96886d",
   "metadata": {},
   "outputs": [
    {
     "data": {
      "text/plain": [
       "['type_of_meal_plan_vec',\n",
       " 'room_type_reserved_vec',\n",
       " 'arrival_month_vec',\n",
       " 'market_segment_type_vec',\n",
       " 'no_of_adults',\n",
       " 'no_of_children',\n",
       " 'no_of_weekend_nights',\n",
       " 'no_of_week_nights',\n",
       " 'required_car_parking_space',\n",
       " 'lead_time',\n",
       " 'repeated_guest',\n",
       " 'no_of_previous_cancellations',\n",
       " 'no_of_previous_bookings_not_canceled',\n",
       " 'avg_price_per_room',\n",
       " 'no_of_special_requests']"
      ]
     },
     "execution_count": 18,
     "metadata": {},
     "output_type": "execute_result"
    }
   ],
   "source": [
    "input_columns = encoded_categorical_cols + numeric_cols\n",
    "input_columns"
   ]
  },
  {
   "cell_type": "markdown",
   "id": "8249d6cc",
   "metadata": {},
   "source": [
    "#### Features"
   ]
  },
  {
   "cell_type": "code",
   "execution_count": 19,
   "id": "58cde20a",
   "metadata": {},
   "outputs": [],
   "source": [
    "from pyspark.ml.feature import VectorAssembler\n",
    "\n",
    "assembler = VectorAssembler(inputCols=input_columns, outputCol='features')\n",
    "\n",
    "pipeline_stages.append(assembler)\n"
   ]
  },
  {
   "cell_type": "markdown",
   "id": "a3e4ea16",
   "metadata": {},
   "source": [
    "#### Initializing decision tree classifier"
   ]
  },
  {
   "cell_type": "code",
   "execution_count": 20,
   "id": "81e32a22",
   "metadata": {},
   "outputs": [],
   "source": [
    "from pyspark.ml.classification import DecisionTreeClassifier\n",
    "\n",
    "dtc = DecisionTreeClassifier(featuresCol='features', labelCol='booking_status_index')\n",
    "\n",
    "pipeline_stages.append(dtc)"
   ]
  },
  {
   "cell_type": "code",
   "execution_count": 21,
   "id": "ad3cb5c1",
   "metadata": {},
   "outputs": [
    {
     "data": {
      "text/plain": [
       "[StringIndexer_77d5f385c52e,\n",
       " OneHotEncoder_4c02ff2fc433,\n",
       " StringIndexer_476480b9f627,\n",
       " OneHotEncoder_374d9578f3c5,\n",
       " StringIndexer_2e3a5eafce03,\n",
       " OneHotEncoder_cc121ab96960,\n",
       " StringIndexer_47785337af7f,\n",
       " OneHotEncoder_c4a84138aab2,\n",
       " StringIndexer_7cf6e229ce20,\n",
       " VectorAssembler_52679179ad86,\n",
       " DecisionTreeClassifier_f266d0ec314d]"
      ]
     },
     "execution_count": 21,
     "metadata": {},
     "output_type": "execute_result"
    }
   ],
   "source": [
    "pipeline_stages"
   ]
  },
  {
   "cell_type": "markdown",
   "id": "cbc142c3",
   "metadata": {},
   "source": [
    "#### Initializing pipeline"
   ]
  },
  {
   "cell_type": "code",
   "execution_count": 22,
   "id": "e79016f6",
   "metadata": {},
   "outputs": [],
   "source": [
    "from pyspark.ml import Pipeline\n",
    "\n",
    "pipeline = Pipeline(stages=pipeline_stages)"
   ]
  },
  {
   "cell_type": "code",
   "execution_count": 23,
   "id": "4197ee67",
   "metadata": {},
   "outputs": [
    {
     "name": "stderr",
     "output_type": "stream",
     "text": [
      "                                                                                \r"
     ]
    }
   ],
   "source": [
    "model = pipeline.fit(train_data)\n"
   ]
  },
  {
   "cell_type": "code",
   "execution_count": 24,
   "id": "40ad6d10",
   "metadata": {},
   "outputs": [
    {
     "name": "stdout",
     "output_type": "stream",
     "text": [
      "+--------------------+--------------------+----------+\n",
      "|            features|booking_status_index|prediction|\n",
      "+--------------------+--------------------+----------+\n",
      "|(39,[0,4,21,23,28...|                 1.0|       0.0|\n",
      "|(39,[0,4,11,23,28...|                 0.0|       0.0|\n",
      "|(39,[0,4,17,24,28...|                 0.0|       0.0|\n",
      "|(39,[0,4,16,23,28...|                 1.0|       0.0|\n",
      "|(39,[0,4,11,24,28...|                 0.0|       0.0|\n",
      "|(39,[0,4,11,24,28...|                 0.0|       0.0|\n",
      "|(39,[2,4,12,24,28...|                 0.0|       0.0|\n",
      "|(39,[1,4,18,23,28...|                 0.0|       0.0|\n",
      "|(39,[0,4,15,24,28...|                 0.0|       0.0|\n",
      "|(39,[0,4,16,24,28...|                 0.0|       0.0|\n",
      "+--------------------+--------------------+----------+\n",
      "only showing top 10 rows\n"
     ]
    }
   ],
   "source": [
    "predictions = model.transform(test_data)\n",
    "predictions.select('features', 'booking_status_index', 'prediction').show(10)"
   ]
  },
  {
   "cell_type": "markdown",
   "id": "df0ddc4c",
   "metadata": {},
   "source": [
    "#### Data Classifier Evaluator"
   ]
  },
  {
   "cell_type": "code",
   "execution_count": 25,
   "id": "01e60dde",
   "metadata": {},
   "outputs": [
    {
     "name": "stdout",
     "output_type": "stream",
     "text": [
      "Accuracy = 83.01%\n"
     ]
    }
   ],
   "source": [
    "from pyspark.ml.evaluation import MulticlassClassificationEvaluator\n",
    "\n",
    "accuracty_evaluator = MulticlassClassificationEvaluator(labelCol='booking_status_index', predictionCol='prediction', metricName='accuracy')\n",
    "accuracy = accuracty_evaluator.evaluate(predictions) * 100\n",
    "print(f'Accuracy = {accuracy:.2f}%')"
   ]
  },
  {
   "cell_type": "code",
   "execution_count": 26,
   "id": "b8491a37",
   "metadata": {},
   "outputs": [
    {
     "name": "stdout",
     "output_type": "stream",
     "text": [
      "Precision = 85.08%\n"
     ]
    }
   ],
   "source": [
    "precision_evaluator = MulticlassClassificationEvaluator(labelCol='booking_status_index', predictionCol='prediction', metricName='precisionByLabel')\n",
    "precision = precision_evaluator.evaluate(predictions) * 100\n",
    "print(f'Precision = {precision:.2f}%')"
   ]
  },
  {
   "cell_type": "code",
   "execution_count": 27,
   "id": "10be3ad5",
   "metadata": {},
   "outputs": [
    {
     "name": "stdout",
     "output_type": "stream",
     "text": [
      "Recall = 90.53%\n"
     ]
    }
   ],
   "source": [
    "recall_evaluator = MulticlassClassificationEvaluator(labelCol='booking_status_index', predictionCol='prediction', metricName='recallByLabel')\n",
    "recall = recall_evaluator.evaluate(predictions) * 100\n",
    "print(f'Recall = {recall:.2f}%')"
   ]
  }
 ],
 "metadata": {
  "kernelspec": {
   "display_name": "venv",
   "language": "python",
   "name": "python3"
  },
  "language_info": {
   "codemirror_mode": {
    "name": "ipython",
    "version": 3
   },
   "file_extension": ".py",
   "mimetype": "text/x-python",
   "name": "python",
   "nbconvert_exporter": "python",
   "pygments_lexer": "ipython3",
   "version": "3.12.3"
  }
 },
 "nbformat": 4,
 "nbformat_minor": 5
}
