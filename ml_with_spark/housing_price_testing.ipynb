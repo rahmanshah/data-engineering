{
 "cells": [
  {
   "cell_type": "markdown",
   "id": "4d6f4bcf",
   "metadata": {},
   "source": [
    "## Initialize Spark Session"
   ]
  },
  {
   "cell_type": "code",
   "execution_count": null,
   "id": "c1026046",
   "metadata": {},
   "outputs": [],
   "source": [
    "from pyspark.sql import SparkSession\n",
    "\n",
    "spark = SparkSession.builder \\\n",
    "  .appName(\"Testing test dataset\") \\\n",
    "  .getOrCreate()"
   ]
  },
  {
   "cell_type": "code",
   "execution_count": 2,
   "id": "72231632",
   "metadata": {},
   "outputs": [
    {
     "name": "stdout",
     "output_type": "stream",
     "text": [
      "root\n",
      " |-- longitude: double (nullable = true)\n",
      " |-- latitude: double (nullable = true)\n",
      " |-- housing_median_age: double (nullable = true)\n",
      " |-- total_rooms: double (nullable = true)\n",
      " |-- total_bedrooms: double (nullable = true)\n",
      " |-- population: double (nullable = true)\n",
      " |-- households: double (nullable = true)\n",
      " |-- median_income: double (nullable = true)\n",
      " |-- median_house_value: double (nullable = true)\n",
      " |-- ocean_proximity: string (nullable = true)\n",
      "\n"
     ]
    }
   ],
   "source": [
    "data = spark.read.csv(\"data/housing.csv\", header=True, inferSchema=True)\n",
    "\n",
    "data.printSchema()"
   ]
  },
  {
   "cell_type": "code",
   "execution_count": 3,
   "id": "d909b0ce",
   "metadata": {},
   "outputs": [
    {
     "name": "stdout",
     "output_type": "stream",
     "text": [
      "+---------+--------+------------------+-----------+--------------+----------+----------+-------------+------------------+---------------+\n",
      "|longitude|latitude|housing_median_age|total_rooms|total_bedrooms|population|households|median_income|median_house_value|ocean_proximity|\n",
      "+---------+--------+------------------+-----------+--------------+----------+----------+-------------+------------------+---------------+\n",
      "|        0|       0|                 0|          0|           207|         0|         0|            0|                 0|              0|\n",
      "+---------+--------+------------------+-----------+--------------+----------+----------+-------------+------------------+---------------+\n",
      "\n"
     ]
    }
   ],
   "source": [
    "import pyspark.sql.functions as F\n",
    "\n",
    "data \\\n",
    "  .select([F.count(F.when(F.col(c).isNull(), 1)).alias(c) for c in data.columns]) \\\n",
    "  .show()"
   ]
  },
  {
   "cell_type": "code",
   "execution_count": 4,
   "id": "1689fdbd",
   "metadata": {},
   "outputs": [
    {
     "data": {
      "text/plain": [
       "20433"
      ]
     },
     "execution_count": 4,
     "metadata": {},
     "output_type": "execute_result"
    }
   ],
   "source": [
    "filtered_data = data.na.drop(subset=['total_bedrooms'])\n",
    "filtered_data.count()"
   ]
  },
  {
   "cell_type": "markdown",
   "id": "cad1d3ee",
   "metadata": {},
   "source": [
    "### Splitting filtered dataset to train and test dataset"
   ]
  },
  {
   "cell_type": "code",
   "execution_count": 5,
   "id": "126c4859",
   "metadata": {},
   "outputs": [
    {
     "name": "stdout",
     "output_type": "stream",
     "text": [
      "Train size:  16395\n",
      "Test size:  4038\n"
     ]
    }
   ],
   "source": [
    "train_data, test_data = filtered_data.randomSplit([0.8, 0.2], seed=42)\n",
    "print(\"Train size: \", train_data.count())\n",
    "print(\"Test size: \", test_data.count())"
   ]
  },
  {
   "cell_type": "markdown",
   "id": "19458e87",
   "metadata": {},
   "source": [
    "#### Transforming train dataset"
   ]
  },
  {
   "cell_type": "code",
   "execution_count": 6,
   "id": "d104f8cf",
   "metadata": {},
   "outputs": [
    {
     "name": "stdout",
     "output_type": "stream",
     "text": [
      "+---------+--------+------------------+-----------+--------------+----------+----------+-------------+------------------+---------------+--------------------+\n",
      "|longitude|latitude|housing_median_age|total_rooms|total_bedrooms|population|households|median_income|median_house_value|ocean_proximity|            features|\n",
      "+---------+--------+------------------+-----------+--------------+----------+----------+-------------+------------------+---------------+--------------------+\n",
      "|  -124.35|   40.54|              52.0|     1820.0|         300.0|     806.0|     270.0|       3.0147|           94600.0|     NEAR OCEAN|[52.0,1820.0,300....|\n",
      "|   -124.3|    41.8|              19.0|     2672.0|         552.0|    1298.0|     478.0|       1.9797|           85800.0|     NEAR OCEAN|[19.0,2672.0,552....|\n",
      "|  -124.27|   40.69|              36.0|     2349.0|         528.0|    1194.0|     465.0|       2.5179|           79000.0|     NEAR OCEAN|[36.0,2349.0,528....|\n",
      "|  -124.26|   40.58|              52.0|     2217.0|         394.0|     907.0|     369.0|       2.3571|          111400.0|     NEAR OCEAN|[52.0,2217.0,394....|\n",
      "|  -124.25|   40.28|              32.0|     1430.0|         419.0|     434.0|     187.0|       1.9417|           76100.0|     NEAR OCEAN|[32.0,1430.0,419....|\n",
      "|  -124.23|   40.81|              52.0|     1112.0|         209.0|     544.0|     172.0|       3.3462|           50800.0|     NEAR OCEAN|[52.0,1112.0,209....|\n",
      "|  -124.22|   41.73|              28.0|     3003.0|         699.0|    1530.0|     653.0|       1.7038|           78300.0|     NEAR OCEAN|[28.0,3003.0,699....|\n",
      "|  -124.21|   40.75|              32.0|     1218.0|         331.0|     620.0|     268.0|       1.6528|           58100.0|     NEAR OCEAN|[32.0,1218.0,331....|\n",
      "|  -124.21|   41.75|              20.0|     3810.0|         787.0|    1993.0|     721.0|       2.0074|           66900.0|     NEAR OCEAN|[20.0,3810.0,787....|\n",
      "|  -124.21|   41.77|              17.0|     3461.0|         722.0|    1947.0|     647.0|       2.5795|           68400.0|     NEAR OCEAN|[17.0,3461.0,722....|\n",
      "|  -124.19|   40.77|              30.0|     2975.0|         634.0|    1367.0|     583.0|        2.442|           69000.0|     NEAR OCEAN|[30.0,2975.0,634....|\n",
      "|  -124.19|   40.78|              37.0|     1371.0|         319.0|     640.0|     260.0|       1.8242|           70000.0|     NEAR OCEAN|[37.0,1371.0,319....|\n",
      "|  -124.19|   41.78|              15.0|     3140.0|         714.0|    1645.0|     640.0|       1.6654|           74600.0|     NEAR OCEAN|[15.0,3140.0,714....|\n",
      "|  -124.18|   40.62|              35.0|      952.0|         178.0|     480.0|     179.0|       3.0536|          107000.0|     NEAR OCEAN|[35.0,952.0,178.0...|\n",
      "|  -124.18|   40.78|              33.0|     1076.0|         222.0|     656.0|     236.0|       2.5096|           72200.0|     NEAR OCEAN|[33.0,1076.0,222....|\n",
      "|  -124.18|   40.78|              37.0|     1453.0|         293.0|     867.0|     310.0|       2.5536|           70200.0|     NEAR OCEAN|[37.0,1453.0,293....|\n",
      "|  -124.18|   40.79|              39.0|     1836.0|         352.0|     883.0|     337.0|        1.745|           70500.0|     NEAR OCEAN|[39.0,1836.0,352....|\n",
      "|  -124.18|   40.79|              40.0|     1398.0|         311.0|     788.0|     279.0|       1.4668|           64600.0|     NEAR OCEAN|[40.0,1398.0,311....|\n",
      "|  -124.17|   40.74|              17.0|     2026.0|         338.0|     873.0|     313.0|       4.0357|          128900.0|     NEAR OCEAN|[17.0,2026.0,338....|\n",
      "|  -124.17|   40.75|              13.0|     2171.0|         339.0|     951.0|     353.0|       4.8516|          116100.0|     NEAR OCEAN|[13.0,2171.0,339....|\n",
      "+---------+--------+------------------+-----------+--------------+----------+----------+-------------+------------------+---------------+--------------------+\n",
      "only showing top 20 rows\n"
     ]
    }
   ],
   "source": [
    "from pyspark.ml.feature import VectorAssembler\n",
    "\n",
    "feature_columns = ['housing_median_age', 'total_rooms', 'total_bedrooms',\n",
    "                   'population', 'households', 'median_income']\n",
    "assembler = VectorAssembler(inputCols=feature_columns, outputCol='features')\n",
    "\n",
    "transformed_train_data = assembler.transform(train_data)\n",
    "transformed_train_data.show()"
   ]
  },
  {
   "cell_type": "markdown",
   "id": "9710d019",
   "metadata": {},
   "source": [
    "#### Initializing Linear Regression Model"
   ]
  },
  {
   "cell_type": "code",
   "execution_count": 7,
   "id": "5102b38b",
   "metadata": {},
   "outputs": [
    {
     "name": "stderr",
     "output_type": "stream",
     "text": [
      "25/07/17 21:56:28 WARN InstanceBuilder: Failed to load implementation from:dev.ludovic.netlib.blas.JNIBLAS\n",
      "25/07/17 21:56:29 WARN InstanceBuilder: Failed to load implementation from:dev.ludovic.netlib.lapack.JNILAPACK\n"
     ]
    }
   ],
   "source": [
    "from pyspark.ml.regression import LinearRegression\n",
    "\n",
    "lr = LinearRegression(featuresCol='features', labelCol='median_house_value', regParam=0.001)\n",
    "\n",
    "model = lr.fit(transformed_train_data)"
   ]
  },
  {
   "cell_type": "markdown",
   "id": "8c76146b",
   "metadata": {},
   "source": [
    "#### Transforming test dataset"
   ]
  },
  {
   "cell_type": "code",
   "execution_count": 8,
   "id": "b2cd522d",
   "metadata": {},
   "outputs": [
    {
     "name": "stdout",
     "output_type": "stream",
     "text": [
      "+---------+--------+------------------+-----------+--------------+----------+----------+-------------+------------------+---------------+--------------------+\n",
      "|longitude|latitude|housing_median_age|total_rooms|total_bedrooms|population|households|median_income|median_house_value|ocean_proximity|            features|\n",
      "+---------+--------+------------------+-----------+--------------+----------+----------+-------------+------------------+---------------+--------------------+\n",
      "|   -124.3|   41.84|              17.0|     2677.0|         531.0|    1244.0|     456.0|       3.0313|          103600.0|     NEAR OCEAN|[17.0,2677.0,531....|\n",
      "|  -124.23|   40.54|              52.0|     2694.0|         453.0|    1152.0|     435.0|       3.0806|          106700.0|     NEAR OCEAN|[52.0,2694.0,453....|\n",
      "|  -124.23|   41.75|              11.0|     3159.0|         616.0|    1343.0|     479.0|       2.4805|           73200.0|     NEAR OCEAN|[11.0,3159.0,616....|\n",
      "|  -124.19|   40.73|              21.0|     5694.0|        1056.0|    2907.0|     972.0|       3.5363|           90100.0|     NEAR OCEAN|[21.0,5694.0,1056...|\n",
      "|  -124.18|   40.78|              34.0|     1592.0|         364.0|     950.0|     317.0|       2.1607|           67000.0|     NEAR OCEAN|[34.0,1592.0,364....|\n",
      "|  -124.17|   40.62|              32.0|     1595.0|         309.0|     706.0|     277.0|       2.8958|           86400.0|     NEAR OCEAN|[32.0,1595.0,309....|\n",
      "|  -124.17|   40.79|              43.0|     2285.0|         479.0|    1169.0|     482.0|       1.9688|           70500.0|     NEAR OCEAN|[43.0,2285.0,479....|\n",
      "|  -124.16|    40.6|              39.0|     1322.0|         283.0|     642.0|     292.0|       2.4519|           85100.0|     NEAR OCEAN|[39.0,1322.0,283....|\n",
      "|  -124.16|    40.8|              52.0|     2416.0|         618.0|    1150.0|     571.0|       1.7308|           80500.0|     NEAR OCEAN|[52.0,2416.0,618....|\n",
      "|  -124.16|   40.95|              20.0|     1075.0|         214.0|     529.0|     196.0|       3.1406|           96000.0|     NEAR OCEAN|[20.0,1075.0,214....|\n",
      "|  -124.16|   41.02|              23.0|     1672.0|         385.0|    1060.0|     390.0|       2.1726|           75500.0|     NEAR OCEAN|[23.0,1672.0,385....|\n",
      "|  -124.16|   41.92|              19.0|     1668.0|         324.0|     841.0|     283.0|       2.1336|           75000.0|     NEAR OCEAN|[19.0,1668.0,324....|\n",
      "|  -124.15|   40.76|              24.0|     2858.0|         511.0|    1388.0|     512.0|        3.375|          100600.0|     NEAR OCEAN|[24.0,2858.0,511....|\n",
      "|  -124.15|    40.8|              47.0|     1486.0|         335.0|     765.0|     329.0|        1.755|           74100.0|     NEAR OCEAN|[47.0,1486.0,335....|\n",
      "|  -124.14|   40.59|              22.0|     1665.0|         405.0|     826.0|     382.0|       1.5625|           66800.0|     NEAR OCEAN|[22.0,1665.0,405....|\n",
      "|  -124.14|    40.8|              32.0|     1373.0|         312.0|     872.0|     306.0|          2.5|           72600.0|     NEAR OCEAN|[32.0,1373.0,312....|\n",
      "|  -124.11|   40.57|              33.0|     1348.0|         234.0|     573.0|     236.0|       2.4896|           74100.0|      <1H OCEAN|[33.0,1348.0,234....|\n",
      "|  -124.08|   40.86|              18.0|     1287.0|         484.0|     805.0|     502.0|       1.1157|          150000.0|     NEAR OCEAN|[18.0,1287.0,484....|\n",
      "|  -124.05|   40.85|              31.0|     2414.0|         428.0|    1005.0|     401.0|       3.5156|          143000.0|     NEAR OCEAN|[31.0,2414.0,428....|\n",
      "|  -124.02|    40.8|              22.0|     2588.0|         435.0|    1198.0|     442.0|       3.9792|          133900.0|      <1H OCEAN|[22.0,2588.0,435....|\n",
      "+---------+--------+------------------+-----------+--------------+----------+----------+-------------+------------------+---------------+--------------------+\n",
      "only showing top 20 rows\n"
     ]
    }
   ],
   "source": [
    "transformed_test_data = assembler.transform(test_data)\n",
    "transformed_test_data.show()"
   ]
  },
  {
   "cell_type": "markdown",
   "id": "a6d72321",
   "metadata": {},
   "source": [
    "#### Predictions"
   ]
  },
  {
   "cell_type": "code",
   "execution_count": 9,
   "id": "ac5b1e90",
   "metadata": {},
   "outputs": [
    {
     "name": "stdout",
     "output_type": "stream",
     "text": [
      "+---------+--------+------------------+-----------+--------------+----------+----------+-------------+------------------+---------------+--------------------+------------------+\n",
      "|longitude|latitude|housing_median_age|total_rooms|total_bedrooms|population|households|median_income|median_house_value|ocean_proximity|            features|        prediction|\n",
      "+---------+--------+------------------+-----------+--------------+----------+----------+-------------+------------------+---------------+--------------------+------------------+\n",
      "|   -124.3|   41.84|              17.0|     2677.0|         531.0|    1244.0|     456.0|       3.0313|          103600.0|     NEAR OCEAN|[17.0,2677.0,531....| 143549.5515523904|\n",
      "|  -124.23|   40.54|              52.0|     2694.0|         453.0|    1152.0|     435.0|       3.0806|          106700.0|     NEAR OCEAN|[52.0,2694.0,453....|204727.87978628205|\n",
      "|  -124.23|   41.75|              11.0|     3159.0|         616.0|    1343.0|     479.0|       2.4805|           73200.0|     NEAR OCEAN|[11.0,3159.0,616....|104582.63457738541|\n",
      "|  -124.19|   40.73|              21.0|     5694.0|        1056.0|    2907.0|     972.0|       3.5363|           90100.0|     NEAR OCEAN|[21.0,5694.0,1056...|174848.43908602057|\n",
      "|  -124.18|   40.78|              34.0|     1592.0|         364.0|     950.0|     317.0|       2.1607|           67000.0|     NEAR OCEAN|[34.0,1592.0,364....|131791.03560019782|\n",
      "|  -124.17|   40.62|              32.0|     1595.0|         309.0|     706.0|     277.0|       2.8958|           86400.0|     NEAR OCEAN|[32.0,1595.0,309....|160963.50913953318|\n",
      "|  -124.17|   40.79|              43.0|     2285.0|         479.0|    1169.0|     482.0|       1.9688|           70500.0|     NEAR OCEAN|[43.0,2285.0,479....|149438.31531743988|\n",
      "|  -124.16|    40.6|              39.0|     1322.0|         283.0|     642.0|     292.0|       2.4519|           85100.0|     NEAR OCEAN|[39.0,1322.0,283....| 159252.6661714191|\n",
      "|  -124.16|    40.8|              52.0|     2416.0|         618.0|    1150.0|     571.0|       1.7308|           80500.0|     NEAR OCEAN|[52.0,2416.0,618....|178524.94168904988|\n",
      "|  -124.16|   40.95|              20.0|     1075.0|         214.0|     529.0|     196.0|       3.1406|           96000.0|     NEAR OCEAN|[20.0,1075.0,214....|  146587.679782366|\n",
      "|  -124.16|   41.02|              23.0|     1672.0|         385.0|    1060.0|     390.0|       2.1726|           75500.0|     NEAR OCEAN|[23.0,1672.0,385....|116259.76715681178|\n",
      "|  -124.16|   41.92|              19.0|     1668.0|         324.0|     841.0|     283.0|       2.1336|           75000.0|     NEAR OCEAN|[19.0,1668.0,324....| 95623.39271657675|\n",
      "|  -124.15|   40.76|              24.0|     2858.0|         511.0|    1388.0|     512.0|        3.375|          100600.0|     NEAR OCEAN|[24.0,2858.0,511....|168949.29660152495|\n",
      "|  -124.15|    40.8|              47.0|     1486.0|         335.0|     765.0|     329.0|        1.755|           74100.0|     NEAR OCEAN|[47.0,1486.0,335....|143453.35925851177|\n",
      "|  -124.14|   40.59|              22.0|     1665.0|         405.0|     826.0|     382.0|       1.5625|           66800.0|     NEAR OCEAN|[22.0,1665.0,405....| 94211.08693356236|\n",
      "|  -124.14|    40.8|              32.0|     1373.0|         312.0|     872.0|     306.0|          2.5|           72600.0|     NEAR OCEAN|[32.0,1373.0,312....| 144256.2932074604|\n",
      "|  -124.11|   40.57|              33.0|     1348.0|         234.0|     573.0|     236.0|       2.4896|           74100.0|      <1H OCEAN|[33.0,1348.0,234....|139756.30308968728|\n",
      "|  -124.08|   40.86|              18.0|     1287.0|         484.0|     805.0|     502.0|       1.1157|          150000.0|     NEAR OCEAN|[18.0,1287.0,484....| 95121.98137725037|\n",
      "|  -124.05|   40.85|              31.0|     2414.0|         428.0|    1005.0|     401.0|       3.5156|          143000.0|     NEAR OCEAN|[31.0,2414.0,428....|189437.57596192558|\n",
      "|  -124.02|    40.8|              22.0|     2588.0|         435.0|    1198.0|     442.0|       3.9792|          133900.0|      <1H OCEAN|[22.0,2588.0,435....| 189862.9166796242|\n",
      "+---------+--------+------------------+-----------+--------------+----------+----------+-------------+------------------+---------------+--------------------+------------------+\n",
      "only showing top 20 rows\n"
     ]
    }
   ],
   "source": [
    "predictions = model.transform(transformed_test_data)\n",
    "predictions.show()"
   ]
  },
  {
   "cell_type": "markdown",
   "id": "9239a8ab",
   "metadata": {},
   "source": [
    "#### Evaluating model predictions with MAE (Mean Absolute Error)"
   ]
  },
  {
   "cell_type": "code",
   "execution_count": 10,
   "id": "81505f03",
   "metadata": {},
   "outputs": [
    {
     "name": "stdout",
     "output_type": "stream",
     "text": [
      "Mean Absolute Error (MAE): 56292.3348262276\n"
     ]
    }
   ],
   "source": [
    "from pyspark.ml.evaluation import RegressionEvaluator\n",
    "\n",
    "evaluator_mae = RegressionEvaluator(labelCol='median_house_value', predictionCol='prediction', metricName='mae')\n",
    "mae = evaluator_mae.evaluate(predictions)\n",
    "print(f\"Mean Absolute Error (MAE): {mae}\")"
   ]
  },
  {
   "cell_type": "markdown",
   "id": "e971032f",
   "metadata": {},
   "source": [
    "#### Evaluating models with RMSE (Root Mean Squared Error)"
   ]
  },
  {
   "cell_type": "code",
   "execution_count": 11,
   "id": "6297b1a3",
   "metadata": {},
   "outputs": [
    {
     "name": "stdout",
     "output_type": "stream",
     "text": [
      "Root Mean Squared Error (RMSE): 76573.98219316496\n"
     ]
    }
   ],
   "source": [
    "from pyspark.ml.evaluation import RegressionEvaluator\n",
    "\n",
    "evaluator_rmse = RegressionEvaluator(labelCol='median_house_value', predictionCol='prediction', metricName='rmse')\n",
    "rmse = evaluator_rmse.evaluate(predictions)\n",
    "print(f\"Root Mean Squared Error (RMSE): {rmse}\")"
   ]
  }
 ],
 "metadata": {
  "kernelspec": {
   "display_name": "venv",
   "language": "python",
   "name": "python3"
  },
  "language_info": {
   "codemirror_mode": {
    "name": "ipython",
    "version": 3
   },
   "file_extension": ".py",
   "mimetype": "text/x-python",
   "name": "python",
   "nbconvert_exporter": "python",
   "pygments_lexer": "ipython3",
   "version": "3.12.3"
  }
 },
 "nbformat": 4,
 "nbformat_minor": 5
}
