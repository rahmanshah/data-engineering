{
 "cells": [
  {
   "cell_type": "markdown",
   "id": "4d6f4bcf",
   "metadata": {},
   "source": [
    "## Initialize Spark Session"
   ]
  },
  {
   "cell_type": "code",
   "execution_count": 1,
   "id": "c1026046",
   "metadata": {},
   "outputs": [
    {
     "name": "stderr",
     "output_type": "stream",
     "text": [
      "WARNING: Using incubator modules: jdk.incubator.vector\n",
      "Using Spark's default log4j profile: org/apache/spark/log4j2-defaults.properties\n",
      "25/07/17 21:47:07 WARN Utils: Your hostname, LAPTOP-TSON9B6R, resolves to a loopback address: 127.0.1.1; using 192.168.63.177 instead (on interface eth0)\n",
      "25/07/17 21:47:07 WARN Utils: Set SPARK_LOCAL_IP if you need to bind to another address\n",
      "Using Spark's default log4j profile: org/apache/spark/log4j2-defaults.properties\n",
      "Setting default log level to \"WARN\".\n",
      "To adjust logging level use sc.setLogLevel(newLevel). For SparkR, use setLogLevel(newLevel).\n",
      "25/07/17 21:47:09 WARN NativeCodeLoader: Unable to load native-hadoop library for your platform... using builtin-java classes where applicable\n",
      "25/07/17 21:47:10 WARN Utils: Service 'SparkUI' could not bind on port 4040. Attempting port 4041.\n"
     ]
    }
   ],
   "source": [
    "from pyspark.sql import SparkSession\n",
    "\n",
    "spark = SparkSession.builder \\\n",
    "  .appName(\"Testing test dataset\") \\\n",
    "  .getOrCreate()"
   ]
  },
  {
   "cell_type": "code",
   "execution_count": 2,
   "id": "72231632",
   "metadata": {},
   "outputs": [
    {
     "name": "stdout",
     "output_type": "stream",
     "text": [
      "root\n",
      " |-- longitude: double (nullable = true)\n",
      " |-- latitude: double (nullable = true)\n",
      " |-- housing_median_age: double (nullable = true)\n",
      " |-- total_rooms: double (nullable = true)\n",
      " |-- total_bedrooms: double (nullable = true)\n",
      " |-- population: double (nullable = true)\n",
      " |-- households: double (nullable = true)\n",
      " |-- median_income: double (nullable = true)\n",
      " |-- median_house_value: double (nullable = true)\n",
      " |-- ocean_proximity: string (nullable = true)\n",
      "\n"
     ]
    }
   ],
   "source": [
    "data = spark.read.csv(\"data/housing.csv\", header=True, inferSchema=True)\n",
    "\n",
    "data.printSchema()"
   ]
  },
  {
   "cell_type": "code",
   "execution_count": 3,
   "id": "d909b0ce",
   "metadata": {},
   "outputs": [
    {
     "name": "stdout",
     "output_type": "stream",
     "text": [
      "+---------+--------+------------------+-----------+--------------+----------+----------+-------------+------------------+---------------+\n",
      "|longitude|latitude|housing_median_age|total_rooms|total_bedrooms|population|households|median_income|median_house_value|ocean_proximity|\n",
      "+---------+--------+------------------+-----------+--------------+----------+----------+-------------+------------------+---------------+\n",
      "|        0|       0|                 0|          0|           207|         0|         0|            0|                 0|              0|\n",
      "+---------+--------+------------------+-----------+--------------+----------+----------+-------------+------------------+---------------+\n",
      "\n"
     ]
    }
   ],
   "source": [
    "import pyspark.sql.functions as F\n",
    "\n",
    "data \\\n",
    "  .select([F.count(F.when(F.col(c).isNull(), 1)).alias(c) for c in data.columns]) \\\n",
    "  .show()"
   ]
  },
  {
   "cell_type": "code",
   "execution_count": 4,
   "id": "1689fdbd",
   "metadata": {},
   "outputs": [
    {
     "data": {
      "text/plain": [
       "20433"
      ]
     },
     "execution_count": 4,
     "metadata": {},
     "output_type": "execute_result"
    }
   ],
   "source": [
    "filtered_data = data.na.drop(subset=['total_bedrooms'])\n",
    "filtered_data.count()"
   ]
  },
  {
   "cell_type": "markdown",
   "id": "cad1d3ee",
   "metadata": {},
   "source": [
    "### Splitting filtered dataset to train and test dataset"
   ]
  },
  {
   "cell_type": "code",
   "execution_count": 5,
   "id": "126c4859",
   "metadata": {},
   "outputs": [
    {
     "name": "stdout",
     "output_type": "stream",
     "text": [
      "Train size:  16395\n",
      "Test size:  4038\n"
     ]
    }
   ],
   "source": [
    "train_data, test_data = filtered_data.randomSplit([0.8, 0.2], seed=42)\n",
    "print(\"Train size: \", train_data.count())\n",
    "print(\"Test size: \", test_data.count())"
   ]
  },
  {
   "cell_type": "markdown",
   "id": "19458e87",
   "metadata": {},
   "source": [
    "#### Transforming train dataset"
   ]
  },
  {
   "cell_type": "code",
   "execution_count": 6,
   "id": "d104f8cf",
   "metadata": {},
   "outputs": [
    {
     "name": "stdout",
     "output_type": "stream",
     "text": [
      "+---------+--------+------------------+-----------+--------------+----------+----------+-------------+------------------+---------------+--------------------+\n",
      "|longitude|latitude|housing_median_age|total_rooms|total_bedrooms|population|households|median_income|median_house_value|ocean_proximity|            features|\n",
      "+---------+--------+------------------+-----------+--------------+----------+----------+-------------+------------------+---------------+--------------------+\n",
      "|  -124.35|   40.54|              52.0|     1820.0|         300.0|     806.0|     270.0|       3.0147|           94600.0|     NEAR OCEAN|[52.0,1820.0,300....|\n",
      "|   -124.3|    41.8|              19.0|     2672.0|         552.0|    1298.0|     478.0|       1.9797|           85800.0|     NEAR OCEAN|[19.0,2672.0,552....|\n",
      "|  -124.27|   40.69|              36.0|     2349.0|         528.0|    1194.0|     465.0|       2.5179|           79000.0|     NEAR OCEAN|[36.0,2349.0,528....|\n",
      "|  -124.26|   40.58|              52.0|     2217.0|         394.0|     907.0|     369.0|       2.3571|          111400.0|     NEAR OCEAN|[52.0,2217.0,394....|\n",
      "|  -124.25|   40.28|              32.0|     1430.0|         419.0|     434.0|     187.0|       1.9417|           76100.0|     NEAR OCEAN|[32.0,1430.0,419....|\n",
      "|  -124.23|   40.81|              52.0|     1112.0|         209.0|     544.0|     172.0|       3.3462|           50800.0|     NEAR OCEAN|[52.0,1112.0,209....|\n",
      "|  -124.22|   41.73|              28.0|     3003.0|         699.0|    1530.0|     653.0|       1.7038|           78300.0|     NEAR OCEAN|[28.0,3003.0,699....|\n",
      "|  -124.21|   40.75|              32.0|     1218.0|         331.0|     620.0|     268.0|       1.6528|           58100.0|     NEAR OCEAN|[32.0,1218.0,331....|\n",
      "|  -124.21|   41.75|              20.0|     3810.0|         787.0|    1993.0|     721.0|       2.0074|           66900.0|     NEAR OCEAN|[20.0,3810.0,787....|\n",
      "|  -124.21|   41.77|              17.0|     3461.0|         722.0|    1947.0|     647.0|       2.5795|           68400.0|     NEAR OCEAN|[17.0,3461.0,722....|\n",
      "|  -124.19|   40.77|              30.0|     2975.0|         634.0|    1367.0|     583.0|        2.442|           69000.0|     NEAR OCEAN|[30.0,2975.0,634....|\n",
      "|  -124.19|   40.78|              37.0|     1371.0|         319.0|     640.0|     260.0|       1.8242|           70000.0|     NEAR OCEAN|[37.0,1371.0,319....|\n",
      "|  -124.19|   41.78|              15.0|     3140.0|         714.0|    1645.0|     640.0|       1.6654|           74600.0|     NEAR OCEAN|[15.0,3140.0,714....|\n",
      "|  -124.18|   40.62|              35.0|      952.0|         178.0|     480.0|     179.0|       3.0536|          107000.0|     NEAR OCEAN|[35.0,952.0,178.0...|\n",
      "|  -124.18|   40.78|              33.0|     1076.0|         222.0|     656.0|     236.0|       2.5096|           72200.0|     NEAR OCEAN|[33.0,1076.0,222....|\n",
      "|  -124.18|   40.78|              37.0|     1453.0|         293.0|     867.0|     310.0|       2.5536|           70200.0|     NEAR OCEAN|[37.0,1453.0,293....|\n",
      "|  -124.18|   40.79|              39.0|     1836.0|         352.0|     883.0|     337.0|        1.745|           70500.0|     NEAR OCEAN|[39.0,1836.0,352....|\n",
      "|  -124.18|   40.79|              40.0|     1398.0|         311.0|     788.0|     279.0|       1.4668|           64600.0|     NEAR OCEAN|[40.0,1398.0,311....|\n",
      "|  -124.17|   40.74|              17.0|     2026.0|         338.0|     873.0|     313.0|       4.0357|          128900.0|     NEAR OCEAN|[17.0,2026.0,338....|\n",
      "|  -124.17|   40.75|              13.0|     2171.0|         339.0|     951.0|     353.0|       4.8516|          116100.0|     NEAR OCEAN|[13.0,2171.0,339....|\n",
      "+---------+--------+------------------+-----------+--------------+----------+----------+-------------+------------------+---------------+--------------------+\n",
      "only showing top 20 rows\n"
     ]
    }
   ],
   "source": [
    "from pyspark.ml.feature import VectorAssembler\n",
    "\n",
    "feature_columns = ['housing_median_age', 'total_rooms', 'total_bedrooms',\n",
    "                   'population', 'households', 'median_income']\n",
    "assembler = VectorAssembler(inputCols=feature_columns, outputCol='features')\n",
    "\n",
    "transformed_train_data = assembler.transform(train_data)\n",
    "transformed_train_data.show()"
   ]
  }
 ],
 "metadata": {
  "kernelspec": {
   "display_name": "venv",
   "language": "python",
   "name": "python3"
  },
  "language_info": {
   "codemirror_mode": {
    "name": "ipython",
    "version": 3
   },
   "file_extension": ".py",
   "mimetype": "text/x-python",
   "name": "python",
   "nbconvert_exporter": "python",
   "pygments_lexer": "ipython3",
   "version": "3.12.3"
  }
 },
 "nbformat": 4,
 "nbformat_minor": 5
}
