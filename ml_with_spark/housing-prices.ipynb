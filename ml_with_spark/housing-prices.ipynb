{
 "cells": [
  {
   "cell_type": "markdown",
   "id": "1ee36c1b",
   "metadata": {},
   "source": [
    "## We will use dataset from kaggle, using kagglehub"
   ]
  },
  {
   "cell_type": "code",
   "execution_count": null,
   "id": "4e8eb740",
   "metadata": {},
   "outputs": [],
   "source": [
    "import kagglehub\n",
    "\n",
    "# Download latest version to the 'data' directory\n",
    "path = kagglehub.dataset_download(\"camnugent/california-housing-prices\")\n",
    "\n",
    "print(\"Path to dataset files:\", path)"
   ]
  }
 ],
 "metadata": {
  "kernelspec": {
   "display_name": "venv",
   "language": "python",
   "name": "python3"
  },
  "language_info": {
   "codemirror_mode": {
    "name": "ipython",
    "version": 3
   },
   "file_extension": ".py",
   "mimetype": "text/x-python",
   "name": "python",
   "nbconvert_exporter": "python",
   "pygments_lexer": "ipython3",
   "version": "3.12.3"
  }
 },
 "nbformat": 4,
 "nbformat_minor": 5
}
